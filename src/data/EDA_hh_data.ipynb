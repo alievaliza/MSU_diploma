{
  "nbformat": 4,
  "nbformat_minor": 0,
  "metadata": {
    "colab": {
      "name": "EDA_hh_data.ipynb",
      "provenance": [],
      "collapsed_sections": []
    },
    "kernelspec": {
      "name": "python3",
      "display_name": "Python 3"
    },
    "language_info": {
      "name": "python"
    }
  },
  "cells": [
    {
      "cell_type": "code",
      "metadata": {
        "colab": {
          "base_uri": "https://localhost:8080/"
        },
        "id": "KzTeF9N0y3jl",
        "outputId": "1bea46ad-a6e3-46cc-cbdc-45b928368765"
      },
      "source": [
        "import pandas as pd\n",
        "import gdown\n",
        "import ast\n",
        "import json\n",
        "import numpy as np\n",
        "import requests\n",
        "from datetime import datetime\n",
        "import nltk\n",
        "nltk.download('punkt')\n",
        "nltk.download('stopwords')\n",
        "from collections import Counter\n",
        "!pip install pymorphy2\n",
        "import pymorphy2"
      ],
      "execution_count": 1,
      "outputs": [
        {
          "output_type": "stream",
          "name": "stdout",
          "text": [
            "[nltk_data] Downloading package punkt to /root/nltk_data...\n",
            "[nltk_data]   Unzipping tokenizers/punkt.zip.\n",
            "[nltk_data] Downloading package stopwords to /root/nltk_data...\n",
            "[nltk_data]   Unzipping corpora/stopwords.zip.\n",
            "Collecting pymorphy2\n",
            "  Downloading pymorphy2-0.9.1-py3-none-any.whl (55 kB)\n",
            "\u001b[K     |████████████████████████████████| 55 kB 2.2 MB/s \n",
            "\u001b[?25hRequirement already satisfied: docopt>=0.6 in /usr/local/lib/python3.7/dist-packages (from pymorphy2) (0.6.2)\n",
            "Collecting dawg-python>=0.7.1\n",
            "  Downloading DAWG_Python-0.7.2-py2.py3-none-any.whl (11 kB)\n",
            "Collecting pymorphy2-dicts-ru<3.0,>=2.4\n",
            "  Downloading pymorphy2_dicts_ru-2.4.417127.4579844-py2.py3-none-any.whl (8.2 MB)\n",
            "\u001b[K     |████████████████████████████████| 8.2 MB 11.4 MB/s \n",
            "\u001b[?25hInstalling collected packages: pymorphy2-dicts-ru, dawg-python, pymorphy2\n",
            "Successfully installed dawg-python-0.7.2 pymorphy2-0.9.1 pymorphy2-dicts-ru-2.4.417127.4579844\n"
          ]
        }
      ]
    },
    {
      "cell_type": "code",
      "metadata": {
        "colab": {
          "base_uri": "https://localhost:8080/",
          "height": 102
        },
        "id": "-A1uyNVrzNJM",
        "outputId": "723148aa-fea7-47f9-842a-4706b6a9be44"
      },
      "source": [
        "# Загружаем таблицу с гугл-диска\n",
        "url = '1OxQupfqEt36O2GwnP7gL-2Kq9pdR5Eii'\n",
        "output = \"vacancies.xlsx\"\n",
        "gdown.download('https://drive.google.com/uc?export=download&id=' + url, output, quiet=False)"
      ],
      "execution_count": 2,
      "outputs": [
        {
          "output_type": "stream",
          "name": "stderr",
          "text": [
            "Downloading...\n",
            "From: https://drive.google.com/uc?export=download&id=1OxQupfqEt36O2GwnP7gL-2Kq9pdR5Eii\n",
            "To: /content/vacancies.xlsx\n",
            "173MB [00:01, 133MB/s]\n"
          ]
        },
        {
          "output_type": "execute_result",
          "data": {
            "application/vnd.google.colaboratory.intrinsic+json": {
              "type": "string"
            },
            "text/plain": [
              "'vacancies.xlsx'"
            ]
          },
          "metadata": {},
          "execution_count": 2
        }
      ]
    },
    {
      "cell_type": "code",
      "metadata": {
        "id": "qODwQ-WfzBn9"
      },
      "source": [
        "df = pd.read_excel(\"vacancies.xlsx\")"
      ],
      "execution_count": 3,
      "outputs": []
    },
    {
      "cell_type": "code",
      "metadata": {
        "id": "MwA45M7vHLWS"
      },
      "source": [
        "# Переводим текст в словари\n",
        "df['area'] = df['area'].apply(lambda x: ast.literal_eval(x))\n",
        "df['salary'] = df['salary'].apply(lambda x: ast.literal_eval(x) if not pd.isnull(x) else None)"
      ],
      "execution_count": 4,
      "outputs": []
    },
    {
      "cell_type": "code",
      "metadata": {
        "id": "6L3LFTxjAZA6"
      },
      "source": [
        "# Разбиваем словари по столбцам\n",
        "df['area_id'] = df['area'].apply(lambda x: x['id'])\n",
        "df['area_name'] = df['area'].apply(lambda x: x['name'])\n",
        "df['salary_from'] = df['salary'].apply(lambda x: x['from'] if not pd.isnull(x) else None)\n",
        "df['salary_to'] = df['salary'].apply(lambda x: x['to'] if not pd.isnull(x) else None)\n",
        "df['salary_currency'] = df['salary'].apply(lambda x: x['currency'] if not pd.isnull(x) else None)\n",
        "df['salary_gross'] = df['salary'].apply(lambda x: x['gross'] if not pd.isnull(x) else None)"
      ],
      "execution_count": 5,
      "outputs": []
    },
    {
      "cell_type": "code",
      "metadata": {
        "id": "ChGYrFHlbaWe"
      },
      "source": [
        "# Получаем все города и их parent_id\n",
        "req = requests.get('https://api.hh.ru/areas')  # Посылаем запрос к API\n",
        "data = req.content.decode()  # Декодируем его ответ, чтобы Кириллица отображалась корректно\n",
        "req.close()\n",
        "jsonObj = json.loads(data)\n",
        "cities, countries_name, areas_name = [], [], []\n",
        "for i in range(len(jsonObj)):\n",
        "    for area in jsonObj[i]['areas']:\n",
        "      if area['areas'] == []:\n",
        "        cities.append(area)\n",
        "        countries_name.append(jsonObj[i]['name'])\n",
        "        areas_name.append(area['name'])\n",
        "      else:\n",
        "        for city in area['areas']:\n",
        "          cities.append(city)\n",
        "          countries_name.append(jsonObj[i]['name'])\n",
        "          areas_name.append(area['name'])\n",
        "df_cities = pd.DataFrame(cities)\n",
        "df_cities['country_name'] = countries_name\n",
        "df_cities['areas_name'] = areas_name"
      ],
      "execution_count": 6,
      "outputs": []
    },
    {
      "cell_type": "code",
      "metadata": {
        "id": "WR2hz9FjEfoB"
      },
      "source": [
        "# Переводим текст в формат даты\n",
        "df['published_at'] = df['published_at'].apply(lambda x: datetime.strptime(x,  \"%Y-%m-%dT%H:%M:%S%z\"))"
      ],
      "execution_count": 7,
      "outputs": []
    },
    {
      "cell_type": "code",
      "metadata": {
        "id": "RjojwF4XAM1Y"
      },
      "source": [
        "# Переименовываем столбец\n",
        "df_cities['area_id'] = df_cities['id']\n",
        "df_cities = df_cities.drop('id', 1)"
      ],
      "execution_count": 8,
      "outputs": []
    },
    {
      "cell_type": "code",
      "metadata": {
        "id": "VM2Bt7zO6Sqz"
      },
      "source": [
        "# Присваиваем каждой строке имя региона и страны\n",
        "df['areas_name'] = df['area_id'].map(df_cities.set_index('area_id')['areas_name'])\n",
        "df['country_name'] = df['area_id'].map(df_cities.set_index('area_id')['country_name'])"
      ],
      "execution_count": 9,
      "outputs": []
    },
    {
      "cell_type": "code",
      "metadata": {
        "colab": {
          "base_uri": "https://localhost:8080/",
          "height": 295
        },
        "id": "66GpKmXyu_ld",
        "outputId": "e310e461-3418-4aab-bf02-2026d6a47e18"
      },
      "source": [
        "# Начало описательной статистики\n",
        "pd.set_option('float_format', '{:.0f}'.format)\n",
        "df[(df['salary_currency'] == 'RUR') & (df['country_name'] == 'Россия')].describe()[['salary_from', 'salary_to']]"
      ],
      "execution_count": 10,
      "outputs": [
        {
          "output_type": "execute_result",
          "data": {
            "text/html": [
              "<div>\n",
              "<style scoped>\n",
              "    .dataframe tbody tr th:only-of-type {\n",
              "        vertical-align: middle;\n",
              "    }\n",
              "\n",
              "    .dataframe tbody tr th {\n",
              "        vertical-align: top;\n",
              "    }\n",
              "\n",
              "    .dataframe thead th {\n",
              "        text-align: right;\n",
              "    }\n",
              "</style>\n",
              "<table border=\"1\" class=\"dataframe\">\n",
              "  <thead>\n",
              "    <tr style=\"text-align: right;\">\n",
              "      <th></th>\n",
              "      <th>salary_from</th>\n",
              "      <th>salary_to</th>\n",
              "    </tr>\n",
              "  </thead>\n",
              "  <tbody>\n",
              "    <tr>\n",
              "      <th>count</th>\n",
              "      <td>100350</td>\n",
              "      <td>56764</td>\n",
              "    </tr>\n",
              "    <tr>\n",
              "      <th>mean</th>\n",
              "      <td>43864</td>\n",
              "      <td>58758</td>\n",
              "    </tr>\n",
              "    <tr>\n",
              "      <th>std</th>\n",
              "      <td>30940</td>\n",
              "      <td>44957</td>\n",
              "    </tr>\n",
              "    <tr>\n",
              "      <th>min</th>\n",
              "      <td>1</td>\n",
              "      <td>1</td>\n",
              "    </tr>\n",
              "    <tr>\n",
              "      <th>25%</th>\n",
              "      <td>25200</td>\n",
              "      <td>32000</td>\n",
              "    </tr>\n",
              "    <tr>\n",
              "      <th>50%</th>\n",
              "      <td>35000</td>\n",
              "      <td>45000</td>\n",
              "    </tr>\n",
              "    <tr>\n",
              "      <th>75%</th>\n",
              "      <td>50000</td>\n",
              "      <td>70000</td>\n",
              "    </tr>\n",
              "    <tr>\n",
              "      <th>max</th>\n",
              "      <td>1000000</td>\n",
              "      <td>1700000</td>\n",
              "    </tr>\n",
              "  </tbody>\n",
              "</table>\n",
              "</div>"
            ],
            "text/plain": [
              "       salary_from  salary_to\n",
              "count       100350      56764\n",
              "mean         43864      58758\n",
              "std          30940      44957\n",
              "min              1          1\n",
              "25%          25200      32000\n",
              "50%          35000      45000\n",
              "75%          50000      70000\n",
              "max        1000000    1700000"
            ]
          },
          "metadata": {},
          "execution_count": 10
        }
      ]
    },
    {
      "cell_type": "code",
      "metadata": {
        "colab": {
          "base_uri": "https://localhost:8080/"
        },
        "id": "xg5kuJ_Vn4S4",
        "outputId": "bbbc4057-79ba-4c0f-b68a-400a42a53044"
      },
      "source": [
        "df['published_at'].describe()"
      ],
      "execution_count": 11,
      "outputs": [
        {
          "output_type": "stream",
          "name": "stderr",
          "text": [
            "/usr/local/lib/python3.7/dist-packages/ipykernel_launcher.py:1: FutureWarning: Treating datetime data as categorical rather than numeric in `.describe` is deprecated and will be removed in a future version of pandas. Specify `datetime_is_numeric=True` to silence this warning and adopt the future behavior now.\n",
            "  \"\"\"Entry point for launching an IPython kernel.\n"
          ]
        },
        {
          "output_type": "execute_result",
          "data": {
            "text/plain": [
              "count                        164916\n",
              "unique                       133258\n",
              "top       2021-09-11 15:36:23+03:00\n",
              "freq                             50\n",
              "first     2021-08-13 09:16:35+03:00\n",
              "last      2021-09-13 19:11:47+03:00\n",
              "Name: published_at, dtype: object"
            ]
          },
          "metadata": {},
          "execution_count": 11
        }
      ]
    },
    {
      "cell_type": "code",
      "metadata": {
        "colab": {
          "base_uri": "https://localhost:8080/"
        },
        "id": "36SaUlJlvE8O",
        "outputId": "ec33f8b7-f86f-4225-b1a4-24c147485ce5"
      },
      "source": [
        "df.count()"
      ],
      "execution_count": 12,
      "outputs": [
        {
          "output_type": "execute_result",
          "data": {
            "text/plain": [
              "id                              164916\n",
              "premium                         164916\n",
              "billing_type                    164916\n",
              "relations                       164916\n",
              "name                            164916\n",
              "insider_interview                  708\n",
              "response_letter_required        164916\n",
              "area                            164916\n",
              "salary                          130625\n",
              "type                            164916\n",
              "address                          81832\n",
              "allow_messages                  164916\n",
              "site                            164916\n",
              "experience                      164916\n",
              "schedule                        164916\n",
              "employment                      164916\n",
              "department                        9261\n",
              "contacts                             0\n",
              "description                     164916\n",
              "branded_description              24645\n",
              "vacancy_constructor_template       499\n",
              "key_skills                      164916\n",
              "accept_handicapped              164916\n",
              "accept_kids                     164916\n",
              "archived                        164916\n",
              "response_url                       461\n",
              "specializations                 164916\n",
              "code                              2539\n",
              "hidden                          164916\n",
              "quick_responses_allowed         164916\n",
              "driver_license_types            164916\n",
              "accept_incomplete_resumes       164916\n",
              "employer                        164916\n",
              "published_at                    164916\n",
              "created_at                      164916\n",
              "negotiations_url                     0\n",
              "suitable_resumes_url                 0\n",
              "apply_alternate_url             164916\n",
              "has_test                        164916\n",
              "test                              1246\n",
              "alternate_url                   164916\n",
              "working_days                    164916\n",
              "working_time_intervals          164916\n",
              "working_time_modes              164916\n",
              "accept_temporary                164916\n",
              "immediate_redirect_url              85\n",
              "area_id                         164916\n",
              "area_name                       164916\n",
              "salary_from                     122573\n",
              "salary_to                        71378\n",
              "salary_currency                 130625\n",
              "salary_gross                    130347\n",
              "areas_name                      164916\n",
              "country_name                    164916\n",
              "dtype: int64"
            ]
          },
          "metadata": {},
          "execution_count": 12
        }
      ]
    },
    {
      "cell_type": "code",
      "metadata": {
        "colab": {
          "base_uri": "https://localhost:8080/",
          "height": 326
        },
        "id": "_5jVdHf_g7gJ",
        "outputId": "6fe2a736-8377-4ac8-f384-9160144a99b1"
      },
      "source": [
        "table = df.groupby(['country_name']).size().reset_index(name='count')\n",
        "table\n",
        "# table.to_excel('table.xlsx', index = False)"
      ],
      "execution_count": 13,
      "outputs": [
        {
          "output_type": "execute_result",
          "data": {
            "text/html": [
              "<div>\n",
              "<style scoped>\n",
              "    .dataframe tbody tr th:only-of-type {\n",
              "        vertical-align: middle;\n",
              "    }\n",
              "\n",
              "    .dataframe tbody tr th {\n",
              "        vertical-align: top;\n",
              "    }\n",
              "\n",
              "    .dataframe thead th {\n",
              "        text-align: right;\n",
              "    }\n",
              "</style>\n",
              "<table border=\"1\" class=\"dataframe\">\n",
              "  <thead>\n",
              "    <tr style=\"text-align: right;\">\n",
              "      <th></th>\n",
              "      <th>country_name</th>\n",
              "      <th>count</th>\n",
              "    </tr>\n",
              "  </thead>\n",
              "  <tbody>\n",
              "    <tr>\n",
              "      <th>0</th>\n",
              "      <td>Азербайджан</td>\n",
              "      <td>355</td>\n",
              "    </tr>\n",
              "    <tr>\n",
              "      <th>1</th>\n",
              "      <td>Беларусь</td>\n",
              "      <td>12560</td>\n",
              "    </tr>\n",
              "    <tr>\n",
              "      <th>2</th>\n",
              "      <td>Грузия</td>\n",
              "      <td>72</td>\n",
              "    </tr>\n",
              "    <tr>\n",
              "      <th>3</th>\n",
              "      <td>Другие регионы</td>\n",
              "      <td>976</td>\n",
              "    </tr>\n",
              "    <tr>\n",
              "      <th>4</th>\n",
              "      <td>Казахстан</td>\n",
              "      <td>13069</td>\n",
              "    </tr>\n",
              "    <tr>\n",
              "      <th>5</th>\n",
              "      <td>Кыргызстан</td>\n",
              "      <td>688</td>\n",
              "    </tr>\n",
              "    <tr>\n",
              "      <th>6</th>\n",
              "      <td>Россия</td>\n",
              "      <td>127710</td>\n",
              "    </tr>\n",
              "    <tr>\n",
              "      <th>7</th>\n",
              "      <td>Узбекистан</td>\n",
              "      <td>2589</td>\n",
              "    </tr>\n",
              "    <tr>\n",
              "      <th>8</th>\n",
              "      <td>Украина</td>\n",
              "      <td>6897</td>\n",
              "    </tr>\n",
              "  </tbody>\n",
              "</table>\n",
              "</div>"
            ],
            "text/plain": [
              "     country_name   count\n",
              "0     Азербайджан     355\n",
              "1        Беларусь   12560\n",
              "2          Грузия      72\n",
              "3  Другие регионы     976\n",
              "4       Казахстан   13069\n",
              "5      Кыргызстан     688\n",
              "6          Россия  127710\n",
              "7      Узбекистан    2589\n",
              "8         Украина    6897"
            ]
          },
          "metadata": {},
          "execution_count": 13
        }
      ]
    },
    {
      "cell_type": "code",
      "metadata": {
        "colab": {
          "base_uri": "https://localhost:8080/",
          "height": 417
        },
        "id": "qdobnrU8mGIY",
        "outputId": "248ca1be-7f6e-42df-dc4b-15632e7a7d18"
      },
      "source": [
        "df.groupby(['areas_name']).size().reset_index(name='count')"
      ],
      "execution_count": 14,
      "outputs": [
        {
          "output_type": "execute_result",
          "data": {
            "text/html": [
              "<div>\n",
              "<style scoped>\n",
              "    .dataframe tbody tr th:only-of-type {\n",
              "        vertical-align: middle;\n",
              "    }\n",
              "\n",
              "    .dataframe tbody tr th {\n",
              "        vertical-align: top;\n",
              "    }\n",
              "\n",
              "    .dataframe thead th {\n",
              "        text-align: right;\n",
              "    }\n",
              "</style>\n",
              "<table border=\"1\" class=\"dataframe\">\n",
              "  <thead>\n",
              "    <tr style=\"text-align: right;\">\n",
              "      <th></th>\n",
              "      <th>areas_name</th>\n",
              "      <th>count</th>\n",
              "    </tr>\n",
              "  </thead>\n",
              "  <tbody>\n",
              "    <tr>\n",
              "      <th>0</th>\n",
              "      <td>Абай</td>\n",
              "      <td>22</td>\n",
              "    </tr>\n",
              "    <tr>\n",
              "      <th>1</th>\n",
              "      <td>Абхазия</td>\n",
              "      <td>3</td>\n",
              "    </tr>\n",
              "    <tr>\n",
              "      <th>2</th>\n",
              "      <td>Австралия</td>\n",
              "      <td>2</td>\n",
              "    </tr>\n",
              "    <tr>\n",
              "      <th>3</th>\n",
              "      <td>Австрия</td>\n",
              "      <td>6</td>\n",
              "    </tr>\n",
              "    <tr>\n",
              "      <th>4</th>\n",
              "      <td>Акташ (Узбекистан)</td>\n",
              "      <td>2</td>\n",
              "    </tr>\n",
              "    <tr>\n",
              "      <th>...</th>\n",
              "      <td>...</td>\n",
              "      <td>...</td>\n",
              "    </tr>\n",
              "    <tr>\n",
              "      <th>360</th>\n",
              "      <td>Ямало-Ненецкий АО</td>\n",
              "      <td>2000</td>\n",
              "    </tr>\n",
              "    <tr>\n",
              "      <th>361</th>\n",
              "      <td>Янгиер</td>\n",
              "      <td>1</td>\n",
              "    </tr>\n",
              "    <tr>\n",
              "      <th>362</th>\n",
              "      <td>Янгиюль</td>\n",
              "      <td>3</td>\n",
              "    </tr>\n",
              "    <tr>\n",
              "      <th>363</th>\n",
              "      <td>Япония</td>\n",
              "      <td>7</td>\n",
              "    </tr>\n",
              "    <tr>\n",
              "      <th>364</th>\n",
              "      <td>Ярославская область</td>\n",
              "      <td>600</td>\n",
              "    </tr>\n",
              "  </tbody>\n",
              "</table>\n",
              "<p>365 rows × 2 columns</p>\n",
              "</div>"
            ],
            "text/plain": [
              "              areas_name  count\n",
              "0                   Абай     22\n",
              "1                Абхазия      3\n",
              "2              Австралия      2\n",
              "3                Австрия      6\n",
              "4     Акташ (Узбекистан)      2\n",
              "..                   ...    ...\n",
              "360    Ямало-Ненецкий АО   2000\n",
              "361               Янгиер      1\n",
              "362              Янгиюль      3\n",
              "363               Япония      7\n",
              "364  Ярославская область    600\n",
              "\n",
              "[365 rows x 2 columns]"
            ]
          },
          "metadata": {},
          "execution_count": 14
        }
      ]
    },
    {
      "cell_type": "code",
      "metadata": {
        "id": "VNhyf-aisIbi"
      },
      "source": [
        "# Избавляемся от html-кода в столбце 'description'\n",
        "code = ['li', 'strong', 'p', 'ul', 'quot', 'br', 'em']\n",
        "for word in code:\n",
        "  df['description'] = df['description'].str.replace(word, '')"
      ],
      "execution_count": 15,
      "outputs": []
    },
    {
      "cell_type": "code",
      "metadata": {
        "id": "RWO7HbV9ov5_"
      },
      "source": [
        "# Считаем наиболее часто встречающиеся слова в описании вакансий, за исключением stopwords и небуквенных символов\n",
        "s = df['description'].to_string()\n"
      ],
      "execution_count": 16,
      "outputs": []
    },
    {
      "cell_type": "code",
      "metadata": {
        "id": "SB8rqm7noDwA"
      },
      "source": [
        "allWords = nltk.tokenize.word_tokenize(s)\n",
        "stopwords = nltk.corpus.stopwords.words('russian')"
      ],
      "execution_count": 17,
      "outputs": []
    },
    {
      "cell_type": "code",
      "metadata": {
        "id": "v8vhDuaf1yyr"
      },
      "source": [
        "symbols = ['<', '>', '...', ',', '-', '.', ';', ':', '«', '»', '!', '(', ')', '/', '–', '—', '&']"
      ],
      "execution_count": 18,
      "outputs": []
    },
    {
      "cell_type": "code",
      "metadata": {
        "id": "U5CFcT5m78Qn"
      },
      "source": [
        "morph = pymorphy2.MorphAnalyzer()"
      ],
      "execution_count": 19,
      "outputs": []
    },
    {
      "cell_type": "code",
      "metadata": {
        "id": "5FW1zQYYyvXK"
      },
      "source": [
        "allWordExceptStopDist = nltk.FreqDist(morph.parse(w.lower())[0].normal_form for w in allWords if w.lower() not in symbols and w.lower() not in stopwords)   "
      ],
      "execution_count": 20,
      "outputs": []
    },
    {
      "cell_type": "code",
      "metadata": {
        "id": "kAwbTwPzoNb2"
      },
      "source": [
        "mostCommon = Counter(allWordExceptStopDist).most_common(15)"
      ],
      "execution_count": 21,
      "outputs": []
    },
    {
      "cell_type": "code",
      "metadata": {
        "colab": {
          "base_uri": "https://localhost:8080/"
        },
        "id": "6U4tyXldq6Nh",
        "outputId": "1d92294f-46c4-4196-c8d0-a58ad478b451"
      },
      "source": [
        "mostCommon"
      ],
      "execution_count": 22,
      "outputs": [
        {
          "output_type": "execute_result",
          "data": {
            "text/plain": [
              "[('обязанность', 72920),\n",
              " ('работа', 17233),\n",
              " ('компания', 15665),\n",
              " ('требоваться', 6936),\n",
              " ('крупный', 6574),\n",
              " ('сеть', 6389),\n",
              " ('приглашать', 5114),\n",
              " ('магазин', 3981),\n",
              " ('работать', 3928),\n",
              " ('хотеть', 3834),\n",
              " ('ооо', 3615),\n",
              " ('команда', 3533),\n",
              " ('каждый', 3450),\n",
              " ('связь', 3432),\n",
              " ('приём', 3332)]"
            ]
          },
          "metadata": {},
          "execution_count": 22
        }
      ]
    }
  ]
}