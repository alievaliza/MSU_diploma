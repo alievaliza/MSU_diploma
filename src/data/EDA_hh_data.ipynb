{
  "nbformat": 4,
  "nbformat_minor": 0,
  "metadata": {
    "colab": {
      "name": "EDA_hh_data.ipynb",
      "provenance": [],
      "collapsed_sections": []
    },
    "kernelspec": {
      "name": "python3",
      "display_name": "Python 3"
    },
    "language_info": {
      "name": "python"
    }
  },
  "cells": [
    {
      "cell_type": "code",
      "metadata": {
        "id": "KzTeF9N0y3jl"
      },
      "source": [
        "import pandas as pd\n",
        "import gdown\n",
        "import ast\n",
        "import json\n",
        "import numpy as np\n",
        "import requests\n",
        "from datetime import datetime"
      ],
      "execution_count": 92,
      "outputs": []
    },
    {
      "cell_type": "code",
      "metadata": {
        "colab": {
          "base_uri": "https://localhost:8080/",
          "height": 102
        },
        "id": "-A1uyNVrzNJM",
        "outputId": "8ce8727e-a68b-47b6-b136-aa75d29ffa38"
      },
      "source": [
        "url = '1OxQupfqEt36O2GwnP7gL-2Kq9pdR5Eii'\n",
        "output = \"vacancies.xlsx\"\n",
        "gdown.download('https://drive.google.com/uc?export=download&id=' + url, output, quiet=False)"
      ],
      "execution_count": 3,
      "outputs": [
        {
          "output_type": "stream",
          "name": "stderr",
          "text": [
            "Downloading...\n",
            "From: https://drive.google.com/uc?export=download&id=1OxQupfqEt36O2GwnP7gL-2Kq9pdR5Eii\n",
            "To: /content/vacancies.xlsx\n",
            "173MB [00:01, 172MB/s]\n"
          ]
        },
        {
          "output_type": "execute_result",
          "data": {
            "application/vnd.google.colaboratory.intrinsic+json": {
              "type": "string"
            },
            "text/plain": [
              "'vacancies.xlsx'"
            ]
          },
          "metadata": {},
          "execution_count": 3
        }
      ]
    },
    {
      "cell_type": "code",
      "metadata": {
        "id": "qODwQ-WfzBn9"
      },
      "source": [
        "df = pd.read_excel(\"vacancies.xlsx\")"
      ],
      "execution_count": 4,
      "outputs": []
    },
    {
      "cell_type": "code",
      "metadata": {
        "id": "MwA45M7vHLWS"
      },
      "source": [
        "# Переводим текст в словари\n",
        "df['area'] = df['area'].apply(lambda x: ast.literal_eval(x))\n",
        "df['salary'] = df['salary'].apply(lambda x: ast.literal_eval(x) if not pd.isnull(x) else None)"
      ],
      "execution_count": 5,
      "outputs": []
    },
    {
      "cell_type": "code",
      "metadata": {
        "id": "6L3LFTxjAZA6"
      },
      "source": [
        "# Разбиваем словари по столбцам\n",
        "df['area_id'] = df['area'].apply(lambda x: x['id'])\n",
        "df['area_name'] = df['area'].apply(lambda x: x['name'])\n",
        "df['salary_from'] = df['salary'].apply(lambda x: x['from'] if not pd.isnull(x) else None)\n",
        "df['salary_to'] = df['salary'].apply(lambda x: x['to'] if not pd.isnull(x) else None)\n",
        "df['salary_currency'] = df['salary'].apply(lambda x: x['currency'] if not pd.isnull(x) else None)\n",
        "df['salary_gross'] = df['salary'].apply(lambda x: x['gross'] if not pd.isnull(x) else None)"
      ],
      "execution_count": 141,
      "outputs": []
    },
    {
      "cell_type": "code",
      "metadata": {
        "id": "ChGYrFHlbaWe"
      },
      "source": [
        "# Получаем все города и их parent_id\n",
        "req = requests.get('https://api.hh.ru/areas')  # Посылаем запрос к API\n",
        "data = req.content.decode()  # Декодируем его ответ, чтобы Кириллица отображалась корректно\n",
        "req.close()\n",
        "jsonObj = json.loads(data)\n",
        "cities, countries_name, areas_name = [], [], []\n",
        "for i in range(len(jsonObj)):\n",
        "    for area in jsonObj[i]['areas']:\n",
        "      if area['areas'] == []:\n",
        "        cities.append(area)\n",
        "        countries_name.append(jsonObj[i]['name'])\n",
        "        areas_name.append(area['name'])\n",
        "      else:\n",
        "        for city in area['areas']:\n",
        "          cities.append(city)\n",
        "          countries_name.append(jsonObj[i]['name'])\n",
        "          areas_name.append(area['name'])\n",
        "df_cities = pd.DataFrame(cities)\n",
        "df_cities['country_name'] = countries_name\n",
        "df_cities['areas_name'] = areas_name"
      ],
      "execution_count": 57,
      "outputs": []
    },
    {
      "cell_type": "code",
      "metadata": {
        "id": "WR2hz9FjEfoB"
      },
      "source": [
        "# Переводим текст в формат даты\n",
        "df['published_at'] = df['published_at'].apply(lambda x: datetime.strptime(x,  \"%Y-%m-%dT%H:%M:%S%z\"))"
      ],
      "execution_count": 134,
      "outputs": []
    },
    {
      "cell_type": "code",
      "metadata": {
        "id": "RjojwF4XAM1Y"
      },
      "source": [
        "# Переименовываем столбец\n",
        "df_cities['area_id'] = df_cities['id']\n",
        "df_cities = df_cities.drop('id', 1)"
      ],
      "execution_count": 42,
      "outputs": []
    },
    {
      "cell_type": "code",
      "metadata": {
        "id": "VM2Bt7zO6Sqz"
      },
      "source": [
        "# Присваиваем каждой строке имя региона и страны\n",
        "df['areas_name'] = df['area_id'].map(df_cities.set_index('area_id')['areas_name'])\n",
        "df['country_name'] = df['area_id'].map(df_cities.set_index('area_id')['country_name'])"
      ],
      "execution_count": 43,
      "outputs": []
    },
    {
      "cell_type": "code",
      "metadata": {
        "id": "66GpKmXyu_ld"
      },
      "source": [
        "# Начало описательной статистики\n",
        "pd.set_option('float_format', '{:.0f}'.format)\n",
        "df[(df['salary_currency'] == 'RUR') & (df['country_name'] == 'Россия')].describe()"
      ],
      "execution_count": null,
      "outputs": []
    },
    {
      "cell_type": "code",
      "metadata": {
        "id": "36SaUlJlvE8O"
      },
      "source": [
        "df.count()"
      ],
      "execution_count": null,
      "outputs": []
    },
    {
      "cell_type": "code",
      "metadata": {
        "id": "0hnaNWG--wU_"
      },
      "source": [
        "df['published_at'].min()"
      ],
      "execution_count": null,
      "outputs": []
    },
    {
      "cell_type": "code",
      "metadata": {
        "colab": {
          "base_uri": "https://localhost:8080/",
          "height": 326
        },
        "id": "_5jVdHf_g7gJ",
        "outputId": "e383bf49-13d5-4fc2-b18d-84b0e3599b75"
      },
      "source": [
        "table = df.groupby(['country_name']).size().reset_index(name='count')\n",
        "table\n",
        "# table.to_excel('table.xlsx', index = False)"
      ],
      "execution_count": 142,
      "outputs": [
        {
          "output_type": "execute_result",
          "data": {
            "text/html": [
              "<div>\n",
              "<style scoped>\n",
              "    .dataframe tbody tr th:only-of-type {\n",
              "        vertical-align: middle;\n",
              "    }\n",
              "\n",
              "    .dataframe tbody tr th {\n",
              "        vertical-align: top;\n",
              "    }\n",
              "\n",
              "    .dataframe thead th {\n",
              "        text-align: right;\n",
              "    }\n",
              "</style>\n",
              "<table border=\"1\" class=\"dataframe\">\n",
              "  <thead>\n",
              "    <tr style=\"text-align: right;\">\n",
              "      <th></th>\n",
              "      <th>country_name</th>\n",
              "      <th>count</th>\n",
              "    </tr>\n",
              "  </thead>\n",
              "  <tbody>\n",
              "    <tr>\n",
              "      <th>0</th>\n",
              "      <td>Азербайджан</td>\n",
              "      <td>355</td>\n",
              "    </tr>\n",
              "    <tr>\n",
              "      <th>1</th>\n",
              "      <td>Беларусь</td>\n",
              "      <td>12560</td>\n",
              "    </tr>\n",
              "    <tr>\n",
              "      <th>2</th>\n",
              "      <td>Грузия</td>\n",
              "      <td>72</td>\n",
              "    </tr>\n",
              "    <tr>\n",
              "      <th>3</th>\n",
              "      <td>Другие регионы</td>\n",
              "      <td>976</td>\n",
              "    </tr>\n",
              "    <tr>\n",
              "      <th>4</th>\n",
              "      <td>Казахстан</td>\n",
              "      <td>13069</td>\n",
              "    </tr>\n",
              "    <tr>\n",
              "      <th>5</th>\n",
              "      <td>Кыргызстан</td>\n",
              "      <td>688</td>\n",
              "    </tr>\n",
              "    <tr>\n",
              "      <th>6</th>\n",
              "      <td>Россия</td>\n",
              "      <td>127710</td>\n",
              "    </tr>\n",
              "    <tr>\n",
              "      <th>7</th>\n",
              "      <td>Узбекистан</td>\n",
              "      <td>2589</td>\n",
              "    </tr>\n",
              "    <tr>\n",
              "      <th>8</th>\n",
              "      <td>Украина</td>\n",
              "      <td>6897</td>\n",
              "    </tr>\n",
              "  </tbody>\n",
              "</table>\n",
              "</div>"
            ],
            "text/plain": [
              "     country_name   count\n",
              "0     Азербайджан     355\n",
              "1        Беларусь   12560\n",
              "2          Грузия      72\n",
              "3  Другие регионы     976\n",
              "4       Казахстан   13069\n",
              "5      Кыргызстан     688\n",
              "6          Россия  127710\n",
              "7      Узбекистан    2589\n",
              "8         Украина    6897"
            ]
          },
          "metadata": {},
          "execution_count": 142
        }
      ]
    }
  ]
}