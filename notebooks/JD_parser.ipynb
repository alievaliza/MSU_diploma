{
  "nbformat": 4,
  "nbformat_minor": 0,
  "metadata": {
    "colab": {
      "name": "JD_parser.ipynb",
      "provenance": [],
      "collapsed_sections": []
    },
    "kernelspec": {
      "name": "python3",
      "display_name": "Python 3"
    },
    "language_info": {
      "name": "python"
    }
  },
  "cells": [
    {
      "cell_type": "code",
      "metadata": {
        "id": "tQX8APd_QyoE"
      },
      "source": [
        "import gdown\n",
        "import pandas as pd\n",
        "import re"
      ],
      "execution_count": 2,
      "outputs": []
    },
    {
      "cell_type": "code",
      "metadata": {
        "colab": {
          "base_uri": "https://localhost:8080/",
          "height": 102
        },
        "id": "oSfraSOQQ6vE",
        "outputId": "8a395f51-fd6e-4b56-dce6-79b42a737801"
      },
      "source": [
        "# Загружаем таблицу с гугл-диска\n",
        "url = '15_FfenvHFoJVcPu6gGx9osLn71uDJ-Et'\n",
        "output = \"vacancies.csv\"\n",
        "gdown.download('https://drive.google.com/uc?export=download&id=' + url, output, quiet=False)"
      ],
      "execution_count": 3,
      "outputs": [
        {
          "output_type": "stream",
          "name": "stderr",
          "text": [
            "Downloading...\n",
            "From: https://drive.google.com/uc?export=download&id=15_FfenvHFoJVcPu6gGx9osLn71uDJ-Et\n",
            "To: /content/vacancies.csv\n",
            "100%|██████████| 1.05G/1.05G [00:10<00:00, 104MB/s] \n"
          ]
        },
        {
          "output_type": "execute_result",
          "data": {
            "application/vnd.google.colaboratory.intrinsic+json": {
              "type": "string"
            },
            "text/plain": [
              "'vacancies.csv'"
            ]
          },
          "metadata": {},
          "execution_count": 3
        }
      ]
    },
    {
      "cell_type": "code",
      "metadata": {
        "colab": {
          "base_uri": "https://localhost:8080/"
        },
        "id": "rL935SgyQ-7j",
        "outputId": "ee54be92-649a-4795-f0b0-8afdc24a263b"
      },
      "source": [
        "df = pd.read_csv(\"vacancies.csv\")"
      ],
      "execution_count": 66,
      "outputs": [
        {
          "output_type": "stream",
          "name": "stderr",
          "text": [
            "/usr/local/lib/python3.7/dist-packages/IPython/core/interactiveshell.py:2718: DtypeWarning: Columns (18,22) have mixed types.Specify dtype option on import or set low_memory=False.\n",
            "  interactivity=interactivity, compiler=compiler, result=result)\n"
          ]
        }
      ]
    },
    {
      "cell_type": "markdown",
      "metadata": {
        "id": "9WlB0e9jNaab"
      },
      "source": [
        "# Парсер навыков из вакансий с [гитхаба](https://github.com/keshavbansal015/Job-Description-Parser)\n",
        "\n",
        "P.S. другие парсеры (в основном платные и для CV):\n",
        "\n",
        "\n",
        "1.   https://www.maprecruit.ai/parsers - 30 файлов потестила в демо\n",
        "2.   https://docs.microsoft.com/en-us/connectors/candidatezip/#parse-jd-via-file-content - не смогла зарегистирироваться\n",
        "3.   http://www.reshufl.com/demo/ - потестила демо\n",
        "\n"
      ]
    },
    {
      "cell_type": "code",
      "metadata": {
        "id": "IAMMmHKwPiSj"
      },
      "source": [
        "# Загружаем парсер с гугл-диска\n",
        "url = '179NC9uvqIbyahO1R3yyiYHV2srB38-5-'\n",
        "output = \"parser.zip\"\n",
        "gdown.download('https://drive.google.com/uc?export=download&id=' + url, output, quiet=False)"
      ],
      "execution_count": null,
      "outputs": []
    },
    {
      "cell_type": "code",
      "metadata": {
        "id": "igaAwo_R2VC6"
      },
      "source": [
        "import zipfile\n",
        "zf = zipfile.ZipFile(\"parser.zip\")\n",
        "zf.extractall()"
      ],
      "execution_count": null,
      "outputs": []
    },
    {
      "cell_type": "code",
      "metadata": {
        "colab": {
          "base_uri": "https://localhost:8080/"
        },
        "id": "3psLzFvl2rzT",
        "outputId": "248918d6-5fb1-4215-ccb3-c8a0b1dc0367"
      },
      "source": [
        "# !pip install spacy\n",
        "import spacy\n",
        "sys.path.append(os.path.abspath('./Resume_JD parser(spaCy)/src'))\n",
        "\n",
        "from func import *\n",
        "from constants import *\n",
        "from init_parser import init_parser_func\n",
        "from tqdm import tqdm\n",
        "sys.path.append(os.path.abspath('..'))\n",
        "\n",
        "nlp = spacy.load('en_core_web_sm')\n",
        "\n",
        "if __name__ == '__main__':)\n",
        "\tmatcher = init_parser_func(nlp, './Resume_JD parser(spaCy)/input/Skillset.xlsx', file_type=\"excel\")\n",
        "\t\n",
        "\tfinal_database = pd.DataFrame()\t\n",
        "\n",
        "\tfor each in tqdm(range(len(df))):\n",
        "\n",
        "\t\ttext = df.loc[each, 'description']\n",
        "\t\tapplication_subject = df.loc[each,'id']\n",
        "\t\tdata = create_profile(nlp,matcher,text,application_subject)\n",
        "\t\tfinal_database = final_database.append(data)\n",
        "\n",
        "\t# Saving the database\n",
        "\tfinal_database.to_csv('./Resume_JD parser(spaCy)/input/Data.csv', index=False)"
      ],
      "execution_count": null,
      "outputs": [
        {
          "metadata": {
            "tags": null
          },
          "name": "stdout",
          "output_type": "stream",
          "text": [
            "/content\n",
            "Success!\n"
          ]
        },
        {
          "output_type": "stream",
          "name": "stderr",
          "text": [
            "100%|██████████| 164916/164916 [2:08:26<00:00, 21.40it/s]\n"
          ]
        }
      ]
    },
    {
      "cell_type": "code",
      "metadata": {
        "colab": {
          "base_uri": "https://localhost:8080/",
          "height": 417
        },
        "id": "CjMagU8T_rW_",
        "outputId": "a7f687f4-a483-4832-bfa8-c035732f5cce"
      },
      "source": [
        "final_database"
      ],
      "execution_count": null,
      "outputs": [
        {
          "output_type": "execute_result",
          "data": {
            "text/html": [
              "<div>\n",
              "<style scoped>\n",
              "    .dataframe tbody tr th:only-of-type {\n",
              "        vertical-align: middle;\n",
              "    }\n",
              "\n",
              "    .dataframe tbody tr th {\n",
              "        vertical-align: top;\n",
              "    }\n",
              "\n",
              "    .dataframe thead th {\n",
              "        text-align: right;\n",
              "    }\n",
              "</style>\n",
              "<table border=\"1\" class=\"dataframe\">\n",
              "  <thead>\n",
              "    <tr style=\"text-align: right;\">\n",
              "      <th></th>\n",
              "      <th>Company/Candidate Name</th>\n",
              "      <th>Skill</th>\n",
              "      <th>Sub-skill</th>\n",
              "      <th>Count</th>\n",
              "    </tr>\n",
              "  </thead>\n",
              "  <tbody>\n",
              "    <tr>\n",
              "      <th>0</th>\n",
              "      <td>47319343</td>\n",
              "      <td>Coding</td>\n",
              "      <td>SQL</td>\n",
              "      <td>1</td>\n",
              "    </tr>\n",
              "    <tr>\n",
              "      <th>0</th>\n",
              "      <td>47472541</td>\n",
              "      <td>Analytics</td>\n",
              "      <td>Excel</td>\n",
              "      <td>1</td>\n",
              "    </tr>\n",
              "    <tr>\n",
              "      <th>0</th>\n",
              "      <td>46134407</td>\n",
              "      <td>Business</td>\n",
              "      <td>MS Office</td>\n",
              "      <td>1</td>\n",
              "    </tr>\n",
              "    <tr>\n",
              "      <th>0</th>\n",
              "      <td>47513275</td>\n",
              "      <td>Business</td>\n",
              "      <td>MS Office</td>\n",
              "      <td>1</td>\n",
              "    </tr>\n",
              "    <tr>\n",
              "      <th>0</th>\n",
              "      <td>47727709</td>\n",
              "      <td>Coding</td>\n",
              "      <td>JavaScript</td>\n",
              "      <td>1</td>\n",
              "    </tr>\n",
              "    <tr>\n",
              "      <th>...</th>\n",
              "      <td>...</td>\n",
              "      <td>...</td>\n",
              "      <td>...</td>\n",
              "      <td>...</td>\n",
              "    </tr>\n",
              "    <tr>\n",
              "      <th>0</th>\n",
              "      <td>46120872</td>\n",
              "      <td>Analytics</td>\n",
              "      <td>Excel</td>\n",
              "      <td>1</td>\n",
              "    </tr>\n",
              "    <tr>\n",
              "      <th>0</th>\n",
              "      <td>47121032</td>\n",
              "      <td>Business</td>\n",
              "      <td>MS Office</td>\n",
              "      <td>1</td>\n",
              "    </tr>\n",
              "    <tr>\n",
              "      <th>0</th>\n",
              "      <td>47187542</td>\n",
              "      <td>DevOps</td>\n",
              "      <td>MS Word</td>\n",
              "      <td>1</td>\n",
              "    </tr>\n",
              "    <tr>\n",
              "      <th>1</th>\n",
              "      <td>47187542</td>\n",
              "      <td>Analytics</td>\n",
              "      <td>Excel</td>\n",
              "      <td>1</td>\n",
              "    </tr>\n",
              "    <tr>\n",
              "      <th>0</th>\n",
              "      <td>47747849</td>\n",
              "      <td>Business</td>\n",
              "      <td>MS Office</td>\n",
              "      <td>1</td>\n",
              "    </tr>\n",
              "  </tbody>\n",
              "</table>\n",
              "<p>23470 rows × 4 columns</p>\n",
              "</div>"
            ],
            "text/plain": [
              "   Company/Candidate Name      Skill   Sub-skill Count\n",
              "0                47319343     Coding         SQL     1\n",
              "0                47472541  Analytics       Excel     1\n",
              "0                46134407   Business   MS Office     1\n",
              "0                47513275   Business   MS Office     1\n",
              "0                47727709     Coding  JavaScript     1\n",
              "..                    ...        ...         ...   ...\n",
              "0                46120872  Analytics       Excel     1\n",
              "0                47121032   Business   MS Office     1\n",
              "0                47187542     DevOps     MS Word     1\n",
              "1                47187542  Analytics       Excel     1\n",
              "0                47747849   Business   MS Office     1\n",
              "\n",
              "[23470 rows x 4 columns]"
            ]
          },
          "metadata": {},
          "execution_count": 11
        }
      ]
    },
    {
      "cell_type": "markdown",
      "metadata": {
        "id": "3SnC8739O7Oo"
      },
      "source": [
        "# Парсер описания вакансий с помощью регулярных выражений"
      ]
    },
    {
      "cell_type": "code",
      "metadata": {
        "id": "ne-pKA9-ZWZc"
      },
      "source": [
        "def JD_new_column(regular: str, new_column: str, df: pd.DataFrame) -> list:\n",
        "  \"\"\"\n",
        "  Создаём метод, который создаёт новый столбец после парсинга\n",
        "  Аргументы:\n",
        "  regular - регулярное выражение, согласно которому работает парсер\n",
        "  new_column - название столбца, который создаётся\n",
        "  df - датафрейм, который содержит описание вакансий\n",
        "  Возвращает:\n",
        "  result - список с результатом работы парсера\n",
        "  \"\"\"\n",
        "  result = []\n",
        "  df['description'].apply(lambda x: JD(x, regular, result));\n",
        "  df[f'description_{new_column}'] = pd.DataFrame(result)[0]\n",
        "  return result\n"
      ],
      "execution_count": 108,
      "outputs": []
    },
    {
      "cell_type": "code",
      "metadata": {
        "id": "myyEbx_MGakn"
      },
      "source": [
        "def JD(x: str, regular: str, result: list):\n",
        "  \"\"\"\n",
        "  Создаём метод, который ищет по заданному регулярному выражению в строке\n",
        "  Аргументы:\n",
        "  x - строка в датафрейме с описанием вакансий\n",
        "  regular - регулярное выражение, согласно которому работает парсер\n",
        "  result - список, куда записывается результат работы метода\n",
        "  \"\"\"\n",
        "  try:\n",
        "    result.append(re.search(regular, x).group(0))\n",
        "  except:\n",
        "    result.append(re.search(regular, x))"
      ],
      "execution_count": 107,
      "outputs": []
    },
    {
      "cell_type": "code",
      "metadata": {
        "id": "jhN8kJBvKgpw"
      },
      "source": [
        "result = JD_new_column(r'(?i)Обязанности:.+<strong>|Обязанности:.+\\.|чем предстоит заниматься.+\\.|задачи.+\\.|ищем.{1,15}которые\\s{1,}будут.+\\.', 'responsipilities', df)"
      ],
      "execution_count": 100,
      "outputs": []
    },
    {
      "cell_type": "code",
      "metadata": {
        "id": "wnywOG42Lp3Q"
      },
      "source": [
        "result = JD_new_column(r'(?i)Требования:.+<strong>|Требования:.+\\.', 'requirements', df)"
      ],
      "execution_count": 101,
      "outputs": []
    },
    {
      "cell_type": "code",
      "metadata": {
        "id": "gWsW7Z6tMHwm"
      },
      "source": [
        "result = JD_new_column(r'(?i)Условия:.+<strong>|Условия:.+\\.', 'conditions', df)"
      ],
      "execution_count": 102,
      "outputs": []
    },
    {
      "cell_type": "code",
      "metadata": {
        "colab": {
          "base_uri": "https://localhost:8080/",
          "height": 203
        },
        "id": "nE3Xfua_QHdf",
        "outputId": "22cd2450-7f61-47ce-eeb8-f4a40c4e65e4"
      },
      "source": [
        "df[['description_responsipilities', 'description_requirements', 'description_conditions']].head()"
      ],
      "execution_count": 104,
      "outputs": [
        {
          "output_type": "execute_result",
          "data": {
            "text/html": [
              "<div>\n",
              "<style scoped>\n",
              "    .dataframe tbody tr th:only-of-type {\n",
              "        vertical-align: middle;\n",
              "    }\n",
              "\n",
              "    .dataframe tbody tr th {\n",
              "        vertical-align: top;\n",
              "    }\n",
              "\n",
              "    .dataframe thead th {\n",
              "        text-align: right;\n",
              "    }\n",
              "</style>\n",
              "<table border=\"1\" class=\"dataframe\">\n",
              "  <thead>\n",
              "    <tr style=\"text-align: right;\">\n",
              "      <th></th>\n",
              "      <th>description_responsipilities</th>\n",
              "      <th>description_requirements</th>\n",
              "      <th>description_conditions</th>\n",
              "    </tr>\n",
              "  </thead>\n",
              "  <tbody>\n",
              "    <tr>\n",
              "      <th>0</th>\n",
              "      <td>ОБЯЗАННОСТИ:&lt;/strong&gt;&lt;/p&gt; &lt;ul&gt; &lt;li&gt;Организация...</td>\n",
              "      <td>None</td>\n",
              "      <td>None</td>\n",
              "    </tr>\n",
              "    <tr>\n",
              "      <th>1</th>\n",
              "      <td>None</td>\n",
              "      <td>None</td>\n",
              "      <td>None</td>\n",
              "    </tr>\n",
              "    <tr>\n",
              "      <th>2</th>\n",
              "      <td>Обязанности:&lt;/strong&gt;&lt;/p&gt; &lt;ul&gt; &lt;li&gt;Сварка кузо...</td>\n",
              "      <td>Требования:&lt;/strong&gt; &lt;ul&gt; &lt;li&gt;Опыт работы от 3...</td>\n",
              "      <td>None</td>\n",
              "    </tr>\n",
              "    <tr>\n",
              "      <th>3</th>\n",
              "      <td>Обязанности:&lt;br /&gt;- Контроль и координация раб...</td>\n",
              "      <td>Требования:&lt;br /&gt;- Опыт работы в продажах прив...</td>\n",
              "      <td>Условия:&lt;br /&gt;- Оплата без задержек, премии, б...</td>\n",
              "    </tr>\n",
              "    <tr>\n",
              "      <th>4</th>\n",
              "      <td>Обязанности:&lt;/strong&gt; &lt;ul&gt; &lt;li&gt;ведение первичн...</td>\n",
              "      <td>Требования:&lt;/strong&gt; &lt;ul&gt; &lt;li&gt;высшее образован...</td>\n",
              "      <td>None</td>\n",
              "    </tr>\n",
              "  </tbody>\n",
              "</table>\n",
              "</div>"
            ],
            "text/plain": [
              "                        description_responsipilities  ...                             description_conditions\n",
              "0  ОБЯЗАННОСТИ:</strong></p> <ul> <li>Организация...  ...                                               None\n",
              "1                                               None  ...                                               None\n",
              "2  Обязанности:</strong></p> <ul> <li>Сварка кузо...  ...                                               None\n",
              "3  Обязанности:<br />- Контроль и координация раб...  ...  Условия:<br />- Оплата без задержек, премии, б...\n",
              "4  Обязанности:</strong> <ul> <li>ведение первичн...  ...                                               None\n",
              "\n",
              "[5 rows x 3 columns]"
            ]
          },
          "metadata": {},
          "execution_count": 104
        }
      ]
    },
    {
      "cell_type": "code",
      "metadata": {
        "colab": {
          "base_uri": "https://localhost:8080/",
          "height": 172
        },
        "id": "azvyPrRwTbiY",
        "outputId": "1af04d77-bb06-445b-ba33-5ddc6ae9e919"
      },
      "source": [
        "df[['description_responsipilities', 'description_requirements', 'description_conditions']].describe()"
      ],
      "execution_count": 111,
      "outputs": [
        {
          "output_type": "execute_result",
          "data": {
            "text/html": [
              "<div>\n",
              "<style scoped>\n",
              "    .dataframe tbody tr th:only-of-type {\n",
              "        vertical-align: middle;\n",
              "    }\n",
              "\n",
              "    .dataframe tbody tr th {\n",
              "        vertical-align: top;\n",
              "    }\n",
              "\n",
              "    .dataframe thead th {\n",
              "        text-align: right;\n",
              "    }\n",
              "</style>\n",
              "<table border=\"1\" class=\"dataframe\">\n",
              "  <thead>\n",
              "    <tr style=\"text-align: right;\">\n",
              "      <th></th>\n",
              "      <th>description_responsipilities</th>\n",
              "      <th>description_requirements</th>\n",
              "      <th>description_conditions</th>\n",
              "    </tr>\n",
              "  </thead>\n",
              "  <tbody>\n",
              "    <tr>\n",
              "      <th>count</th>\n",
              "      <td>128272</td>\n",
              "      <td>112464</td>\n",
              "      <td>81226</td>\n",
              "    </tr>\n",
              "    <tr>\n",
              "      <th>unique</th>\n",
              "      <td>104119</td>\n",
              "      <td>89801</td>\n",
              "      <td>61375</td>\n",
              "    </tr>\n",
              "    <tr>\n",
              "      <th>top</th>\n",
              "      <td>Обязанности:&lt;/strong&gt;&lt;/p&gt;&lt;ul&gt;&lt;li&gt;Обслуживание ...</td>\n",
              "      <td>Требования: &lt;/strong&gt;&lt;/p&gt;&lt;ul&gt;&lt;li&gt;Ответственнос...</td>\n",
              "      <td>Условия:&lt;/strong&gt;&lt;/p&gt; &lt;p&gt;&lt;strong&gt;</td>\n",
              "    </tr>\n",
              "    <tr>\n",
              "      <th>freq</th>\n",
              "      <td>1149</td>\n",
              "      <td>1149</td>\n",
              "      <td>496</td>\n",
              "    </tr>\n",
              "  </tbody>\n",
              "</table>\n",
              "</div>"
            ],
            "text/plain": [
              "                             description_responsipilities  ...             description_conditions\n",
              "count                                              128272  ...                              81226\n",
              "unique                                             104119  ...                              61375\n",
              "top     Обязанности:</strong></p><ul><li>Обслуживание ...  ...  Условия:</strong></p> <p><strong>\n",
              "freq                                                 1149  ...                                496\n",
              "\n",
              "[4 rows x 3 columns]"
            ]
          },
          "metadata": {},
          "execution_count": 111
        }
      ]
    },
    {
      "cell_type": "code",
      "metadata": {
        "id": "KbrdfVfhhSSI"
      },
      "source": [
        "# x = pd.DataFrame(result)"
      ],
      "execution_count": 76,
      "outputs": []
    },
    {
      "cell_type": "code",
      "metadata": {
        "id": "bYhazZn3egC3"
      },
      "source": [
        "# x[0].isnull().sum()"
      ],
      "execution_count": 109,
      "outputs": []
    },
    {
      "cell_type": "code",
      "metadata": {
        "id": "eJM3XIJ8h8Gb"
      },
      "source": [
        "# df.to_csv('dataframe.csv', index=False)"
      ],
      "execution_count": 40,
      "outputs": []
    }
  ]
}