{
  "nbformat": 4,
  "nbformat_minor": 0,
  "metadata": {
    "colab": {
      "name": "JD_parser.ipynb",
      "provenance": [],
      "collapsed_sections": []
    },
    "kernelspec": {
      "name": "python3",
      "display_name": "Python 3"
    },
    "language_info": {
      "name": "python"
    }
  },
  "cells": [
    {
      "cell_type": "code",
      "metadata": {
        "id": "tQX8APd_QyoE"
      },
      "source": [
        "import gdown\n",
        "import pandas as pd\n",
        "import re"
      ],
      "execution_count": 2,
      "outputs": []
    },
    {
      "cell_type": "code",
      "metadata": {
        "colab": {
          "base_uri": "https://localhost:8080/",
          "height": 102
        },
        "id": "oSfraSOQQ6vE",
        "outputId": "8a395f51-fd6e-4b56-dce6-79b42a737801"
      },
      "source": [
        "# Загружаем таблицу с гугл-диска\n",
        "url = '15_FfenvHFoJVcPu6gGx9osLn71uDJ-Et'\n",
        "output = \"vacancies.csv\"\n",
        "gdown.download('https://drive.google.com/uc?export=download&id=' + url, output, quiet=False)"
      ],
      "execution_count": 3,
      "outputs": [
        {
          "output_type": "stream",
          "name": "stderr",
          "text": [
            "Downloading...\n",
            "From: https://drive.google.com/uc?export=download&id=15_FfenvHFoJVcPu6gGx9osLn71uDJ-Et\n",
            "To: /content/vacancies.csv\n",
            "100%|██████████| 1.05G/1.05G [00:10<00:00, 104MB/s] \n"
          ]
        },
        {
          "output_type": "execute_result",
          "data": {
            "application/vnd.google.colaboratory.intrinsic+json": {
              "type": "string"
            },
            "text/plain": [
              "'vacancies.csv'"
            ]
          },
          "metadata": {},
          "execution_count": 3
        }
      ]
    },
    {
      "cell_type": "code",
      "metadata": {
        "colab": {
          "base_uri": "https://localhost:8080/"
        },
        "id": "rL935SgyQ-7j",
        "outputId": "ee54be92-649a-4795-f0b0-8afdc24a263b"
      },
      "source": [
        "df = pd.read_csv(\"vacancies.csv\")"
      ],
      "execution_count": 66,
      "outputs": [
        {
          "output_type": "stream",
          "name": "stderr",
          "text": [
            "/usr/local/lib/python3.7/dist-packages/IPython/core/interactiveshell.py:2718: DtypeWarning: Columns (18,22) have mixed types.Specify dtype option on import or set low_memory=False.\n",
            "  interactivity=interactivity, compiler=compiler, result=result)\n"
          ]
        }
      ]
    },
    {
      "cell_type": "markdown",
      "metadata": {
        "id": "9WlB0e9jNaab"
      },
      "source": [
        "# Парсер навыков из вакансий с [гитхаба](https://github.com/keshavbansal015/Job-Description-Parser)\n",
        "\n",
        "P.S. другие парсеры (в основном платные и для CV):\n",
        "\n",
        "\n",
        "1.   https://www.maprecruit.ai/parsers - 30 файлов потестила в демо\n",
        "2.   https://docs.microsoft.com/en-us/connectors/candidatezip/#parse-jd-via-file-content - не смогла зарегистирироваться\n",
        "3.   http://www.reshufl.com/demo/ - потестила демо\n",
        "\n"
      ]
    },
    {
      "cell_type": "code",
      "metadata": {
        "id": "IAMMmHKwPiSj"
      },
      "source": [
        "# Загружаем парсер с гугл-диска\n",
        "url = '179NC9uvqIbyahO1R3yyiYHV2srB38-5-'\n",
        "output = \"parser.zip\"\n",
        "gdown.download('https://drive.google.com/uc?export=download&id=' + url, output, quiet=False)"
      ],
      "execution_count": null,
      "outputs": []
    },
    {
      "cell_type": "code",
      "metadata": {
        "id": "igaAwo_R2VC6"
      },
      "source": [
        "import zipfile\n",
        "zf = zipfile.ZipFile(\"parser.zip\")\n",
        "zf.extractall()"
      ],
      "execution_count": null,
      "outputs": []
    },
    {
      "cell_type": "code",
      "metadata": {
        "colab": {
          "base_uri": "https://localhost:8080/"
        },
        "id": "3psLzFvl2rzT",
        "outputId": "248918d6-5fb1-4215-ccb3-c8a0b1dc0367"
      },
      "source": [
        "# !pip install spacy\n",
        "import spacy\n",
        "sys.path.append(os.path.abspath('./Resume_JD parser(spaCy)/src'))\n",
        "\n",
        "from func import *\n",
        "from constants import *\n",
        "from init_parser import init_parser_func\n",
        "from tqdm import tqdm\n",
        "sys.path.append(os.path.abspath('..'))\n",
        "\n",
        "nlp = spacy.load('en_core_web_sm')\n",
        "\n",
        "if __name__ == '__main__':)\n",
        "\tmatcher = init_parser_func(nlp, './Resume_JD parser(spaCy)/input/Skillset.xlsx', file_type=\"excel\")\n",
        "\t\n",
        "\tfinal_database = pd.DataFrame()\t\n",
        "\n",
        "\tfor each in tqdm(range(len(df))):\n",
        "\n",
        "\t\ttext = df.loc[each, 'description']\n",
        "\t\tapplication_subject = df.loc[each,'id']\n",
        "\t\tdata = create_profile(nlp,matcher,text,application_subject)\n",
        "\t\tfinal_database = final_database.append(data)\n",
        "\n",
        "\t# Saving the database\n",
        "\tfinal_database.to_csv('./Resume_JD parser(spaCy)/input/Data.csv', index=False)"
      ],
      "execution_count": null,
      "outputs": [
        {
          "metadata": {
            "tags": null
          },
          "name": "stdout",
          "output_type": "stream",
          "text": [
            "/content\n",
            "Success!\n"
          ]
        },
        {
          "output_type": "stream",
          "name": "stderr",
          "text": [
            "100%|██████████| 164916/164916 [2:08:26<00:00, 21.40it/s]\n"
          ]
        }
      ]
    },
    {
      "cell_type": "code",
      "metadata": {
        "colab": {
          "base_uri": "https://localhost:8080/",
          "height": 417
        },
        "id": "CjMagU8T_rW_",
        "outputId": "a7f687f4-a483-4832-bfa8-c035732f5cce"
      },
      "source": [
        "final_database"
      ],
      "execution_count": null,
      "outputs": [
        {
          "output_type": "execute_result",
          "data": {
            "text/html": [
              "<div>\n",
              "<style scoped>\n",
              "    .dataframe tbody tr th:only-of-type {\n",
              "        vertical-align: middle;\n",
              "    }\n",
              "\n",
              "    .dataframe tbody tr th {\n",
              "        vertical-align: top;\n",
              "    }\n",
              "\n",
              "    .dataframe thead th {\n",
              "        text-align: right;\n",
              "    }\n",
              "</style>\n",
              "<table border=\"1\" class=\"dataframe\">\n",
              "  <thead>\n",
              "    <tr style=\"text-align: right;\">\n",
              "      <th></th>\n",
              "      <th>Company/Candidate Name</th>\n",
              "      <th>Skill</th>\n",
              "      <th>Sub-skill</th>\n",
              "      <th>Count</th>\n",
              "    </tr>\n",
              "  </thead>\n",
              "  <tbody>\n",
              "    <tr>\n",
              "      <th>0</th>\n",
              "      <td>47319343</td>\n",
              "      <td>Coding</td>\n",
              "      <td>SQL</td>\n",
              "      <td>1</td>\n",
              "    </tr>\n",
              "    <tr>\n",
              "      <th>0</th>\n",
              "      <td>47472541</td>\n",
              "      <td>Analytics</td>\n",
              "      <td>Excel</td>\n",
              "      <td>1</td>\n",
              "    </tr>\n",
              "    <tr>\n",
              "      <th>0</th>\n",
              "      <td>46134407</td>\n",
              "      <td>Business</td>\n",
              "      <td>MS Office</td>\n",
              "      <td>1</td>\n",
              "    </tr>\n",
              "    <tr>\n",
              "      <th>0</th>\n",
              "      <td>47513275</td>\n",
              "      <td>Business</td>\n",
              "      <td>MS Office</td>\n",
              "      <td>1</td>\n",
              "    </tr>\n",
              "    <tr>\n",
              "      <th>0</th>\n",
              "      <td>47727709</td>\n",
              "      <td>Coding</td>\n",
              "      <td>JavaScript</td>\n",
              "      <td>1</td>\n",
              "    </tr>\n",
              "    <tr>\n",
              "      <th>...</th>\n",
              "      <td>...</td>\n",
              "      <td>...</td>\n",
              "      <td>...</td>\n",
              "      <td>...</td>\n",
              "    </tr>\n",
              "    <tr>\n",
              "      <th>0</th>\n",
              "      <td>46120872</td>\n",
              "      <td>Analytics</td>\n",
              "      <td>Excel</td>\n",
              "      <td>1</td>\n",
              "    </tr>\n",
              "    <tr>\n",
              "      <th>0</th>\n",
              "      <td>47121032</td>\n",
              "      <td>Business</td>\n",
              "      <td>MS Office</td>\n",
              "      <td>1</td>\n",
              "    </tr>\n",
              "    <tr>\n",
              "      <th>0</th>\n",
              "      <td>47187542</td>\n",
              "      <td>DevOps</td>\n",
              "      <td>MS Word</td>\n",
              "      <td>1</td>\n",
              "    </tr>\n",
              "    <tr>\n",
              "      <th>1</th>\n",
              "      <td>47187542</td>\n",
              "      <td>Analytics</td>\n",
              "      <td>Excel</td>\n",
              "      <td>1</td>\n",
              "    </tr>\n",
              "    <tr>\n",
              "      <th>0</th>\n",
              "      <td>47747849</td>\n",
              "      <td>Business</td>\n",
              "      <td>MS Office</td>\n",
              "      <td>1</td>\n",
              "    </tr>\n",
              "  </tbody>\n",
              "</table>\n",
              "<p>23470 rows × 4 columns</p>\n",
              "</div>"
            ],
            "text/plain": [
              "   Company/Candidate Name      Skill   Sub-skill Count\n",
              "0                47319343     Coding         SQL     1\n",
              "0                47472541  Analytics       Excel     1\n",
              "0                46134407   Business   MS Office     1\n",
              "0                47513275   Business   MS Office     1\n",
              "0                47727709     Coding  JavaScript     1\n",
              "..                    ...        ...         ...   ...\n",
              "0                46120872  Analytics       Excel     1\n",
              "0                47121032   Business   MS Office     1\n",
              "0                47187542     DevOps     MS Word     1\n",
              "1                47187542  Analytics       Excel     1\n",
              "0                47747849   Business   MS Office     1\n",
              "\n",
              "[23470 rows x 4 columns]"
            ]
          },
          "metadata": {},
          "execution_count": 11
        }
      ]
    },
    {
      "cell_type": "markdown",
      "metadata": {
        "id": "3SnC8739O7Oo"
      },
      "source": [
        "# Парсер описания вакансий с помощью регулярных выражений"
      ]
    },
    {
      "cell_type": "code",
      "metadata": {
        "id": "ne-pKA9-ZWZc"
      },
      "source": [
        "def JD_new_column(regular_try: str, regular_except: str, new_column: str, df: pd.DataFrame):\n",
        "  \"\"\"\n",
        "  Создаём метод, который создаёт новый столбец после парсинга\n",
        "  Аргументы:\n",
        "  regular - регулярное выражение, согласно которому работает парсер\n",
        "  new_column - название столбца, который создаётся\n",
        "  df - датафрейм, который содержит описание вакансий\n",
        "  \"\"\"\n",
        "  result = []\n",
        "  df['description'].apply(lambda x: JD(x, regular_try, regular_except, result));\n",
        "  df[f'description_{new_column}'] = pd.DataFrame(result)[0]\n"
      ],
      "execution_count": 161,
      "outputs": []
    },
    {
      "cell_type": "code",
      "metadata": {
        "id": "myyEbx_MGakn"
      },
      "source": [
        "def JD(x: str, regular_try: str, regular_except: str, result: list):\n",
        "  \"\"\"\n",
        "  Создаём метод, который ищет по заданному регулярному выражению в строке\n",
        "  Аргументы:\n",
        "  x - строка в датафрейме с описанием вакансий\n",
        "  regular - регулярное выражение, согласно которому работает парсер\n",
        "  result - список, куда записывается результат работы метода\n",
        "  \"\"\"\n",
        "  try:\n",
        "    result.append(re.search(regular_try, x).group(0))\n",
        "  except:\n",
        "    try:\n",
        "      result.append(re.search(regular_except, x).group(0))\n",
        "    except:\n",
        "      result.append(re.search(regular_except, x))"
      ],
      "execution_count": 163,
      "outputs": []
    },
    {
      "cell_type": "code",
      "metadata": {
        "id": "jhN8kJBvKgpw"
      },
      "source": [
        "JD_new_column(r'(?i)обязанности:.+(?=(<strong>|<\\/ul>))|чем предстоит заниматься.+(?=(<strong>|<\\/ul>))|задачи.+(?=(<strong>|<\\/ul>))|ищем.{1,25}которые\\s{1,}будут.+(?=(<strong>|<\\/ul>))', \n",
        "                       r'(?i)обязанности:.+\\.|чем предстоит заниматься.+\\.|задачи.+\\.|ищем.{1,15}которые\\s{1,}будут.+\\.',\n",
        "                       'responsipilities', df)"
      ],
      "execution_count": 195,
      "outputs": []
    },
    {
      "cell_type": "code",
      "metadata": {
        "id": "wnywOG42Lp3Q"
      },
      "source": [
        "JD_new_column(r'(?i)(требования|требование):.+(?=(<strong>|<\\/ul>))', \n",
        "                       r'(?i)(требования|требование):.+\\.',\n",
        "                       'requirements', df)"
      ],
      "execution_count": 198,
      "outputs": []
    },
    {
      "cell_type": "code",
      "metadata": {
        "id": "gWsW7Z6tMHwm"
      },
      "source": [
        "JD_new_column(r'(?i)условия:.+(?=(<strong>|<\\/ul>))|предлагаем:.+(?=(<strong>|<\\/ul>))', \n",
        "                       r'(?i)условия:.+|предлагаем:.+\\.',\n",
        "                       'conditions', df)"
      ],
      "execution_count": 199,
      "outputs": []
    },
    {
      "cell_type": "code",
      "metadata": {
        "id": "5uqkkkKEIEAH"
      },
      "source": [
        "JD_new_column(r'(?i)о компании:.+(?=(<strong>|<\\/ul>))|о нас:.+(?=(<strong>|<\\/ul>))', \n",
        "                       r'(?i)о компании:.+\\.|о нас:.+\\.',\n",
        "                       'about', df)"
      ],
      "execution_count": 205,
      "outputs": []
    },
    {
      "cell_type": "code",
      "metadata": {
        "colab": {
          "base_uri": "https://localhost:8080/",
          "height": 270
        },
        "id": "nE3Xfua_QHdf",
        "outputId": "84f78329-5995-4a43-f08f-8d4d3b7004b0"
      },
      "source": [
        "df[['description_responsipilities', 'description_requirements', 'description_conditions', 'description_about']].head()"
      ],
      "execution_count": 206,
      "outputs": [
        {
          "output_type": "execute_result",
          "data": {
            "text/html": [
              "<div>\n",
              "<style scoped>\n",
              "    .dataframe tbody tr th:only-of-type {\n",
              "        vertical-align: middle;\n",
              "    }\n",
              "\n",
              "    .dataframe tbody tr th {\n",
              "        vertical-align: top;\n",
              "    }\n",
              "\n",
              "    .dataframe thead th {\n",
              "        text-align: right;\n",
              "    }\n",
              "</style>\n",
              "<table border=\"1\" class=\"dataframe\">\n",
              "  <thead>\n",
              "    <tr style=\"text-align: right;\">\n",
              "      <th></th>\n",
              "      <th>description_responsipilities</th>\n",
              "      <th>description_requirements</th>\n",
              "      <th>description_conditions</th>\n",
              "      <th>description_about</th>\n",
              "    </tr>\n",
              "  </thead>\n",
              "  <tbody>\n",
              "    <tr>\n",
              "      <th>0</th>\n",
              "      <td>ОБЯЗАННОСТИ:&lt;/strong&gt;&lt;/p&gt; &lt;ul&gt; &lt;li&gt;Организация...</td>\n",
              "      <td>Требование:&lt;/strong&gt;&lt;/p&gt; &lt;ul&gt; &lt;li&gt;Опыт работы ...</td>\n",
              "      <td>ПРЕДЛАГАЕМ:&lt;/strong&gt;&lt;/p&gt; &lt;ul&gt; &lt;li&gt;Официальное ...</td>\n",
              "      <td>О НАС:&lt;/strong&gt;&lt;/p&gt; &lt;ul&gt; &lt;li&gt;высокий уровень а...</td>\n",
              "    </tr>\n",
              "    <tr>\n",
              "      <th>1</th>\n",
              "      <td>None</td>\n",
              "      <td>None</td>\n",
              "      <td>None</td>\n",
              "      <td>None</td>\n",
              "    </tr>\n",
              "    <tr>\n",
              "      <th>2</th>\n",
              "      <td>Обязанности:&lt;/strong&gt;&lt;/p&gt; &lt;ul&gt; &lt;li&gt;Сварка кузо...</td>\n",
              "      <td>Требования:&lt;/strong&gt; &lt;ul&gt; &lt;li&gt;Опыт работы от 3...</td>\n",
              "      <td>Условия:&lt;/strong&gt; &lt;ul&gt; &lt;li&gt;Трудоустройство сог...</td>\n",
              "      <td>None</td>\n",
              "    </tr>\n",
              "    <tr>\n",
              "      <th>3</th>\n",
              "      <td>Обязанности:&lt;br /&gt;- Контроль и координация раб...</td>\n",
              "      <td>Требования:&lt;br /&gt;- Опыт работы в продажах прив...</td>\n",
              "      <td>Условия:&lt;br /&gt;- Оплата без задержек, премии, б...</td>\n",
              "      <td>None</td>\n",
              "    </tr>\n",
              "    <tr>\n",
              "      <th>4</th>\n",
              "      <td>Обязанности:&lt;/strong&gt; &lt;ul&gt; &lt;li&gt;ведение первичн...</td>\n",
              "      <td>Требования:&lt;/strong&gt; &lt;ul&gt; &lt;li&gt;высшее образован...</td>\n",
              "      <td>Условия:&lt;/strong&gt; &lt;ul&gt; &lt;li&gt;5 дневный рабочий д...</td>\n",
              "      <td>None</td>\n",
              "    </tr>\n",
              "  </tbody>\n",
              "</table>\n",
              "</div>"
            ],
            "text/plain": [
              "                        description_responsipilities  ...                                  description_about\n",
              "0  ОБЯЗАННОСТИ:</strong></p> <ul> <li>Организация...  ...  О НАС:</strong></p> <ul> <li>высокий уровень а...\n",
              "1                                               None  ...                                               None\n",
              "2  Обязанности:</strong></p> <ul> <li>Сварка кузо...  ...                                               None\n",
              "3  Обязанности:<br />- Контроль и координация раб...  ...                                               None\n",
              "4  Обязанности:</strong> <ul> <li>ведение первичн...  ...                                               None\n",
              "\n",
              "[5 rows x 4 columns]"
            ]
          },
          "metadata": {},
          "execution_count": 206
        }
      ]
    },
    {
      "cell_type": "code",
      "metadata": {
        "colab": {
          "base_uri": "https://localhost:8080/",
          "height": 189
        },
        "id": "azvyPrRwTbiY",
        "outputId": "7a84d086-d0af-41b1-a9f2-6dac500a1b25"
      },
      "source": [
        "df[['description_responsipilities', 'description_requirements', 'description_conditions', 'description_about']].describe()"
      ],
      "execution_count": 207,
      "outputs": [
        {
          "output_type": "execute_result",
          "data": {
            "text/html": [
              "<div>\n",
              "<style scoped>\n",
              "    .dataframe tbody tr th:only-of-type {\n",
              "        vertical-align: middle;\n",
              "    }\n",
              "\n",
              "    .dataframe tbody tr th {\n",
              "        vertical-align: top;\n",
              "    }\n",
              "\n",
              "    .dataframe thead th {\n",
              "        text-align: right;\n",
              "    }\n",
              "</style>\n",
              "<table border=\"1\" class=\"dataframe\">\n",
              "  <thead>\n",
              "    <tr style=\"text-align: right;\">\n",
              "      <th></th>\n",
              "      <th>description_responsipilities</th>\n",
              "      <th>description_requirements</th>\n",
              "      <th>description_conditions</th>\n",
              "      <th>description_about</th>\n",
              "    </tr>\n",
              "  </thead>\n",
              "  <tbody>\n",
              "    <tr>\n",
              "      <th>count</th>\n",
              "      <td>129608</td>\n",
              "      <td>114712</td>\n",
              "      <td>127913</td>\n",
              "      <td>1201</td>\n",
              "    </tr>\n",
              "    <tr>\n",
              "      <th>unique</th>\n",
              "      <td>106776</td>\n",
              "      <td>95386</td>\n",
              "      <td>98910</td>\n",
              "      <td>1023</td>\n",
              "    </tr>\n",
              "    <tr>\n",
              "      <th>top</th>\n",
              "      <td>Обязанности:&lt;/strong&gt;&lt;/p&gt;&lt;ul&gt;&lt;li&gt;Обслуживание ...</td>\n",
              "      <td>Требования: &lt;/strong&gt;&lt;/p&gt;&lt;ul&gt;&lt;li&gt;Ответственнос...</td>\n",
              "      <td>Условия:&lt;/strong&gt;&lt;/p&gt;&lt;ul&gt;&lt;li&gt;Оформление в соот...</td>\n",
              "      <td>О нас:&lt;/p&gt; &lt;p&gt;&amp;quot;Престиж Сервис&amp;quot; - пря...</td>\n",
              "    </tr>\n",
              "    <tr>\n",
              "      <th>freq</th>\n",
              "      <td>1093</td>\n",
              "      <td>1093</td>\n",
              "      <td>1093</td>\n",
              "      <td>13</td>\n",
              "    </tr>\n",
              "  </tbody>\n",
              "</table>\n",
              "</div>"
            ],
            "text/plain": [
              "                             description_responsipilities  ...                                  description_about\n",
              "count                                              129608  ...                                               1201\n",
              "unique                                             106776  ...                                               1023\n",
              "top     Обязанности:</strong></p><ul><li>Обслуживание ...  ...  О нас:</p> <p>&quot;Престиж Сервис&quot; - пря...\n",
              "freq                                                 1093  ...                                                 13\n",
              "\n",
              "[4 rows x 4 columns]"
            ]
          },
          "metadata": {},
          "execution_count": 207
        }
      ]
    },
    {
      "cell_type": "code",
      "metadata": {
        "id": "eJM3XIJ8h8Gb"
      },
      "source": [
        "df[['description', 'description_responsipilities', 'description_requirements', 'description_conditions', 'description_about']].to_csv('dataframe.csv', index=False)"
      ],
      "execution_count": 208,
      "outputs": []
    }
  ]
}