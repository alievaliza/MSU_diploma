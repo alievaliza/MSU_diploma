{
  "nbformat": 4,
  "nbformat_minor": 0,
  "metadata": {
    "colab": {
      "name": "JD_parser.ipynb",
      "provenance": [],
      "collapsed_sections": []
    },
    "kernelspec": {
      "display_name": "Python 3",
      "language": "python",
      "name": "python3"
    },
    "language_info": {
      "codemirror_mode": {
        "name": "ipython",
        "version": 3
      },
      "file_extension": ".py",
      "mimetype": "text/x-python",
      "name": "python",
      "nbconvert_exporter": "python",
      "pygments_lexer": "ipython3",
      "version": "3.7.4"
    }
  },
  "cells": [
    {
      "cell_type": "code",
      "metadata": {
        "id": "tQX8APd_QyoE"
      },
      "source": [
        "import pandas as pd\n",
        "import re\n",
        "import tqdm"
      ],
      "execution_count": null,
      "outputs": []
    },
    {
      "cell_type": "code",
      "metadata": {
        "colab": {
          "base_uri": "https://localhost:8080/"
        },
        "id": "2XUq-WboeBxr",
        "outputId": "619ccfc8-f805-4fd9-c18d-a466bde4b73f"
      },
      "source": [
        "!pip install deep_translator\n",
        "!pip install langid\n",
        "import langid\n",
        "from deep_translator import GoogleTranslator\n",
        "!pip install googletrans==3.1.0a0\n",
        "import nltk\n",
        "nltk.download('punkt')\n",
        "nltk.download('stopwords')\n",
        "from collections import Counter\n",
        "!pip install pymorphy2\n",
        "import pymorphy2"
      ],
      "execution_count": null,
      "outputs": [
        {
          "output_type": "stream",
          "name": "stdout",
          "text": [
            "Requirement already satisfied: deep_translator in /usr/local/lib/python3.7/dist-packages (1.5.4)\n",
            "Requirement already satisfied: click<9.0.0,>=8.0.1 in /usr/local/lib/python3.7/dist-packages (from deep_translator) (8.0.3)\n",
            "Requirement already satisfied: beautifulsoup4<5.0.0,>=4.9.1 in /usr/local/lib/python3.7/dist-packages (from deep_translator) (4.10.0)\n",
            "Requirement already satisfied: requests<3.0.0,>=2.23.0 in /usr/local/lib/python3.7/dist-packages (from deep_translator) (2.23.0)\n",
            "Requirement already satisfied: soupsieve>1.2 in /usr/local/lib/python3.7/dist-packages (from beautifulsoup4<5.0.0,>=4.9.1->deep_translator) (2.3.1)\n",
            "Requirement already satisfied: importlib-metadata in /usr/local/lib/python3.7/dist-packages (from click<9.0.0,>=8.0.1->deep_translator) (4.8.2)\n",
            "Requirement already satisfied: certifi>=2017.4.17 in /usr/local/lib/python3.7/dist-packages (from requests<3.0.0,>=2.23.0->deep_translator) (2021.10.8)\n",
            "Requirement already satisfied: idna<3,>=2.5 in /usr/local/lib/python3.7/dist-packages (from requests<3.0.0,>=2.23.0->deep_translator) (2.10)\n",
            "Requirement already satisfied: chardet<4,>=3.0.2 in /usr/local/lib/python3.7/dist-packages (from requests<3.0.0,>=2.23.0->deep_translator) (3.0.4)\n",
            "Requirement already satisfied: urllib3!=1.25.0,!=1.25.1,<1.26,>=1.21.1 in /usr/local/lib/python3.7/dist-packages (from requests<3.0.0,>=2.23.0->deep_translator) (1.24.3)\n",
            "Requirement already satisfied: zipp>=0.5 in /usr/local/lib/python3.7/dist-packages (from importlib-metadata->click<9.0.0,>=8.0.1->deep_translator) (3.6.0)\n",
            "Requirement already satisfied: typing-extensions>=3.6.4 in /usr/local/lib/python3.7/dist-packages (from importlib-metadata->click<9.0.0,>=8.0.1->deep_translator) (3.10.0.2)\n",
            "Requirement already satisfied: langid in /usr/local/lib/python3.7/dist-packages (1.1.6)\n",
            "Requirement already satisfied: numpy in /usr/local/lib/python3.7/dist-packages (from langid) (1.19.5)\n",
            "Requirement already satisfied: googletrans==3.1.0a0 in /usr/local/lib/python3.7/dist-packages (3.1.0a0)\n",
            "Requirement already satisfied: httpx==0.13.3 in /usr/local/lib/python3.7/dist-packages (from googletrans==3.1.0a0) (0.13.3)\n",
            "Requirement already satisfied: httpcore==0.9.* in /usr/local/lib/python3.7/dist-packages (from httpx==0.13.3->googletrans==3.1.0a0) (0.9.1)\n",
            "Requirement already satisfied: hstspreload in /usr/local/lib/python3.7/dist-packages (from httpx==0.13.3->googletrans==3.1.0a0) (2021.11.1)\n",
            "Requirement already satisfied: sniffio in /usr/local/lib/python3.7/dist-packages (from httpx==0.13.3->googletrans==3.1.0a0) (1.2.0)\n",
            "Requirement already satisfied: idna==2.* in /usr/local/lib/python3.7/dist-packages (from httpx==0.13.3->googletrans==3.1.0a0) (2.10)\n",
            "Requirement already satisfied: certifi in /usr/local/lib/python3.7/dist-packages (from httpx==0.13.3->googletrans==3.1.0a0) (2021.10.8)\n",
            "Requirement already satisfied: rfc3986<2,>=1.3 in /usr/local/lib/python3.7/dist-packages (from httpx==0.13.3->googletrans==3.1.0a0) (1.5.0)\n",
            "Requirement already satisfied: chardet==3.* in /usr/local/lib/python3.7/dist-packages (from httpx==0.13.3->googletrans==3.1.0a0) (3.0.4)\n",
            "Requirement already satisfied: h11<0.10,>=0.8 in /usr/local/lib/python3.7/dist-packages (from httpcore==0.9.*->httpx==0.13.3->googletrans==3.1.0a0) (0.9.0)\n",
            "Requirement already satisfied: h2==3.* in /usr/local/lib/python3.7/dist-packages (from httpcore==0.9.*->httpx==0.13.3->googletrans==3.1.0a0) (3.2.0)\n",
            "Requirement already satisfied: hyperframe<6,>=5.2.0 in /usr/local/lib/python3.7/dist-packages (from h2==3.*->httpcore==0.9.*->httpx==0.13.3->googletrans==3.1.0a0) (5.2.0)\n",
            "Requirement already satisfied: hpack<4,>=3.0 in /usr/local/lib/python3.7/dist-packages (from h2==3.*->httpcore==0.9.*->httpx==0.13.3->googletrans==3.1.0a0) (3.0.0)\n",
            "[nltk_data] Downloading package punkt to /root/nltk_data...\n",
            "[nltk_data]   Package punkt is already up-to-date!\n",
            "[nltk_data] Downloading package stopwords to /root/nltk_data...\n",
            "[nltk_data]   Package stopwords is already up-to-date!\n",
            "Requirement already satisfied: pymorphy2 in /usr/local/lib/python3.7/dist-packages (0.9.1)\n",
            "Requirement already satisfied: pymorphy2-dicts-ru<3.0,>=2.4 in /usr/local/lib/python3.7/dist-packages (from pymorphy2) (2.4.417127.4579844)\n",
            "Requirement already satisfied: docopt>=0.6 in /usr/local/lib/python3.7/dist-packages (from pymorphy2) (0.6.2)\n",
            "Requirement already satisfied: dawg-python>=0.7.1 in /usr/local/lib/python3.7/dist-packages (from pymorphy2) (0.7.2)\n"
          ]
        }
      ]
    },
    {
      "cell_type": "code",
      "metadata": {
        "id": "2Ijy00JjgI0z"
      },
      "source": [
        "from typing import Dict\n",
        "from matplotlib import pyplot\n",
        "import seaborn as sns"
      ],
      "execution_count": null,
      "outputs": []
    },
    {
      "cell_type": "code",
      "metadata": {
        "colab": {
          "base_uri": "https://localhost:8080/"
        },
        "id": "6pt882EH1jnU",
        "outputId": "25a891ed-1fcb-4aeb-c4fb-98a9a0fb6f44"
      },
      "source": [
        "!gdown --id 15_FfenvHFoJVcPu6gGx9osLn71uDJ-Et"
      ],
      "execution_count": null,
      "outputs": [
        {
          "output_type": "stream",
          "name": "stdout",
          "text": [
            "Downloading...\n",
            "From: https://drive.google.com/uc?id=15_FfenvHFoJVcPu6gGx9osLn71uDJ-Et\n",
            "To: /content/vacancies.csv\n",
            "100% 1.05G/1.05G [00:24<00:00, 42.9MB/s]\n"
          ]
        }
      ]
    },
    {
      "cell_type": "code",
      "metadata": {
        "colab": {
          "base_uri": "https://localhost:8080/"
        },
        "id": "rL935SgyQ-7j",
        "outputId": "52c1b023-d84e-4533-ca35-0cda1c7f5e7e"
      },
      "source": [
        "df = pd.read_csv(\"vacancies.csv\")"
      ],
      "execution_count": null,
      "outputs": [
        {
          "output_type": "stream",
          "name": "stderr",
          "text": [
            "/usr/local/lib/python3.7/dist-packages/IPython/core/interactiveshell.py:2718: DtypeWarning: Columns (18,22) have mixed types.Specify dtype option on import or set low_memory=False.\n",
            "  interactivity=interactivity, compiler=compiler, result=result)\n"
          ]
        }
      ]
    },
    {
      "cell_type": "markdown",
      "metadata": {
        "id": "9WlB0e9jNaab"
      },
      "source": [
        "# Парсер навыков из вакансий с [гитхаба](https://github.com/keshavbansal015/Job-Description-Parser)\n",
        "\n",
        "P.S. другие парсеры (в основном платные и для CV):\n",
        "\n",
        "\n",
        "1.   https://www.maprecruit.ai/parsers - 30 файлов потестила в демо\n",
        "2.   https://docs.microsoft.com/en-us/connectors/candidatezip/#parse-jd-via-file-content - не смогла зарегистирироваться\n",
        "3.   http://www.reshufl.com/demo/ - потестила демо\n",
        "\n"
      ]
    },
    {
      "cell_type": "code",
      "metadata": {
        "colab": {
          "base_uri": "https://localhost:8080/"
        },
        "id": "uJeGTeop1Tkd",
        "outputId": "5e0c5811-8a3a-4bf7-a643-7b069b283fc2"
      },
      "source": [
        "!gdown --id 179NC9uvqIbyahO1R3yyiYHV2srB38-5-"
      ],
      "execution_count": null,
      "outputs": [
        {
          "name": "stdout",
          "output_type": "stream",
          "text": [
            "Downloading...\n",
            "From: https://drive.google.com/uc?id=179NC9uvqIbyahO1R3yyiYHV2srB38-5-\n",
            "To: /content/Resume_JD parser(spaCy).zip\n",
            "100% 205M/205M [00:01<00:00, 113MB/s]\n"
          ]
        }
      ]
    },
    {
      "cell_type": "code",
      "metadata": {
        "id": "igaAwo_R2VC6"
      },
      "source": [
        "import zipfile\n",
        "zf = zipfile.ZipFile(\"parser.zip\")\n",
        "zf.extractall()"
      ],
      "execution_count": null,
      "outputs": []
    },
    {
      "cell_type": "code",
      "metadata": {
        "colab": {
          "base_uri": "https://localhost:8080/"
        },
        "id": "3psLzFvl2rzT",
        "outputId": "248918d6-5fb1-4215-ccb3-c8a0b1dc0367"
      },
      "source": [
        "# !pip install spacy\n",
        "import spacy\n",
        "sys.path.append(os.path.abspath('./Resume_JD parser(spaCy)/src'))\n",
        "\n",
        "from func import *\n",
        "from constants import *\n",
        "from init_parser import init_parser_func\n",
        "from tqdm import tqdm\n",
        "sys.path.append(os.path.abspath('..'))\n",
        "\n",
        "nlp = spacy.load('en_core_web_sm')\n",
        "\n",
        "if __name__ == '__main__':)\n",
        "\tmatcher = init_parser_func(nlp, './Resume_JD parser(spaCy)/input/Skillset.xlsx', file_type=\"excel\")\n",
        "\t\n",
        "\tfinal_database = pd.DataFrame()\t\n",
        "\n",
        "\tfor each in tqdm(range(len(df))):\n",
        "\n",
        "\t\ttext = df.loc[each, 'description']\n",
        "\t\tapplication_subject = df.loc[each,'id']\n",
        "\t\tdata = create_profile(nlp,matcher,text,application_subject)\n",
        "\t\tfinal_database = final_database.append(data)\n",
        "\n",
        "\t# Saving the database\n",
        "\tfinal_database.to_csv('./Resume_JD parser(spaCy)/input/Data.csv', index=False)"
      ],
      "execution_count": null,
      "outputs": [
        {
          "name": "stdout",
          "output_type": "stream",
          "text": [
            "/content\n",
            "Success!\n"
          ]
        },
        {
          "name": "stderr",
          "output_type": "stream",
          "text": [
            "100%|██████████| 164916/164916 [2:08:26<00:00, 21.40it/s]\n"
          ]
        }
      ]
    },
    {
      "cell_type": "code",
      "metadata": {
        "colab": {
          "base_uri": "https://localhost:8080/",
          "height": 417
        },
        "id": "CjMagU8T_rW_",
        "outputId": "a7f687f4-a483-4832-bfa8-c035732f5cce"
      },
      "source": [
        "final_database"
      ],
      "execution_count": null,
      "outputs": [
        {
          "data": {
            "text/html": [
              "<div>\n",
              "<style scoped>\n",
              "    .dataframe tbody tr th:only-of-type {\n",
              "        vertical-align: middle;\n",
              "    }\n",
              "\n",
              "    .dataframe tbody tr th {\n",
              "        vertical-align: top;\n",
              "    }\n",
              "\n",
              "    .dataframe thead th {\n",
              "        text-align: right;\n",
              "    }\n",
              "</style>\n",
              "<table border=\"1\" class=\"dataframe\">\n",
              "  <thead>\n",
              "    <tr style=\"text-align: right;\">\n",
              "      <th></th>\n",
              "      <th>Company/Candidate Name</th>\n",
              "      <th>Skill</th>\n",
              "      <th>Sub-skill</th>\n",
              "      <th>Count</th>\n",
              "    </tr>\n",
              "  </thead>\n",
              "  <tbody>\n",
              "    <tr>\n",
              "      <th>0</th>\n",
              "      <td>47319343</td>\n",
              "      <td>Coding</td>\n",
              "      <td>SQL</td>\n",
              "      <td>1</td>\n",
              "    </tr>\n",
              "    <tr>\n",
              "      <th>0</th>\n",
              "      <td>47472541</td>\n",
              "      <td>Analytics</td>\n",
              "      <td>Excel</td>\n",
              "      <td>1</td>\n",
              "    </tr>\n",
              "    <tr>\n",
              "      <th>0</th>\n",
              "      <td>46134407</td>\n",
              "      <td>Business</td>\n",
              "      <td>MS Office</td>\n",
              "      <td>1</td>\n",
              "    </tr>\n",
              "    <tr>\n",
              "      <th>0</th>\n",
              "      <td>47513275</td>\n",
              "      <td>Business</td>\n",
              "      <td>MS Office</td>\n",
              "      <td>1</td>\n",
              "    </tr>\n",
              "    <tr>\n",
              "      <th>0</th>\n",
              "      <td>47727709</td>\n",
              "      <td>Coding</td>\n",
              "      <td>JavaScript</td>\n",
              "      <td>1</td>\n",
              "    </tr>\n",
              "    <tr>\n",
              "      <th>...</th>\n",
              "      <td>...</td>\n",
              "      <td>...</td>\n",
              "      <td>...</td>\n",
              "      <td>...</td>\n",
              "    </tr>\n",
              "    <tr>\n",
              "      <th>0</th>\n",
              "      <td>46120872</td>\n",
              "      <td>Analytics</td>\n",
              "      <td>Excel</td>\n",
              "      <td>1</td>\n",
              "    </tr>\n",
              "    <tr>\n",
              "      <th>0</th>\n",
              "      <td>47121032</td>\n",
              "      <td>Business</td>\n",
              "      <td>MS Office</td>\n",
              "      <td>1</td>\n",
              "    </tr>\n",
              "    <tr>\n",
              "      <th>0</th>\n",
              "      <td>47187542</td>\n",
              "      <td>DevOps</td>\n",
              "      <td>MS Word</td>\n",
              "      <td>1</td>\n",
              "    </tr>\n",
              "    <tr>\n",
              "      <th>1</th>\n",
              "      <td>47187542</td>\n",
              "      <td>Analytics</td>\n",
              "      <td>Excel</td>\n",
              "      <td>1</td>\n",
              "    </tr>\n",
              "    <tr>\n",
              "      <th>0</th>\n",
              "      <td>47747849</td>\n",
              "      <td>Business</td>\n",
              "      <td>MS Office</td>\n",
              "      <td>1</td>\n",
              "    </tr>\n",
              "  </tbody>\n",
              "</table>\n",
              "<p>23470 rows × 4 columns</p>\n",
              "</div>"
            ],
            "text/plain": [
              "   Company/Candidate Name      Skill   Sub-skill Count\n",
              "0                47319343     Coding         SQL     1\n",
              "0                47472541  Analytics       Excel     1\n",
              "0                46134407   Business   MS Office     1\n",
              "0                47513275   Business   MS Office     1\n",
              "0                47727709     Coding  JavaScript     1\n",
              "..                    ...        ...         ...   ...\n",
              "0                46120872  Analytics       Excel     1\n",
              "0                47121032   Business   MS Office     1\n",
              "0                47187542     DevOps     MS Word     1\n",
              "1                47187542  Analytics       Excel     1\n",
              "0                47747849   Business   MS Office     1\n",
              "\n",
              "[23470 rows x 4 columns]"
            ]
          },
          "execution_count": 11,
          "metadata": {},
          "output_type": "execute_result"
        }
      ]
    },
    {
      "cell_type": "markdown",
      "metadata": {
        "id": "3SnC8739O7Oo"
      },
      "source": [
        "# Парсер описания вакансий с помощью регулярных выражений"
      ]
    },
    {
      "cell_type": "code",
      "metadata": {
        "id": "aCf_pup22kai"
      },
      "source": [
        "lang, lang_list = {}, []\n",
        "def lang_variety(x):\n",
        "  language = langid.classify(x)[0]\n",
        "  lang_list.append(language)\n",
        "  if language in lang:\n",
        "    lang[language] += 1\n",
        "  else:\n",
        "    lang[language] = 1\n",
        "df['description'].apply(lambda x: lang_variety(x));"
      ],
      "execution_count": null,
      "outputs": []
    },
    {
      "cell_type": "code",
      "metadata": {
        "id": "PnNUUKnqsRO3"
      },
      "source": [
        "df['language'] = pd.DataFrame(lang_list)"
      ],
      "execution_count": null,
      "outputs": []
    },
    {
      "cell_type": "code",
      "metadata": {
        "id": "pvErtXAILU0D"
      },
      "source": [
        "df.to_csv('dataframe.csv', index=False)"
      ],
      "execution_count": null,
      "outputs": []
    },
    {
      "cell_type": "code",
      "metadata": {
        "id": "6JIoY63xXANu"
      },
      "source": [
        "from deep_translator import GoogleTranslator, MicrosoftTranslator, YandexTranslator, MyMemoryTranslator, LingueeTranslator, PonsTranslator"
      ],
      "execution_count": null,
      "outputs": []
    },
    {
      "cell_type": "code",
      "metadata": {
        "id": "WT12Yibf14sn"
      },
      "source": [
        "iteration = 0\n",
        "import time\n",
        "def translate(text: str):\n",
        "  global iteration\n",
        "  # print((text))\n",
        "  # try:\n",
        "  text_ready = ''\n",
        "  # for sentence in text.split('.'):\n",
        "  #   (text_ready+'.').join(MyMemoryTranslator(source='auto', target='ru').translate(sentence))\n",
        "  text = GoogleTranslator(source='auto', target='ru').translate(text)\n",
        "  time.sleep(1)\n",
        "  # text_right = MyMemoryTranslator(source='auto', target='ru').translate(text[int(len(text)/2):])\n",
        "  # except:\n",
        "    # print('\\n', iteration, 'ВСЁ', text, '\\n')\n",
        "  if iteration % 100 == 0:\n",
        "    print(iteration, text, '\\n')\n",
        "  iteration += 1\n",
        "  return text"
      ],
      "execution_count": null,
      "outputs": []
    },
    {
      "cell_type": "code",
      "metadata": {
        "colab": {
          "base_uri": "https://localhost:8080/"
        },
        "id": "paaOmPviVY5W",
        "outputId": "05abd5c4-2da7-4c7d-e02b-4e2970d80413"
      },
      "source": [
        "df_ = pd.read_csv(\"vacancies.csv\")"
      ],
      "execution_count": null,
      "outputs": [
        {
          "output_type": "stream",
          "name": "stderr",
          "text": [
            "/usr/local/lib/python3.7/dist-packages/IPython/core/interactiveshell.py:2718: DtypeWarning: Columns (18,22) have mixed types.Specify dtype option on import or set low_memory=False.\n",
            "  interactivity=interactivity, compiler=compiler, result=result)\n"
          ]
        }
      ]
    },
    {
      "cell_type": "code",
      "metadata": {
        "id": "TP_sg9SAKg0O"
      },
      "source": [
        "df_['description'][df_['language'] != 'ru'] = df_['description'][df_['language'] != 'ru'].apply(lambda x: translate(x))"
      ],
      "execution_count": null,
      "outputs": []
    },
    {
      "cell_type": "code",
      "metadata": {
        "id": "3pIc3ap7qIyt"
      },
      "source": [
        "def plot_dict(d: Dict):\n",
        "  \"\"\"\n",
        "  Создаём метод, который строит гистограмму для словаря\n",
        "  Аргумент:\n",
        "  d - словарь, который нужно изобразить на гистограмме\n",
        "  \"\"\"\n",
        "  d = dict(sorted(d.items(), key=lambda item: -item[1]))\n",
        "  keys = list(d.keys())\n",
        "  vals = [100*d[k]/len(df) for k in keys]\n",
        "  sns.barplot(x=keys, y=vals, color='green')\n",
        "  pyplot.xticks(rotation=45, ha=\"right\");"
      ],
      "execution_count": null,
      "outputs": []
    },
    {
      "cell_type": "code",
      "metadata": {
        "colab": {
          "base_uri": "https://localhost:8080/",
          "height": 274
        },
        "id": "7HznqwVa5FEQ",
        "outputId": "f45dfcda-d431-4cdf-d6de-acdba2bfe5fa"
      },
      "source": [
        "# Строим распределение вакансий по языкам, на которых написано описание вакансии\n",
        "plot_dict(lang)"
      ],
      "execution_count": null,
      "outputs": [
        {
          "data": {
            "image/png": "[encoded data removed]",
            "text/plain": [
              "<Figure size 432x288 with 1 Axes>"
            ]
          },
          "metadata": {},
          "output_type": "display_data"
        }
      ]
    },
    {
      "cell_type": "code",
      "metadata": {
        "id": "3YF3byCMFxqg"
      },
      "source": [
        "# Переводим описания вакансий не на русском\n",
        "translator = Translator()\n",
        "df['description'][df['language'] != 'ru'] = df['description'].apply(lambda x: translator.translate(x, dest='ru').text)"
      ],
      "execution_count": null,
      "outputs": []
    },
    {
      "cell_type": "code",
      "metadata": {
        "id": "myyEbx_MGakn"
      },
      "source": [
        "def jd(x: str, regular_try: str, regular_except: str, regular_except_try: str, result: list, result_: list):\n",
        "  \"\"\"\n",
        "  Создаём метод, который ищет по заданному регулярному выражению в строке\n",
        "  Аргументы:\n",
        "  x - строка в датафрейме с описанием вакансий\n",
        "  regular_try, regular_except, regular_except_try - регулярные выражения, согласно которым работает парсер\n",
        "  result - список, куда записывается результат работы метода\n",
        "  result_ - список (для столбца description), из которого удаляются регулярные выражения\n",
        "  \"\"\"\n",
        "  x = MyMemoryTranslator(source='auto', target='ru').translate(x)\n",
        "  try:\n",
        "    result.append(re.search(regular_try, x).group(0))\n",
        "    result_.append(re.sub(regular_try, '', x))\n",
        "  except:\n",
        "    try:\n",
        "      result.append(re.search(regular_except, x).group(0))\n",
        "      result_.append(re.sub(regular_except, '', x))\n",
        "    except:\n",
        "      try:\n",
        "        result.append(re.search(regular_except_try, x).group(0))\n",
        "        result_.append(re.sub(regular_except_try, '', x))\n",
        "      except:\n",
        "        result.append(re.search(regular_except, x))\n",
        "        result_.append(re.sub(regular_except, '', x))"
      ],
      "execution_count": null,
      "outputs": []
    },
    {
      "cell_type": "code",
      "metadata": {
        "id": "ne-pKA9-ZWZc"
      },
      "source": [
        "def jd_new_column(regular_try: str, regular_except: str, regular_except_try: str, new_column: str, df: pd.DataFrame):\n",
        "  \"\"\"\n",
        "  Создаём метод, который создаёт новый столбец после парсинга\n",
        "  Аргументы:\n",
        "  regular_try, regular_except, regular_except_try - регулярные выражения, согласно которым работает парсер\n",
        "  new_column - название столбца, который создаётся\n",
        "  df - датафрейм, который содержит описание вакансий\n",
        "  \"\"\"\n",
        "  result, result_ = [], []\n",
        "  df['description'].apply(lambda x: jd(x, regular_try, regular_except, regular_except_try, result, result_));\n",
        "  df[f'description_{new_column}'] = pd.DataFrame(result)[0]\n",
        "  df['description'] = pd.DataFrame(result_)"
      ],
      "execution_count": null,
      "outputs": []
    },
    {
      "cell_type": "code",
      "metadata": {
        "id": "jhN8kJBvKgpw",
        "colab": {
          "base_uri": "https://localhost:8080/",
          "height": 572
        },
        "outputId": "5aeeb340-6f4d-41d9-986f-634222df6416"
      },
      "source": [
        "jd_new_column(r'(?i)обязанности:.*?(?=(<strong>|<\\/ul>|требования|требование|условия|предлагаем))|чем предстоит заниматься.*?(?=(<strong>|<\\/ul>|требования|требование|условия|предлагаем))|(задачи|задачах):.*?(?=(<strong>|<\\/ul>|требования|требование|условия|предлагаем))|ищем.{1,25}которые\\s{1,}будут.*?(?=(<strong>|<\\/ul>|требования|требование|условия|предлагаем))|что нужно делать.*?(?=(<strong>|<\\/ul>|требования|требование|условия|предлагаем))', \n",
        "              r'(?i)обязанности.*?(\\.|требования|требование|условия|предлагаем)|чем предстоит заниматься.*?(\\.|требования|требование|условия|предлагаем)|(задачи|задачах).*?(\\.|требования|требование|условия|предлагаем)|ищем.{1,15}которые\\s{1,}будут.*?(\\.|требования|требование|условия|предлагаем)|что нужно делать.*?(\\.|требования|требование|условия|предлагаем)',\n",
        "              r'(?i)обязанности.+|чем предстоит заниматься.+|(задачи|задачах).+|ищем.{1,15}которые\\s{1,}будут.+|что нужно делать.+',\n",
        "                       'responsibilities', df);"
      ],
      "execution_count": null,
      "outputs": [
        {
          "output_type": "error",
          "ename": "NotValidLength",
          "evalue": "ignored",
          "traceback": [
            "\u001b[0;31m---------------------------------------------------------------------------\u001b[0m",
            "\u001b[0;31mNotValidLength\u001b[0m                            Traceback (most recent call last)",
            "\u001b[0;32m<ipython-input-64-77fbf33c267d>\u001b[0m in \u001b[0;36m<module>\u001b[0;34m()\u001b[0m\n\u001b[1;32m      2\u001b[0m               \u001b[0;34mr'(?i)обязанности.*?(\\.|требования|требование|условия|предлагаем)|чем предстоит заниматься.*?(\\.|требования|требование|условия|предлагаем)|(задачи|задачах).*?(\\.|требования|требование|условия|предлагаем)|ищем.{1,15}которые\\s{1,}будут.*?(\\.|требования|требование|условия|предлагаем)|что нужно делать.*?(\\.|требования|требование|условия|предлагаем)'\u001b[0m\u001b[0;34m,\u001b[0m\u001b[0;34m\u001b[0m\u001b[0;34m\u001b[0m\u001b[0m\n\u001b[1;32m      3\u001b[0m               \u001b[0;34mr'(?i)обязанности.+|чем предстоит заниматься.+|(задачи|задачах).+|ищем.{1,15}которые\\s{1,}будут.+|что нужно делать.+'\u001b[0m\u001b[0;34m,\u001b[0m\u001b[0;34m\u001b[0m\u001b[0;34m\u001b[0m\u001b[0m\n\u001b[0;32m----> 4\u001b[0;31m                        'responsibilities', df);\n\u001b[0m",
            "\u001b[0;32m<ipython-input-63-abc89745fc50>\u001b[0m in \u001b[0;36mjd_new_column\u001b[0;34m(regular_try, regular_except, regular_except_try, new_column, df)\u001b[0m\n\u001b[1;32m      8\u001b[0m   \"\"\"\n\u001b[1;32m      9\u001b[0m   \u001b[0mresult\u001b[0m\u001b[0;34m,\u001b[0m \u001b[0mresult_\u001b[0m \u001b[0;34m=\u001b[0m \u001b[0;34m[\u001b[0m\u001b[0;34m]\u001b[0m\u001b[0;34m,\u001b[0m \u001b[0;34m[\u001b[0m\u001b[0;34m]\u001b[0m\u001b[0;34m\u001b[0m\u001b[0;34m\u001b[0m\u001b[0m\n\u001b[0;32m---> 10\u001b[0;31m   \u001b[0mdf\u001b[0m\u001b[0;34m[\u001b[0m\u001b[0;34m'description'\u001b[0m\u001b[0;34m]\u001b[0m\u001b[0;34m.\u001b[0m\u001b[0mapply\u001b[0m\u001b[0;34m(\u001b[0m\u001b[0;32mlambda\u001b[0m \u001b[0mx\u001b[0m\u001b[0;34m:\u001b[0m \u001b[0mjd\u001b[0m\u001b[0;34m(\u001b[0m\u001b[0mx\u001b[0m\u001b[0;34m,\u001b[0m \u001b[0mregular_try\u001b[0m\u001b[0;34m,\u001b[0m \u001b[0mregular_except\u001b[0m\u001b[0;34m,\u001b[0m \u001b[0mregular_except_try\u001b[0m\u001b[0;34m,\u001b[0m \u001b[0mresult\u001b[0m\u001b[0;34m,\u001b[0m \u001b[0mresult_\u001b[0m\u001b[0;34m)\u001b[0m\u001b[0;34m)\u001b[0m\u001b[0;34m;\u001b[0m\u001b[0;34m\u001b[0m\u001b[0;34m\u001b[0m\u001b[0m\n\u001b[0m\u001b[1;32m     11\u001b[0m   \u001b[0mdf\u001b[0m\u001b[0;34m[\u001b[0m\u001b[0;34mf'description_{new_column}'\u001b[0m\u001b[0;34m]\u001b[0m \u001b[0;34m=\u001b[0m \u001b[0mpd\u001b[0m\u001b[0;34m.\u001b[0m\u001b[0mDataFrame\u001b[0m\u001b[0;34m(\u001b[0m\u001b[0mresult\u001b[0m\u001b[0;34m)\u001b[0m\u001b[0;34m[\u001b[0m\u001b[0;36m0\u001b[0m\u001b[0;34m]\u001b[0m\u001b[0;34m\u001b[0m\u001b[0;34m\u001b[0m\u001b[0m\n\u001b[1;32m     12\u001b[0m   \u001b[0mdf\u001b[0m\u001b[0;34m[\u001b[0m\u001b[0;34m'description'\u001b[0m\u001b[0;34m]\u001b[0m \u001b[0;34m=\u001b[0m \u001b[0mpd\u001b[0m\u001b[0;34m.\u001b[0m\u001b[0mDataFrame\u001b[0m\u001b[0;34m(\u001b[0m\u001b[0mresult_\u001b[0m\u001b[0;34m)\u001b[0m\u001b[0;34m\u001b[0m\u001b[0;34m\u001b[0m\u001b[0m\n",
            "\u001b[0;32m/usr/local/lib/python3.7/dist-packages/pandas/core/series.py\u001b[0m in \u001b[0;36mapply\u001b[0;34m(self, func, convert_dtype, args, **kwds)\u001b[0m\n\u001b[1;32m   4211\u001b[0m             \u001b[0;32melse\u001b[0m\u001b[0;34m:\u001b[0m\u001b[0;34m\u001b[0m\u001b[0;34m\u001b[0m\u001b[0m\n\u001b[1;32m   4212\u001b[0m                 \u001b[0mvalues\u001b[0m \u001b[0;34m=\u001b[0m \u001b[0mself\u001b[0m\u001b[0;34m.\u001b[0m\u001b[0mastype\u001b[0m\u001b[0;34m(\u001b[0m\u001b[0mobject\u001b[0m\u001b[0;34m)\u001b[0m\u001b[0;34m.\u001b[0m\u001b[0m_values\u001b[0m\u001b[0;34m\u001b[0m\u001b[0;34m\u001b[0m\u001b[0m\n\u001b[0;32m-> 4213\u001b[0;31m                 \u001b[0mmapped\u001b[0m \u001b[0;34m=\u001b[0m \u001b[0mlib\u001b[0m\u001b[0;34m.\u001b[0m\u001b[0mmap_infer\u001b[0m\u001b[0;34m(\u001b[0m\u001b[0mvalues\u001b[0m\u001b[0;34m,\u001b[0m \u001b[0mf\u001b[0m\u001b[0;34m,\u001b[0m \u001b[0mconvert\u001b[0m\u001b[0;34m=\u001b[0m\u001b[0mconvert_dtype\u001b[0m\u001b[0;34m)\u001b[0m\u001b[0;34m\u001b[0m\u001b[0;34m\u001b[0m\u001b[0m\n\u001b[0m\u001b[1;32m   4214\u001b[0m \u001b[0;34m\u001b[0m\u001b[0m\n\u001b[1;32m   4215\u001b[0m         \u001b[0;32mif\u001b[0m \u001b[0mlen\u001b[0m\u001b[0;34m(\u001b[0m\u001b[0mmapped\u001b[0m\u001b[0;34m)\u001b[0m \u001b[0;32mand\u001b[0m \u001b[0misinstance\u001b[0m\u001b[0;34m(\u001b[0m\u001b[0mmapped\u001b[0m\u001b[0;34m[\u001b[0m\u001b[0;36m0\u001b[0m\u001b[0;34m]\u001b[0m\u001b[0;34m,\u001b[0m \u001b[0mSeries\u001b[0m\u001b[0;34m)\u001b[0m\u001b[0;34m:\u001b[0m\u001b[0;34m\u001b[0m\u001b[0;34m\u001b[0m\u001b[0m\n",
            "\u001b[0;32mpandas/_libs/lib.pyx\u001b[0m in \u001b[0;36mpandas._libs.lib.map_infer\u001b[0;34m()\u001b[0m\n",
            "\u001b[0;32m<ipython-input-63-abc89745fc50>\u001b[0m in \u001b[0;36m<lambda>\u001b[0;34m(x)\u001b[0m\n\u001b[1;32m      8\u001b[0m   \"\"\"\n\u001b[1;32m      9\u001b[0m   \u001b[0mresult\u001b[0m\u001b[0;34m,\u001b[0m \u001b[0mresult_\u001b[0m \u001b[0;34m=\u001b[0m \u001b[0;34m[\u001b[0m\u001b[0;34m]\u001b[0m\u001b[0;34m,\u001b[0m \u001b[0;34m[\u001b[0m\u001b[0;34m]\u001b[0m\u001b[0;34m\u001b[0m\u001b[0;34m\u001b[0m\u001b[0m\n\u001b[0;32m---> 10\u001b[0;31m   \u001b[0mdf\u001b[0m\u001b[0;34m[\u001b[0m\u001b[0;34m'description'\u001b[0m\u001b[0;34m]\u001b[0m\u001b[0;34m.\u001b[0m\u001b[0mapply\u001b[0m\u001b[0;34m(\u001b[0m\u001b[0;32mlambda\u001b[0m \u001b[0mx\u001b[0m\u001b[0;34m:\u001b[0m \u001b[0mjd\u001b[0m\u001b[0;34m(\u001b[0m\u001b[0mx\u001b[0m\u001b[0;34m,\u001b[0m \u001b[0mregular_try\u001b[0m\u001b[0;34m,\u001b[0m \u001b[0mregular_except\u001b[0m\u001b[0;34m,\u001b[0m \u001b[0mregular_except_try\u001b[0m\u001b[0;34m,\u001b[0m \u001b[0mresult\u001b[0m\u001b[0;34m,\u001b[0m \u001b[0mresult_\u001b[0m\u001b[0;34m)\u001b[0m\u001b[0;34m)\u001b[0m\u001b[0;34m;\u001b[0m\u001b[0;34m\u001b[0m\u001b[0;34m\u001b[0m\u001b[0m\n\u001b[0m\u001b[1;32m     11\u001b[0m   \u001b[0mdf\u001b[0m\u001b[0;34m[\u001b[0m\u001b[0;34mf'description_{new_column}'\u001b[0m\u001b[0;34m]\u001b[0m \u001b[0;34m=\u001b[0m \u001b[0mpd\u001b[0m\u001b[0;34m.\u001b[0m\u001b[0mDataFrame\u001b[0m\u001b[0;34m(\u001b[0m\u001b[0mresult\u001b[0m\u001b[0;34m)\u001b[0m\u001b[0;34m[\u001b[0m\u001b[0;36m0\u001b[0m\u001b[0;34m]\u001b[0m\u001b[0;34m\u001b[0m\u001b[0;34m\u001b[0m\u001b[0m\n\u001b[1;32m     12\u001b[0m   \u001b[0mdf\u001b[0m\u001b[0;34m[\u001b[0m\u001b[0;34m'description'\u001b[0m\u001b[0;34m]\u001b[0m \u001b[0;34m=\u001b[0m \u001b[0mpd\u001b[0m\u001b[0;34m.\u001b[0m\u001b[0mDataFrame\u001b[0m\u001b[0;34m(\u001b[0m\u001b[0mresult_\u001b[0m\u001b[0;34m)\u001b[0m\u001b[0;34m\u001b[0m\u001b[0;34m\u001b[0m\u001b[0m\n",
            "\u001b[0;32m<ipython-input-62-a4edec748601>\u001b[0m in \u001b[0;36mjd\u001b[0;34m(x, regular_try, regular_except, regular_except_try, result, result_)\u001b[0m\n\u001b[1;32m      8\u001b[0m   \u001b[0mresult_\u001b[0m \u001b[0;34m-\u001b[0m \u001b[0mсписок\u001b[0m \u001b[0;34m(\u001b[0m\u001b[0mдля\u001b[0m \u001b[0mстолбца\u001b[0m \u001b[0mdescription\u001b[0m\u001b[0;34m)\u001b[0m\u001b[0;34m,\u001b[0m \u001b[0mиз\u001b[0m \u001b[0mкоторого\u001b[0m \u001b[0mудаляются\u001b[0m \u001b[0mрегулярные\u001b[0m \u001b[0mвыражения\u001b[0m\u001b[0;34m\u001b[0m\u001b[0;34m\u001b[0m\u001b[0m\n\u001b[1;32m      9\u001b[0m   \"\"\"\n\u001b[0;32m---> 10\u001b[0;31m   \u001b[0mx\u001b[0m \u001b[0;34m=\u001b[0m \u001b[0mMyMemoryTranslator\u001b[0m\u001b[0;34m(\u001b[0m\u001b[0msource\u001b[0m\u001b[0;34m=\u001b[0m\u001b[0;34m'auto'\u001b[0m\u001b[0;34m,\u001b[0m \u001b[0mtarget\u001b[0m\u001b[0;34m=\u001b[0m\u001b[0;34m'ru'\u001b[0m\u001b[0;34m)\u001b[0m\u001b[0;34m.\u001b[0m\u001b[0mtranslate\u001b[0m\u001b[0;34m(\u001b[0m\u001b[0mx\u001b[0m\u001b[0;34m)\u001b[0m\u001b[0;34m\u001b[0m\u001b[0;34m\u001b[0m\u001b[0m\n\u001b[0m\u001b[1;32m     11\u001b[0m   \u001b[0;32mtry\u001b[0m\u001b[0;34m:\u001b[0m\u001b[0;34m\u001b[0m\u001b[0;34m\u001b[0m\u001b[0m\n\u001b[1;32m     12\u001b[0m     \u001b[0mresult\u001b[0m\u001b[0;34m.\u001b[0m\u001b[0mappend\u001b[0m\u001b[0;34m(\u001b[0m\u001b[0mre\u001b[0m\u001b[0;34m.\u001b[0m\u001b[0msearch\u001b[0m\u001b[0;34m(\u001b[0m\u001b[0mregular_try\u001b[0m\u001b[0;34m,\u001b[0m \u001b[0mx\u001b[0m\u001b[0;34m)\u001b[0m\u001b[0;34m.\u001b[0m\u001b[0mgroup\u001b[0m\u001b[0;34m(\u001b[0m\u001b[0;36m0\u001b[0m\u001b[0;34m)\u001b[0m\u001b[0;34m)\u001b[0m\u001b[0;34m\u001b[0m\u001b[0;34m\u001b[0m\u001b[0m\n",
            "\u001b[0;32m/usr/local/lib/python3.7/dist-packages/deep_translator/mymemory.py\u001b[0m in \u001b[0;36mtranslate\u001b[0;34m(self, text, return_all, **kwargs)\u001b[0m\n\u001b[1;32m     85\u001b[0m         \"\"\"\n\u001b[1;32m     86\u001b[0m \u001b[0;34m\u001b[0m\u001b[0m\n\u001b[0;32m---> 87\u001b[0;31m         \u001b[0;32mif\u001b[0m \u001b[0mself\u001b[0m\u001b[0;34m.\u001b[0m\u001b[0m_validate_payload\u001b[0m\u001b[0;34m(\u001b[0m\u001b[0mtext\u001b[0m\u001b[0;34m,\u001b[0m \u001b[0mmax_chars\u001b[0m\u001b[0;34m=\u001b[0m\u001b[0;36m500\u001b[0m\u001b[0;34m)\u001b[0m\u001b[0;34m:\u001b[0m\u001b[0;34m\u001b[0m\u001b[0;34m\u001b[0m\u001b[0m\n\u001b[0m\u001b[1;32m     88\u001b[0m             \u001b[0mtext\u001b[0m \u001b[0;34m=\u001b[0m \u001b[0mtext\u001b[0m\u001b[0;34m.\u001b[0m\u001b[0mstrip\u001b[0m\u001b[0;34m(\u001b[0m\u001b[0;34m)\u001b[0m\u001b[0;34m\u001b[0m\u001b[0;34m\u001b[0m\u001b[0m\n\u001b[1;32m     89\u001b[0m \u001b[0;34m\u001b[0m\u001b[0m\n",
            "\u001b[0;32m/usr/local/lib/python3.7/dist-packages/deep_translator/parent.py\u001b[0m in \u001b[0;36m_validate_payload\u001b[0;34m(payload, min_chars, max_chars)\u001b[0m\n\u001b[1;32m     51\u001b[0m \u001b[0;34m\u001b[0m\u001b[0m\n\u001b[1;32m     52\u001b[0m         \u001b[0;32mif\u001b[0m \u001b[0;32mnot\u001b[0m \u001b[0mBaseTranslator\u001b[0m\u001b[0;34m.\u001b[0m\u001b[0m__check_length\u001b[0m\u001b[0;34m(\u001b[0m\u001b[0mpayload\u001b[0m\u001b[0;34m,\u001b[0m \u001b[0mmin_chars\u001b[0m\u001b[0;34m,\u001b[0m \u001b[0mmax_chars\u001b[0m\u001b[0;34m)\u001b[0m\u001b[0;34m:\u001b[0m\u001b[0;34m\u001b[0m\u001b[0;34m\u001b[0m\u001b[0m\n\u001b[0;32m---> 53\u001b[0;31m             \u001b[0;32mraise\u001b[0m \u001b[0mNotValidLength\u001b[0m\u001b[0;34m(\u001b[0m\u001b[0mpayload\u001b[0m\u001b[0;34m,\u001b[0m \u001b[0mmin_chars\u001b[0m\u001b[0;34m,\u001b[0m \u001b[0mmax_chars\u001b[0m\u001b[0;34m)\u001b[0m\u001b[0;34m\u001b[0m\u001b[0;34m\u001b[0m\u001b[0m\n\u001b[0m\u001b[1;32m     54\u001b[0m         \u001b[0;32mreturn\u001b[0m \u001b[0;32mTrue\u001b[0m\u001b[0;34m\u001b[0m\u001b[0;34m\u001b[0m\u001b[0m\n\u001b[1;32m     55\u001b[0m \u001b[0;34m\u001b[0m\u001b[0m\n",
            "\u001b[0;31mNotValidLength\u001b[0m: <p><em><strong>Агропромышленный холдинг «МИРАТОРГ» - лидер России по производству и продаже продуктов питания.</strong></em></p> <ul> <li><strong>Первое место в рейтинге &quot;Привлекательных работодателей&quot; России в отрасли сельского хозяйства по версии Randstad Award в 2020г.</strong></li> <li><strong>Признаны &quot;Привлекательным работодателем&quot; по версии компании SuperJob в 2019 году</strong></li> </ul> <p><em>Ежегодно мы создаем тысячи новых рабочих мест, обеспечиваем успешных соискателей стабильной работой с достойной заработной платой, всеми социальными гарантиями и возможностями для профессионального роста.</em></p> <p><em><strong>Приглашаем кандидатов на вакантную позицию</strong></em></p> <p><strong>фельдшер</strong></p> <p> </p> <p><strong>НЕСКОЛЬКО ИНТЕРЕСНЫХ ФАКТОВ О НАС:</strong></p> <ul> <li>высокий уровень автоматизации производства</li> <li>установлено современное оборудование с учетом Российских и Международных стандартов</li> <li>имеем собственное производство замкнутого цикла - от посева, выращивания, производства и приготовления до выхода продукта на прилавок</li> </ul> <p><strong>ОСНОВНЫЕ ОБЯЗАННОСТИ:</strong></p> <ul> <li>Организация и проведение медицинских осмотров;</li> <li>Ведение личных карточек работников;</li> <li>Контроль за санитарными( медицинскими книжками);</li> <li>Ведение необходимой документации.</li> </ul> <p><strong>Требование:</strong></p> <ul> <li>Опыт работы в должности приветствуется;</li> <li>..."
          ]
        }
      ]
    },
    {
      "cell_type": "code",
      "metadata": {
        "id": "wnywOG42Lp3Q"
      },
      "source": [
        "jd_new_column(r'(?i)(требования|требование):.*?(?=(<strong>|<\\/ul>|обязанности|задачи|задачах|ищем.{1,25}которые\\s{1,}будут|что нужно делать|условия|предлагаем))', \n",
        "              r'(?i)(требования|требование).*?(\\.|обязанности|задачи|задачах|ищем.{1,25}которые\\s{1,}будут|что нужно делать|условия|предлагаем)',\n",
        "              r'(?i)(требования|требование).+',\n",
        "                       'requirements', df);"
      ],
      "execution_count": null,
      "outputs": []
    },
    {
      "cell_type": "code",
      "metadata": {
        "id": "gWsW7Z6tMHwm"
      },
      "source": [
        "jd_new_column(r'(?i)условия:.*?(?=(<strong>|<\\/ul>|обязанности|задачи|задачах|ищем.{1,25}которые\\s{1,}будут|что нужно делать|требование|требования))|предлагаем.*?(?=(<strong>|<\\/ul>|обязанности|задачи|задачах|ищем.{1,25}которые\\s{1,}будут|что нужно делать|требование|требования))', \n",
        "              r'(?i)условия.*?(\\.|обязанности|задачи|задачах|ищем.{1,25}которые\\s{1,}будут|что нужно делать|требование|требования)|предлагаем.*?(\\.|обязанности|задачи|задачах|ищем.{1,25}которые\\s{1,}будут|что нужно делать|требование|требования)',\n",
        "              r'(?i)условия.+|предлагаем.+',\n",
        "                       'conditions', df);"
      ],
      "execution_count": null,
      "outputs": []
    },
    {
      "cell_type": "code",
      "metadata": {
        "id": "0pANR_RPayT-"
      },
      "source": [
        "# Убираем из столбцов слова, по которым выделялись столбцы\n",
        "df['description_responsibilities'] = df['description_responsibilities'].apply(lambda x: re.sub(r'(?i)(обязанности:|обязанности|чем предстоит заниматься|задачи|задачах|ищем.{1,25}которые\\s{1,}будут|что нужно делать)', '', str(x)))\n",
        "df['description_requirements'] = df['description_requirements'].apply(lambda x: re.sub(r'(?i)(требования|требование)', '', str(x)))\n",
        "df['description_conditions'] = df['description_conditions'].apply(lambda x: re.sub(r'(?i)(условия|предлагаем)', '', str(x)))"
      ],
      "execution_count": null,
      "outputs": []
    },
    {
      "cell_type": "code",
      "metadata": {
        "colab": {
          "base_uri": "https://localhost:8080/",
          "height": 287
        },
        "id": "0wi2bTmxgjVJ",
        "outputId": "ddb51e8a-e399-4ec6-87fa-8d67a1d912e9"
      },
      "source": [
        "df[['description_responsibilities', 'description_requirements', 'description_conditions', 'description']].head()"
      ],
      "execution_count": null,
      "outputs": [
        {
          "data": {
            "text/html": [
              "<div>\n",
              "<style scoped>\n",
              "    .dataframe tbody tr th:only-of-type {\n",
              "        vertical-align: middle;\n",
              "    }\n",
              "\n",
              "    .dataframe tbody tr th {\n",
              "        vertical-align: top;\n",
              "    }\n",
              "\n",
              "    .dataframe thead th {\n",
              "        text-align: right;\n",
              "    }\n",
              "</style>\n",
              "<table border=\"1\" class=\"dataframe\">\n",
              "  <thead>\n",
              "    <tr style=\"text-align: right;\">\n",
              "      <th></th>\n",
              "      <th>description_responsibilities</th>\n",
              "      <th>description_requirements</th>\n",
              "      <th>description_conditions</th>\n",
              "      <th>description</th>\n",
              "    </tr>\n",
              "  </thead>\n",
              "  <tbody>\n",
              "    <tr>\n",
              "      <th>0</th>\n",
              "      <td>&lt;/strong&gt;&lt;/p&gt; &lt;ul&gt; &lt;li&gt;Организация и проведени...</td>\n",
              "      <td>:&lt;/strong&gt;&lt;/p&gt; &lt;ul&gt; &lt;li&gt;Опыт работы в должност...</td>\n",
              "      <td>:&lt;/strong&gt;&lt;/p&gt; &lt;ul&gt; &lt;li&gt;Официальное трудоустро...</td>\n",
              "      <td>&lt;p&gt;&lt;em&gt;&lt;strong&gt;Агропромышленный холдинг «МИРАТ...</td>\n",
              "    </tr>\n",
              "    <tr>\n",
              "      <th>1</th>\n",
              "      <td>&lt;/strong&gt;&lt;br /&gt;Доставлять банковские продукты,...</td>\n",
              "      <td>None</td>\n",
              "      <td>&lt;/strong&gt;&lt;/p&gt; &lt;ul&gt; &lt;li&gt;2/2 или 5/2. Дни, свобо...</td>\n",
              "      <td>&lt;p&gt;Тинькофф - первый онлайн банк в России. С 2...</td>\n",
              "    </tr>\n",
              "    <tr>\n",
              "      <th>2</th>\n",
              "      <td>&lt;/strong&gt;&lt;/p&gt; &lt;ul&gt; &lt;li&gt;Сварка кузовов и рам те...</td>\n",
              "      <td>:&lt;/strong&gt; &lt;ul&gt; &lt;li&gt;Опыт работы от 3х лет&lt;/li&gt;...</td>\n",
              "      <td>:&lt;/strong&gt; &lt;ul&gt; &lt;li&gt;Трудоустройство согласно Т...</td>\n",
              "      <td>&lt;p&gt;В Московскую область для работы вахтовым ме...</td>\n",
              "    </tr>\n",
              "    <tr>\n",
              "      <th>3</th>\n",
              "      <td>&lt;br /&gt;- Контроль и координация работы отдела;&lt;...</td>\n",
              "      <td>:&lt;br /&gt;- Опыт работы в продажах приветствуется...</td>\n",
              "      <td>:&lt;br /&gt;- Оплата без задержек, премии, бонусы;&lt;...</td>\n",
              "      <td>&lt;p&gt;&lt;br /&gt;- Работа в молодом, дружном коллектив...</td>\n",
              "    </tr>\n",
              "    <tr>\n",
              "      <th>4</th>\n",
              "      <td>&lt;/strong&gt; &lt;ul&gt; &lt;li&gt;ведение первичного учета&lt;/l...</td>\n",
              "      <td>:&lt;/strong&gt; &lt;ul&gt; &lt;li&gt;высшее образование&lt;/li&gt; &lt;l...</td>\n",
              "      <td>:&lt;/strong&gt; &lt;ul&gt; &lt;li&gt;5 дневный рабочий день&lt;/li...</td>\n",
              "      <td>&lt;strong&gt;&lt;/ul&gt; &lt;strong&gt;&lt;/ul&gt; &lt;strong&gt;&lt;/ul&gt;</td>\n",
              "    </tr>\n",
              "  </tbody>\n",
              "</table>\n",
              "</div>"
            ],
            "text/plain": [
              "                        description_responsibilities  ...                                        description\n",
              "0  </strong></p> <ul> <li>Организация и проведени...  ...  <p><em><strong>Агропромышленный холдинг «МИРАТ...\n",
              "1  </strong><br />Доставлять банковские продукты,...  ...  <p>Тинькофф - первый онлайн банк в России. С 2...\n",
              "2  </strong></p> <ul> <li>Сварка кузовов и рам те...  ...  <p>В Московскую область для работы вахтовым ме...\n",
              "3  <br />- Контроль и координация работы отдела;<...  ...  <p><br />- Работа в молодом, дружном коллектив...\n",
              "4  </strong> <ul> <li>ведение первичного учета</l...  ...          <strong></ul> <strong></ul> <strong></ul>\n",
              "\n",
              "[5 rows x 4 columns]"
            ]
          },
          "execution_count": 122,
          "metadata": {},
          "output_type": "execute_result"
        }
      ]
    },
    {
      "cell_type": "code",
      "metadata": {
        "colab": {
          "base_uri": "https://localhost:8080/",
          "height": 172
        },
        "id": "azvyPrRwTbiY",
        "outputId": "b265da27-3ab2-47b5-c185-2f2e76b6bb4f"
      },
      "source": [
        "df[['description_responsibilities', 'description_requirements', 'description_conditions', 'description']].describe()"
      ],
      "execution_count": null,
      "outputs": [
        {
          "data": {
            "text/html": [
              "<div>\n",
              "<style scoped>\n",
              "    .dataframe tbody tr th:only-of-type {\n",
              "        vertical-align: middle;\n",
              "    }\n",
              "\n",
              "    .dataframe tbody tr th {\n",
              "        vertical-align: top;\n",
              "    }\n",
              "\n",
              "    .dataframe thead th {\n",
              "        text-align: right;\n",
              "    }\n",
              "</style>\n",
              "<table border=\"1\" class=\"dataframe\">\n",
              "  <thead>\n",
              "    <tr style=\"text-align: right;\">\n",
              "      <th></th>\n",
              "      <th>description_responsibilities</th>\n",
              "      <th>description_requirements</th>\n",
              "      <th>description_conditions</th>\n",
              "      <th>description</th>\n",
              "    </tr>\n",
              "  </thead>\n",
              "  <tbody>\n",
              "    <tr>\n",
              "      <th>count</th>\n",
              "      <td>164916</td>\n",
              "      <td>164916</td>\n",
              "      <td>164916</td>\n",
              "      <td>164916</td>\n",
              "    </tr>\n",
              "    <tr>\n",
              "      <th>unique</th>\n",
              "      <td>104600</td>\n",
              "      <td>93793</td>\n",
              "      <td>101745</td>\n",
              "      <td>89042</td>\n",
              "    </tr>\n",
              "    <tr>\n",
              "      <th>top</th>\n",
              "      <td>None</td>\n",
              "      <td>None</td>\n",
              "      <td>None</td>\n",
              "      <td>&lt;strong&gt;&lt;/ul&gt; &lt;strong&gt;&lt;/ul&gt; &lt;strong&gt;&lt;/ul&gt;</td>\n",
              "    </tr>\n",
              "    <tr>\n",
              "      <th>freq</th>\n",
              "      <td>26498</td>\n",
              "      <td>41341</td>\n",
              "      <td>23392</td>\n",
              "      <td>27856</td>\n",
              "    </tr>\n",
              "  </tbody>\n",
              "</table>\n",
              "</div>"
            ],
            "text/plain": [
              "       description_responsibilities  ...                                description\n",
              "count                        164916  ...                                     164916\n",
              "unique                       104600  ...                                      89042\n",
              "top                            None  ...  <strong></ul> <strong></ul> <strong></ul>\n",
              "freq                          26498  ...                                      27856\n",
              "\n",
              "[4 rows x 4 columns]"
            ]
          },
          "execution_count": 123,
          "metadata": {},
          "output_type": "execute_result"
        }
      ]
    },
    {
      "cell_type": "code",
      "metadata": {
        "id": "FQ_CbjQGtrfQ"
      },
      "source": [
        "# def plot_dict(d: Dict, i: int, title: str):\n",
        "#   \"\"\"\n",
        "#   Создаём метод, который строит гистограмму для словаря\n",
        "#   Аргумент:\n",
        "#   d - словарь, который нужно изобразить на гистограмме\n",
        "#   i - номер строки в графике\n",
        "#   j - номер столбца в графике\n",
        "#   title - название графика\n",
        "#   \"\"\"\n",
        "#   keys = [x.strip() for x in list(d.keys())]\n",
        "#   vals = [(d[k]) for k in keys]\n",
        "#   sns.barplot(x=keys, y=vals, color='green', ax = ax[i])\n",
        "#   ax[i].set_title(title)\n",
        "#   ax[i].tick_params(labelrotation=45)"
      ],
      "execution_count": null,
      "outputs": []
    },
    {
      "cell_type": "code",
      "metadata": {
        "id": "5xWa0B2NsvcJ"
      },
      "source": [
        "# Считаем наиболее часто встречающиеся слова в описании вакансий, за исключением stopwords и небуквенных символов\n",
        "stopwords = nltk.corpus.stopwords.words('russian')\n",
        "symbols = ['<', '>', '...', ',', '-', '.', ';', ':', '«', '»', '!', '(', ')', '/', '–', '—', '&', 'li', '/li', 'strong', '/strong','p', '/p','ul', '/ul','quot', 'em', 'br', 'none', '•']\n",
        "morph = pymorphy2.MorphAnalyzer()\n",
        "def mostcommon(col: str, words: int) -> Dict:\n",
        "  \"\"\"\n",
        "  Создаём метод, который создаёт словарь из самых часто встречающихся слов в столбце\n",
        "  Аргументы:\n",
        "  col - название столбца, из которого берём слова\n",
        "  words - количество самых часто встречающихся слов\n",
        "  Возвращает:\n",
        "  most - словарь из самых часто встречающихся слов в столбце\n",
        "  \"\"\"\n",
        "  s = df[col].to_string()\n",
        "  allWords = nltk.tokenize.word_tokenize(s)\n",
        "  allWordExceptStopDist = nltk.FreqDist(morph.parse(w.lower())[0].normal_form for w in allWords if w.lower() not in symbols and w.lower() not in stopwords)\n",
        "  most = dict(Counter(allWordExceptStopDist).most_common(words))\n",
        "  return most"
      ],
      "execution_count": null,
      "outputs": []
    },
    {
      "cell_type": "code",
      "metadata": {
        "id": "olDWiniYl8fJ"
      },
      "source": [
        "description = mostcommon('description', 20)\n",
        "description_responsibilities = mostcommon('description_responsibilities', 20)\n",
        "description_requirements = mostcommon('description_requirements', 20)\n",
        "description_conditions = mostcommon('description_conditions', 20)"
      ],
      "execution_count": null,
      "outputs": []
    },
    {
      "cell_type": "code",
      "metadata": {
        "colab": {
          "base_uri": "https://localhost:8080/",
          "height": 314
        },
        "id": "R8qRGhPGrguo",
        "outputId": "7354fc1a-d69e-4cbc-fb1d-48139f12e310"
      },
      "source": [
        "# Строим распределения по словам (нормировка на количество вакансий всего)\n",
        "plot_dict(description)"
      ],
      "execution_count": null,
      "outputs": [
        {
          "data": {
            "image/png": "[encoded data removed]",
            "text/plain": [
              "<Figure size 432x288 with 1 Axes>"
            ]
          },
          "metadata": {},
          "output_type": "display_data"
        }
      ]
    },
    {
      "cell_type": "code",
      "metadata": {
        "colab": {
          "base_uri": "https://localhost:8080/",
          "height": 332
        },
        "id": "BBUOH5WdruN1",
        "outputId": "f07c6d0f-9963-42cc-99aa-8d9e8dfc72f2"
      },
      "source": [
        "plot_dict(description_responsibilities)"
      ],
      "execution_count": null,
      "outputs": [
        {
          "data": {
            "image/png": "[encoded data removed]",
            "text/plain": [
              "<Figure size 432x288 with 1 Axes>"
            ]
          },
          "metadata": {},
          "output_type": "display_data"
        }
      ]
    },
    {
      "cell_type": "code",
      "metadata": {
        "colab": {
          "base_uri": "https://localhost:8080/",
          "height": 335
        },
        "id": "lO_RYWcGr1kN",
        "outputId": "e6fc11f9-b029-4e2c-ee54-2bca0296b7ed"
      },
      "source": [
        "plot_dict(description_requirements)"
      ],
      "execution_count": null,
      "outputs": [
        {
          "data": {
            "image/png": "[encoded data removed]",
            "text/plain": [
              "<Figure size 432x288 with 1 Axes>"
            ]
          },
          "metadata": {},
          "output_type": "display_data"
        }
      ]
    },
    {
      "cell_type": "code",
      "metadata": {
        "colab": {
          "base_uri": "https://localhost:8080/",
          "height": 326
        },
        "id": "yu-ldHxsr5kt",
        "outputId": "2bb83863-b5ac-462e-b8de-34565436ac6e"
      },
      "source": [
        "plot_dict(description_conditions)"
      ],
      "execution_count": null,
      "outputs": [
        {
          "data": {
            "image/png": "[encoded data removed]",
            "text/plain": [
              "<Figure size 432x288 with 1 Axes>"
            ]
          },
          "metadata": {},
          "output_type": "display_data"
        }
      ]
    },
    {
      "cell_type": "code",
      "metadata": {
        "id": "L93H_IR9tvNl"
      },
      "source": [
        "# fig, ax = pyplot.subplots(nrows=4, ncols=1, figsize = (5, 30))\n",
        "# plot_dict(description, 0, 'description')\n",
        "# plot_dict(description_responsibilities, 1, 'description_responsibilities')\n",
        "# plot_dict(description_requirements, 2, 'description_requirements')\n",
        "# plot_dict(description_conditions, 3, 'description_conditions')"
      ],
      "execution_count": null,
      "outputs": []
    },
    {
      "cell_type": "code",
      "metadata": {
        "id": "eJPSFQk2Z-pc"
      },
      "source": [
        "# Разделяем столбец из строк на столбец из списков\n",
        "df['description_responsibilities'] = df['description_responsibilities'].apply(lambda x: re.split('<li>', str(x)))\n",
        "df['description_requirements'] = df['description_requirements'].apply(lambda x: re.split('<li>', str(x)))\n",
        "df['description_conditions'] = df['description_conditions'].apply(lambda x: re.split('<li>', str(x)))"
      ],
      "execution_count": null,
      "outputs": []
    },
    {
      "cell_type": "code",
      "metadata": {
        "id": "AGUl6Uuyx45j"
      },
      "source": [
        "def delete_code(x: list) -> list:\n",
        "  \"\"\"\n",
        "  Создаём метод, который сначала удаляет код из каждого элемента списка, а далее удаляет элементы, состоящие только из символов\n",
        "  Аргумент:\n",
        "  x - список с набором обязанностей/требований и т.д.\n",
        "  Возвращает:\n",
        "  x - очищенный от кода список\n",
        "  \"\"\"\n",
        "  x = [re.sub('(<.*?>|&quot)', '', el) for el in x]\n",
        "  for el in x:\n",
        "    if re.match(r\"^[! #$%&()*+,.\\/:;<=>?@[\\]^_`{|}~—\\\"\\-]*$\", el) is not None or el == 'None':\n",
        "      x.remove(el)\n",
        "  return x"
      ],
      "execution_count": null,
      "outputs": []
    },
    {
      "cell_type": "code",
      "metadata": {
        "id": "2TMRNHTUuL3b"
      },
      "source": [
        "df['description_responsibilities'] = df['description_responsibilities'].apply(delete_code)\n",
        "df['description_requirements'] = df['description_requirements'].apply(delete_code)\n",
        "df['description_conditions'] = df['description_conditions'].apply(delete_code)"
      ],
      "execution_count": null,
      "outputs": []
    },
    {
      "cell_type": "code",
      "metadata": {
        "id": "jR7EFKxH1Wzq"
      },
      "source": [
        "df['len_description_responsibilities'] = df['description_responsibilities'].apply(len)\n",
        "df['len_description_requirements'] = df['description_requirements'].apply(len)\n",
        "df['len_description_conditions'] = df['description_conditions'].apply(len)"
      ],
      "execution_count": null,
      "outputs": []
    },
    {
      "cell_type": "code",
      "metadata": {
        "colab": {
          "base_uri": "https://localhost:8080/",
          "height": 333
        },
        "id": "hd8thjNW3Te1",
        "outputId": "ff73799e-e575-455b-e008-ded4fb05beeb"
      },
      "source": [
        "# Строим распределения вакансий по количеству обязанностей, требований, условий\n",
        "fig, ax = pyplot.subplots(nrows=1, ncols=3, figsize=(20,5))\n",
        "sns.histplot(df['len_description_responsibilities'], binwidth = 1, ax=ax[0])\n",
        "sns.histplot(df['len_description_requirements'], binwidth = 1, ax=ax[1])\n",
        "sns.histplot(df['len_description_conditions'], binwidth = 1, ax=ax[2])"
      ],
      "execution_count": null,
      "outputs": [
        {
          "data": {
            "text/plain": [
              "<matplotlib.axes._subplots.AxesSubplot at 0x7f8199faafd0>"
            ]
          },
          "execution_count": 88,
          "metadata": {},
          "output_type": "execute_result"
        },
        {
          "data": {
            "image/png": "[encoded data removed]",
            "text/plain": [
              "<Figure size 1440x360 with 3 Axes>"
            ]
          },
          "metadata": {},
          "output_type": "display_data"
        }
      ]
    },
    {
      "cell_type": "code",
      "metadata": {
        "colab": {
          "base_uri": "https://localhost:8080/",
          "height": 287
        },
        "id": "nE3Xfua_QHdf",
        "outputId": "6b0d4a36-637e-4e39-de13-fbb0c1acb598"
      },
      "source": [
        "df[['description_responsibilities', 'description_requirements', 'description_conditions', 'description']].head()"
      ],
      "execution_count": null,
      "outputs": [
        {
          "data": {
            "text/html": [
              "<div>\n",
              "<style scoped>\n",
              "    .dataframe tbody tr th:only-of-type {\n",
              "        vertical-align: middle;\n",
              "    }\n",
              "\n",
              "    .dataframe tbody tr th {\n",
              "        vertical-align: top;\n",
              "    }\n",
              "\n",
              "    .dataframe thead th {\n",
              "        text-align: right;\n",
              "    }\n",
              "</style>\n",
              "<table border=\"1\" class=\"dataframe\">\n",
              "  <thead>\n",
              "    <tr style=\"text-align: right;\">\n",
              "      <th></th>\n",
              "      <th>description_responsibilities</th>\n",
              "      <th>description_requirements</th>\n",
              "      <th>description_conditions</th>\n",
              "      <th>description</th>\n",
              "    </tr>\n",
              "  </thead>\n",
              "  <tbody>\n",
              "    <tr>\n",
              "      <th>0</th>\n",
              "      <td>[Организация и проведение медицинских осмотров...</td>\n",
              "      <td>[Опыт работы в должности приветствуется; , Нал...</td>\n",
              "      <td>[Официальное трудоустройство (оплата больничны...</td>\n",
              "      <td>&lt;p&gt;&lt;em&gt;&lt;strong&gt;Агропромышленный холдинг «МИРАТ...</td>\n",
              "    </tr>\n",
              "    <tr>\n",
              "      <th>1</th>\n",
              "      <td>[Доставлять банковские продукты, подписывать д...</td>\n",
              "      <td>[]</td>\n",
              "      <td>[2/2 или 5/2. Дни, свободные от выполнения раб...</td>\n",
              "      <td>&lt;p&gt;Тинькофф - первый онлайн банк в России. С 2...</td>\n",
              "    </tr>\n",
              "    <tr>\n",
              "      <th>2</th>\n",
              "      <td>[Сварка кузовов и рам тележек вагонов метро , ...</td>\n",
              "      <td>[Опыт работы от 3х лет , Наличие подтверждения...</td>\n",
              "      <td>[Трудоустройство согласно ТК РФ , Суточные с п...</td>\n",
              "      <td>&lt;p&gt;В Московскую область для работы вахтовым ме...</td>\n",
              "    </tr>\n",
              "    <tr>\n",
              "      <th>3</th>\n",
              "      <td>[- Контроль и координация работы отдела;- Выпо...</td>\n",
              "      <td>[:- Опыт работы в продажах приветствуется;- Ко...</td>\n",
              "      <td>[:- Оплата без задержек, премии, бонусы;- Полн...</td>\n",
              "      <td>&lt;p&gt;&lt;br /&gt;- Работа в молодом, дружном коллектив...</td>\n",
              "    </tr>\n",
              "    <tr>\n",
              "      <th>4</th>\n",
              "      <td>[ведение первичного учета , работа с банком и ...</td>\n",
              "      <td>[высшее образование , опыт работы в бухучете б...</td>\n",
              "      <td>[5 дневный рабочий день , оклад ]</td>\n",
              "      <td>&lt;strong&gt;&lt;/ul&gt; &lt;strong&gt;&lt;/ul&gt; &lt;strong&gt;&lt;/ul&gt;</td>\n",
              "    </tr>\n",
              "  </tbody>\n",
              "</table>\n",
              "</div>"
            ],
            "text/plain": [
              "                        description_responsibilities  ...                                        description\n",
              "0  [Организация и проведение медицинских осмотров...  ...  <p><em><strong>Агропромышленный холдинг «МИРАТ...\n",
              "1  [Доставлять банковские продукты, подписывать д...  ...  <p>Тинькофф - первый онлайн банк в России. С 2...\n",
              "2  [Сварка кузовов и рам тележек вагонов метро , ...  ...  <p>В Московскую область для работы вахтовым ме...\n",
              "3  [- Контроль и координация работы отдела;- Выпо...  ...  <p><br />- Работа в молодом, дружном коллектив...\n",
              "4  [ведение первичного учета , работа с банком и ...  ...          <strong></ul> <strong></ul> <strong></ul>\n",
              "\n",
              "[5 rows x 4 columns]"
            ]
          },
          "execution_count": 68,
          "metadata": {},
          "output_type": "execute_result"
        }
      ]
    },
    {
      "cell_type": "code",
      "metadata": {
        "id": "eJM3XIJ8h8Gb"
      },
      "source": [
        "df[['description', 'description_responsibilities', 'description_requirements', 'description_conditions']].to_csv('dataframe.csv', index=False)"
      ],
      "execution_count": null,
      "outputs": []
    }
  ]
}