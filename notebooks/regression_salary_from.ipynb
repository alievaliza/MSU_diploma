{
 "cells": [
  {
   "cell_type": "markdown",
   "metadata": {
    "id": "keqD5IhxW5HG"
   },
   "source": [
    "<a id='ксодержанию'></a>\n",
    "# Содержание\n",
    "* [Импорт библиотек](#Импортбиблиотек)\n",
    "* [Загрузка данных](#Загрузкаданных)\n",
    "* [Модели](#Модели)\n",
    "  + [raw_desc_tfidf_Ridge](#raw_desc_tfidf_Ridge)\n",
    "    - [Моделируем](#Моделируемraw_desc_tfidf_Ridge)\n",
    "    - [Отчёт](#Отчётraw_desc_tfidf_Ridge)\n",
    "  + [raw_desc_tfidf_Ridge_merged_df](#raw_desc_tfidf_Ridge_merged_df)\n",
    "    - [Моделируем](#Моделируемraw_desc_tfidf_Ridge_merged_df)\n",
    "    - [Отчёт](#Отчётraw_desc_tfidf_Ridge_merged_df)\n",
    "  + [raw_desc_tfidf_Ridge_only_Russia](#raw_desc_tfidf_Ridge_only_Russia)\n",
    "    - [Моделируем](#Моделируемraw_desc_tfidf_Ridge_only_Russia)\n",
    "    - [Отчёт](#Отчётraw_desc_tfidf_Ridge_only_Russia)\n",
    "  + [lem_desc_resp_con_tfidf_Ridge_10_Rus](#lem_desc_resp_con_tfidf_Ridge_10_Rus)\n",
    "    - [Моделируем](#Моделируемlem_desc_resp_con_tfidf_Ridge_10_Rus)\n",
    "    - [Отчёт](#Отчётlem_desc_resp_con_tfidf_Ridge_10_Rus)\n",
    "  + [lem_desc_emb213_Ridge](#lem_desc_emb213_Ridge)\n",
    "    - [Моделируем](#Моделируемlem_desc_emb213_Ridge)\n",
    "    - [Отчёт](#Отчётlem_desc_emb213_Ridge)\n",
    "  + [lem_desc_emb213_Ridge](#lem_desc_emb213_Ridge)\n",
    "    - [Моделируем](#Моделируемlem_desc_emb213_Ridge)\n",
    "    - [Отчёт](#Отчётlem_desc_emb213_Ridge)\n",
    "  + [lem_desc_emb213_Ridge_ruandRus](#lem_desc_emb213_Ridge_ruandRus)\n",
    "    - [Моделируем](#Моделируемlem_desc_emb213_Ridge_ruandRus)\n",
    "    - [Отчёт](#Отчётlem_desc_emb213_Ridge_ruandRus)   \n",
    "  + [lem_desc_emb214_Ridge_Rus](#lem_desc_emb214_Ridge_Rus)\n",
    "    - [Моделируем](#Моделируемlem_desc_emb214_Ridge_Rus)\n",
    "    - [Отчёт](#Отчётlem_desc_emb214_Ridge_Rus)     \n",
    "  + [lem_desc_emb187_Ridge_Rus](#lem_desc_emb187_Ridge_Rus)\n",
    "    - [Моделируем](#Моделируемlem_desc_emb187_Ridge_Rus)\n",
    "    - [Отчёт](#Отчётlem_desc_emb187_Ridge_Rus)     \n",
    "  + [raw_desc_deeppavlov_Ridge](#raw_desc_deeppavlov_Ridge)\n",
    "    - [Моделируем](#Моделируемraw_desc_deeppavlov_Ridge)\n",
    "    - [Отчёт](#Отчётraw_desc_deeppavlov_Ridge)    \n",
    "  + [raw_desc_sberbank-ai_sbert_large_nlu_ru_Ridge](#raw_desc_sberbank-ai_sbert_large_nlu_ru_Ridge)\n",
    "    - [Моделируем](#Моделируемraw_desc_sberbank-ai_sbert_large_nlu_ru_Ridge)\n",
    "    - [Отчёт](#Отчётraw_desc_sberbank-ai_sbert_large_nlu_ru_Ridge)     "
   ]
  },
  {
   "cell_type": "markdown",
   "metadata": {
    "id": "s3btt-ewy5w1"
   },
   "source": [
    "<a id='Импортбиблиотек'></a> \n",
    "# Импорт библиотек\n",
    "[к содержанию](#ксодержанию)"
   ]
  },
  {
   "cell_type": "code",
   "execution_count": 34,
   "metadata": {
    "id": "hoAVmnR99-UO"
   },
   "outputs": [],
   "source": [
    "import pandas as pd\n",
    "from sklearn.linear_model import Ridge\n",
    "from sklearn.model_selection import train_test_split\n",
    "from sklearn.feature_extraction.text import TfidfVectorizer\n",
    "import joblib\n",
    "from sklearn.metrics import mean_absolute_error\n",
    "import numpy as np\n",
    "import sys, os\n",
    "import pickle\n",
    "import scipy.sparse as sp\n",
    "import zipfile\n",
    "import wget\n",
    "import gensim\n",
    "import numpy as np\n",
    "from collections import defaultdict"
   ]
  },
  {
   "cell_type": "markdown",
   "metadata": {
    "id": "hJXDIl5h5l0B"
   },
   "source": [
    "<a id='Загрузкаданных'></a>\n",
    "# Загрузка данных\n",
    "[к содержанию](#ксодержанию)"
   ]
  },
  {
   "cell_type": "code",
   "execution_count": 3,
   "metadata": {
    "colab": {
     "base_uri": "https://localhost:8080/"
    },
    "id": "_-Xwf56a-7ob",
    "outputId": "0300a6c7-8cf9-44a1-f398-a0f6f61e53b6"
   },
   "outputs": [
    {
     "name": "stdout",
     "output_type": "stream",
     "text": [
      "Downloading...\n",
      "From: https://drive.google.com/uc?id=1A-59GMNuJWbrbCc17zvBPkOycSdCBdCA\n",
      "To: /content/vacancies_lemmatized.csv\n",
      "100% 902M/902M [00:09<00:00, 94.1MB/s]\n",
      "Downloading...\n",
      "From: https://drive.google.com/uc?id=1G5OXqdq9rQo7XWqdAk2FO3uXbQiymNw0\n",
      "To: /content/hhparser_vacancy.csv\n",
      "100% 313M/313M [00:04<00:00, 75.1MB/s]\n"
     ]
    },
    {
     "name": "stderr",
     "output_type": "stream",
     "text": [
      "/usr/local/lib/python3.7/dist-packages/ipykernel_launcher.py:11: SettingWithCopyWarning: \n",
      "A value is trying to be set on a copy of a slice from a DataFrame\n",
      "\n",
      "See the caveats in the documentation: https://pandas.pydata.org/pandas-docs/stable/user_guide/indexing.html#returning-a-view-versus-a-copy\n",
      "  # This is added back by InteractiveShellApp.init_path()\n",
      "/usr/local/lib/python3.7/dist-packages/pandas/core/series.py:1021: SettingWithCopyWarning: \n",
      "A value is trying to be set on a copy of a slice from a DataFrame\n",
      "\n",
      "See the caveats in the documentation: https://pandas.pydata.org/pandas-docs/stable/user_guide/indexing.html#returning-a-view-versus-a-copy\n",
      "  self._where(~key, value, inplace=True)\n"
     ]
    }
   ],
   "source": [
    "!gdown --id 1A-59GMNuJWbrbCc17zvBPkOycSdCBdCA\n",
    "!gdown --id 1G5OXqdq9rQo7XWqdAk2FO3uXbQiymNw0\n",
    "df = pd.read_csv('vacancies_lemmatized.csv')\n",
    "df2 = pd.read_csv('hhparser_vacancy.csv')\n",
    "df2['raw_description'] = df2['description']\n",
    "df2.loc[(df2['salary_gross'] == False), 'salary_from'] = df2['salary_from'] / 0.87\n",
    "df = df[df['language'] == 'ru']"
   ]
  },
  {
   "cell_type": "code",
   "execution_count": 3,
   "metadata": {},
   "outputs": [],
   "source": [
    "sys.path.append(os.path.abspath('../'))\n",
    "from src.models import utils"
   ]
  },
  {
   "cell_type": "code",
   "execution_count": 8,
   "metadata": {},
   "outputs": [
    {
     "name": "stderr",
     "output_type": "stream",
     "text": [
      "C:\\Users\\Lisa\\MSU_diploma\\src\\models\\utils.py:23: SettingWithCopyWarning: \n",
      "A value is trying to be set on a copy of a slice from a DataFrame\n",
      "\n",
      "See the caveats in the documentation: https://pandas.pydata.org/pandas-docs/stable/user_guide/indexing.html#returning-a-view-versus-a-copy\n",
      "  df['salary_from'][df['salary_currency'] == curr] = df['salary_from'][df['salary_currency'] == curr].apply(lambda x: x*currency[curr])\n"
     ]
    }
   ],
   "source": [
    "utils.salary_process(df)"
   ]
  },
  {
   "cell_type": "markdown",
   "metadata": {
    "id": "9CHg1suEyD6I"
   },
   "source": [
    "<a id='Модели'></a>\n",
    "# Модели\n",
    "[к содержанию](#ксодержанию)"
   ]
  },
  {
   "cell_type": "markdown",
   "metadata": {
    "id": "W3T33ThsyDJS"
   },
   "source": [
    "<a id='raw_desc_tfidf_Ridge'></a>\n",
    "## raw_desc_tfidf_Ridge\n",
    "[к содержанию](#ксодержанию)"
   ]
  },
  {
   "cell_type": "markdown",
   "metadata": {
    "id": "Qan83eP3q3HL"
   },
   "source": [
    "<a id='Моделируемraw_desc_tfidf_Ridge'></a>\n",
    "### Моделируем\n",
    "[к содержанию](#ксодержанию)"
   ]
  },
  {
   "cell_type": "code",
   "execution_count": 4,
   "metadata": {
    "id": "k2r7_y7eo8Z_"
   },
   "outputs": [],
   "source": [
    "X = df[['raw_description', 'salary_from']].dropna()\n",
    "X_train, X_test, y_train, y_test = train_test_split(X[['raw_description']], X['salary_from'], test_size=0.2, random_state=42)"
   ]
  },
  {
   "cell_type": "code",
   "execution_count": 5,
   "metadata": {
    "id": "mGaN4Ifwo8aA"
   },
   "outputs": [],
   "source": [
    "tfidf = TfidfVectorizer(sublinear_tf=True, min_df=5,\n",
    "                        ngram_range=(1, 2), \n",
    "                        stop_words={'russian', 'english'}, max_features=14000)\n",
    "tfidf.fit(X_train['raw_description'])\n",
    "features = tfidf.transform(X_train['raw_description'])"
   ]
  },
  {
   "cell_type": "code",
   "execution_count": 6,
   "metadata": {
    "id": "2_Ow5gjho8aB"
   },
   "outputs": [],
   "source": [
    "# Сохраняем tfidf.vocabulary_\n",
    "pickle.dump(tfidf.vocabulary_,open(\"raw_desc_tfidf_14000.pkl\",\"wb\"))"
   ]
  },
  {
   "cell_type": "code",
   "execution_count": 7,
   "metadata": {
    "id": "2E6Pjlj9o8aC"
   },
   "outputs": [],
   "source": [
    "del X_train"
   ]
  },
  {
   "cell_type": "code",
   "execution_count": 8,
   "metadata": {
    "colab": {
     "base_uri": "https://localhost:8080/"
    },
    "id": "X70d6I1uo8aD",
    "outputId": "bafa76f6-e190-412b-9a42-2eaee09100f1"
   },
   "outputs": [
    {
     "data": {
      "text/plain": [
       "Ridge()"
      ]
     },
     "execution_count": 8,
     "metadata": {},
     "output_type": "execute_result"
    }
   ],
   "source": [
    "model = Ridge()\n",
    "model.fit(features, y_train)"
   ]
  },
  {
   "cell_type": "code",
   "execution_count": 9,
   "metadata": {
    "id": "T4jtKsW_o8aD"
   },
   "outputs": [],
   "source": [
    "del features"
   ]
  },
  {
   "cell_type": "code",
   "execution_count": 10,
   "metadata": {
    "id": "gkdW8BIEo8aE"
   },
   "outputs": [],
   "source": [
    "features_test = tfidf.transform(X_test['raw_description'])"
   ]
  },
  {
   "cell_type": "code",
   "execution_count": 11,
   "metadata": {
    "id": "OdsLFFYTo8aE"
   },
   "outputs": [],
   "source": [
    "y_pred = model.predict(features_test)"
   ]
  },
  {
   "cell_type": "code",
   "execution_count": 12,
   "metadata": {
    "colab": {
     "base_uri": "https://localhost:8080/"
    },
    "id": "K3xzvgcbo8aE",
    "outputId": "26628b87-7efd-497e-d4b1-091c038ecffe"
   },
   "outputs": [
    {
     "data": {
      "text/plain": [
       "['y_pred_raw_desc_tfidf_Ridge_prof_area.pkl']"
      ]
     },
     "execution_count": 12,
     "metadata": {},
     "output_type": "execute_result"
    }
   ],
   "source": [
    "# Сохраняем модель и y_pred\n",
    "joblib.dump(model, 'raw_desc_tfidf_Ridge.pkl', compress=8)\n",
    "joblib.dump(y_pred, 'y_pred_raw_desc_tfidf_Ridge.pkl')"
   ]
  },
  {
   "cell_type": "markdown",
   "metadata": {
    "id": "hbjS_gBqqwdr"
   },
   "source": [
    "<a id='Отчётraw_desc_tfidf_Ridge'></a>\n",
    "### Отчёт\n",
    "[к содержанию](#ксодержанию)"
   ]
  },
  {
   "cell_type": "code",
   "execution_count": 14,
   "metadata": {
    "id": "uUY6pZFpFtyI"
   },
   "outputs": [],
   "source": [
    "regression_report, salary = utils.report_regression(df[['salary_from', 'prof_area']].dropna(), y_test, y_pred, 'prof_area')"
   ]
  },
  {
   "cell_type": "code",
   "execution_count": 32,
   "metadata": {
    "colab": {
     "base_uri": "https://localhost:8080/",
     "height": 958
    },
    "id": "ipY_IpJhEf42",
    "outputId": "9183115a-ffda-4d10-f0ad-9ca6e2619d0f"
   },
   "outputs": [
    {
     "data": {
      "text/html": [
       "<style  type=\"text/css\" >\n",
       "#T_13af27d6_731f_11ec_b253_0242ac1c0002row0_col0,#T_13af27d6_731f_11ec_b253_0242ac1c0002row9_col0,#T_13af27d6_731f_11ec_b253_0242ac1c0002row21_col2,#T_13af27d6_731f_11ec_b253_0242ac1c0002row23_col2{\n",
       "            background-color:  #faf3f9;\n",
       "            color:  #000000;\n",
       "        }#T_13af27d6_731f_11ec_b253_0242ac1c0002row0_col1,#T_13af27d6_731f_11ec_b253_0242ac1c0002row13_col0,#T_13af27d6_731f_11ec_b253_0242ac1c0002row17_col0,#T_13af27d6_731f_11ec_b253_0242ac1c0002row23_col0,#T_13af27d6_731f_11ec_b253_0242ac1c0002row28_col0{\n",
       "            background-color:  #f5eef6;\n",
       "            color:  #000000;\n",
       "        }#T_13af27d6_731f_11ec_b253_0242ac1c0002row0_col2,#T_13af27d6_731f_11ec_b253_0242ac1c0002row12_col0,#T_13af27d6_731f_11ec_b253_0242ac1c0002row20_col0,#T_13af27d6_731f_11ec_b253_0242ac1c0002row20_col2{\n",
       "            background-color:  #fbf3f9;\n",
       "            color:  #000000;\n",
       "        }#T_13af27d6_731f_11ec_b253_0242ac1c0002row1_col0,#T_13af27d6_731f_11ec_b253_0242ac1c0002row8_col2,#T_13af27d6_731f_11ec_b253_0242ac1c0002row10_col2,#T_13af27d6_731f_11ec_b253_0242ac1c0002row13_col2{\n",
       "            background-color:  #f6eff7;\n",
       "            color:  #000000;\n",
       "        }#T_13af27d6_731f_11ec_b253_0242ac1c0002row1_col1{\n",
       "            background-color:  #b5c4df;\n",
       "            color:  #000000;\n",
       "        }#T_13af27d6_731f_11ec_b253_0242ac1c0002row1_col2{\n",
       "            background-color:  #f1ebf5;\n",
       "            color:  #000000;\n",
       "        }#T_13af27d6_731f_11ec_b253_0242ac1c0002row2_col0,#T_13af27d6_731f_11ec_b253_0242ac1c0002row15_col1,#T_13af27d6_731f_11ec_b253_0242ac1c0002row22_col1,#T_13af27d6_731f_11ec_b253_0242ac1c0002row26_col1{\n",
       "            background-color:  #f7f0f7;\n",
       "            color:  #000000;\n",
       "        }#T_13af27d6_731f_11ec_b253_0242ac1c0002row2_col1,#T_13af27d6_731f_11ec_b253_0242ac1c0002row3_col0,#T_13af27d6_731f_11ec_b253_0242ac1c0002row4_col2,#T_13af27d6_731f_11ec_b253_0242ac1c0002row14_col1{\n",
       "            background-color:  #f0eaf4;\n",
       "            color:  #000000;\n",
       "        }#T_13af27d6_731f_11ec_b253_0242ac1c0002row2_col2{\n",
       "            background-color:  #bdc8e1;\n",
       "            color:  #000000;\n",
       "        }#T_13af27d6_731f_11ec_b253_0242ac1c0002row3_col1{\n",
       "            background-color:  #76aad0;\n",
       "            color:  #000000;\n",
       "        }#T_13af27d6_731f_11ec_b253_0242ac1c0002row3_col2,#T_13af27d6_731f_11ec_b253_0242ac1c0002row7_col0{\n",
       "            background-color:  #ede7f2;\n",
       "            color:  #000000;\n",
       "        }#T_13af27d6_731f_11ec_b253_0242ac1c0002row4_col0,#T_13af27d6_731f_11ec_b253_0242ac1c0002row11_col0{\n",
       "            background-color:  #f4eef6;\n",
       "            color:  #000000;\n",
       "        }#T_13af27d6_731f_11ec_b253_0242ac1c0002row4_col1{\n",
       "            background-color:  #d9d8ea;\n",
       "            color:  #000000;\n",
       "        }#T_13af27d6_731f_11ec_b253_0242ac1c0002row5_col0,#T_13af27d6_731f_11ec_b253_0242ac1c0002row26_col2{\n",
       "            background-color:  #fef6fa;\n",
       "            color:  #000000;\n",
       "        }#T_13af27d6_731f_11ec_b253_0242ac1c0002row5_col1,#T_13af27d6_731f_11ec_b253_0242ac1c0002row11_col1{\n",
       "            background-color:  #e3e0ee;\n",
       "            color:  #000000;\n",
       "        }#T_13af27d6_731f_11ec_b253_0242ac1c0002row5_col2,#T_13af27d6_731f_11ec_b253_0242ac1c0002row11_col2,#T_13af27d6_731f_11ec_b253_0242ac1c0002row16_col2{\n",
       "            background-color:  #f9f2f8;\n",
       "            color:  #000000;\n",
       "        }#T_13af27d6_731f_11ec_b253_0242ac1c0002row6_col0,#T_13af27d6_731f_11ec_b253_0242ac1c0002row19_col2,#T_13af27d6_731f_11ec_b253_0242ac1c0002row25_col0{\n",
       "            background-color:  #e8e4f0;\n",
       "            color:  #000000;\n",
       "        }#T_13af27d6_731f_11ec_b253_0242ac1c0002row6_col1{\n",
       "            background-color:  #cacee5;\n",
       "            color:  #000000;\n",
       "        }#T_13af27d6_731f_11ec_b253_0242ac1c0002row6_col2{\n",
       "            background-color:  #ebe6f2;\n",
       "            color:  #000000;\n",
       "        }#T_13af27d6_731f_11ec_b253_0242ac1c0002row7_col1{\n",
       "            background-color:  #c4cbe3;\n",
       "            color:  #000000;\n",
       "        }#T_13af27d6_731f_11ec_b253_0242ac1c0002row7_col2{\n",
       "            background-color:  #d4d4e8;\n",
       "            color:  #000000;\n",
       "        }#T_13af27d6_731f_11ec_b253_0242ac1c0002row8_col0,#T_13af27d6_731f_11ec_b253_0242ac1c0002row20_col1,#T_13af27d6_731f_11ec_b253_0242ac1c0002row26_col0,#T_13af27d6_731f_11ec_b253_0242ac1c0002row27_col2{\n",
       "            background-color:  #fff7fb;\n",
       "            color:  #000000;\n",
       "        }#T_13af27d6_731f_11ec_b253_0242ac1c0002row8_col1{\n",
       "            background-color:  #d1d2e6;\n",
       "            color:  #000000;\n",
       "        }#T_13af27d6_731f_11ec_b253_0242ac1c0002row9_col1{\n",
       "            background-color:  #e0dded;\n",
       "            color:  #000000;\n",
       "        }#T_13af27d6_731f_11ec_b253_0242ac1c0002row9_col2,#T_13af27d6_731f_11ec_b253_0242ac1c0002row27_col0{\n",
       "            background-color:  #f8f1f8;\n",
       "            color:  #000000;\n",
       "        }#T_13af27d6_731f_11ec_b253_0242ac1c0002row10_col0{\n",
       "            background-color:  #f3edf5;\n",
       "            color:  #000000;\n",
       "        }#T_13af27d6_731f_11ec_b253_0242ac1c0002row10_col1{\n",
       "            background-color:  #c5cce3;\n",
       "            color:  #000000;\n",
       "        }#T_13af27d6_731f_11ec_b253_0242ac1c0002row12_col1{\n",
       "            background-color:  #ced0e6;\n",
       "            color:  #000000;\n",
       "        }#T_13af27d6_731f_11ec_b253_0242ac1c0002row12_col2,#T_13af27d6_731f_11ec_b253_0242ac1c0002row14_col0,#T_13af27d6_731f_11ec_b253_0242ac1c0002row14_col2{\n",
       "            background-color:  #f4edf6;\n",
       "            color:  #000000;\n",
       "        }#T_13af27d6_731f_11ec_b253_0242ac1c0002row13_col1{\n",
       "            background-color:  #e7e3f0;\n",
       "            color:  #000000;\n",
       "        }#T_13af27d6_731f_11ec_b253_0242ac1c0002row15_col0{\n",
       "            background-color:  #eee8f3;\n",
       "            color:  #000000;\n",
       "        }#T_13af27d6_731f_11ec_b253_0242ac1c0002row15_col2,#T_13af27d6_731f_11ec_b253_0242ac1c0002row18_col2{\n",
       "            background-color:  #fbf4f9;\n",
       "            color:  #000000;\n",
       "        }#T_13af27d6_731f_11ec_b253_0242ac1c0002row16_col0,#T_13af27d6_731f_11ec_b253_0242ac1c0002row22_col0{\n",
       "            background-color:  #f5eff6;\n",
       "            color:  #000000;\n",
       "        }#T_13af27d6_731f_11ec_b253_0242ac1c0002row16_col1,#T_13af27d6_731f_11ec_b253_0242ac1c0002row18_col0,#T_13af27d6_731f_11ec_b253_0242ac1c0002row18_col1,#T_13af27d6_731f_11ec_b253_0242ac1c0002row27_col1{\n",
       "            background-color:  #f2ecf5;\n",
       "            color:  #000000;\n",
       "        }#T_13af27d6_731f_11ec_b253_0242ac1c0002row17_col1{\n",
       "            background-color:  #dedcec;\n",
       "            color:  #000000;\n",
       "        }#T_13af27d6_731f_11ec_b253_0242ac1c0002row17_col2{\n",
       "            background-color:  #eae6f1;\n",
       "            color:  #000000;\n",
       "        }#T_13af27d6_731f_11ec_b253_0242ac1c0002row19_col0{\n",
       "            background-color:  #e4e1ef;\n",
       "            color:  #000000;\n",
       "        }#T_13af27d6_731f_11ec_b253_0242ac1c0002row19_col1{\n",
       "            background-color:  #04588a;\n",
       "            color:  #f1f1f1;\n",
       "        }#T_13af27d6_731f_11ec_b253_0242ac1c0002row21_col0,#T_13af27d6_731f_11ec_b253_0242ac1c0002row22_col2{\n",
       "            background-color:  #fcf4fa;\n",
       "            color:  #000000;\n",
       "        }#T_13af27d6_731f_11ec_b253_0242ac1c0002row21_col1,#T_13af27d6_731f_11ec_b253_0242ac1c0002row28_col1{\n",
       "            background-color:  #dad9ea;\n",
       "            color:  #000000;\n",
       "        }#T_13af27d6_731f_11ec_b253_0242ac1c0002row23_col1{\n",
       "            background-color:  #e1dfed;\n",
       "            color:  #000000;\n",
       "        }#T_13af27d6_731f_11ec_b253_0242ac1c0002row24_col0,#T_13af27d6_731f_11ec_b253_0242ac1c0002row24_col1,#T_13af27d6_731f_11ec_b253_0242ac1c0002row24_col2{\n",
       "            background-color:  #023858;\n",
       "            color:  #f1f1f1;\n",
       "        }#T_13af27d6_731f_11ec_b253_0242ac1c0002row25_col1{\n",
       "            background-color:  #d6d6e9;\n",
       "            color:  #000000;\n",
       "        }#T_13af27d6_731f_11ec_b253_0242ac1c0002row25_col2{\n",
       "            background-color:  #d8d7e9;\n",
       "            color:  #000000;\n",
       "        }#T_13af27d6_731f_11ec_b253_0242ac1c0002row28_col2{\n",
       "            background-color:  #e0deed;\n",
       "            color:  #000000;\n",
       "        }</style><table id=\"T_13af27d6_731f_11ec_b253_0242ac1c0002\" class=\"dataframe\"><thead>    <tr>        <th class=\"blank level0\" ></th>        <th class=\"col_heading level0 col0\" >MAE</th>        <th class=\"col_heading level0 col1\" >salary_from_mean</th>        <th class=\"col_heading level0 col2\" >salary_from_std</th>    </tr></thead><tbody>\n",
       "                <tr>\n",
       "                        <th id=\"T_13af27d6_731f_11ec_b253_0242ac1c0002level0_row0\" class=\"row_heading level0 row0\" >Административный персонал</th>\n",
       "                        <td id=\"T_13af27d6_731f_11ec_b253_0242ac1c0002row0_col0\" class=\"data row0 col0\" >14,686.0</td>\n",
       "                        <td id=\"T_13af27d6_731f_11ec_b253_0242ac1c0002row0_col1\" class=\"data row0 col1\" >34,107.2</td>\n",
       "                        <td id=\"T_13af27d6_731f_11ec_b253_0242ac1c0002row0_col2\" class=\"data row0 col2\" >19,094.3</td>\n",
       "            </tr>\n",
       "            <tr>\n",
       "                        <th id=\"T_13af27d6_731f_11ec_b253_0242ac1c0002level0_row1\" class=\"row_heading level0 row1\" >Транспорт, логистика</th>\n",
       "                        <td id=\"T_13af27d6_731f_11ec_b253_0242ac1c0002row1_col0\" class=\"data row1 col0\" >17,231.7</td>\n",
       "                        <td id=\"T_13af27d6_731f_11ec_b253_0242ac1c0002row1_col1\" class=\"data row1 col1\" >56,083.3</td>\n",
       "                        <td id=\"T_13af27d6_731f_11ec_b253_0242ac1c0002row1_col2\" class=\"data row1 col2\" >36,173.1</td>\n",
       "            </tr>\n",
       "            <tr>\n",
       "                        <th id=\"T_13af27d6_731f_11ec_b253_0242ac1c0002level0_row2\" class=\"row_heading level0 row2\" >Продажи</th>\n",
       "                        <td id=\"T_13af27d6_731f_11ec_b253_0242ac1c0002row2_col0\" class=\"data row2 col0\" >16,777.2</td>\n",
       "                        <td id=\"T_13af27d6_731f_11ec_b253_0242ac1c0002row2_col1\" class=\"data row2 col1\" >36,663.7</td>\n",
       "                        <td id=\"T_13af27d6_731f_11ec_b253_0242ac1c0002row2_col2\" class=\"data row2 col2\" >94,863.2</td>\n",
       "            </tr>\n",
       "            <tr>\n",
       "                        <th id=\"T_13af27d6_731f_11ec_b253_0242ac1c0002level0_row3\" class=\"row_heading level0 row3\" >Строительство, недвижимость</th>\n",
       "                        <td id=\"T_13af27d6_731f_11ec_b253_0242ac1c0002row3_col0\" class=\"data row3 col0\" >20,637.8</td>\n",
       "                        <td id=\"T_13af27d6_731f_11ec_b253_0242ac1c0002row3_col1\" class=\"data row3 col1\" >69,788.8</td>\n",
       "                        <td id=\"T_13af27d6_731f_11ec_b253_0242ac1c0002row3_col2\" class=\"data row3 col2\" >45,062.1</td>\n",
       "            </tr>\n",
       "            <tr>\n",
       "                        <th id=\"T_13af27d6_731f_11ec_b253_0242ac1c0002level0_row4\" class=\"row_heading level0 row4\" >Управление персоналом, тренинги</th>\n",
       "                        <td id=\"T_13af27d6_731f_11ec_b253_0242ac1c0002row4_col0\" class=\"data row4 col0\" >18,351.2</td>\n",
       "                        <td id=\"T_13af27d6_731f_11ec_b253_0242ac1c0002row4_col1\" class=\"data row4 col1\" >45,731.5</td>\n",
       "                        <td id=\"T_13af27d6_731f_11ec_b253_0242ac1c0002row4_col2\" class=\"data row4 col2\" >39,318.6</td>\n",
       "            </tr>\n",
       "            <tr>\n",
       "                        <th id=\"T_13af27d6_731f_11ec_b253_0242ac1c0002level0_row5\" class=\"row_heading level0 row5\" >Безопасность</th>\n",
       "                        <td id=\"T_13af27d6_731f_11ec_b253_0242ac1c0002row5_col0\" class=\"data row5 col0\" >12,430.5</td>\n",
       "                        <td id=\"T_13af27d6_731f_11ec_b253_0242ac1c0002row5_col1\" class=\"data row5 col1\" >42,114.3</td>\n",
       "                        <td id=\"T_13af27d6_731f_11ec_b253_0242ac1c0002row5_col2\" class=\"data row5 col2\" >22,491.0</td>\n",
       "            </tr>\n",
       "            <tr>\n",
       "                        <th id=\"T_13af27d6_731f_11ec_b253_0242ac1c0002level0_row6\" class=\"row_heading level0 row6\" >Информационные технологии, интернет, телеком</th>\n",
       "                        <td id=\"T_13af27d6_731f_11ec_b253_0242ac1c0002row6_col0\" class=\"data row6 col0\" >24,713.6</td>\n",
       "                        <td id=\"T_13af27d6_731f_11ec_b253_0242ac1c0002row6_col1\" class=\"data row6 col1\" >50,753.6</td>\n",
       "                        <td id=\"T_13af27d6_731f_11ec_b253_0242ac1c0002row6_col2\" class=\"data row6 col2\" >47,597.3</td>\n",
       "            </tr>\n",
       "            <tr>\n",
       "                        <th id=\"T_13af27d6_731f_11ec_b253_0242ac1c0002level0_row7\" class=\"row_heading level0 row7\" >Производство, сельское хозяйство</th>\n",
       "                        <td id=\"T_13af27d6_731f_11ec_b253_0242ac1c0002row7_col0\" class=\"data row7 col0\" >23,030.9</td>\n",
       "                        <td id=\"T_13af27d6_731f_11ec_b253_0242ac1c0002row7_col1\" class=\"data row7 col1\" >52,506.1</td>\n",
       "                        <td id=\"T_13af27d6_731f_11ec_b253_0242ac1c0002row7_col2\" class=\"data row7 col2\" >75,003.3</td>\n",
       "            </tr>\n",
       "            <tr>\n",
       "                        <th id=\"T_13af27d6_731f_11ec_b253_0242ac1c0002level0_row8\" class=\"row_heading level0 row8\" >Медицина, фармацевтика</th>\n",
       "                        <td id=\"T_13af27d6_731f_11ec_b253_0242ac1c0002row8_col0\" class=\"data row8 col0\" >11,908.5</td>\n",
       "                        <td id=\"T_13af27d6_731f_11ec_b253_0242ac1c0002row8_col1\" class=\"data row8 col1\" >49,268.2</td>\n",
       "                        <td id=\"T_13af27d6_731f_11ec_b253_0242ac1c0002row8_col2\" class=\"data row8 col2\" >27,663.4</td>\n",
       "            </tr>\n",
       "            <tr>\n",
       "                        <th id=\"T_13af27d6_731f_11ec_b253_0242ac1c0002level0_row9\" class=\"row_heading level0 row9\" >Банки, инвестиции, лизинг</th>\n",
       "                        <td id=\"T_13af27d6_731f_11ec_b253_0242ac1c0002row9_col0\" class=\"data row9 col0\" >14,746.0</td>\n",
       "                        <td id=\"T_13af27d6_731f_11ec_b253_0242ac1c0002row9_col1\" class=\"data row9 col1\" >43,680.9</td>\n",
       "                        <td id=\"T_13af27d6_731f_11ec_b253_0242ac1c0002row9_col2\" class=\"data row9 col2\" >23,496.3</td>\n",
       "            </tr>\n",
       "            <tr>\n",
       "                        <th id=\"T_13af27d6_731f_11ec_b253_0242ac1c0002level0_row10\" class=\"row_heading level0 row10\" >Автомобильный бизнес</th>\n",
       "                        <td id=\"T_13af27d6_731f_11ec_b253_0242ac1c0002row10_col0\" class=\"data row10 col0\" >18,833.9</td>\n",
       "                        <td id=\"T_13af27d6_731f_11ec_b253_0242ac1c0002row10_col1\" class=\"data row10 col1\" >52,026.4</td>\n",
       "                        <td id=\"T_13af27d6_731f_11ec_b253_0242ac1c0002row10_col2\" class=\"data row10 col2\" >28,579.9</td>\n",
       "            </tr>\n",
       "            <tr>\n",
       "                        <th id=\"T_13af27d6_731f_11ec_b253_0242ac1c0002level0_row11\" class=\"row_heading level0 row11\" >Юристы</th>\n",
       "                        <td id=\"T_13af27d6_731f_11ec_b253_0242ac1c0002row11_col0\" class=\"data row11 col0\" >18,269.6</td>\n",
       "                        <td id=\"T_13af27d6_731f_11ec_b253_0242ac1c0002row11_col1\" class=\"data row11 col1\" >42,109.5</td>\n",
       "                        <td id=\"T_13af27d6_731f_11ec_b253_0242ac1c0002row11_col2\" class=\"data row11 col2\" >22,615.4</td>\n",
       "            </tr>\n",
       "            <tr>\n",
       "                        <th id=\"T_13af27d6_731f_11ec_b253_0242ac1c0002level0_row12\" class=\"row_heading level0 row12\" >Рабочий персонал</th>\n",
       "                        <td id=\"T_13af27d6_731f_11ec_b253_0242ac1c0002row12_col0\" class=\"data row12 col0\" >14,189.7</td>\n",
       "                        <td id=\"T_13af27d6_731f_11ec_b253_0242ac1c0002row12_col1\" class=\"data row12 col1\" >49,797.4</td>\n",
       "                        <td id=\"T_13af27d6_731f_11ec_b253_0242ac1c0002row12_col2\" class=\"data row12 col2\" >31,799.0</td>\n",
       "            </tr>\n",
       "            <tr>\n",
       "                        <th id=\"T_13af27d6_731f_11ec_b253_0242ac1c0002level0_row13\" class=\"row_heading level0 row13\" >Бухгалтерия, управленческий учет, финансы предприятия</th>\n",
       "                        <td id=\"T_13af27d6_731f_11ec_b253_0242ac1c0002row13_col0\" class=\"data row13 col0\" >17,774.2</td>\n",
       "                        <td id=\"T_13af27d6_731f_11ec_b253_0242ac1c0002row13_col1\" class=\"data row13 col1\" >40,890.8</td>\n",
       "                        <td id=\"T_13af27d6_731f_11ec_b253_0242ac1c0002row13_col2\" class=\"data row13 col2\" >28,182.5</td>\n",
       "            </tr>\n",
       "            <tr>\n",
       "                        <th id=\"T_13af27d6_731f_11ec_b253_0242ac1c0002level0_row14\" class=\"row_heading level0 row14\" >Туризм, гостиницы, рестораны</th>\n",
       "                        <td id=\"T_13af27d6_731f_11ec_b253_0242ac1c0002row14_col0\" class=\"data row14 col0\" >18,538.9</td>\n",
       "                        <td id=\"T_13af27d6_731f_11ec_b253_0242ac1c0002row14_col1\" class=\"data row14 col1\" >36,760.9</td>\n",
       "                        <td id=\"T_13af27d6_731f_11ec_b253_0242ac1c0002row14_col2\" class=\"data row14 col2\" >31,968.7</td>\n",
       "            </tr>\n",
       "            <tr>\n",
       "                        <th id=\"T_13af27d6_731f_11ec_b253_0242ac1c0002level0_row15\" class=\"row_heading level0 row15\" >Искусство, развлечения, масс-медиа</th>\n",
       "                        <td id=\"T_13af27d6_731f_11ec_b253_0242ac1c0002row15_col0\" class=\"data row15 col0\" >22,043.7</td>\n",
       "                        <td id=\"T_13af27d6_731f_11ec_b253_0242ac1c0002row15_col1\" class=\"data row15 col1\" >32,966.1</td>\n",
       "                        <td id=\"T_13af27d6_731f_11ec_b253_0242ac1c0002row15_col2\" class=\"data row15 col2\" >18,986.9</td>\n",
       "            </tr>\n",
       "            <tr>\n",
       "                        <th id=\"T_13af27d6_731f_11ec_b253_0242ac1c0002level0_row16\" class=\"row_heading level0 row16\" >Начало карьеры, студенты</th>\n",
       "                        <td id=\"T_13af27d6_731f_11ec_b253_0242ac1c0002row16_col0\" class=\"data row16 col0\" >17,557.2</td>\n",
       "                        <td id=\"T_13af27d6_731f_11ec_b253_0242ac1c0002row16_col1\" class=\"data row16 col1\" >35,506.5</td>\n",
       "                        <td id=\"T_13af27d6_731f_11ec_b253_0242ac1c0002row16_col2\" class=\"data row16 col2\" >22,774.3</td>\n",
       "            </tr>\n",
       "            <tr>\n",
       "                        <th id=\"T_13af27d6_731f_11ec_b253_0242ac1c0002level0_row17\" class=\"row_heading level0 row17\" >Домашний персонал</th>\n",
       "                        <td id=\"T_13af27d6_731f_11ec_b253_0242ac1c0002row17_col0\" class=\"data row17 col0\" >17,756.1</td>\n",
       "                        <td id=\"T_13af27d6_731f_11ec_b253_0242ac1c0002row17_col1\" class=\"data row17 col1\" >44,210.9</td>\n",
       "                        <td id=\"T_13af27d6_731f_11ec_b253_0242ac1c0002row17_col2\" class=\"data row17 col2\" >48,651.6</td>\n",
       "            </tr>\n",
       "            <tr>\n",
       "                        <th id=\"T_13af27d6_731f_11ec_b253_0242ac1c0002level0_row18\" class=\"row_heading level0 row18\" >Маркетинг, реклама, PR</th>\n",
       "                        <td id=\"T_13af27d6_731f_11ec_b253_0242ac1c0002row18_col0\" class=\"data row18 col0\" >19,326.5</td>\n",
       "                        <td id=\"T_13af27d6_731f_11ec_b253_0242ac1c0002row18_col1\" class=\"data row18 col1\" >35,473.8</td>\n",
       "                        <td id=\"T_13af27d6_731f_11ec_b253_0242ac1c0002row18_col2\" class=\"data row18 col2\" >18,644.8</td>\n",
       "            </tr>\n",
       "            <tr>\n",
       "                        <th id=\"T_13af27d6_731f_11ec_b253_0242ac1c0002level0_row19\" class=\"row_heading level0 row19\" >Добыча сырья</th>\n",
       "                        <td id=\"T_13af27d6_731f_11ec_b253_0242ac1c0002row19_col0\" class=\"data row19 col0\" >26,404.4</td>\n",
       "                        <td id=\"T_13af27d6_731f_11ec_b253_0242ac1c0002row19_col1\" class=\"data row19 col1\" >102,632.2</td>\n",
       "                        <td id=\"T_13af27d6_731f_11ec_b253_0242ac1c0002row19_col2\" class=\"data row19 col2\" >50,338.6</td>\n",
       "            </tr>\n",
       "            <tr>\n",
       "                        <th id=\"T_13af27d6_731f_11ec_b253_0242ac1c0002level0_row20\" class=\"row_heading level0 row20\" >Наука, образование</th>\n",
       "                        <td id=\"T_13af27d6_731f_11ec_b253_0242ac1c0002row20_col0\" class=\"data row20 col0\" >14,121.7</td>\n",
       "                        <td id=\"T_13af27d6_731f_11ec_b253_0242ac1c0002row20_col1\" class=\"data row20 col1\" >28,263.0</td>\n",
       "                        <td id=\"T_13af27d6_731f_11ec_b253_0242ac1c0002row20_col2\" class=\"data row20 col2\" >19,463.1</td>\n",
       "            </tr>\n",
       "            <tr>\n",
       "                        <th id=\"T_13af27d6_731f_11ec_b253_0242ac1c0002level0_row21\" class=\"row_heading level0 row21\" >Инсталляция и сервис</th>\n",
       "                        <td id=\"T_13af27d6_731f_11ec_b253_0242ac1c0002row21_col0\" class=\"data row21 col0\" >13,378.6</td>\n",
       "                        <td id=\"T_13af27d6_731f_11ec_b253_0242ac1c0002row21_col1\" class=\"data row21 col1\" >45,596.5</td>\n",
       "                        <td id=\"T_13af27d6_731f_11ec_b253_0242ac1c0002row21_col2\" class=\"data row21 col2\" >21,021.4</td>\n",
       "            </tr>\n",
       "            <tr>\n",
       "                        <th id=\"T_13af27d6_731f_11ec_b253_0242ac1c0002level0_row22\" class=\"row_heading level0 row22\" >Спортивные клубы, фитнес, салоны красоты</th>\n",
       "                        <td id=\"T_13af27d6_731f_11ec_b253_0242ac1c0002row22_col0\" class=\"data row22 col0\" >17,588.8</td>\n",
       "                        <td id=\"T_13af27d6_731f_11ec_b253_0242ac1c0002row22_col1\" class=\"data row22 col1\" >32,665.9</td>\n",
       "                        <td id=\"T_13af27d6_731f_11ec_b253_0242ac1c0002row22_col2\" class=\"data row22 col2\" >17,743.2</td>\n",
       "            </tr>\n",
       "            <tr>\n",
       "                        <th id=\"T_13af27d6_731f_11ec_b253_0242ac1c0002level0_row23\" class=\"row_heading level0 row23\" >Закупки</th>\n",
       "                        <td id=\"T_13af27d6_731f_11ec_b253_0242ac1c0002row23_col0\" class=\"data row23 col0\" >17,843.4</td>\n",
       "                        <td id=\"T_13af27d6_731f_11ec_b253_0242ac1c0002row23_col1\" class=\"data row23 col1\" >42,977.1</td>\n",
       "                        <td id=\"T_13af27d6_731f_11ec_b253_0242ac1c0002row23_col2\" class=\"data row23 col2\" >20,408.6</td>\n",
       "            </tr>\n",
       "            <tr>\n",
       "                        <th id=\"T_13af27d6_731f_11ec_b253_0242ac1c0002level0_row24\" class=\"row_heading level0 row24\" >Высший менеджмент</th>\n",
       "                        <td id=\"T_13af27d6_731f_11ec_b253_0242ac1c0002row24_col0\" class=\"data row24 col0\" >103,153.1</td>\n",
       "                        <td id=\"T_13af27d6_731f_11ec_b253_0242ac1c0002row24_col1\" class=\"data row24 col1\" >112,517.4</td>\n",
       "                        <td id=\"T_13af27d6_731f_11ec_b253_0242ac1c0002row24_col2\" class=\"data row24 col2\" >283,305.7</td>\n",
       "            </tr>\n",
       "            <tr>\n",
       "                        <th id=\"T_13af27d6_731f_11ec_b253_0242ac1c0002level0_row25\" class=\"row_heading level0 row25\" >Консультирование</th>\n",
       "                        <td id=\"T_13af27d6_731f_11ec_b253_0242ac1c0002row25_col0\" class=\"data row25 col0\" >24,532.9</td>\n",
       "                        <td id=\"T_13af27d6_731f_11ec_b253_0242ac1c0002row25_col1\" class=\"data row25 col1\" >47,158.8</td>\n",
       "                        <td id=\"T_13af27d6_731f_11ec_b253_0242ac1c0002row25_col2\" class=\"data row25 col2\" >70,964.0</td>\n",
       "            </tr>\n",
       "            <tr>\n",
       "                        <th id=\"T_13af27d6_731f_11ec_b253_0242ac1c0002level0_row26\" class=\"row_heading level0 row26\" >Государственная служба, некоммерческие организации</th>\n",
       "                        <td id=\"T_13af27d6_731f_11ec_b253_0242ac1c0002row26_col0\" class=\"data row26 col0\" >11,586.1</td>\n",
       "                        <td id=\"T_13af27d6_731f_11ec_b253_0242ac1c0002row26_col1\" class=\"data row26 col1\" >32,766.9</td>\n",
       "                        <td id=\"T_13af27d6_731f_11ec_b253_0242ac1c0002row26_col2\" class=\"data row26 col2\" >14,660.7</td>\n",
       "            </tr>\n",
       "            <tr>\n",
       "                        <th id=\"T_13af27d6_731f_11ec_b253_0242ac1c0002level0_row27\" class=\"row_heading level0 row27\" >Страхование</th>\n",
       "                        <td id=\"T_13af27d6_731f_11ec_b253_0242ac1c0002row27_col0\" class=\"data row27 col0\" >15,543.6</td>\n",
       "                        <td id=\"T_13af27d6_731f_11ec_b253_0242ac1c0002row27_col1\" class=\"data row27 col1\" >35,332.0</td>\n",
       "                        <td id=\"T_13af27d6_731f_11ec_b253_0242ac1c0002row27_col2\" class=\"data row27 col2\" >11,627.0</td>\n",
       "            </tr>\n",
       "            <tr>\n",
       "                        <th id=\"T_13af27d6_731f_11ec_b253_0242ac1c0002level0_row28\" class=\"row_heading level0 row28\" >Total</th>\n",
       "                        <td id=\"T_13af27d6_731f_11ec_b253_0242ac1c0002row28_col0\" class=\"data row28 col0\" >17,711.0</td>\n",
       "                        <td id=\"T_13af27d6_731f_11ec_b253_0242ac1c0002row28_col1\" class=\"data row28 col1\" >45,473.0</td>\n",
       "                        <td id=\"T_13af27d6_731f_11ec_b253_0242ac1c0002row28_col2\" class=\"data row28 col2\" >59,725.5</td>\n",
       "            </tr>\n",
       "    </tbody></table>"
      ],
      "text/plain": [
       "<pandas.io.formats.style.Styler at 0x7fec4c281a50>"
      ]
     },
     "execution_count": 32,
     "metadata": {},
     "output_type": "execute_result"
    }
   ],
   "source": [
    "regression_report_raw = pd.DataFrame(regression_report)\n",
    "regression_report_raw.columns = ['MAE', 'salary_from_mean', 'salary_from_std']\n",
    "regression_report_raw.index = np.append(salary['true'].unique(), 'Total')\n",
    "regression_report_raw.style.format(formatter='{:,.1f}').background_gradient()"
   ]
  },
  {
   "cell_type": "markdown",
   "metadata": {
    "id": "bSvg8WzjP2sr"
   },
   "source": [
    "<a id='raw_desc_tfidf_Ridge_merged_df'></a>\n",
    "## raw_desc_tfidf_Ridge_merged_df\n",
    "[к содержанию](#ксодержанию)"
   ]
  },
  {
   "cell_type": "markdown",
   "metadata": {
    "id": "GNbHlZ1LP2ss"
   },
   "source": [
    "<a id='Моделируемraw_desc_tfidf_Ridge_merged_df'></a>\n",
    "### Моделируем\n",
    "[к содержанию](#ксодержанию)"
   ]
  },
  {
   "cell_type": "code",
   "execution_count": 33,
   "metadata": {
    "id": "xDPrfJ6APxHd"
   },
   "outputs": [],
   "source": [
    "df3 = pd.concat([df, df2])\n",
    "df3 = df3.drop_duplicates(subset='id', keep=\"first\")"
   ]
  },
  {
   "cell_type": "code",
   "execution_count": 34,
   "metadata": {
    "id": "jt22UMb1P2st"
   },
   "outputs": [],
   "source": [
    "X = df3[['raw_description', 'salary_from']].dropna()\n",
    "X_train, X_test, y_train, y_test = train_test_split(X[['raw_description']], X['salary_from'], test_size=0.2, random_state=42)"
   ]
  },
  {
   "cell_type": "code",
   "execution_count": 35,
   "metadata": {
    "id": "Bpi7FblQP2st"
   },
   "outputs": [],
   "source": [
    "tfidf = TfidfVectorizer(sublinear_tf=True, min_df=5,\n",
    "                        ngram_range=(1, 2), \n",
    "                        stop_words={'russian', 'english'}, max_features=14000)\n",
    "tfidf.fit(X_train['raw_description'])\n",
    "features = tfidf.transform(X_train['raw_description'])"
   ]
  },
  {
   "cell_type": "code",
   "execution_count": 36,
   "metadata": {
    "id": "mBAJ1wgPP2su"
   },
   "outputs": [],
   "source": [
    "# Сохраняем tfidf.vocabulary_\n",
    "pickle.dump(tfidf.vocabulary_,open(\"raw_desc_tfidf_14000_merged_df.pkl\",\"wb\"))"
   ]
  },
  {
   "cell_type": "code",
   "execution_count": 37,
   "metadata": {
    "id": "7XLRnaxiP2sv"
   },
   "outputs": [],
   "source": [
    "del X_train"
   ]
  },
  {
   "cell_type": "code",
   "execution_count": 38,
   "metadata": {
    "colab": {
     "base_uri": "https://localhost:8080/"
    },
    "id": "reQJCXArP2sv",
    "outputId": "f306144a-4142-4f32-8db2-ee3e7c3cf2a1"
   },
   "outputs": [
    {
     "data": {
      "text/plain": [
       "Ridge()"
      ]
     },
     "execution_count": 38,
     "metadata": {},
     "output_type": "execute_result"
    }
   ],
   "source": [
    "model = Ridge()\n",
    "model.fit(features, y_train)"
   ]
  },
  {
   "cell_type": "code",
   "execution_count": 39,
   "metadata": {
    "id": "t15T-CCkP2sx"
   },
   "outputs": [],
   "source": [
    "del features"
   ]
  },
  {
   "cell_type": "code",
   "execution_count": 40,
   "metadata": {
    "id": "fo8h2QykP2sx"
   },
   "outputs": [],
   "source": [
    "features_test = tfidf.transform(X_test['raw_description'])"
   ]
  },
  {
   "cell_type": "code",
   "execution_count": 41,
   "metadata": {
    "id": "l6SDfXeTP2sy"
   },
   "outputs": [],
   "source": [
    "y_pred = model.predict(features_test)"
   ]
  },
  {
   "cell_type": "code",
   "execution_count": 42,
   "metadata": {
    "colab": {
     "base_uri": "https://localhost:8080/"
    },
    "id": "CIZdn8btP2sy",
    "outputId": "d843c97f-f0a7-4477-aee5-a115668ccbac"
   },
   "outputs": [
    {
     "data": {
      "text/plain": [
       "['y_pred_raw_desc_tfidf_Ridge_prof_area_merged_df.pkl']"
      ]
     },
     "execution_count": 42,
     "metadata": {},
     "output_type": "execute_result"
    }
   ],
   "source": [
    "# Сохраняем модель и y_pred\n",
    "joblib.dump(model, 'raw_desc_tfidf_Ridge_merged_df.pkl', compress=8)\n",
    "joblib.dump(y_pred, 'y_pred_raw_desc_tfidf_Ridge_merged_df.pkl')"
   ]
  },
  {
   "cell_type": "markdown",
   "metadata": {
    "id": "9LnUzgugP2sz"
   },
   "source": [
    "<a id='Отчётraw_desc_tfidf_Ridge_merged_df'></a>\n",
    "### Отчёт\n",
    "[к содержанию](#ксодержанию)"
   ]
  },
  {
   "cell_type": "code",
   "execution_count": 43,
   "metadata": {
    "id": "hcwfYPl7P2sz"
   },
   "outputs": [],
   "source": [
    "regression_report = pd.DataFrame()\n",
    "regression_report['MAE'] = [round(mean_absolute_error(y_pred, y_test), 1)]\n",
    "regression_report['salary_from_mean'] = [round(df3['salary_from'].mean(), 1)]\n",
    "regression_report['salary_from_std'] = [round(df3['salary_from'].std(), 1)]"
   ]
  },
  {
   "cell_type": "code",
   "execution_count": 44,
   "metadata": {
    "colab": {
     "base_uri": "https://localhost:8080/",
     "height": 81
    },
    "id": "H_Ekdl7RP2s0",
    "outputId": "f7dbe785-885c-4064-c9b6-89bbf2e53073"
   },
   "outputs": [
    {
     "data": {
      "text/html": [
       "\n",
       "  <div id=\"df-cc321fe3-8e8a-4c61-9e48-629b79c374d6\">\n",
       "    <div class=\"colab-df-container\">\n",
       "      <div>\n",
       "<style scoped>\n",
       "    .dataframe tbody tr th:only-of-type {\n",
       "        vertical-align: middle;\n",
       "    }\n",
       "\n",
       "    .dataframe tbody tr th {\n",
       "        vertical-align: top;\n",
       "    }\n",
       "\n",
       "    .dataframe thead th {\n",
       "        text-align: right;\n",
       "    }\n",
       "</style>\n",
       "<table border=\"1\" class=\"dataframe\">\n",
       "  <thead>\n",
       "    <tr style=\"text-align: right;\">\n",
       "      <th></th>\n",
       "      <th>MAE</th>\n",
       "      <th>salary_from_mean</th>\n",
       "      <th>salary_from_std</th>\n",
       "    </tr>\n",
       "  </thead>\n",
       "  <tbody>\n",
       "    <tr>\n",
       "      <th>0</th>\n",
       "      <td>24628.1</td>\n",
       "      <td>56563.6</td>\n",
       "      <td>76708.8</td>\n",
       "    </tr>\n",
       "  </tbody>\n",
       "</table>\n",
       "</div>\n",
       "      <button class=\"colab-df-convert\" onclick=\"convertToInteractive('df-cc321fe3-8e8a-4c61-9e48-629b79c374d6')\"\n",
       "              title=\"Convert this dataframe to an interactive table.\"\n",
       "              style=\"display:none;\">\n",
       "        \n",
       "  <svg xmlns=\"http://www.w3.org/2000/svg\" height=\"24px\"viewBox=\"0 0 24 24\"\n",
       "       width=\"24px\">\n",
       "    <path d=\"M0 0h24v24H0V0z\" fill=\"none\"/>\n",
       "    <path d=\"M18.56 5.44l.94 2.06.94-2.06 2.06-.94-2.06-.94-.94-2.06-.94 2.06-2.06.94zm-11 1L8.5 8.5l.94-2.06 2.06-.94-2.06-.94L8.5 2.5l-.94 2.06-2.06.94zm10 10l.94 2.06.94-2.06 2.06-.94-2.06-.94-.94-2.06-.94 2.06-2.06.94z\"/><path d=\"M17.41 7.96l-1.37-1.37c-.4-.4-.92-.59-1.43-.59-.52 0-1.04.2-1.43.59L10.3 9.45l-7.72 7.72c-.78.78-.78 2.05 0 2.83L4 21.41c.39.39.9.59 1.41.59.51 0 1.02-.2 1.41-.59l7.78-7.78 2.81-2.81c.8-.78.8-2.07 0-2.86zM5.41 20L4 18.59l7.72-7.72 1.47 1.35L5.41 20z\"/>\n",
       "  </svg>\n",
       "      </button>\n",
       "      \n",
       "  <style>\n",
       "    .colab-df-container {\n",
       "      display:flex;\n",
       "      flex-wrap:wrap;\n",
       "      gap: 12px;\n",
       "    }\n",
       "\n",
       "    .colab-df-convert {\n",
       "      background-color: #E8F0FE;\n",
       "      border: none;\n",
       "      border-radius: 50%;\n",
       "      cursor: pointer;\n",
       "      display: none;\n",
       "      fill: #1967D2;\n",
       "      height: 32px;\n",
       "      padding: 0 0 0 0;\n",
       "      width: 32px;\n",
       "    }\n",
       "\n",
       "    .colab-df-convert:hover {\n",
       "      background-color: #E2EBFA;\n",
       "      box-shadow: 0px 1px 2px rgba(60, 64, 67, 0.3), 0px 1px 3px 1px rgba(60, 64, 67, 0.15);\n",
       "      fill: #174EA6;\n",
       "    }\n",
       "\n",
       "    [theme=dark] .colab-df-convert {\n",
       "      background-color: #3B4455;\n",
       "      fill: #D2E3FC;\n",
       "    }\n",
       "\n",
       "    [theme=dark] .colab-df-convert:hover {\n",
       "      background-color: #434B5C;\n",
       "      box-shadow: 0px 1px 3px 1px rgba(0, 0, 0, 0.15);\n",
       "      filter: drop-shadow(0px 1px 2px rgba(0, 0, 0, 0.3));\n",
       "      fill: #FFFFFF;\n",
       "    }\n",
       "  </style>\n",
       "\n",
       "      <script>\n",
       "        const buttonEl =\n",
       "          document.querySelector('#df-cc321fe3-8e8a-4c61-9e48-629b79c374d6 button.colab-df-convert');\n",
       "        buttonEl.style.display =\n",
       "          google.colab.kernel.accessAllowed ? 'block' : 'none';\n",
       "\n",
       "        async function convertToInteractive(key) {\n",
       "          const element = document.querySelector('#df-cc321fe3-8e8a-4c61-9e48-629b79c374d6');\n",
       "          const dataTable =\n",
       "            await google.colab.kernel.invokeFunction('convertToInteractive',\n",
       "                                                     [key], {});\n",
       "          if (!dataTable) return;\n",
       "\n",
       "          const docLinkHtml = 'Like what you see? Visit the ' +\n",
       "            '<a target=\"_blank\" href=https://colab.research.google.com/notebooks/data_table.ipynb>data table notebook</a>'\n",
       "            + ' to learn more about interactive tables.';\n",
       "          element.innerHTML = '';\n",
       "          dataTable['output_type'] = 'display_data';\n",
       "          await google.colab.output.renderOutput(dataTable, element);\n",
       "          const docLink = document.createElement('div');\n",
       "          docLink.innerHTML = docLinkHtml;\n",
       "          element.appendChild(docLink);\n",
       "        }\n",
       "      </script>\n",
       "    </div>\n",
       "  </div>\n",
       "  "
      ],
      "text/plain": [
       "       MAE  salary_from_mean  salary_from_std\n",
       "0  24628.1           56563.6          76708.8"
      ]
     },
     "execution_count": 44,
     "metadata": {},
     "output_type": "execute_result"
    }
   ],
   "source": [
    "regression_report"
   ]
  },
  {
   "cell_type": "markdown",
   "metadata": {
    "id": "B0I1FPhl5U49"
   },
   "source": [
    "<a id='raw_desc_tfidf_Ridge_only_Russia'></a>\n",
    "## raw_desc_tfidf_Ridge_only_Russia\n",
    "[к содержанию](#ксодержанию)"
   ]
  },
  {
   "cell_type": "markdown",
   "metadata": {
    "id": "SAXTR6ub5Kax"
   },
   "source": [
    "<a id='Моделируемraw_desc_tfidf_Ridge_only_Russia'></a>\n",
    "### Моделируем\n",
    "[к содержанию](#ксодержанию)"
   ]
  },
  {
   "cell_type": "code",
   "execution_count": 46,
   "metadata": {
    "colab": {
     "base_uri": "https://localhost:8080/"
    },
    "id": "kVm2Qh305KbO",
    "outputId": "78742b00-b96f-4d2c-f6f3-2323b70cbec2"
   },
   "outputs": [
    {
     "name": "stderr",
     "output_type": "stream",
     "text": [
      "/usr/local/lib/python3.7/dist-packages/ipykernel_launcher.py:11: SettingWithCopyWarning: \n",
      "A value is trying to be set on a copy of a slice from a DataFrame\n",
      "\n",
      "See the caveats in the documentation: https://pandas.pydata.org/pandas-docs/stable/user_guide/indexing.html#returning-a-view-versus-a-copy\n",
      "  # This is added back by InteractiveShellApp.init_path()\n"
     ]
    }
   ],
   "source": [
    "df = pd.read_csv('vacancies_lemmatized.csv')\n",
    "df = df[df['country_name'] == 'Россия']\n",
    "utils.salary_process(df)"
   ]
  },
  {
   "cell_type": "code",
   "execution_count": 47,
   "metadata": {
    "id": "VsKrV2WN5KbP"
   },
   "outputs": [],
   "source": [
    "X = df[['raw_description', 'salary_from']].dropna()\n",
    "X_train, X_test, y_train, y_test = train_test_split(X[['raw_description']], X['salary_from'], test_size=0.2, random_state=42)"
   ]
  },
  {
   "cell_type": "code",
   "execution_count": 48,
   "metadata": {
    "id": "T5rCG5MX5KbQ"
   },
   "outputs": [],
   "source": [
    "tfidf = TfidfVectorizer(sublinear_tf=True, min_df=5,\n",
    "                        ngram_range=(1, 2), \n",
    "                        stop_words={'russian', 'english'}, max_features=14000)\n",
    "tfidf.fit(X_train['raw_description'])\n",
    "features = tfidf.transform(X_train['raw_description'])"
   ]
  },
  {
   "cell_type": "code",
   "execution_count": null,
   "metadata": {
    "id": "JHhErCft5KbR"
   },
   "outputs": [],
   "source": [
    "# Сохраняем tfidf.vocabulary_\n",
    "pickle.dump(tfidf.vocabulary_,open(\"raw_desc_tfidf_14000_merged_df.pkl\",\"wb\"))"
   ]
  },
  {
   "cell_type": "code",
   "execution_count": 49,
   "metadata": {
    "id": "UeTzi9tT5KbR"
   },
   "outputs": [],
   "source": [
    "del X_train"
   ]
  },
  {
   "cell_type": "code",
   "execution_count": 50,
   "metadata": {
    "colab": {
     "base_uri": "https://localhost:8080/"
    },
    "id": "3O2ashTJ5KbS",
    "outputId": "810f8e52-4516-4722-8492-06f774f2e3b5"
   },
   "outputs": [
    {
     "data": {
      "text/plain": [
       "Ridge()"
      ]
     },
     "execution_count": 50,
     "metadata": {},
     "output_type": "execute_result"
    }
   ],
   "source": [
    "model = Ridge()\n",
    "model.fit(features, y_train)"
   ]
  },
  {
   "cell_type": "code",
   "execution_count": 51,
   "metadata": {
    "id": "XYedpGE-5KbU"
   },
   "outputs": [],
   "source": [
    "del features"
   ]
  },
  {
   "cell_type": "code",
   "execution_count": 52,
   "metadata": {
    "id": "aS_l38eX5KbU"
   },
   "outputs": [],
   "source": [
    "features_test = tfidf.transform(X_test['raw_description'])"
   ]
  },
  {
   "cell_type": "code",
   "execution_count": 53,
   "metadata": {
    "id": "UgU-OX4J5KbV"
   },
   "outputs": [],
   "source": [
    "y_pred = model.predict(features_test)"
   ]
  },
  {
   "cell_type": "code",
   "execution_count": 58,
   "metadata": {
    "colab": {
     "base_uri": "https://localhost:8080/"
    },
    "id": "dBLU66ka5KbW",
    "outputId": "34164e57-86aa-4304-c206-7068440dcd9f"
   },
   "outputs": [
    {
     "data": {
      "text/plain": [
       "['y_pred_raw_desc_tfidf_Ridge_prof_area_only_Russia.pkl']"
      ]
     },
     "execution_count": 58,
     "metadata": {},
     "output_type": "execute_result"
    }
   ],
   "source": [
    "# Сохраняем модель и y_pred\n",
    "joblib.dump(model, 'raw_desc_tfidf_Ridge_only_Russia.pkl', compress=8)\n",
    "joblib.dump(y_pred, 'y_pred_raw_desc_tfidf_Ridge_only_Russia.pkl')"
   ]
  },
  {
   "cell_type": "markdown",
   "metadata": {
    "id": "_I2ZJuzs5KbW"
   },
   "source": [
    "<a id='Отчётraw_desc_tfidf_Ridge_only_Russia'></a>\n",
    "### Отчёт\n",
    "[к содержанию](#ксодержанию)"
   ]
  },
  {
   "cell_type": "code",
   "execution_count": 56,
   "metadata": {
    "id": "sbedRe7q5KbX"
   },
   "outputs": [],
   "source": [
    "regression_report, salary = utils.report_regression(df[['salary_from', 'prof_area']].dropna(), y_test, y_pred, 'prof_area')"
   ]
  },
  {
   "cell_type": "code",
   "execution_count": 57,
   "metadata": {
    "colab": {
     "base_uri": "https://localhost:8080/",
     "height": 958
    },
    "id": "hx42a1_C5KbY",
    "outputId": "a0e336a2-7923-432b-fd02-6671302c207c",
    "scrolled": true
   },
   "outputs": [
    {
     "data": {
      "text/html": [
       "<style  type=\"text/css\" >\n",
       "#T_68d07c1e_7320_11ec_b253_0242ac1c0002row0_col0{\n",
       "            background-color:  #e5e1ef;\n",
       "            color:  #000000;\n",
       "        }#T_68d07c1e_7320_11ec_b253_0242ac1c0002row0_col1{\n",
       "            background-color:  #eee9f3;\n",
       "            color:  #000000;\n",
       "        }#T_68d07c1e_7320_11ec_b253_0242ac1c0002row0_col2{\n",
       "            background-color:  #dcdaeb;\n",
       "            color:  #000000;\n",
       "        }#T_68d07c1e_7320_11ec_b253_0242ac1c0002row1_col0,#T_68d07c1e_7320_11ec_b253_0242ac1c0002row4_col0{\n",
       "            background-color:  #93b5d6;\n",
       "            color:  #000000;\n",
       "        }#T_68d07c1e_7320_11ec_b253_0242ac1c0002row1_col1,#T_68d07c1e_7320_11ec_b253_0242ac1c0002row20_col0,#T_68d07c1e_7320_11ec_b253_0242ac1c0002row20_col1,#T_68d07c1e_7320_11ec_b253_0242ac1c0002row26_col2{\n",
       "            background-color:  #b0c2de;\n",
       "            color:  #000000;\n",
       "        }#T_68d07c1e_7320_11ec_b253_0242ac1c0002row1_col2{\n",
       "            background-color:  #045788;\n",
       "            color:  #f1f1f1;\n",
       "        }#T_68d07c1e_7320_11ec_b253_0242ac1c0002row2_col0,#T_68d07c1e_7320_11ec_b253_0242ac1c0002row16_col0{\n",
       "            background-color:  #b4c4df;\n",
       "            color:  #000000;\n",
       "        }#T_68d07c1e_7320_11ec_b253_0242ac1c0002row2_col1,#T_68d07c1e_7320_11ec_b253_0242ac1c0002row17_col2{\n",
       "            background-color:  #a7bddb;\n",
       "            color:  #000000;\n",
       "        }#T_68d07c1e_7320_11ec_b253_0242ac1c0002row2_col2{\n",
       "            background-color:  #b9c6e0;\n",
       "            color:  #000000;\n",
       "        }#T_68d07c1e_7320_11ec_b253_0242ac1c0002row3_col0{\n",
       "            background-color:  #f5eff6;\n",
       "            color:  #000000;\n",
       "        }#T_68d07c1e_7320_11ec_b253_0242ac1c0002row3_col1,#T_68d07c1e_7320_11ec_b253_0242ac1c0002row5_col2{\n",
       "            background-color:  #cccfe5;\n",
       "            color:  #000000;\n",
       "        }#T_68d07c1e_7320_11ec_b253_0242ac1c0002row3_col2{\n",
       "            background-color:  #dad9ea;\n",
       "            color:  #000000;\n",
       "        }#T_68d07c1e_7320_11ec_b253_0242ac1c0002row4_col1,#T_68d07c1e_7320_11ec_b253_0242ac1c0002row20_col2,#T_68d07c1e_7320_11ec_b253_0242ac1c0002row28_col1{\n",
       "            background-color:  #d4d4e8;\n",
       "            color:  #000000;\n",
       "        }#T_68d07c1e_7320_11ec_b253_0242ac1c0002row4_col2,#T_68d07c1e_7320_11ec_b253_0242ac1c0002row24_col0{\n",
       "            background-color:  #bdc8e1;\n",
       "            color:  #000000;\n",
       "        }#T_68d07c1e_7320_11ec_b253_0242ac1c0002row5_col0,#T_68d07c1e_7320_11ec_b253_0242ac1c0002row12_col0,#T_68d07c1e_7320_11ec_b253_0242ac1c0002row26_col1{\n",
       "            background-color:  #d9d8ea;\n",
       "            color:  #000000;\n",
       "        }#T_68d07c1e_7320_11ec_b253_0242ac1c0002row5_col1{\n",
       "            background-color:  #bcc7e1;\n",
       "            color:  #000000;\n",
       "        }#T_68d07c1e_7320_11ec_b253_0242ac1c0002row6_col0,#T_68d07c1e_7320_11ec_b253_0242ac1c0002row13_col0,#T_68d07c1e_7320_11ec_b253_0242ac1c0002row17_col1{\n",
       "            background-color:  #d7d6e9;\n",
       "            color:  #000000;\n",
       "        }#T_68d07c1e_7320_11ec_b253_0242ac1c0002row6_col1,#T_68d07c1e_7320_11ec_b253_0242ac1c0002row16_col2,#T_68d07c1e_7320_11ec_b253_0242ac1c0002row18_col1{\n",
       "            background-color:  #f2ecf5;\n",
       "            color:  #000000;\n",
       "        }#T_68d07c1e_7320_11ec_b253_0242ac1c0002row6_col2,#T_68d07c1e_7320_11ec_b253_0242ac1c0002row15_col2{\n",
       "            background-color:  #e7e3f0;\n",
       "            color:  #000000;\n",
       "        }#T_68d07c1e_7320_11ec_b253_0242ac1c0002row7_col0{\n",
       "            background-color:  #80aed2;\n",
       "            color:  #000000;\n",
       "        }#T_68d07c1e_7320_11ec_b253_0242ac1c0002row7_col1{\n",
       "            background-color:  #549cc7;\n",
       "            color:  #000000;\n",
       "        }#T_68d07c1e_7320_11ec_b253_0242ac1c0002row7_col2{\n",
       "            background-color:  #8eb3d5;\n",
       "            color:  #000000;\n",
       "        }#T_68d07c1e_7320_11ec_b253_0242ac1c0002row8_col0{\n",
       "            background-color:  #d5d5e8;\n",
       "            color:  #000000;\n",
       "        }#T_68d07c1e_7320_11ec_b253_0242ac1c0002row8_col1,#T_68d07c1e_7320_11ec_b253_0242ac1c0002row16_col1,#T_68d07c1e_7320_11ec_b253_0242ac1c0002row21_col0,#T_68d07c1e_7320_11ec_b253_0242ac1c0002row23_col2{\n",
       "            background-color:  #f0eaf4;\n",
       "            color:  #000000;\n",
       "        }#T_68d07c1e_7320_11ec_b253_0242ac1c0002row8_col2{\n",
       "            background-color:  #e4e1ef;\n",
       "            color:  #000000;\n",
       "        }#T_68d07c1e_7320_11ec_b253_0242ac1c0002row9_col0,#T_68d07c1e_7320_11ec_b253_0242ac1c0002row15_col1{\n",
       "            background-color:  #dbdaeb;\n",
       "            color:  #000000;\n",
       "        }#T_68d07c1e_7320_11ec_b253_0242ac1c0002row9_col1{\n",
       "            background-color:  #f7f0f7;\n",
       "            color:  #000000;\n",
       "        }#T_68d07c1e_7320_11ec_b253_0242ac1c0002row9_col2,#T_68d07c1e_7320_11ec_b253_0242ac1c0002row12_col1{\n",
       "            background-color:  #f4edf6;\n",
       "            color:  #000000;\n",
       "        }#T_68d07c1e_7320_11ec_b253_0242ac1c0002row10_col0{\n",
       "            background-color:  #c1cae2;\n",
       "            color:  #000000;\n",
       "        }#T_68d07c1e_7320_11ec_b253_0242ac1c0002row10_col1{\n",
       "            background-color:  #e0dded;\n",
       "            color:  #000000;\n",
       "        }#T_68d07c1e_7320_11ec_b253_0242ac1c0002row10_col2{\n",
       "            background-color:  #d2d3e7;\n",
       "            color:  #000000;\n",
       "        }#T_68d07c1e_7320_11ec_b253_0242ac1c0002row11_col0{\n",
       "            background-color:  #034871;\n",
       "            color:  #f1f1f1;\n",
       "        }#T_68d07c1e_7320_11ec_b253_0242ac1c0002row11_col1,#T_68d07c1e_7320_11ec_b253_0242ac1c0002row22_col2,#T_68d07c1e_7320_11ec_b253_0242ac1c0002row27_col0{\n",
       "            background-color:  #023858;\n",
       "            color:  #f1f1f1;\n",
       "        }#T_68d07c1e_7320_11ec_b253_0242ac1c0002row11_col2{\n",
       "            background-color:  #81aed2;\n",
       "            color:  #000000;\n",
       "        }#T_68d07c1e_7320_11ec_b253_0242ac1c0002row12_col2{\n",
       "            background-color:  #f1ebf4;\n",
       "            color:  #000000;\n",
       "        }#T_68d07c1e_7320_11ec_b253_0242ac1c0002row13_col1,#T_68d07c1e_7320_11ec_b253_0242ac1c0002row13_col2,#T_68d07c1e_7320_11ec_b253_0242ac1c0002row21_col2{\n",
       "            background-color:  #f8f1f8;\n",
       "            color:  #000000;\n",
       "        }#T_68d07c1e_7320_11ec_b253_0242ac1c0002row14_col0{\n",
       "            background-color:  #efe9f3;\n",
       "            color:  #000000;\n",
       "        }#T_68d07c1e_7320_11ec_b253_0242ac1c0002row14_col1{\n",
       "            background-color:  #dedcec;\n",
       "            color:  #000000;\n",
       "        }#T_68d07c1e_7320_11ec_b253_0242ac1c0002row14_col2{\n",
       "            background-color:  #e8e4f0;\n",
       "            color:  #000000;\n",
       "        }#T_68d07c1e_7320_11ec_b253_0242ac1c0002row15_col0,#T_68d07c1e_7320_11ec_b253_0242ac1c0002row24_col2{\n",
       "            background-color:  #ece7f2;\n",
       "            color:  #000000;\n",
       "        }#T_68d07c1e_7320_11ec_b253_0242ac1c0002row17_col0{\n",
       "            background-color:  #6ba5cd;\n",
       "            color:  #000000;\n",
       "        }#T_68d07c1e_7320_11ec_b253_0242ac1c0002row18_col0,#T_68d07c1e_7320_11ec_b253_0242ac1c0002row18_col2,#T_68d07c1e_7320_11ec_b253_0242ac1c0002row25_col1{\n",
       "            background-color:  #fff7fb;\n",
       "            color:  #000000;\n",
       "        }#T_68d07c1e_7320_11ec_b253_0242ac1c0002row19_col0{\n",
       "            background-color:  #b8c6e0;\n",
       "            color:  #000000;\n",
       "        }#T_68d07c1e_7320_11ec_b253_0242ac1c0002row19_col1{\n",
       "            background-color:  #dddbec;\n",
       "            color:  #000000;\n",
       "        }#T_68d07c1e_7320_11ec_b253_0242ac1c0002row19_col2{\n",
       "            background-color:  #ede8f3;\n",
       "            color:  #000000;\n",
       "        }#T_68d07c1e_7320_11ec_b253_0242ac1c0002row21_col1{\n",
       "            background-color:  #f9f2f8;\n",
       "            color:  #000000;\n",
       "        }#T_68d07c1e_7320_11ec_b253_0242ac1c0002row22_col0{\n",
       "            background-color:  #023b5d;\n",
       "            color:  #f1f1f1;\n",
       "        }#T_68d07c1e_7320_11ec_b253_0242ac1c0002row22_col1{\n",
       "            background-color:  #03466e;\n",
       "            color:  #f1f1f1;\n",
       "        }#T_68d07c1e_7320_11ec_b253_0242ac1c0002row23_col0,#T_68d07c1e_7320_11ec_b253_0242ac1c0002row25_col2{\n",
       "            background-color:  #ede7f2;\n",
       "            color:  #000000;\n",
       "        }#T_68d07c1e_7320_11ec_b253_0242ac1c0002row23_col1{\n",
       "            background-color:  #d8d7e9;\n",
       "            color:  #000000;\n",
       "        }#T_68d07c1e_7320_11ec_b253_0242ac1c0002row24_col1{\n",
       "            background-color:  #e2dfee;\n",
       "            color:  #000000;\n",
       "        }#T_68d07c1e_7320_11ec_b253_0242ac1c0002row25_col0{\n",
       "            background-color:  #c0c9e2;\n",
       "            color:  #000000;\n",
       "        }#T_68d07c1e_7320_11ec_b253_0242ac1c0002row26_col0{\n",
       "            background-color:  #adc1dd;\n",
       "            color:  #000000;\n",
       "        }#T_68d07c1e_7320_11ec_b253_0242ac1c0002row27_col1{\n",
       "            background-color:  #d0d1e6;\n",
       "            color:  #000000;\n",
       "        }#T_68d07c1e_7320_11ec_b253_0242ac1c0002row27_col2{\n",
       "            background-color:  #589ec8;\n",
       "            color:  #000000;\n",
       "        }#T_68d07c1e_7320_11ec_b253_0242ac1c0002row28_col0{\n",
       "            background-color:  #cdd0e5;\n",
       "            color:  #000000;\n",
       "        }#T_68d07c1e_7320_11ec_b253_0242ac1c0002row28_col2{\n",
       "            background-color:  #b3c3de;\n",
       "            color:  #000000;\n",
       "        }</style><table id=\"T_68d07c1e_7320_11ec_b253_0242ac1c0002\" class=\"dataframe\"><thead>    <tr>        <th class=\"blank level0\" ></th>        <th class=\"col_heading level0 col0\" >MAE</th>        <th class=\"col_heading level0 col1\" >salary_from_mean</th>        <th class=\"col_heading level0 col2\" >salary_from_std</th>    </tr></thead><tbody>\n",
       "                <tr>\n",
       "                        <th id=\"T_68d07c1e_7320_11ec_b253_0242ac1c0002level0_row0\" class=\"row_heading level0 row0\" >Продажи</th>\n",
       "                        <td id=\"T_68d07c1e_7320_11ec_b253_0242ac1c0002row0_col0\" class=\"data row0 col0\" >11,309.2</td>\n",
       "                        <td id=\"T_68d07c1e_7320_11ec_b253_0242ac1c0002row0_col1\" class=\"data row0 col1\" >38,688.7</td>\n",
       "                        <td id=\"T_68d07c1e_7320_11ec_b253_0242ac1c0002row0_col2\" class=\"data row0 col2\" >26,803.7</td>\n",
       "            </tr>\n",
       "            <tr>\n",
       "                        <th id=\"T_68d07c1e_7320_11ec_b253_0242ac1c0002level0_row1\" class=\"row_heading level0 row1\" >Производство, сельское хозяйство</th>\n",
       "                        <td id=\"T_68d07c1e_7320_11ec_b253_0242ac1c0002row1_col0\" class=\"data row1 col0\" >18,225.5</td>\n",
       "                        <td id=\"T_68d07c1e_7320_11ec_b253_0242ac1c0002row1_col1\" class=\"data row1 col1\" >56,875.1</td>\n",
       "                        <td id=\"T_68d07c1e_7320_11ec_b253_0242ac1c0002row1_col2\" class=\"data row1 col2\" >81,732.8</td>\n",
       "            </tr>\n",
       "            <tr>\n",
       "                        <th id=\"T_68d07c1e_7320_11ec_b253_0242ac1c0002level0_row2\" class=\"row_heading level0 row2\" >Транспорт, логистика</th>\n",
       "                        <td id=\"T_68d07c1e_7320_11ec_b253_0242ac1c0002row2_col0\" class=\"data row2 col0\" >15,889.0</td>\n",
       "                        <td id=\"T_68d07c1e_7320_11ec_b253_0242ac1c0002row2_col1\" class=\"data row2 col1\" >59,084.2</td>\n",
       "                        <td id=\"T_68d07c1e_7320_11ec_b253_0242ac1c0002row2_col2\" class=\"data row2 col2\" >36,609.6</td>\n",
       "            </tr>\n",
       "            <tr>\n",
       "                        <th id=\"T_68d07c1e_7320_11ec_b253_0242ac1c0002level0_row3\" class=\"row_heading level0 row3\" >Медицина, фармацевтика</th>\n",
       "                        <td id=\"T_68d07c1e_7320_11ec_b253_0242ac1c0002row3_col0\" class=\"data row3 col0\" >8,920.6</td>\n",
       "                        <td id=\"T_68d07c1e_7320_11ec_b253_0242ac1c0002row3_col1\" class=\"data row3 col1\" >50,545.3</td>\n",
       "                        <td id=\"T_68d07c1e_7320_11ec_b253_0242ac1c0002row3_col2\" class=\"data row3 col2\" >27,492.8</td>\n",
       "            </tr>\n",
       "            <tr>\n",
       "                        <th id=\"T_68d07c1e_7320_11ec_b253_0242ac1c0002level0_row4\" class=\"row_heading level0 row4\" >Информационные технологии, интернет, телеком</th>\n",
       "                        <td id=\"T_68d07c1e_7320_11ec_b253_0242ac1c0002row4_col0\" class=\"data row4 col0\" >18,267.0</td>\n",
       "                        <td id=\"T_68d07c1e_7320_11ec_b253_0242ac1c0002row4_col1\" class=\"data row4 col1\" >47,960.1</td>\n",
       "                        <td id=\"T_68d07c1e_7320_11ec_b253_0242ac1c0002row4_col2\" class=\"data row4 col2\" >35,573.2</td>\n",
       "            </tr>\n",
       "            <tr>\n",
       "                        <th id=\"T_68d07c1e_7320_11ec_b253_0242ac1c0002level0_row5\" class=\"row_heading level0 row5\" >Рабочий персонал</th>\n",
       "                        <td id=\"T_68d07c1e_7320_11ec_b253_0242ac1c0002row5_col0\" class=\"data row5 col0\" >12,621.9</td>\n",
       "                        <td id=\"T_68d07c1e_7320_11ec_b253_0242ac1c0002row5_col1\" class=\"data row5 col1\" >54,111.8</td>\n",
       "                        <td id=\"T_68d07c1e_7320_11ec_b253_0242ac1c0002row5_col2\" class=\"data row5 col2\" >32,314.8</td>\n",
       "            </tr>\n",
       "            <tr>\n",
       "                        <th id=\"T_68d07c1e_7320_11ec_b253_0242ac1c0002level0_row6\" class=\"row_heading level0 row6\" >Начало карьеры, студенты</th>\n",
       "                        <td id=\"T_68d07c1e_7320_11ec_b253_0242ac1c0002row6_col0\" class=\"data row6 col0\" >12,975.9</td>\n",
       "                        <td id=\"T_68d07c1e_7320_11ec_b253_0242ac1c0002row6_col1\" class=\"data row6 col1\" >36,702.1</td>\n",
       "                        <td id=\"T_68d07c1e_7320_11ec_b253_0242ac1c0002row6_col2\" class=\"data row6 col2\" >23,053.2</td>\n",
       "            </tr>\n",
       "            <tr>\n",
       "                        <th id=\"T_68d07c1e_7320_11ec_b253_0242ac1c0002level0_row7\" class=\"row_heading level0 row7\" >Строительство, недвижимость</th>\n",
       "                        <td id=\"T_68d07c1e_7320_11ec_b253_0242ac1c0002row7_col0\" class=\"data row7 col0\" >19,456.4</td>\n",
       "                        <td id=\"T_68d07c1e_7320_11ec_b253_0242ac1c0002row7_col1\" class=\"data row7 col1\" >74,235.5</td>\n",
       "                        <td id=\"T_68d07c1e_7320_11ec_b253_0242ac1c0002row7_col2\" class=\"data row7 col2\" >45,836.4</td>\n",
       "            </tr>\n",
       "            <tr>\n",
       "                        <th id=\"T_68d07c1e_7320_11ec_b253_0242ac1c0002level0_row8\" class=\"row_heading level0 row8\" >Туризм, гостиницы, рестораны</th>\n",
       "                        <td id=\"T_68d07c1e_7320_11ec_b253_0242ac1c0002row8_col0\" class=\"data row8 col0\" >13,146.5</td>\n",
       "                        <td id=\"T_68d07c1e_7320_11ec_b253_0242ac1c0002row8_col1\" class=\"data row8 col1\" >38,022.2</td>\n",
       "                        <td id=\"T_68d07c1e_7320_11ec_b253_0242ac1c0002row8_col2\" class=\"data row8 col2\" >24,052.2</td>\n",
       "            </tr>\n",
       "            <tr>\n",
       "                        <th id=\"T_68d07c1e_7320_11ec_b253_0242ac1c0002level0_row9\" class=\"row_heading level0 row9\" >Спортивные клубы, фитнес, салоны красоты</th>\n",
       "                        <td id=\"T_68d07c1e_7320_11ec_b253_0242ac1c0002row9_col0\" class=\"data row9 col0\" >12,418.2</td>\n",
       "                        <td id=\"T_68d07c1e_7320_11ec_b253_0242ac1c0002row9_col1\" class=\"data row9 col1\" >34,212.3</td>\n",
       "                        <td id=\"T_68d07c1e_7320_11ec_b253_0242ac1c0002row9_col2\" class=\"data row9 col2\" >17,309.7</td>\n",
       "            </tr>\n",
       "            <tr>\n",
       "                        <th id=\"T_68d07c1e_7320_11ec_b253_0242ac1c0002level0_row10\" class=\"row_heading level0 row10\" >Бухгалтерия, управленческий учет, финансы предприятия</th>\n",
       "                        <td id=\"T_68d07c1e_7320_11ec_b253_0242ac1c0002row10_col0\" class=\"data row10 col0\" >14,919.6</td>\n",
       "                        <td id=\"T_68d07c1e_7320_11ec_b253_0242ac1c0002row10_col1\" class=\"data row10 col1\" >43,974.2</td>\n",
       "                        <td id=\"T_68d07c1e_7320_11ec_b253_0242ac1c0002row10_col2\" class=\"data row10 col2\" >30,213.7</td>\n",
       "            </tr>\n",
       "            <tr>\n",
       "                        <th id=\"T_68d07c1e_7320_11ec_b253_0242ac1c0002level0_row11\" class=\"row_heading level0 row11\" >Добыча сырья</th>\n",
       "                        <td id=\"T_68d07c1e_7320_11ec_b253_0242ac1c0002row11_col0\" class=\"data row11 col0\" >31,629.1</td>\n",
       "                        <td id=\"T_68d07c1e_7320_11ec_b253_0242ac1c0002row11_col1\" class=\"data row11 col1\" >108,334.2</td>\n",
       "                        <td id=\"T_68d07c1e_7320_11ec_b253_0242ac1c0002row11_col2\" class=\"data row11 col2\" >48,459.3</td>\n",
       "            </tr>\n",
       "            <tr>\n",
       "                        <th id=\"T_68d07c1e_7320_11ec_b253_0242ac1c0002level0_row12\" class=\"row_heading level0 row12\" >Административный персонал</th>\n",
       "                        <td id=\"T_68d07c1e_7320_11ec_b253_0242ac1c0002row12_col0\" class=\"data row12 col0\" >12,676.1</td>\n",
       "                        <td id=\"T_68d07c1e_7320_11ec_b253_0242ac1c0002row12_col1\" class=\"data row12 col1\" >35,656.6</td>\n",
       "                        <td id=\"T_68d07c1e_7320_11ec_b253_0242ac1c0002row12_col2\" class=\"data row12 col2\" >18,884.6</td>\n",
       "            </tr>\n",
       "            <tr>\n",
       "                        <th id=\"T_68d07c1e_7320_11ec_b253_0242ac1c0002level0_row13\" class=\"row_heading level0 row13\" >Искусство, развлечения, масс-медиа</th>\n",
       "                        <td id=\"T_68d07c1e_7320_11ec_b253_0242ac1c0002row13_col0\" class=\"data row13 col0\" >12,933.1</td>\n",
       "                        <td id=\"T_68d07c1e_7320_11ec_b253_0242ac1c0002row13_col1\" class=\"data row13 col1\" >33,520.3</td>\n",
       "                        <td id=\"T_68d07c1e_7320_11ec_b253_0242ac1c0002row13_col2\" class=\"data row13 col2\" >15,151.2</td>\n",
       "            </tr>\n",
       "            <tr>\n",
       "                        <th id=\"T_68d07c1e_7320_11ec_b253_0242ac1c0002level0_row14\" class=\"row_heading level0 row14\" >Безопасность</th>\n",
       "                        <td id=\"T_68d07c1e_7320_11ec_b253_0242ac1c0002row14_col0\" class=\"data row14 col0\" >10,044.9</td>\n",
       "                        <td id=\"T_68d07c1e_7320_11ec_b253_0242ac1c0002row14_col1\" class=\"data row14 col1\" >44,635.5</td>\n",
       "                        <td id=\"T_68d07c1e_7320_11ec_b253_0242ac1c0002row14_col2\" class=\"data row14 col2\" >22,530.2</td>\n",
       "            </tr>\n",
       "            <tr>\n",
       "                        <th id=\"T_68d07c1e_7320_11ec_b253_0242ac1c0002level0_row15\" class=\"row_heading level0 row15\" >Банки, инвестиции, лизинг</th>\n",
       "                        <td id=\"T_68d07c1e_7320_11ec_b253_0242ac1c0002row15_col0\" class=\"data row15 col0\" >10,499.2</td>\n",
       "                        <td id=\"T_68d07c1e_7320_11ec_b253_0242ac1c0002row15_col1\" class=\"data row15 col1\" >45,596.8</td>\n",
       "                        <td id=\"T_68d07c1e_7320_11ec_b253_0242ac1c0002row15_col2\" class=\"data row15 col2\" >22,826.8</td>\n",
       "            </tr>\n",
       "            <tr>\n",
       "                        <th id=\"T_68d07c1e_7320_11ec_b253_0242ac1c0002level0_row16\" class=\"row_heading level0 row16\" >Маркетинг, реклама, PR</th>\n",
       "                        <td id=\"T_68d07c1e_7320_11ec_b253_0242ac1c0002row16_col0\" class=\"data row16 col0\" >15,903.7</td>\n",
       "                        <td id=\"T_68d07c1e_7320_11ec_b253_0242ac1c0002row16_col1\" class=\"data row16 col1\" >37,627.9</td>\n",
       "                        <td id=\"T_68d07c1e_7320_11ec_b253_0242ac1c0002row16_col2\" class=\"data row16 col2\" >18,119.0</td>\n",
       "            </tr>\n",
       "            <tr>\n",
       "                        <th id=\"T_68d07c1e_7320_11ec_b253_0242ac1c0002level0_row17\" class=\"row_heading level0 row17\" >Управление персоналом, тренинги</th>\n",
       "                        <td id=\"T_68d07c1e_7320_11ec_b253_0242ac1c0002row17_col0\" class=\"data row17 col0\" >20,696.7</td>\n",
       "                        <td id=\"T_68d07c1e_7320_11ec_b253_0242ac1c0002row17_col1\" class=\"data row17 col1\" >47,184.9</td>\n",
       "                        <td id=\"T_68d07c1e_7320_11ec_b253_0242ac1c0002row17_col2\" class=\"data row17 col2\" >41,016.0</td>\n",
       "            </tr>\n",
       "            <tr>\n",
       "                        <th id=\"T_68d07c1e_7320_11ec_b253_0242ac1c0002level0_row18\" class=\"row_heading level0 row18\" >Страхование</th>\n",
       "                        <td id=\"T_68d07c1e_7320_11ec_b253_0242ac1c0002row18_col0\" class=\"data row18 col0\" >7,211.8</td>\n",
       "                        <td id=\"T_68d07c1e_7320_11ec_b253_0242ac1c0002row18_col1\" class=\"data row18 col1\" >36,443.0</td>\n",
       "                        <td id=\"T_68d07c1e_7320_11ec_b253_0242ac1c0002row18_col2\" class=\"data row18 col2\" >11,194.9</td>\n",
       "            </tr>\n",
       "            <tr>\n",
       "                        <th id=\"T_68d07c1e_7320_11ec_b253_0242ac1c0002level0_row19\" class=\"row_heading level0 row19\" >Закупки</th>\n",
       "                        <td id=\"T_68d07c1e_7320_11ec_b253_0242ac1c0002row19_col0\" class=\"data row19 col0\" >15,628.2</td>\n",
       "                        <td id=\"T_68d07c1e_7320_11ec_b253_0242ac1c0002row19_col1\" class=\"data row19 col1\" >44,947.7</td>\n",
       "                        <td id=\"T_68d07c1e_7320_11ec_b253_0242ac1c0002row19_col2\" class=\"data row19 col2\" >20,558.6</td>\n",
       "            </tr>\n",
       "            <tr>\n",
       "                        <th id=\"T_68d07c1e_7320_11ec_b253_0242ac1c0002level0_row20\" class=\"row_heading level0 row20\" >Автомобильный бизнес</th>\n",
       "                        <td id=\"T_68d07c1e_7320_11ec_b253_0242ac1c0002row20_col0\" class=\"data row20 col0\" >16,194.8</td>\n",
       "                        <td id=\"T_68d07c1e_7320_11ec_b253_0242ac1c0002row20_col1\" class=\"data row20 col1\" >56,892.4</td>\n",
       "                        <td id=\"T_68d07c1e_7320_11ec_b253_0242ac1c0002row20_col2\" class=\"data row20 col2\" >29,560.1</td>\n",
       "            </tr>\n",
       "            <tr>\n",
       "                        <th id=\"T_68d07c1e_7320_11ec_b253_0242ac1c0002level0_row21\" class=\"row_heading level0 row21\" >Государственная служба, некоммерческие организации</th>\n",
       "                        <td id=\"T_68d07c1e_7320_11ec_b253_0242ac1c0002row21_col0\" class=\"data row21 col0\" >9,847.3</td>\n",
       "                        <td id=\"T_68d07c1e_7320_11ec_b253_0242ac1c0002row21_col1\" class=\"data row21 col1\" >32,956.3</td>\n",
       "                        <td id=\"T_68d07c1e_7320_11ec_b253_0242ac1c0002row21_col2\" class=\"data row21 col2\" >14,705.7</td>\n",
       "            </tr>\n",
       "            <tr>\n",
       "                        <th id=\"T_68d07c1e_7320_11ec_b253_0242ac1c0002level0_row22\" class=\"row_heading level0 row22\" >Высший менеджмент</th>\n",
       "                        <td id=\"T_68d07c1e_7320_11ec_b253_0242ac1c0002row22_col0\" class=\"data row22 col0\" >32,889.2</td>\n",
       "                        <td id=\"T_68d07c1e_7320_11ec_b253_0242ac1c0002row22_col1\" class=\"data row22 col1\" >104,284.9</td>\n",
       "                        <td id=\"T_68d07c1e_7320_11ec_b253_0242ac1c0002row22_col2\" class=\"data row22 col2\" >90,833.2</td>\n",
       "            </tr>\n",
       "            <tr>\n",
       "                        <th id=\"T_68d07c1e_7320_11ec_b253_0242ac1c0002level0_row23\" class=\"row_heading level0 row23\" >Инсталляция и сервис</th>\n",
       "                        <td id=\"T_68d07c1e_7320_11ec_b253_0242ac1c0002row23_col0\" class=\"data row23 col0\" >10,422.6</td>\n",
       "                        <td id=\"T_68d07c1e_7320_11ec_b253_0242ac1c0002row23_col1\" class=\"data row23 col1\" >46,684.5</td>\n",
       "                        <td id=\"T_68d07c1e_7320_11ec_b253_0242ac1c0002row23_col2\" class=\"data row23 col2\" >19,541.4</td>\n",
       "            </tr>\n",
       "            <tr>\n",
       "                        <th id=\"T_68d07c1e_7320_11ec_b253_0242ac1c0002level0_row24\" class=\"row_heading level0 row24\" >Юристы</th>\n",
       "                        <td id=\"T_68d07c1e_7320_11ec_b253_0242ac1c0002row24_col0\" class=\"data row24 col0\" >15,196.3</td>\n",
       "                        <td id=\"T_68d07c1e_7320_11ec_b253_0242ac1c0002row24_col1\" class=\"data row24 col1\" >43,117.4</td>\n",
       "                        <td id=\"T_68d07c1e_7320_11ec_b253_0242ac1c0002row24_col2\" class=\"data row24 col2\" >21,353.4</td>\n",
       "            </tr>\n",
       "            <tr>\n",
       "                        <th id=\"T_68d07c1e_7320_11ec_b253_0242ac1c0002level0_row25\" class=\"row_heading level0 row25\" >Наука, образование</th>\n",
       "                        <td id=\"T_68d07c1e_7320_11ec_b253_0242ac1c0002row25_col0\" class=\"data row25 col0\" >15,009.9</td>\n",
       "                        <td id=\"T_68d07c1e_7320_11ec_b253_0242ac1c0002row25_col1\" class=\"data row25 col1\" >29,807.5</td>\n",
       "                        <td id=\"T_68d07c1e_7320_11ec_b253_0242ac1c0002row25_col2\" class=\"data row25 col2\" >20,867.0</td>\n",
       "            </tr>\n",
       "            <tr>\n",
       "                        <th id=\"T_68d07c1e_7320_11ec_b253_0242ac1c0002level0_row26\" class=\"row_heading level0 row26\" >Консультирование</th>\n",
       "                        <td id=\"T_68d07c1e_7320_11ec_b253_0242ac1c0002row26_col0\" class=\"data row26 col0\" >16,376.4</td>\n",
       "                        <td id=\"T_68d07c1e_7320_11ec_b253_0242ac1c0002row26_col1\" class=\"data row26 col1\" >46,424.2</td>\n",
       "                        <td id=\"T_68d07c1e_7320_11ec_b253_0242ac1c0002row26_col2\" class=\"data row26 col2\" >38,721.0</td>\n",
       "            </tr>\n",
       "            <tr>\n",
       "                        <th id=\"T_68d07c1e_7320_11ec_b253_0242ac1c0002level0_row27\" class=\"row_heading level0 row27\" >Домашний персонал</th>\n",
       "                        <td id=\"T_68d07c1e_7320_11ec_b253_0242ac1c0002row27_col0\" class=\"data row27 col0\" >33,256.9</td>\n",
       "                        <td id=\"T_68d07c1e_7320_11ec_b253_0242ac1c0002row27_col1\" class=\"data row27 col1\" >49,647.8</td>\n",
       "                        <td id=\"T_68d07c1e_7320_11ec_b253_0242ac1c0002row27_col2\" class=\"data row27 col2\" >55,590.3</td>\n",
       "            </tr>\n",
       "            <tr>\n",
       "                        <th id=\"T_68d07c1e_7320_11ec_b253_0242ac1c0002level0_row28\" class=\"row_heading level0 row28\" >Total</th>\n",
       "                        <td id=\"T_68d07c1e_7320_11ec_b253_0242ac1c0002row28_col0\" class=\"data row28 col0\" >13,985.8</td>\n",
       "                        <td id=\"T_68d07c1e_7320_11ec_b253_0242ac1c0002row28_col1\" class=\"data row28 col1\" >48,100.2</td>\n",
       "                        <td id=\"T_68d07c1e_7320_11ec_b253_0242ac1c0002row28_col2\" class=\"data row28 col2\" >38,181.4</td>\n",
       "            </tr>\n",
       "    </tbody></table>"
      ],
      "text/plain": [
       "<pandas.io.formats.style.Styler at 0x7fec4b518650>"
      ]
     },
     "execution_count": 57,
     "metadata": {},
     "output_type": "execute_result"
    }
   ],
   "source": [
    "regression_report_raw = pd.DataFrame(regression_report)\n",
    "regression_report_raw.columns = ['MAE', 'salary_from_mean', 'salary_from_std']\n",
    "regression_report_raw.index = np.append(salary['true'].unique(), 'Total')\n",
    "regression_report_raw.style.format(formatter='{:,.1f}').background_gradient()"
   ]
  },
  {
   "cell_type": "markdown",
   "metadata": {
    "id": "B0I1FPhl5U49"
   },
   "source": [
    "<a id='lem_desc_resp_con_tfidf_Ridge_10_Rus'></a>\n",
    "## lem_desc_resp_con_tfidf_Ridge_10_Rus\n",
    "[к содержанию](#ксодержанию)"
   ]
  },
  {
   "cell_type": "markdown",
   "metadata": {
    "id": "SAXTR6ub5Kax"
   },
   "source": [
    "<a id='Моделируемlem_desc_resp_con_tfidf_Ridge_10_Rus'></a>\n",
    "### Моделируем\n",
    "[к содержанию](#ксодержанию)"
   ]
  },
  {
   "cell_type": "code",
   "execution_count": 4,
   "metadata": {
    "colab": {
     "base_uri": "https://localhost:8080/"
    },
    "id": "kVm2Qh305KbO",
    "outputId": "78742b00-b96f-4d2c-f6f3-2323b70cbec2"
   },
   "outputs": [
    {
     "name": "stderr",
     "output_type": "stream",
     "text": [
      "C:\\Users\\Lisa\\MSU_diploma\\src\\models\\utils.py:23: SettingWithCopyWarning: \n",
      "A value is trying to be set on a copy of a slice from a DataFrame\n",
      "\n",
      "See the caveats in the documentation: https://pandas.pydata.org/pandas-docs/stable/user_guide/indexing.html#returning-a-view-versus-a-copy\n",
      "  df['salary_from'][df['salary_currency'] == curr] = df['salary_from'][df['salary_currency'] == curr].apply(lambda x: x*currency[curr])\n"
     ]
    }
   ],
   "source": [
    "df = pd.read_csv('vacancies_lemmatized.csv')\n",
    "df = df[df['country_name'] == 'Россия']\n",
    "utils.salary_process(df)"
   ]
  },
  {
   "cell_type": "code",
   "execution_count": 8,
   "metadata": {
    "id": "VsKrV2WN5KbP"
   },
   "outputs": [],
   "source": [
    "X = df[['raw_description', 'salary_from', 'lem_desc_resp', 'lem_desc_con']].dropna()\n",
    "X_train, X_test, y_train, y_test = train_test_split(X[['raw_description', 'lem_desc_resp', 'lem_desc_con']], X['salary_from'], test_size=0.2, random_state=42)"
   ]
  },
  {
   "cell_type": "code",
   "execution_count": 9,
   "metadata": {
    "id": "T5rCG5MX5KbQ"
   },
   "outputs": [],
   "source": [
    "tfidf = TfidfVectorizer(sublinear_tf=True, min_df=5,\n",
    "                        ngram_range=(1, 2), \n",
    "                        stop_words={'russian', 'english'}, max_features=10000)\n",
    "tfidf.fit(X_train['raw_description'])\n",
    "features = tfidf.transform(X_train['raw_description'])"
   ]
  },
  {
   "cell_type": "code",
   "execution_count": 10,
   "metadata": {},
   "outputs": [],
   "source": [
    "tfidf2 = TfidfVectorizer(sublinear_tf=True, min_df=5,\n",
    "                        ngram_range=(1, 2), \n",
    "                        stop_words={'russian', 'english'}, max_features=10000)\n",
    "tfidf2.fit(X_train['lem_desc_resp'])\n",
    "features2 = tfidf2.transform(X_train['lem_desc_resp'])\n",
    "\n",
    "tfidf3 = TfidfVectorizer(sublinear_tf=True, min_df=5,\n",
    "                        ngram_range=(1, 2), \n",
    "                        stop_words={'russian', 'english'}, max_features=10000)\n",
    "tfidf3.fit(X_train['lem_desc_con'])\n",
    "features3 = tfidf3.transform(X_train['lem_desc_con'])"
   ]
  },
  {
   "cell_type": "code",
   "execution_count": 15,
   "metadata": {
    "id": "JHhErCft5KbR"
   },
   "outputs": [],
   "source": [
    "# Сохраняем tfidf.vocabulary_\n",
    "pickle.dump(tfidf.vocabulary_,open(\"../models/lem_desc_resp_con_tfidf_Ridge_10_Rus/lem_desc_tfidf.pkl\",\"wb\"))\n",
    "pickle.dump(tfidf2.vocabulary_,open(\"../models/lem_desc_resp_con_tfidf_Ridge_10_Rus/lem_desc_resp_tfidf.pkl\",\"wb\"))\n",
    "pickle.dump(tfidf3.vocabulary_,open(\"../models/lem_desc_resp_con_tfidf_Ridge_10_Ruslem_desc_con_tfidf.pkl\",\"wb\"))"
   ]
  },
  {
   "cell_type": "code",
   "execution_count": 14,
   "metadata": {},
   "outputs": [],
   "source": [
    "features = sp.hstack((features, features2, features3))"
   ]
  },
  {
   "cell_type": "code",
   "execution_count": 16,
   "metadata": {
    "id": "UeTzi9tT5KbR"
   },
   "outputs": [],
   "source": [
    "del X_train"
   ]
  },
  {
   "cell_type": "code",
   "execution_count": 17,
   "metadata": {
    "colab": {
     "base_uri": "https://localhost:8080/"
    },
    "id": "3O2ashTJ5KbS",
    "outputId": "810f8e52-4516-4722-8492-06f774f2e3b5"
   },
   "outputs": [
    {
     "data": {
      "text/plain": [
       "Ridge(alpha=1.0, copy_X=True, fit_intercept=True, max_iter=None,\n",
       "      normalize=False, random_state=None, solver='auto', tol=0.001)"
      ]
     },
     "execution_count": 17,
     "metadata": {},
     "output_type": "execute_result"
    }
   ],
   "source": [
    "model = Ridge()\n",
    "model.fit(features, y_train)"
   ]
  },
  {
   "cell_type": "code",
   "execution_count": 18,
   "metadata": {
    "id": "XYedpGE-5KbU"
   },
   "outputs": [],
   "source": [
    "del features"
   ]
  },
  {
   "cell_type": "code",
   "execution_count": 19,
   "metadata": {
    "id": "aS_l38eX5KbU"
   },
   "outputs": [],
   "source": [
    "features_test = tfidf.transform(X_test['raw_description'])"
   ]
  },
  {
   "cell_type": "code",
   "execution_count": 20,
   "metadata": {},
   "outputs": [],
   "source": [
    "features_test2 = tfidf2.transform(X_test['lem_desc_resp'])\n",
    "features_test3 = tfidf3.transform(X_test['lem_desc_con'])"
   ]
  },
  {
   "cell_type": "code",
   "execution_count": 22,
   "metadata": {},
   "outputs": [],
   "source": [
    "features_test = sp.hstack((features_test, features_test2, features_test3))"
   ]
  },
  {
   "cell_type": "code",
   "execution_count": 23,
   "metadata": {
    "id": "UgU-OX4J5KbV"
   },
   "outputs": [],
   "source": [
    "y_pred = model.predict(features_test)"
   ]
  },
  {
   "cell_type": "code",
   "execution_count": 24,
   "metadata": {
    "colab": {
     "base_uri": "https://localhost:8080/"
    },
    "id": "dBLU66ka5KbW",
    "outputId": "34164e57-86aa-4304-c206-7068440dcd9f"
   },
   "outputs": [
    {
     "data": {
      "text/plain": [
       "['../models/lem_desc_resp_con_tfidf_Ridge_10_Rus/y_pred.pkl']"
      ]
     },
     "execution_count": 24,
     "metadata": {},
     "output_type": "execute_result"
    }
   ],
   "source": [
    "# Сохраняем модель и y_pred\n",
    "joblib.dump(model, '../models/lem_desc_resp_con_tfidf_Ridge_10_Rus/model.pkl', compress=8)\n",
    "joblib.dump(y_pred, '../models/lem_desc_resp_con_tfidf_Ridge_10_Rus/y_pred.pkl')"
   ]
  },
  {
   "cell_type": "markdown",
   "metadata": {
    "id": "_I2ZJuzs5KbW"
   },
   "source": [
    "<a id='Отчётlem_desc_resp_con_tfidf_Ridge_10_Rus'></a>\n",
    "### Отчёт\n",
    "[к содержанию](#ксодержанию)"
   ]
  },
  {
   "cell_type": "code",
   "execution_count": 25,
   "metadata": {
    "id": "sbedRe7q5KbX"
   },
   "outputs": [],
   "source": [
    "regression_report, salary = utils.report_regression(df[['salary_from', 'prof_area']].dropna(), y_test, y_pred, 'prof_area')"
   ]
  },
  {
   "cell_type": "code",
   "execution_count": 26,
   "metadata": {
    "colab": {
     "base_uri": "https://localhost:8080/",
     "height": 958
    },
    "id": "hx42a1_C5KbY",
    "outputId": "a0e336a2-7923-432b-fd02-6671302c207c",
    "scrolled": true
   },
   "outputs": [
    {
     "data": {
      "text/html": [
       "<style type=\"text/css\">\n",
       "#T_93e5e_row0_col0, #T_93e5e_row14_col2 {\n",
       "  background-color: #e8e4f0;\n",
       "  color: #000000;\n",
       "}\n",
       "#T_93e5e_row0_col1 {\n",
       "  background-color: #eee9f3;\n",
       "  color: #000000;\n",
       "}\n",
       "#T_93e5e_row0_col2 {\n",
       "  background-color: #dcdaeb;\n",
       "  color: #000000;\n",
       "}\n",
       "#T_93e5e_row1_col0 {\n",
       "  background-color: #99b8d8;\n",
       "  color: #000000;\n",
       "}\n",
       "#T_93e5e_row1_col1, #T_93e5e_row20_col1, #T_93e5e_row26_col2 {\n",
       "  background-color: #b0c2de;\n",
       "  color: #000000;\n",
       "}\n",
       "#T_93e5e_row1_col2 {\n",
       "  background-color: #045788;\n",
       "  color: #f1f1f1;\n",
       "}\n",
       "#T_93e5e_row2_col0 {\n",
       "  background-color: #b8c6e0;\n",
       "  color: #000000;\n",
       "}\n",
       "#T_93e5e_row2_col1, #T_93e5e_row17_col2 {\n",
       "  background-color: #a7bddb;\n",
       "  color: #000000;\n",
       "}\n",
       "#T_93e5e_row2_col2 {\n",
       "  background-color: #b9c6e0;\n",
       "  color: #000000;\n",
       "}\n",
       "#T_93e5e_row3_col0, #T_93e5e_row18_col0, #T_93e5e_row18_col2, #T_93e5e_row25_col1 {\n",
       "  background-color: #fff7fb;\n",
       "  color: #000000;\n",
       "}\n",
       "#T_93e5e_row3_col1, #T_93e5e_row5_col2 {\n",
       "  background-color: #cccfe5;\n",
       "  color: #000000;\n",
       "}\n",
       "#T_93e5e_row3_col2 {\n",
       "  background-color: #dad9ea;\n",
       "  color: #000000;\n",
       "}\n",
       "#T_93e5e_row4_col0, #T_93e5e_row7_col0 {\n",
       "  background-color: #83afd3;\n",
       "  color: #f1f1f1;\n",
       "}\n",
       "#T_93e5e_row4_col1, #T_93e5e_row20_col2, #T_93e5e_row28_col1 {\n",
       "  background-color: #d4d4e8;\n",
       "  color: #000000;\n",
       "}\n",
       "#T_93e5e_row4_col2, #T_93e5e_row10_col0 {\n",
       "  background-color: #bdc8e1;\n",
       "  color: #000000;\n",
       "}\n",
       "#T_93e5e_row5_col0 {\n",
       "  background-color: #e3e0ee;\n",
       "  color: #000000;\n",
       "}\n",
       "#T_93e5e_row5_col1 {\n",
       "  background-color: #bcc7e1;\n",
       "  color: #000000;\n",
       "}\n",
       "#T_93e5e_row6_col0, #T_93e5e_row15_col1 {\n",
       "  background-color: #dbdaeb;\n",
       "  color: #000000;\n",
       "}\n",
       "#T_93e5e_row6_col1, #T_93e5e_row16_col2, #T_93e5e_row18_col1, #T_93e5e_row23_col0 {\n",
       "  background-color: #f2ecf5;\n",
       "  color: #000000;\n",
       "}\n",
       "#T_93e5e_row6_col2, #T_93e5e_row15_col2 {\n",
       "  background-color: #e7e3f0;\n",
       "  color: #000000;\n",
       "}\n",
       "#T_93e5e_row7_col1 {\n",
       "  background-color: #549cc7;\n",
       "  color: #f1f1f1;\n",
       "}\n",
       "#T_93e5e_row7_col2 {\n",
       "  background-color: #8eb3d5;\n",
       "  color: #000000;\n",
       "}\n",
       "#T_93e5e_row8_col0, #T_93e5e_row17_col1 {\n",
       "  background-color: #d7d6e9;\n",
       "  color: #000000;\n",
       "}\n",
       "#T_93e5e_row8_col1, #T_93e5e_row16_col1, #T_93e5e_row23_col2 {\n",
       "  background-color: #f0eaf4;\n",
       "  color: #000000;\n",
       "}\n",
       "#T_93e5e_row8_col2, #T_93e5e_row9_col0 {\n",
       "  background-color: #e4e1ef;\n",
       "  color: #000000;\n",
       "}\n",
       "#T_93e5e_row9_col1 {\n",
       "  background-color: #f7f0f7;\n",
       "  color: #000000;\n",
       "}\n",
       "#T_93e5e_row9_col2, #T_93e5e_row12_col1 {\n",
       "  background-color: #f4edf6;\n",
       "  color: #000000;\n",
       "}\n",
       "#T_93e5e_row10_col1 {\n",
       "  background-color: #e0dded;\n",
       "  color: #000000;\n",
       "}\n",
       "#T_93e5e_row10_col2 {\n",
       "  background-color: #d2d3e7;\n",
       "  color: #000000;\n",
       "}\n",
       "#T_93e5e_row11_col0 {\n",
       "  background-color: #04588a;\n",
       "  color: #f1f1f1;\n",
       "}\n",
       "#T_93e5e_row11_col1, #T_93e5e_row22_col0, #T_93e5e_row22_col2 {\n",
       "  background-color: #023858;\n",
       "  color: #f1f1f1;\n",
       "}\n",
       "#T_93e5e_row11_col2, #T_93e5e_row17_col0 {\n",
       "  background-color: #81aed2;\n",
       "  color: #f1f1f1;\n",
       "}\n",
       "#T_93e5e_row12_col0, #T_93e5e_row26_col1 {\n",
       "  background-color: #d9d8ea;\n",
       "  color: #000000;\n",
       "}\n",
       "#T_93e5e_row12_col2 {\n",
       "  background-color: #f1ebf4;\n",
       "  color: #000000;\n",
       "}\n",
       "#T_93e5e_row13_col0 {\n",
       "  background-color: #b7c5df;\n",
       "  color: #000000;\n",
       "}\n",
       "#T_93e5e_row13_col1, #T_93e5e_row13_col2, #T_93e5e_row21_col2 {\n",
       "  background-color: #f8f1f8;\n",
       "  color: #000000;\n",
       "}\n",
       "#T_93e5e_row14_col0 {\n",
       "  background-color: #f5eef6;\n",
       "  color: #000000;\n",
       "}\n",
       "#T_93e5e_row14_col1 {\n",
       "  background-color: #dedcec;\n",
       "  color: #000000;\n",
       "}\n",
       "#T_93e5e_row15_col0 {\n",
       "  background-color: #f3edf5;\n",
       "  color: #000000;\n",
       "}\n",
       "#T_93e5e_row16_col0 {\n",
       "  background-color: #afc1dd;\n",
       "  color: #000000;\n",
       "}\n",
       "#T_93e5e_row19_col0 {\n",
       "  background-color: #9fbad9;\n",
       "  color: #000000;\n",
       "}\n",
       "#T_93e5e_row19_col1 {\n",
       "  background-color: #dddbec;\n",
       "  color: #000000;\n",
       "}\n",
       "#T_93e5e_row19_col2 {\n",
       "  background-color: #ede8f3;\n",
       "  color: #000000;\n",
       "}\n",
       "#T_93e5e_row20_col0 {\n",
       "  background-color: #b4c4df;\n",
       "  color: #000000;\n",
       "}\n",
       "#T_93e5e_row21_col0 {\n",
       "  background-color: #f4eef6;\n",
       "  color: #000000;\n",
       "}\n",
       "#T_93e5e_row21_col1 {\n",
       "  background-color: #f9f2f8;\n",
       "  color: #000000;\n",
       "}\n",
       "#T_93e5e_row22_col1 {\n",
       "  background-color: #03466e;\n",
       "  color: #f1f1f1;\n",
       "}\n",
       "#T_93e5e_row23_col1 {\n",
       "  background-color: #d8d7e9;\n",
       "  color: #000000;\n",
       "}\n",
       "#T_93e5e_row24_col0 {\n",
       "  background-color: #abbfdc;\n",
       "  color: #000000;\n",
       "}\n",
       "#T_93e5e_row24_col1 {\n",
       "  background-color: #e2dfee;\n",
       "  color: #000000;\n",
       "}\n",
       "#T_93e5e_row24_col2 {\n",
       "  background-color: #ece7f2;\n",
       "  color: #000000;\n",
       "}\n",
       "#T_93e5e_row25_col0 {\n",
       "  background-color: #c1cae2;\n",
       "  color: #000000;\n",
       "}\n",
       "#T_93e5e_row25_col2 {\n",
       "  background-color: #ede7f2;\n",
       "  color: #000000;\n",
       "}\n",
       "#T_93e5e_row26_col0 {\n",
       "  background-color: #ced0e6;\n",
       "  color: #000000;\n",
       "}\n",
       "#T_93e5e_row27_col0 {\n",
       "  background-color: #023e62;\n",
       "  color: #f1f1f1;\n",
       "}\n",
       "#T_93e5e_row27_col1 {\n",
       "  background-color: #d0d1e6;\n",
       "  color: #000000;\n",
       "}\n",
       "#T_93e5e_row27_col2 {\n",
       "  background-color: #589ec8;\n",
       "  color: #f1f1f1;\n",
       "}\n",
       "#T_93e5e_row28_col0 {\n",
       "  background-color: #d2d2e7;\n",
       "  color: #000000;\n",
       "}\n",
       "#T_93e5e_row28_col2 {\n",
       "  background-color: #b3c3de;\n",
       "  color: #000000;\n",
       "}\n",
       "</style>\n",
       "<table id=\"T_93e5e_\">\n",
       "  <thead>\n",
       "    <tr>\n",
       "      <th class=\"blank level0\" >&nbsp;</th>\n",
       "      <th class=\"col_heading level0 col0\" >MAE</th>\n",
       "      <th class=\"col_heading level0 col1\" >salary_from_mean</th>\n",
       "      <th class=\"col_heading level0 col2\" >salary_from_std</th>\n",
       "    </tr>\n",
       "  </thead>\n",
       "  <tbody>\n",
       "    <tr>\n",
       "      <th id=\"T_93e5e_level0_row0\" class=\"row_heading level0 row0\" >Продажи</th>\n",
       "      <td id=\"T_93e5e_row0_col0\" class=\"data row0 col0\" >11,825.9</td>\n",
       "      <td id=\"T_93e5e_row0_col1\" class=\"data row0 col1\" >38,688.7</td>\n",
       "      <td id=\"T_93e5e_row0_col2\" class=\"data row0 col2\" >26,803.7</td>\n",
       "    </tr>\n",
       "    <tr>\n",
       "      <th id=\"T_93e5e_level0_row1\" class=\"row_heading level0 row1\" >Производство, сельское хозяйство</th>\n",
       "      <td id=\"T_93e5e_row1_col0\" class=\"data row1 col0\" >18,063.2</td>\n",
       "      <td id=\"T_93e5e_row1_col1\" class=\"data row1 col1\" >56,875.1</td>\n",
       "      <td id=\"T_93e5e_row1_col2\" class=\"data row1 col2\" >81,732.8</td>\n",
       "    </tr>\n",
       "    <tr>\n",
       "      <th id=\"T_93e5e_level0_row2\" class=\"row_heading level0 row2\" >Транспорт, логистика</th>\n",
       "      <td id=\"T_93e5e_row2_col0\" class=\"data row2 col0\" >15,986.3</td>\n",
       "      <td id=\"T_93e5e_row2_col1\" class=\"data row2 col1\" >59,084.2</td>\n",
       "      <td id=\"T_93e5e_row2_col2\" class=\"data row2 col2\" >36,609.6</td>\n",
       "    </tr>\n",
       "    <tr>\n",
       "      <th id=\"T_93e5e_level0_row3\" class=\"row_heading level0 row3\" >Медицина, фармацевтика</th>\n",
       "      <td id=\"T_93e5e_row3_col0\" class=\"data row3 col0\" >8,554.1</td>\n",
       "      <td id=\"T_93e5e_row3_col1\" class=\"data row3 col1\" >50,545.3</td>\n",
       "      <td id=\"T_93e5e_row3_col2\" class=\"data row3 col2\" >27,492.8</td>\n",
       "    </tr>\n",
       "    <tr>\n",
       "      <th id=\"T_93e5e_level0_row4\" class=\"row_heading level0 row4\" >Информационные технологии, интернет, телеком</th>\n",
       "      <td id=\"T_93e5e_row4_col0\" class=\"data row4 col0\" >19,275.4</td>\n",
       "      <td id=\"T_93e5e_row4_col1\" class=\"data row4 col1\" >47,960.1</td>\n",
       "      <td id=\"T_93e5e_row4_col2\" class=\"data row4 col2\" >35,573.2</td>\n",
       "    </tr>\n",
       "    <tr>\n",
       "      <th id=\"T_93e5e_level0_row5\" class=\"row_heading level0 row5\" >Рабочий персонал</th>\n",
       "      <td id=\"T_93e5e_row5_col0\" class=\"data row5 col0\" >12,423.2</td>\n",
       "      <td id=\"T_93e5e_row5_col1\" class=\"data row5 col1\" >54,111.8</td>\n",
       "      <td id=\"T_93e5e_row5_col2\" class=\"data row5 col2\" >32,314.8</td>\n",
       "    </tr>\n",
       "    <tr>\n",
       "      <th id=\"T_93e5e_level0_row6\" class=\"row_heading level0 row6\" >Начало карьеры, студенты</th>\n",
       "      <td id=\"T_93e5e_row6_col0\" class=\"data row6 col0\" >13,190.9</td>\n",
       "      <td id=\"T_93e5e_row6_col1\" class=\"data row6 col1\" >36,702.1</td>\n",
       "      <td id=\"T_93e5e_row6_col2\" class=\"data row6 col2\" >23,053.2</td>\n",
       "    </tr>\n",
       "    <tr>\n",
       "      <th id=\"T_93e5e_level0_row7\" class=\"row_heading level0 row7\" >Строительство, недвижимость</th>\n",
       "      <td id=\"T_93e5e_row7_col0\" class=\"data row7 col0\" >19,261.0</td>\n",
       "      <td id=\"T_93e5e_row7_col1\" class=\"data row7 col1\" >74,235.5</td>\n",
       "      <td id=\"T_93e5e_row7_col2\" class=\"data row7 col2\" >45,836.4</td>\n",
       "    </tr>\n",
       "    <tr>\n",
       "      <th id=\"T_93e5e_level0_row8\" class=\"row_heading level0 row8\" >Туризм, гостиницы, рестораны</th>\n",
       "      <td id=\"T_93e5e_row8_col0\" class=\"data row8 col0\" >13,666.7</td>\n",
       "      <td id=\"T_93e5e_row8_col1\" class=\"data row8 col1\" >38,022.2</td>\n",
       "      <td id=\"T_93e5e_row8_col2\" class=\"data row8 col2\" >24,052.2</td>\n",
       "    </tr>\n",
       "    <tr>\n",
       "      <th id=\"T_93e5e_level0_row9\" class=\"row_heading level0 row9\" >Спортивные клубы, фитнес, салоны красоты</th>\n",
       "      <td id=\"T_93e5e_row9_col0\" class=\"data row9 col0\" >12,323.2</td>\n",
       "      <td id=\"T_93e5e_row9_col1\" class=\"data row9 col1\" >34,212.3</td>\n",
       "      <td id=\"T_93e5e_row9_col2\" class=\"data row9 col2\" >17,309.7</td>\n",
       "    </tr>\n",
       "    <tr>\n",
       "      <th id=\"T_93e5e_level0_row10\" class=\"row_heading level0 row10\" >Бухгалтерия, управленческий учет, финансы предприятия</th>\n",
       "      <td id=\"T_93e5e_row10_col0\" class=\"data row10 col0\" >15,683.1</td>\n",
       "      <td id=\"T_93e5e_row10_col1\" class=\"data row10 col1\" >43,974.2</td>\n",
       "      <td id=\"T_93e5e_row10_col2\" class=\"data row10 col2\" >30,213.7</td>\n",
       "    </tr>\n",
       "    <tr>\n",
       "      <th id=\"T_93e5e_level0_row11\" class=\"row_heading level0 row11\" >Добыча сырья</th>\n",
       "      <td id=\"T_93e5e_row11_col0\" class=\"data row11 col0\" >29,050.8</td>\n",
       "      <td id=\"T_93e5e_row11_col1\" class=\"data row11 col1\" >108,334.2</td>\n",
       "      <td id=\"T_93e5e_row11_col2\" class=\"data row11 col2\" >48,459.3</td>\n",
       "    </tr>\n",
       "    <tr>\n",
       "      <th id=\"T_93e5e_level0_row12\" class=\"row_heading level0 row12\" >Административный персонал</th>\n",
       "      <td id=\"T_93e5e_row12_col0\" class=\"data row12 col0\" >13,367.3</td>\n",
       "      <td id=\"T_93e5e_row12_col1\" class=\"data row12 col1\" >35,656.6</td>\n",
       "      <td id=\"T_93e5e_row12_col2\" class=\"data row12 col2\" >18,884.6</td>\n",
       "    </tr>\n",
       "    <tr>\n",
       "      <th id=\"T_93e5e_level0_row13\" class=\"row_heading level0 row13\" >Искусство, развлечения, масс-медиа</th>\n",
       "      <td id=\"T_93e5e_row13_col0\" class=\"data row13 col0\" >16,075.2</td>\n",
       "      <td id=\"T_93e5e_row13_col1\" class=\"data row13 col1\" >33,520.3</td>\n",
       "      <td id=\"T_93e5e_row13_col2\" class=\"data row13 col2\" >15,151.2</td>\n",
       "    </tr>\n",
       "    <tr>\n",
       "      <th id=\"T_93e5e_level0_row14\" class=\"row_heading level0 row14\" >Безопасность</th>\n",
       "      <td id=\"T_93e5e_row14_col0\" class=\"data row14 col0\" >10,145.5</td>\n",
       "      <td id=\"T_93e5e_row14_col1\" class=\"data row14 col1\" >44,635.5</td>\n",
       "      <td id=\"T_93e5e_row14_col2\" class=\"data row14 col2\" >22,530.2</td>\n",
       "    </tr>\n",
       "    <tr>\n",
       "      <th id=\"T_93e5e_level0_row15\" class=\"row_heading level0 row15\" >Банки, инвестиции, лизинг</th>\n",
       "      <td id=\"T_93e5e_row15_col0\" class=\"data row15 col0\" >10,411.5</td>\n",
       "      <td id=\"T_93e5e_row15_col1\" class=\"data row15 col1\" >45,596.8</td>\n",
       "      <td id=\"T_93e5e_row15_col2\" class=\"data row15 col2\" >22,826.8</td>\n",
       "    </tr>\n",
       "    <tr>\n",
       "      <th id=\"T_93e5e_level0_row16\" class=\"row_heading level0 row16\" >Маркетинг, реклама, PR</th>\n",
       "      <td id=\"T_93e5e_row16_col0\" class=\"data row16 col0\" >16,652.3</td>\n",
       "      <td id=\"T_93e5e_row16_col1\" class=\"data row16 col1\" >37,627.9</td>\n",
       "      <td id=\"T_93e5e_row16_col2\" class=\"data row16 col2\" >18,119.0</td>\n",
       "    </tr>\n",
       "    <tr>\n",
       "      <th id=\"T_93e5e_level0_row17\" class=\"row_heading level0 row17\" >Управление персоналом, тренинги</th>\n",
       "      <td id=\"T_93e5e_row17_col0\" class=\"data row17 col0\" >19,344.1</td>\n",
       "      <td id=\"T_93e5e_row17_col1\" class=\"data row17 col1\" >47,184.9</td>\n",
       "      <td id=\"T_93e5e_row17_col2\" class=\"data row17 col2\" >41,016.0</td>\n",
       "    </tr>\n",
       "    <tr>\n",
       "      <th id=\"T_93e5e_level0_row18\" class=\"row_heading level0 row18\" >Страхование</th>\n",
       "      <td id=\"T_93e5e_row18_col0\" class=\"data row18 col0\" >8,514.1</td>\n",
       "      <td id=\"T_93e5e_row18_col1\" class=\"data row18 col1\" >36,443.0</td>\n",
       "      <td id=\"T_93e5e_row18_col2\" class=\"data row18 col2\" >11,194.9</td>\n",
       "    </tr>\n",
       "    <tr>\n",
       "      <th id=\"T_93e5e_level0_row19\" class=\"row_heading level0 row19\" >Закупки</th>\n",
       "      <td id=\"T_93e5e_row19_col0\" class=\"data row19 col0\" >17,657.8</td>\n",
       "      <td id=\"T_93e5e_row19_col1\" class=\"data row19 col1\" >44,947.7</td>\n",
       "      <td id=\"T_93e5e_row19_col2\" class=\"data row19 col2\" >20,558.6</td>\n",
       "    </tr>\n",
       "    <tr>\n",
       "      <th id=\"T_93e5e_level0_row20\" class=\"row_heading level0 row20\" >Автомобильный бизнес</th>\n",
       "      <td id=\"T_93e5e_row20_col0\" class=\"data row20 col0\" >16,273.8</td>\n",
       "      <td id=\"T_93e5e_row20_col1\" class=\"data row20 col1\" >56,892.4</td>\n",
       "      <td id=\"T_93e5e_row20_col2\" class=\"data row20 col2\" >29,560.1</td>\n",
       "    </tr>\n",
       "    <tr>\n",
       "      <th id=\"T_93e5e_level0_row21\" class=\"row_heading level0 row21\" >Государственная служба, некоммерческие организации</th>\n",
       "      <td id=\"T_93e5e_row21_col0\" class=\"data row21 col0\" >10,206.3</td>\n",
       "      <td id=\"T_93e5e_row21_col1\" class=\"data row21 col1\" >32,956.3</td>\n",
       "      <td id=\"T_93e5e_row21_col2\" class=\"data row21 col2\" >14,705.7</td>\n",
       "    </tr>\n",
       "    <tr>\n",
       "      <th id=\"T_93e5e_level0_row22\" class=\"row_heading level0 row22\" >Высший менеджмент</th>\n",
       "      <td id=\"T_93e5e_row22_col0\" class=\"data row22 col0\" >31,811.5</td>\n",
       "      <td id=\"T_93e5e_row22_col1\" class=\"data row22 col1\" >104,284.9</td>\n",
       "      <td id=\"T_93e5e_row22_col2\" class=\"data row22 col2\" >90,833.2</td>\n",
       "    </tr>\n",
       "    <tr>\n",
       "      <th id=\"T_93e5e_level0_row23\" class=\"row_heading level0 row23\" >Инсталляция и сервис</th>\n",
       "      <td id=\"T_93e5e_row23_col0\" class=\"data row23 col0\" >10,499.6</td>\n",
       "      <td id=\"T_93e5e_row23_col1\" class=\"data row23 col1\" >46,684.5</td>\n",
       "      <td id=\"T_93e5e_row23_col2\" class=\"data row23 col2\" >19,541.4</td>\n",
       "    </tr>\n",
       "    <tr>\n",
       "      <th id=\"T_93e5e_level0_row24\" class=\"row_heading level0 row24\" >Юристы</th>\n",
       "      <td id=\"T_93e5e_row24_col0\" class=\"data row24 col0\" >16,921.5</td>\n",
       "      <td id=\"T_93e5e_row24_col1\" class=\"data row24 col1\" >43,117.4</td>\n",
       "      <td id=\"T_93e5e_row24_col2\" class=\"data row24 col2\" >21,353.4</td>\n",
       "    </tr>\n",
       "    <tr>\n",
       "      <th id=\"T_93e5e_level0_row25\" class=\"row_heading level0 row25\" >Наука, образование</th>\n",
       "      <td id=\"T_93e5e_row25_col0\" class=\"data row25 col0\" >15,368.0</td>\n",
       "      <td id=\"T_93e5e_row25_col1\" class=\"data row25 col1\" >29,807.5</td>\n",
       "      <td id=\"T_93e5e_row25_col2\" class=\"data row25 col2\" >20,867.0</td>\n",
       "    </tr>\n",
       "    <tr>\n",
       "      <th id=\"T_93e5e_level0_row26\" class=\"row_heading level0 row26\" >Консультирование</th>\n",
       "      <td id=\"T_93e5e_row26_col0\" class=\"data row26 col0\" >14,436.0</td>\n",
       "      <td id=\"T_93e5e_row26_col1\" class=\"data row26 col1\" >46,424.2</td>\n",
       "      <td id=\"T_93e5e_row26_col2\" class=\"data row26 col2\" >38,721.0</td>\n",
       "    </tr>\n",
       "    <tr>\n",
       "      <th id=\"T_93e5e_level0_row27\" class=\"row_heading level0 row27\" >Домашний персонал</th>\n",
       "      <td id=\"T_93e5e_row27_col0\" class=\"data row27 col0\" >31,223.5</td>\n",
       "      <td id=\"T_93e5e_row27_col1\" class=\"data row27 col1\" >49,647.8</td>\n",
       "      <td id=\"T_93e5e_row27_col2\" class=\"data row27 col2\" >55,590.3</td>\n",
       "    </tr>\n",
       "    <tr>\n",
       "      <th id=\"T_93e5e_level0_row28\" class=\"row_heading level0 row28\" >Total</th>\n",
       "      <td id=\"T_93e5e_row28_col0\" class=\"data row28 col0\" >14,184.6</td>\n",
       "      <td id=\"T_93e5e_row28_col1\" class=\"data row28 col1\" >48,100.2</td>\n",
       "      <td id=\"T_93e5e_row28_col2\" class=\"data row28 col2\" >38,181.4</td>\n",
       "    </tr>\n",
       "  </tbody>\n",
       "</table>\n"
      ],
      "text/plain": [
       "<pandas.io.formats.style.Styler at 0x1ca514035c8>"
      ]
     },
     "execution_count": 26,
     "metadata": {},
     "output_type": "execute_result"
    }
   ],
   "source": [
    "regression_report = pd.DataFrame(regression_report)\n",
    "regression_report.columns = ['MAE', 'salary_from_mean', 'salary_from_std']\n",
    "regression_report.index = np.append(salary['true'].unique(), 'Total')\n",
    "regression_report.style.format(formatter='{:,.1f}').background_gradient()"
   ]
  },
  {
   "cell_type": "markdown",
   "metadata": {
    "id": "W3T33ThsyDJS"
   },
   "source": [
    "<a id='lem_desc_emb213_Ridge'></a>\n",
    "## lem_desc_emb213_Ridge\n",
    "[к содержанию](#ксодержанию)"
   ]
  },
  {
   "cell_type": "markdown",
   "metadata": {
    "id": "Qan83eP3q3HL"
   },
   "source": [
    "<a id='Моделируемlem_desc_emb213_Ridge'></a>\n",
    "### Моделируем\n",
    "[к содержанию](#ксодержанию)"
   ]
  },
  {
   "cell_type": "code",
   "execution_count": 27,
   "metadata": {},
   "outputs": [
    {
     "name": "stderr",
     "output_type": "stream",
     "text": [
      "C:\\Users\\Lisa\\MSU_diploma\\src\\models\\utils.py:23: SettingWithCopyWarning: \n",
      "A value is trying to be set on a copy of a slice from a DataFrame\n",
      "\n",
      "See the caveats in the documentation: https://pandas.pydata.org/pandas-docs/stable/user_guide/indexing.html#returning-a-view-versus-a-copy\n",
      "  df['salary_from'][df['salary_currency'] == curr] = df['salary_from'][df['salary_currency'] == curr].apply(lambda x: x*currency[curr])\n"
     ]
    }
   ],
   "source": [
    "df = pd.read_csv('vacancies_lemmatized.csv')\n",
    "df = df[df['language'] == 'ru']\n",
    "utils.salary_process(df)\n",
    "df = df[['lem_raw_desc', 'salary_from', 'prof_area']].dropna()"
   ]
  },
  {
   "cell_type": "code",
   "execution_count": 30,
   "metadata": {},
   "outputs": [],
   "source": [
    "model_url = 'http://vectors.nlpl.eu/repository/20/213.zip'\n",
    "# m = wget.download(model_url)\n",
    "model_file = model_url.split('/')[-1]\n",
    "with zipfile.ZipFile(model_file, 'r') as archive:\n",
    "    model = gensim.models.KeyedVectors.load(\"./213/model.model\")"
   ]
  },
  {
   "cell_type": "code",
   "execution_count": 33,
   "metadata": {},
   "outputs": [],
   "source": [
    "tfidf = TfidfVectorizer()\n",
    "tfidf.fit(df['lem_raw_desc'])\n",
    "max_idf = max(tfidf.idf_)\n",
    "word2weight = defaultdict(\n",
    "    lambda: max_idf,\n",
    "    [(w, tfidf.idf_[i]) for w, i in tfidf.vocabulary_.items()])"
   ]
  },
  {
   "cell_type": "code",
   "execution_count": null,
   "metadata": {},
   "outputs": [],
   "source": [
    "w2v = dict(zip(model.index_to_key, model.vectors))\n",
    "data_mean = utils.mean_vectorizer(w2v).fit().transform(df['lem_raw_desc'], word2weight)"
   ]
  },
  {
   "cell_type": "code",
   "execution_count": 10,
   "metadata": {
    "id": "k2r7_y7eo8Z_"
   },
   "outputs": [],
   "source": [
    "X_train, X_test, y_train, y_test = train_test_split(data_mean, df['salary_from'], test_size=0.2, random_state=42)"
   ]
  },
  {
   "cell_type": "code",
   "execution_count": 11,
   "metadata": {
    "colab": {
     "base_uri": "https://localhost:8080/"
    },
    "id": "X70d6I1uo8aD",
    "outputId": "bafa76f6-e190-412b-9a42-2eaee09100f1"
   },
   "outputs": [
    {
     "data": {
      "text/plain": [
       "Ridge()"
      ]
     },
     "execution_count": 11,
     "metadata": {},
     "output_type": "execute_result"
    }
   ],
   "source": [
    "model = Ridge()\n",
    "model.fit(X_train, y_train)"
   ]
  },
  {
   "cell_type": "code",
   "execution_count": 12,
   "metadata": {
    "id": "OdsLFFYTo8aE"
   },
   "outputs": [],
   "source": [
    "y_pred = model.predict(X_test)"
   ]
  },
  {
   "cell_type": "code",
   "execution_count": 13,
   "metadata": {
    "colab": {
     "base_uri": "https://localhost:8080/"
    },
    "id": "K3xzvgcbo8aE",
    "outputId": "26628b87-7efd-497e-d4b1-091c038ecffe"
   },
   "outputs": [
    {
     "data": {
      "text/plain": [
       "['../models/lem_desc_emb213_Ridge/y_pred.pkl']"
      ]
     },
     "execution_count": 13,
     "metadata": {},
     "output_type": "execute_result"
    }
   ],
   "source": [
    "# Сохраняем модель и y_pred\n",
    "joblib.dump(model, '../models/lem_desc_emb213_Ridge/model.pkl', compress=8)\n",
    "joblib.dump(y_pred, '../models/lem_desc_emb213_Ridge/y_pred.pkl')"
   ]
  },
  {
   "cell_type": "markdown",
   "metadata": {
    "id": "hbjS_gBqqwdr"
   },
   "source": [
    "<a id='Отчётraw_desc_tfidf_Ridge'></a>\n",
    "### Отчёт\n",
    "[к содержанию](#ксодержанию)"
   ]
  },
  {
   "cell_type": "code",
   "execution_count": 14,
   "metadata": {
    "id": "uUY6pZFpFtyI"
   },
   "outputs": [],
   "source": [
    "regression_report, salary = utils.report_regression(df[['salary_from', 'prof_area']].dropna(), y_test, y_pred, 'prof_area')"
   ]
  },
  {
   "cell_type": "code",
   "execution_count": 15,
   "metadata": {
    "colab": {
     "base_uri": "https://localhost:8080/",
     "height": 958
    },
    "id": "ipY_IpJhEf42",
    "outputId": "9183115a-ffda-4d10-f0ad-9ca6e2619d0f",
    "scrolled": true
   },
   "outputs": [
    {
     "data": {
      "text/html": [
       "<style type=\"text/css\">\n",
       "#T_c1bb9_row0_col0, #T_c1bb9_row2_col0, #T_c1bb9_row20_col0, #T_c1bb9_row22_col0, #T_c1bb9_row23_col0 {\n",
       "  background-color: #fdf5fa;\n",
       "  color: #000000;\n",
       "}\n",
       "#T_c1bb9_row0_col1 {\n",
       "  background-color: #f5eef6;\n",
       "  color: #000000;\n",
       "}\n",
       "#T_c1bb9_row0_col2, #T_c1bb9_row20_col2 {\n",
       "  background-color: #fbf3f9;\n",
       "  color: #000000;\n",
       "}\n",
       "#T_c1bb9_row1_col0, #T_c1bb9_row12_col2, #T_c1bb9_row14_col2 {\n",
       "  background-color: #f4edf6;\n",
       "  color: #000000;\n",
       "}\n",
       "#T_c1bb9_row1_col1 {\n",
       "  background-color: #b5c4df;\n",
       "  color: #000000;\n",
       "}\n",
       "#T_c1bb9_row1_col2 {\n",
       "  background-color: #f1ebf5;\n",
       "  color: #000000;\n",
       "}\n",
       "#T_c1bb9_row2_col1, #T_c1bb9_row4_col2, #T_c1bb9_row14_col1 {\n",
       "  background-color: #f0eaf4;\n",
       "  color: #000000;\n",
       "}\n",
       "#T_c1bb9_row2_col2 {\n",
       "  background-color: #bdc8e1;\n",
       "  color: #000000;\n",
       "}\n",
       "#T_c1bb9_row3_col0, #T_c1bb9_row7_col0, #T_c1bb9_row19_col2 {\n",
       "  background-color: #e8e4f0;\n",
       "  color: #000000;\n",
       "}\n",
       "#T_c1bb9_row3_col1 {\n",
       "  background-color: #76aad0;\n",
       "  color: #f1f1f1;\n",
       "}\n",
       "#T_c1bb9_row3_col2 {\n",
       "  background-color: #ede7f2;\n",
       "  color: #000000;\n",
       "}\n",
       "#T_c1bb9_row4_col0, #T_c1bb9_row14_col0, #T_c1bb9_row15_col0, #T_c1bb9_row15_col1, #T_c1bb9_row22_col1, #T_c1bb9_row26_col1 {\n",
       "  background-color: #f7f0f7;\n",
       "  color: #000000;\n",
       "}\n",
       "#T_c1bb9_row4_col1 {\n",
       "  background-color: #d9d8ea;\n",
       "  color: #000000;\n",
       "}\n",
       "#T_c1bb9_row5_col0, #T_c1bb9_row15_col2, #T_c1bb9_row18_col2, #T_c1bb9_row26_col0 {\n",
       "  background-color: #fbf4f9;\n",
       "  color: #000000;\n",
       "}\n",
       "#T_c1bb9_row5_col1, #T_c1bb9_row11_col1 {\n",
       "  background-color: #e3e0ee;\n",
       "  color: #000000;\n",
       "}\n",
       "#T_c1bb9_row5_col2, #T_c1bb9_row11_col0, #T_c1bb9_row11_col2, #T_c1bb9_row13_col0, #T_c1bb9_row16_col2 {\n",
       "  background-color: #f9f2f8;\n",
       "  color: #000000;\n",
       "}\n",
       "#T_c1bb9_row6_col0, #T_c1bb9_row13_col1 {\n",
       "  background-color: #e7e3f0;\n",
       "  color: #000000;\n",
       "}\n",
       "#T_c1bb9_row6_col1 {\n",
       "  background-color: #cacee5;\n",
       "  color: #000000;\n",
       "}\n",
       "#T_c1bb9_row6_col2, #T_c1bb9_row25_col0 {\n",
       "  background-color: #ebe6f2;\n",
       "  color: #000000;\n",
       "}\n",
       "#T_c1bb9_row7_col1 {\n",
       "  background-color: #c4cbe3;\n",
       "  color: #000000;\n",
       "}\n",
       "#T_c1bb9_row7_col2 {\n",
       "  background-color: #d4d4e8;\n",
       "  color: #000000;\n",
       "}\n",
       "#T_c1bb9_row8_col0, #T_c1bb9_row9_col2, #T_c1bb9_row10_col0, #T_c1bb9_row12_col0, #T_c1bb9_row16_col0 {\n",
       "  background-color: #f8f1f8;\n",
       "  color: #000000;\n",
       "}\n",
       "#T_c1bb9_row8_col1 {\n",
       "  background-color: #d1d2e6;\n",
       "  color: #000000;\n",
       "}\n",
       "#T_c1bb9_row8_col2, #T_c1bb9_row10_col2, #T_c1bb9_row13_col2, #T_c1bb9_row28_col0 {\n",
       "  background-color: #f6eff7;\n",
       "  color: #000000;\n",
       "}\n",
       "#T_c1bb9_row9_col0, #T_c1bb9_row21_col0, #T_c1bb9_row22_col2 {\n",
       "  background-color: #fcf4fa;\n",
       "  color: #000000;\n",
       "}\n",
       "#T_c1bb9_row9_col1 {\n",
       "  background-color: #e0dded;\n",
       "  color: #000000;\n",
       "}\n",
       "#T_c1bb9_row10_col1 {\n",
       "  background-color: #c5cce3;\n",
       "  color: #000000;\n",
       "}\n",
       "#T_c1bb9_row12_col1 {\n",
       "  background-color: #ced0e6;\n",
       "  color: #000000;\n",
       "}\n",
       "#T_c1bb9_row16_col1, #T_c1bb9_row18_col1, #T_c1bb9_row27_col1 {\n",
       "  background-color: #f2ecf5;\n",
       "  color: #000000;\n",
       "}\n",
       "#T_c1bb9_row17_col0 {\n",
       "  background-color: #f4eef6;\n",
       "  color: #000000;\n",
       "}\n",
       "#T_c1bb9_row17_col1 {\n",
       "  background-color: #dedcec;\n",
       "  color: #000000;\n",
       "}\n",
       "#T_c1bb9_row17_col2 {\n",
       "  background-color: #eae6f1;\n",
       "  color: #000000;\n",
       "}\n",
       "#T_c1bb9_row18_col0, #T_c1bb9_row21_col2, #T_c1bb9_row23_col2 {\n",
       "  background-color: #faf3f9;\n",
       "  color: #000000;\n",
       "}\n",
       "#T_c1bb9_row19_col0 {\n",
       "  background-color: #d7d6e9;\n",
       "  color: #000000;\n",
       "}\n",
       "#T_c1bb9_row19_col1 {\n",
       "  background-color: #04588a;\n",
       "  color: #f1f1f1;\n",
       "}\n",
       "#T_c1bb9_row20_col1, #T_c1bb9_row27_col0, #T_c1bb9_row27_col2 {\n",
       "  background-color: #fff7fb;\n",
       "  color: #000000;\n",
       "}\n",
       "#T_c1bb9_row21_col1, #T_c1bb9_row28_col1 {\n",
       "  background-color: #dad9ea;\n",
       "  color: #000000;\n",
       "}\n",
       "#T_c1bb9_row23_col1 {\n",
       "  background-color: #e1dfed;\n",
       "  color: #000000;\n",
       "}\n",
       "#T_c1bb9_row24_col0, #T_c1bb9_row24_col1, #T_c1bb9_row24_col2 {\n",
       "  background-color: #023858;\n",
       "  color: #f1f1f1;\n",
       "}\n",
       "#T_c1bb9_row25_col1 {\n",
       "  background-color: #d6d6e9;\n",
       "  color: #000000;\n",
       "}\n",
       "#T_c1bb9_row25_col2 {\n",
       "  background-color: #d8d7e9;\n",
       "  color: #000000;\n",
       "}\n",
       "#T_c1bb9_row26_col2 {\n",
       "  background-color: #fef6fa;\n",
       "  color: #000000;\n",
       "}\n",
       "#T_c1bb9_row28_col2 {\n",
       "  background-color: #e0deed;\n",
       "  color: #000000;\n",
       "}\n",
       "</style>\n",
       "<table id=\"T_c1bb9_\">\n",
       "  <thead>\n",
       "    <tr>\n",
       "      <th class=\"blank level0\" >&nbsp;</th>\n",
       "      <th class=\"col_heading level0 col0\" >MAE</th>\n",
       "      <th class=\"col_heading level0 col1\" >salary_from_mean</th>\n",
       "      <th class=\"col_heading level0 col2\" >salary_from_std</th>\n",
       "    </tr>\n",
       "  </thead>\n",
       "  <tbody>\n",
       "    <tr>\n",
       "      <th id=\"T_c1bb9_level0_row0\" class=\"row_heading level0 row0\" >Административный персонал</th>\n",
       "      <td id=\"T_c1bb9_row0_col0\" class=\"data row0 col0\" >13,151.2</td>\n",
       "      <td id=\"T_c1bb9_row0_col1\" class=\"data row0 col1\" >34,107.2</td>\n",
       "      <td id=\"T_c1bb9_row0_col2\" class=\"data row0 col2\" >19,094.3</td>\n",
       "    </tr>\n",
       "    <tr>\n",
       "      <th id=\"T_c1bb9_level0_row1\" class=\"row_heading level0 row1\" >Транспорт, логистика</th>\n",
       "      <td id=\"T_c1bb9_row1_col0\" class=\"data row1 col0\" >19,044.8</td>\n",
       "      <td id=\"T_c1bb9_row1_col1\" class=\"data row1 col1\" >56,083.3</td>\n",
       "      <td id=\"T_c1bb9_row1_col2\" class=\"data row1 col2\" >36,173.1</td>\n",
       "    </tr>\n",
       "    <tr>\n",
       "      <th id=\"T_c1bb9_level0_row2\" class=\"row_heading level0 row2\" >Продажи</th>\n",
       "      <td id=\"T_c1bb9_row2_col0\" class=\"data row2 col0\" >13,011.9</td>\n",
       "      <td id=\"T_c1bb9_row2_col1\" class=\"data row2 col1\" >36,663.7</td>\n",
       "      <td id=\"T_c1bb9_row2_col2\" class=\"data row2 col2\" >94,863.2</td>\n",
       "    </tr>\n",
       "    <tr>\n",
       "      <th id=\"T_c1bb9_level0_row3\" class=\"row_heading level0 row3\" >Строительство, недвижимость</th>\n",
       "      <td id=\"T_c1bb9_row3_col0\" class=\"data row3 col0\" >25,079.5</td>\n",
       "      <td id=\"T_c1bb9_row3_col1\" class=\"data row3 col1\" >69,788.8</td>\n",
       "      <td id=\"T_c1bb9_row3_col2\" class=\"data row3 col2\" >45,062.1</td>\n",
       "    </tr>\n",
       "    <tr>\n",
       "      <th id=\"T_c1bb9_level0_row4\" class=\"row_heading level0 row4\" >Управление персоналом, тренинги</th>\n",
       "      <td id=\"T_c1bb9_row4_col0\" class=\"data row4 col0\" >16,656.3</td>\n",
       "      <td id=\"T_c1bb9_row4_col1\" class=\"data row4 col1\" >45,731.5</td>\n",
       "      <td id=\"T_c1bb9_row4_col2\" class=\"data row4 col2\" >39,318.6</td>\n",
       "    </tr>\n",
       "    <tr>\n",
       "      <th id=\"T_c1bb9_level0_row5\" class=\"row_heading level0 row5\" >Безопасность</th>\n",
       "      <td id=\"T_c1bb9_row5_col0\" class=\"data row5 col0\" >14,194.4</td>\n",
       "      <td id=\"T_c1bb9_row5_col1\" class=\"data row5 col1\" >42,114.3</td>\n",
       "      <td id=\"T_c1bb9_row5_col2\" class=\"data row5 col2\" >22,491.0</td>\n",
       "    </tr>\n",
       "    <tr>\n",
       "      <th id=\"T_c1bb9_level0_row6\" class=\"row_heading level0 row6\" >Информационные технологии, интернет, телеком</th>\n",
       "      <td id=\"T_c1bb9_row6_col0\" class=\"data row6 col0\" >25,977.7</td>\n",
       "      <td id=\"T_c1bb9_row6_col1\" class=\"data row6 col1\" >50,753.6</td>\n",
       "      <td id=\"T_c1bb9_row6_col2\" class=\"data row6 col2\" >47,597.3</td>\n",
       "    </tr>\n",
       "    <tr>\n",
       "      <th id=\"T_c1bb9_level0_row7\" class=\"row_heading level0 row7\" >Производство, сельское хозяйство</th>\n",
       "      <td id=\"T_c1bb9_row7_col0\" class=\"data row7 col0\" >25,309.9</td>\n",
       "      <td id=\"T_c1bb9_row7_col1\" class=\"data row7 col1\" >52,506.1</td>\n",
       "      <td id=\"T_c1bb9_row7_col2\" class=\"data row7 col2\" >75,003.3</td>\n",
       "    </tr>\n",
       "    <tr>\n",
       "      <th id=\"T_c1bb9_level0_row8\" class=\"row_heading level0 row8\" >Медицина, фармацевтика</th>\n",
       "      <td id=\"T_c1bb9_row8_col0\" class=\"data row8 col0\" >16,211.2</td>\n",
       "      <td id=\"T_c1bb9_row8_col1\" class=\"data row8 col1\" >49,268.2</td>\n",
       "      <td id=\"T_c1bb9_row8_col2\" class=\"data row8 col2\" >27,663.4</td>\n",
       "    </tr>\n",
       "    <tr>\n",
       "      <th id=\"T_c1bb9_level0_row9\" class=\"row_heading level0 row9\" >Банки, инвестиции, лизинг</th>\n",
       "      <td id=\"T_c1bb9_row9_col0\" class=\"data row9 col0\" >13,707.1</td>\n",
       "      <td id=\"T_c1bb9_row9_col1\" class=\"data row9 col1\" >43,680.9</td>\n",
       "      <td id=\"T_c1bb9_row9_col2\" class=\"data row9 col2\" >23,496.3</td>\n",
       "    </tr>\n",
       "    <tr>\n",
       "      <th id=\"T_c1bb9_level0_row10\" class=\"row_heading level0 row10\" >Автомобильный бизнес</th>\n",
       "      <td id=\"T_c1bb9_row10_col0\" class=\"data row10 col0\" >16,284.2</td>\n",
       "      <td id=\"T_c1bb9_row10_col1\" class=\"data row10 col1\" >52,026.4</td>\n",
       "      <td id=\"T_c1bb9_row10_col2\" class=\"data row10 col2\" >28,579.9</td>\n",
       "    </tr>\n",
       "    <tr>\n",
       "      <th id=\"T_c1bb9_level0_row11\" class=\"row_heading level0 row11\" >Юристы</th>\n",
       "      <td id=\"T_c1bb9_row11_col0\" class=\"data row11 col0\" >15,415.3</td>\n",
       "      <td id=\"T_c1bb9_row11_col1\" class=\"data row11 col1\" >42,109.5</td>\n",
       "      <td id=\"T_c1bb9_row11_col2\" class=\"data row11 col2\" >22,615.4</td>\n",
       "    </tr>\n",
       "    <tr>\n",
       "      <th id=\"T_c1bb9_level0_row12\" class=\"row_heading level0 row12\" >Рабочий персонал</th>\n",
       "      <td id=\"T_c1bb9_row12_col0\" class=\"data row12 col0\" >16,033.0</td>\n",
       "      <td id=\"T_c1bb9_row12_col1\" class=\"data row12 col1\" >49,797.4</td>\n",
       "      <td id=\"T_c1bb9_row12_col2\" class=\"data row12 col2\" >31,799.0</td>\n",
       "    </tr>\n",
       "    <tr>\n",
       "      <th id=\"T_c1bb9_level0_row13\" class=\"row_heading level0 row13\" >Бухгалтерия, управленческий учет, финансы предприятия</th>\n",
       "      <td id=\"T_c1bb9_row13_col0\" class=\"data row13 col0\" >15,484.8</td>\n",
       "      <td id=\"T_c1bb9_row13_col1\" class=\"data row13 col1\" >40,890.8</td>\n",
       "      <td id=\"T_c1bb9_row13_col2\" class=\"data row13 col2\" >28,182.5</td>\n",
       "    </tr>\n",
       "    <tr>\n",
       "      <th id=\"T_c1bb9_level0_row14\" class=\"row_heading level0 row14\" >Туризм, гостиницы, рестораны</th>\n",
       "      <td id=\"T_c1bb9_row14_col0\" class=\"data row14 col0\" >16,715.7</td>\n",
       "      <td id=\"T_c1bb9_row14_col1\" class=\"data row14 col1\" >36,760.9</td>\n",
       "      <td id=\"T_c1bb9_row14_col2\" class=\"data row14 col2\" >31,968.7</td>\n",
       "    </tr>\n",
       "    <tr>\n",
       "      <th id=\"T_c1bb9_level0_row15\" class=\"row_heading level0 row15\" >Искусство, развлечения, масс-медиа</th>\n",
       "      <td id=\"T_c1bb9_row15_col0\" class=\"data row15 col0\" >16,775.6</td>\n",
       "      <td id=\"T_c1bb9_row15_col1\" class=\"data row15 col1\" >32,966.1</td>\n",
       "      <td id=\"T_c1bb9_row15_col2\" class=\"data row15 col2\" >18,986.9</td>\n",
       "    </tr>\n",
       "    <tr>\n",
       "      <th id=\"T_c1bb9_level0_row16\" class=\"row_heading level0 row16\" >Начало карьеры, студенты</th>\n",
       "      <td id=\"T_c1bb9_row16_col0\" class=\"data row16 col0\" >16,089.9</td>\n",
       "      <td id=\"T_c1bb9_row16_col1\" class=\"data row16 col1\" >35,506.5</td>\n",
       "      <td id=\"T_c1bb9_row16_col2\" class=\"data row16 col2\" >22,774.3</td>\n",
       "    </tr>\n",
       "    <tr>\n",
       "      <th id=\"T_c1bb9_level0_row17\" class=\"row_heading level0 row17\" >Домашний персонал</th>\n",
       "      <td id=\"T_c1bb9_row17_col0\" class=\"data row17 col0\" >18,469.5</td>\n",
       "      <td id=\"T_c1bb9_row17_col1\" class=\"data row17 col1\" >44,210.9</td>\n",
       "      <td id=\"T_c1bb9_row17_col2\" class=\"data row17 col2\" >48,651.6</td>\n",
       "    </tr>\n",
       "    <tr>\n",
       "      <th id=\"T_c1bb9_level0_row18\" class=\"row_heading level0 row18\" >Маркетинг, реклама, PR</th>\n",
       "      <td id=\"T_c1bb9_row18_col0\" class=\"data row18 col0\" >14,899.9</td>\n",
       "      <td id=\"T_c1bb9_row18_col1\" class=\"data row18 col1\" >35,473.8</td>\n",
       "      <td id=\"T_c1bb9_row18_col2\" class=\"data row18 col2\" >18,644.8</td>\n",
       "    </tr>\n",
       "    <tr>\n",
       "      <th id=\"T_c1bb9_level0_row19\" class=\"row_heading level0 row19\" >Добыча сырья</th>\n",
       "      <td id=\"T_c1bb9_row19_col0\" class=\"data row19 col0\" >32,625.5</td>\n",
       "      <td id=\"T_c1bb9_row19_col1\" class=\"data row19 col1\" >102,632.2</td>\n",
       "      <td id=\"T_c1bb9_row19_col2\" class=\"data row19 col2\" >50,338.6</td>\n",
       "    </tr>\n",
       "    <tr>\n",
       "      <th id=\"T_c1bb9_level0_row20\" class=\"row_heading level0 row20\" >Наука, образование</th>\n",
       "      <td id=\"T_c1bb9_row20_col0\" class=\"data row20 col0\" >13,238.0</td>\n",
       "      <td id=\"T_c1bb9_row20_col1\" class=\"data row20 col1\" >28,263.0</td>\n",
       "      <td id=\"T_c1bb9_row20_col2\" class=\"data row20 col2\" >19,463.1</td>\n",
       "    </tr>\n",
       "    <tr>\n",
       "      <th id=\"T_c1bb9_level0_row21\" class=\"row_heading level0 row21\" >Инсталляция и сервис</th>\n",
       "      <td id=\"T_c1bb9_row21_col0\" class=\"data row21 col0\" >13,540.9</td>\n",
       "      <td id=\"T_c1bb9_row21_col1\" class=\"data row21 col1\" >45,596.5</td>\n",
       "      <td id=\"T_c1bb9_row21_col2\" class=\"data row21 col2\" >21,021.4</td>\n",
       "    </tr>\n",
       "    <tr>\n",
       "      <th id=\"T_c1bb9_level0_row22\" class=\"row_heading level0 row22\" >Спортивные клубы, фитнес, салоны красоты</th>\n",
       "      <td id=\"T_c1bb9_row22_col0\" class=\"data row22 col0\" >13,402.1</td>\n",
       "      <td id=\"T_c1bb9_row22_col1\" class=\"data row22 col1\" >32,665.9</td>\n",
       "      <td id=\"T_c1bb9_row22_col2\" class=\"data row22 col2\" >17,743.2</td>\n",
       "    </tr>\n",
       "    <tr>\n",
       "      <th id=\"T_c1bb9_level0_row23\" class=\"row_heading level0 row23\" >Закупки</th>\n",
       "      <td id=\"T_c1bb9_row23_col0\" class=\"data row23 col0\" >13,196.0</td>\n",
       "      <td id=\"T_c1bb9_row23_col1\" class=\"data row23 col1\" >42,977.1</td>\n",
       "      <td id=\"T_c1bb9_row23_col2\" class=\"data row23 col2\" >20,408.6</td>\n",
       "    </tr>\n",
       "    <tr>\n",
       "      <th id=\"T_c1bb9_level0_row24\" class=\"row_heading level0 row24\" >Высший менеджмент</th>\n",
       "      <td id=\"T_c1bb9_row24_col0\" class=\"data row24 col0\" >107,134.6</td>\n",
       "      <td id=\"T_c1bb9_row24_col1\" class=\"data row24 col1\" >112,517.4</td>\n",
       "      <td id=\"T_c1bb9_row24_col2\" class=\"data row24 col2\" >283,305.7</td>\n",
       "    </tr>\n",
       "    <tr>\n",
       "      <th id=\"T_c1bb9_level0_row25\" class=\"row_heading level0 row25\" >Консультирование</th>\n",
       "      <td id=\"T_c1bb9_row25_col0\" class=\"data row25 col0\" >24,209.4</td>\n",
       "      <td id=\"T_c1bb9_row25_col1\" class=\"data row25 col1\" >47,158.8</td>\n",
       "      <td id=\"T_c1bb9_row25_col2\" class=\"data row25 col2\" >70,964.0</td>\n",
       "    </tr>\n",
       "    <tr>\n",
       "      <th id=\"T_c1bb9_level0_row26\" class=\"row_heading level0 row26\" >Государственная служба, некоммерческие организации</th>\n",
       "      <td id=\"T_c1bb9_row26_col0\" class=\"data row26 col0\" >13,972.3</td>\n",
       "      <td id=\"T_c1bb9_row26_col1\" class=\"data row26 col1\" >32,766.9</td>\n",
       "      <td id=\"T_c1bb9_row26_col2\" class=\"data row26 col2\" >14,660.7</td>\n",
       "    </tr>\n",
       "    <tr>\n",
       "      <th id=\"T_c1bb9_level0_row27\" class=\"row_heading level0 row27\" >Страхование</th>\n",
       "      <td id=\"T_c1bb9_row27_col0\" class=\"data row27 col0\" >11,607.1</td>\n",
       "      <td id=\"T_c1bb9_row27_col1\" class=\"data row27 col1\" >35,332.0</td>\n",
       "      <td id=\"T_c1bb9_row27_col2\" class=\"data row27 col2\" >11,627.0</td>\n",
       "    </tr>\n",
       "    <tr>\n",
       "      <th id=\"T_c1bb9_level0_row28\" class=\"row_heading level0 row28\" >Total</th>\n",
       "      <td id=\"T_c1bb9_row28_col0\" class=\"data row28 col0\" >17,292.4</td>\n",
       "      <td id=\"T_c1bb9_row28_col1\" class=\"data row28 col1\" >45,473.0</td>\n",
       "      <td id=\"T_c1bb9_row28_col2\" class=\"data row28 col2\" >59,725.5</td>\n",
       "    </tr>\n",
       "  </tbody>\n",
       "</table>\n"
      ],
      "text/plain": [
       "<pandas.io.formats.style.Styler at 0x2834bd7cd30>"
      ]
     },
     "execution_count": 15,
     "metadata": {},
     "output_type": "execute_result"
    }
   ],
   "source": [
    "regression_report_raw = pd.DataFrame(regression_report)\n",
    "regression_report_raw.columns = ['MAE', 'salary_from_mean', 'salary_from_std']\n",
    "regression_report_raw.index = np.append(salary['true'].unique(), 'Total')\n",
    "regression_report_raw.style.format(formatter='{:,.1f}').background_gradient()"
   ]
  },
  {
   "cell_type": "markdown",
   "metadata": {
    "id": "W3T33ThsyDJS"
   },
   "source": [
    "<a id='lem_desc_emb213_Ridge_ruandRus'></a>\n",
    "## lem_desc_emb213_Ridge_ruandRus\n",
    "[к содержанию](#ксодержанию)"
   ]
  },
  {
   "cell_type": "markdown",
   "metadata": {
    "id": "Qan83eP3q3HL"
   },
   "source": [
    "<a id='Моделируемlem_desc_emb213_Ridge_ruandRus'></a>\n",
    "### Моделируем\n",
    "[к содержанию](#ксодержанию)"
   ]
  },
  {
   "cell_type": "code",
   "execution_count": 37,
   "metadata": {},
   "outputs": [
    {
     "name": "stderr",
     "output_type": "stream",
     "text": [
      "C:\\Users\\Lisa\\MSU_diploma\\src\\models\\utils.py:23: SettingWithCopyWarning: \n",
      "A value is trying to be set on a copy of a slice from a DataFrame\n",
      "\n",
      "See the caveats in the documentation: https://pandas.pydata.org/pandas-docs/stable/user_guide/indexing.html#returning-a-view-versus-a-copy\n",
      "  df['salary_from'][df['salary_currency'] == curr] = df['salary_from'][df['salary_currency'] == curr].apply(lambda x: x*currency[curr])\n"
     ]
    }
   ],
   "source": [
    "df = pd.read_csv('vacancies_lemmatized.csv')\n",
    "df = df[(df['language'] == 'ru') & (df['country_name'] == 'Россия')]\n",
    "utils.salary_process(df)\n",
    "df = df[['lem_raw_desc', 'salary_from', 'prof_area']].dropna()"
   ]
  },
  {
   "cell_type": "code",
   "execution_count": 35,
   "metadata": {},
   "outputs": [],
   "source": [
    "model_url = 'http://vectors.nlpl.eu/repository/20/213.zip'\n",
    "# m = wget.download(model_url)\n",
    "model_file = model_url.split('/')[-1]\n",
    "with zipfile.ZipFile(model_file, 'r') as archive:\n",
    "    model = gensim.models.KeyedVectors.load(\"./213/model.model\")"
   ]
  },
  {
   "cell_type": "code",
   "execution_count": 38,
   "metadata": {},
   "outputs": [],
   "source": [
    "tfidf = TfidfVectorizer()\n",
    "tfidf.fit(df['lem_raw_desc'])\n",
    "max_idf = max(tfidf.idf_)\n",
    "word2weight = defaultdict(\n",
    "    lambda: max_idf,\n",
    "    [(w, tfidf.idf_[i]) for w, i in tfidf.vocabulary_.items()])"
   ]
  },
  {
   "cell_type": "code",
   "execution_count": 39,
   "metadata": {},
   "outputs": [],
   "source": [
    "w2v = dict(zip(model.index_to_key, model.vectors))\n",
    "data_mean = utils.mean_vectorizer(w2v).fit().transform(df['lem_raw_desc'], word2weight)"
   ]
  },
  {
   "cell_type": "code",
   "execution_count": 40,
   "metadata": {
    "id": "k2r7_y7eo8Z_"
   },
   "outputs": [],
   "source": [
    "X_train, X_test, y_train, y_test = train_test_split(data_mean, df['salary_from'], test_size=0.2, random_state=42)"
   ]
  },
  {
   "cell_type": "code",
   "execution_count": 41,
   "metadata": {
    "colab": {
     "base_uri": "https://localhost:8080/"
    },
    "id": "X70d6I1uo8aD",
    "outputId": "bafa76f6-e190-412b-9a42-2eaee09100f1"
   },
   "outputs": [
    {
     "data": {
      "text/plain": [
       "Ridge()"
      ]
     },
     "execution_count": 41,
     "metadata": {},
     "output_type": "execute_result"
    }
   ],
   "source": [
    "model = Ridge()\n",
    "model.fit(X_train, y_train)"
   ]
  },
  {
   "cell_type": "code",
   "execution_count": 42,
   "metadata": {
    "id": "OdsLFFYTo8aE"
   },
   "outputs": [],
   "source": [
    "y_pred = model.predict(X_test)"
   ]
  },
  {
   "cell_type": "code",
   "execution_count": 44,
   "metadata": {
    "colab": {
     "base_uri": "https://localhost:8080/"
    },
    "id": "K3xzvgcbo8aE",
    "outputId": "26628b87-7efd-497e-d4b1-091c038ecffe"
   },
   "outputs": [
    {
     "data": {
      "text/plain": [
       "['../models/lem_desc_emb213_Ridge_ruandRus/y_pred.pkl']"
      ]
     },
     "execution_count": 44,
     "metadata": {},
     "output_type": "execute_result"
    }
   ],
   "source": [
    "# Сохраняем модель и y_pred\n",
    "joblib.dump(model, '../models/lem_desc_emb213_Ridge_ruandRus/model.pkl', compress=8)\n",
    "joblib.dump(y_pred, '../models/lem_desc_emb213_Ridge_ruandRus/y_pred.pkl')"
   ]
  },
  {
   "cell_type": "markdown",
   "metadata": {
    "id": "hbjS_gBqqwdr"
   },
   "source": [
    "<a id='Отчётlem_desc_emb213_Ridge_ruandRus'></a>\n",
    "### Отчёт\n",
    "[к содержанию](#ксодержанию)"
   ]
  },
  {
   "cell_type": "code",
   "execution_count": 45,
   "metadata": {
    "id": "uUY6pZFpFtyI"
   },
   "outputs": [],
   "source": [
    "regression_report, salary = utils.report_regression(df[['salary_from', 'prof_area']].dropna(), y_test, y_pred, 'prof_area')"
   ]
  },
  {
   "cell_type": "code",
   "execution_count": 46,
   "metadata": {
    "colab": {
     "base_uri": "https://localhost:8080/",
     "height": 958
    },
    "id": "ipY_IpJhEf42",
    "outputId": "9183115a-ffda-4d10-f0ad-9ca6e2619d0f",
    "scrolled": true
   },
   "outputs": [
    {
     "data": {
      "text/html": [
       "<style type=\"text/css\">\n",
       "#T_70c0d_row0_col0, #T_70c0d_row3_col1, #T_70c0d_row28_col0 {\n",
       "  background-color: #e0dded;\n",
       "  color: #000000;\n",
       "}\n",
       "#T_70c0d_row0_col1, #T_70c0d_row13_col2, #T_70c0d_row26_col1 {\n",
       "  background-color: #f2ecf5;\n",
       "  color: #000000;\n",
       "}\n",
       "#T_70c0d_row0_col2, #T_70c0d_row2_col0, #T_70c0d_row3_col0, #T_70c0d_row9_col0, #T_70c0d_row20_col2 {\n",
       "  background-color: #e7e3f0;\n",
       "  color: #000000;\n",
       "}\n",
       "#T_70c0d_row1_col0 {\n",
       "  background-color: #abbfdc;\n",
       "  color: #000000;\n",
       "}\n",
       "#T_70c0d_row1_col1, #T_70c0d_row22_col1, #T_70c0d_row24_col2 {\n",
       "  background-color: #b0c2de;\n",
       "  color: #000000;\n",
       "}\n",
       "#T_70c0d_row1_col2 {\n",
       "  background-color: #045788;\n",
       "  color: #f1f1f1;\n",
       "}\n",
       "#T_70c0d_row2_col1, #T_70c0d_row9_col2 {\n",
       "  background-color: #cccfe5;\n",
       "  color: #000000;\n",
       "}\n",
       "#T_70c0d_row2_col2, #T_70c0d_row8_col0 {\n",
       "  background-color: #dad9ea;\n",
       "  color: #000000;\n",
       "}\n",
       "#T_70c0d_row3_col2 {\n",
       "  background-color: #d2d3e7;\n",
       "  color: #000000;\n",
       "}\n",
       "#T_70c0d_row4_col0 {\n",
       "  background-color: #eee9f3;\n",
       "  color: #000000;\n",
       "}\n",
       "#T_70c0d_row4_col1, #T_70c0d_row13_col1, #T_70c0d_row19_col2, #T_70c0d_row20_col0, #T_70c0d_row21_col0 {\n",
       "  background-color: #f0eaf4;\n",
       "  color: #000000;\n",
       "}\n",
       "#T_70c0d_row4_col2 {\n",
       "  background-color: #e4e1ef;\n",
       "  color: #000000;\n",
       "}\n",
       "#T_70c0d_row5_col0 {\n",
       "  background-color: #84b0d3;\n",
       "  color: #f1f1f1;\n",
       "}\n",
       "#T_70c0d_row5_col1 {\n",
       "  background-color: #549cc7;\n",
       "  color: #f1f1f1;\n",
       "}\n",
       "#T_70c0d_row5_col2 {\n",
       "  background-color: #8eb3d5;\n",
       "  color: #000000;\n",
       "}\n",
       "#T_70c0d_row6_col0 {\n",
       "  background-color: #f3edf5;\n",
       "  color: #000000;\n",
       "}\n",
       "#T_70c0d_row6_col1 {\n",
       "  background-color: #eee8f3;\n",
       "  color: #000000;\n",
       "}\n",
       "#T_70c0d_row6_col2 {\n",
       "  background-color: #dcdaeb;\n",
       "  color: #000000;\n",
       "}\n",
       "#T_70c0d_row7_col0, #T_70c0d_row7_col2 {\n",
       "  background-color: #f1ebf4;\n",
       "  color: #000000;\n",
       "}\n",
       "#T_70c0d_row7_col1, #T_70c0d_row21_col2 {\n",
       "  background-color: #f4edf6;\n",
       "  color: #000000;\n",
       "}\n",
       "#T_70c0d_row8_col1 {\n",
       "  background-color: #d7d6e9;\n",
       "  color: #000000;\n",
       "}\n",
       "#T_70c0d_row8_col2, #T_70c0d_row17_col1 {\n",
       "  background-color: #a7bddb;\n",
       "  color: #000000;\n",
       "}\n",
       "#T_70c0d_row9_col1 {\n",
       "  background-color: #bcc7e1;\n",
       "  color: #000000;\n",
       "}\n",
       "#T_70c0d_row10_col0 {\n",
       "  background-color: #e0deed;\n",
       "  color: #000000;\n",
       "}\n",
       "#T_70c0d_row10_col1 {\n",
       "  background-color: #e2dfee;\n",
       "  color: #000000;\n",
       "}\n",
       "#T_70c0d_row10_col2 {\n",
       "  background-color: #ece7f2;\n",
       "  color: #000000;\n",
       "}\n",
       "#T_70c0d_row11_col0, #T_70c0d_row23_col0 {\n",
       "  background-color: #f1ebf5;\n",
       "  color: #000000;\n",
       "}\n",
       "#T_70c0d_row11_col1 {\n",
       "  background-color: #dedcec;\n",
       "  color: #000000;\n",
       "}\n",
       "#T_70c0d_row11_col2 {\n",
       "  background-color: #e8e4f0;\n",
       "  color: #000000;\n",
       "}\n",
       "#T_70c0d_row12_col0 {\n",
       "  background-color: #e9e5f1;\n",
       "  color: #000000;\n",
       "}\n",
       "#T_70c0d_row12_col1, #T_70c0d_row24_col0 {\n",
       "  background-color: #dddbec;\n",
       "  color: #000000;\n",
       "}\n",
       "#T_70c0d_row12_col2, #T_70c0d_row25_col2 {\n",
       "  background-color: #ede8f3;\n",
       "  color: #000000;\n",
       "}\n",
       "#T_70c0d_row13_col0 {\n",
       "  background-color: #ede7f2;\n",
       "  color: #000000;\n",
       "}\n",
       "#T_70c0d_row14_col0 {\n",
       "  background-color: #c5cce3;\n",
       "  color: #000000;\n",
       "}\n",
       "#T_70c0d_row14_col1, #T_70c0d_row22_col2, #T_70c0d_row28_col1 {\n",
       "  background-color: #d4d4e8;\n",
       "  color: #000000;\n",
       "}\n",
       "#T_70c0d_row14_col2 {\n",
       "  background-color: #bdc8e1;\n",
       "  color: #000000;\n",
       "}\n",
       "#T_70c0d_row15_col0 {\n",
       "  background-color: #b7c5df;\n",
       "  color: #000000;\n",
       "}\n",
       "#T_70c0d_row15_col1 {\n",
       "  background-color: #d3d4e7;\n",
       "  color: #000000;\n",
       "}\n",
       "#T_70c0d_row15_col2 {\n",
       "  background-color: #6fa7ce;\n",
       "  color: #f1f1f1;\n",
       "}\n",
       "#T_70c0d_row16_col0 {\n",
       "  background-color: #0568a3;\n",
       "  color: #f1f1f1;\n",
       "}\n",
       "#T_70c0d_row16_col1, #T_70c0d_row27_col0, #T_70c0d_row27_col2 {\n",
       "  background-color: #023858;\n",
       "  color: #f1f1f1;\n",
       "}\n",
       "#T_70c0d_row16_col2 {\n",
       "  background-color: #80aed2;\n",
       "  color: #f1f1f1;\n",
       "}\n",
       "#T_70c0d_row17_col0, #T_70c0d_row19_col1, #T_70c0d_row22_col0 {\n",
       "  background-color: #d8d7e9;\n",
       "  color: #000000;\n",
       "}\n",
       "#T_70c0d_row17_col2 {\n",
       "  background-color: #b9c6e0;\n",
       "  color: #000000;\n",
       "}\n",
       "#T_70c0d_row18_col0, #T_70c0d_row18_col1, #T_70c0d_row18_col2, #T_70c0d_row23_col2 {\n",
       "  background-color: #f8f1f8;\n",
       "  color: #000000;\n",
       "}\n",
       "#T_70c0d_row19_col0 {\n",
       "  background-color: #f6eff7;\n",
       "  color: #000000;\n",
       "}\n",
       "#T_70c0d_row20_col1 {\n",
       "  background-color: #dbdaeb;\n",
       "  color: #000000;\n",
       "}\n",
       "#T_70c0d_row21_col1 {\n",
       "  background-color: #f7f0f7;\n",
       "  color: #000000;\n",
       "}\n",
       "#T_70c0d_row23_col1 {\n",
       "  background-color: #f9f2f8;\n",
       "  color: #000000;\n",
       "}\n",
       "#T_70c0d_row24_col1 {\n",
       "  background-color: #d9d8ea;\n",
       "  color: #000000;\n",
       "}\n",
       "#T_70c0d_row25_col0 {\n",
       "  background-color: #e6e2ef;\n",
       "  color: #000000;\n",
       "}\n",
       "#T_70c0d_row25_col1, #T_70c0d_row26_col0, #T_70c0d_row26_col2 {\n",
       "  background-color: #fff7fb;\n",
       "  color: #000000;\n",
       "}\n",
       "#T_70c0d_row27_col1 {\n",
       "  background-color: #03466e;\n",
       "  color: #f1f1f1;\n",
       "}\n",
       "#T_70c0d_row28_col2 {\n",
       "  background-color: #b3c3de;\n",
       "  color: #000000;\n",
       "}\n",
       "</style>\n",
       "<table id=\"T_70c0d_\">\n",
       "  <thead>\n",
       "    <tr>\n",
       "      <th class=\"blank level0\" >&nbsp;</th>\n",
       "      <th class=\"col_heading level0 col0\" >MAE</th>\n",
       "      <th class=\"col_heading level0 col1\" >salary_from_mean</th>\n",
       "      <th class=\"col_heading level0 col2\" >salary_from_std</th>\n",
       "    </tr>\n",
       "  </thead>\n",
       "  <tbody>\n",
       "    <tr>\n",
       "      <th id=\"T_70c0d_level0_row0\" class=\"row_heading level0 row0\" >Начало карьеры, студенты</th>\n",
       "      <td id=\"T_70c0d_row0_col0\" class=\"data row0 col0\" >16,772.4</td>\n",
       "      <td id=\"T_70c0d_row0_col1\" class=\"data row0 col1\" >36,702.1</td>\n",
       "      <td id=\"T_70c0d_row0_col2\" class=\"data row0 col2\" >23,053.2</td>\n",
       "    </tr>\n",
       "    <tr>\n",
       "      <th id=\"T_70c0d_level0_row1\" class=\"row_heading level0 row1\" >Производство, сельское хозяйство</th>\n",
       "      <td id=\"T_70c0d_row1_col0\" class=\"data row1 col0\" >22,958.1</td>\n",
       "      <td id=\"T_70c0d_row1_col1\" class=\"data row1 col1\" >56,878.9</td>\n",
       "      <td id=\"T_70c0d_row1_col2\" class=\"data row1 col2\" >81,741.8</td>\n",
       "    </tr>\n",
       "    <tr>\n",
       "      <th id=\"T_70c0d_level0_row2\" class=\"row_heading level0 row2\" >Медицина, фармацевтика</th>\n",
       "      <td id=\"T_70c0d_row2_col0\" class=\"data row2 col0\" >15,551.3</td>\n",
       "      <td id=\"T_70c0d_row2_col1\" class=\"data row2 col1\" >50,561.5</td>\n",
       "      <td id=\"T_70c0d_row2_col2\" class=\"data row2 col2\" >27,495.8</td>\n",
       "    </tr>\n",
       "    <tr>\n",
       "      <th id=\"T_70c0d_level0_row3\" class=\"row_heading level0 row3\" >Бухгалтерия, управленческий учет, финансы предприятия</th>\n",
       "      <td id=\"T_70c0d_row3_col0\" class=\"data row3 col0\" >15,690.5</td>\n",
       "      <td id=\"T_70c0d_row3_col1\" class=\"data row3 col1\" >43,982.4</td>\n",
       "      <td id=\"T_70c0d_row3_col2\" class=\"data row3 col2\" >30,217.6</td>\n",
       "    </tr>\n",
       "    <tr>\n",
       "      <th id=\"T_70c0d_level0_row4\" class=\"row_heading level0 row4\" >Туризм, гостиницы, рестораны</th>\n",
       "      <td id=\"T_70c0d_row4_col0\" class=\"data row4 col0\" >14,297.8</td>\n",
       "      <td id=\"T_70c0d_row4_col1\" class=\"data row4 col1\" >38,031.7</td>\n",
       "      <td id=\"T_70c0d_row4_col2\" class=\"data row4 col2\" >24,060.0</td>\n",
       "    </tr>\n",
       "    <tr>\n",
       "      <th id=\"T_70c0d_level0_row5\" class=\"row_heading level0 row5\" >Строительство, недвижимость</th>\n",
       "      <td id=\"T_70c0d_row5_col0\" class=\"data row5 col0\" >26,415.4</td>\n",
       "      <td id=\"T_70c0d_row5_col1\" class=\"data row5 col1\" >74,235.5</td>\n",
       "      <td id=\"T_70c0d_row5_col2\" class=\"data row5 col2\" >45,836.4</td>\n",
       "    </tr>\n",
       "    <tr>\n",
       "      <th id=\"T_70c0d_level0_row6\" class=\"row_heading level0 row6\" >Продажи</th>\n",
       "      <td id=\"T_70c0d_row6_col0\" class=\"data row6 col0\" >13,270.7</td>\n",
       "      <td id=\"T_70c0d_row6_col1\" class=\"data row6 col1\" >38,685.8</td>\n",
       "      <td id=\"T_70c0d_row6_col2\" class=\"data row6 col2\" >26,799.3</td>\n",
       "    </tr>\n",
       "    <tr>\n",
       "      <th id=\"T_70c0d_level0_row7\" class=\"row_heading level0 row7\" >Административный персонал</th>\n",
       "      <td id=\"T_70c0d_row7_col0\" class=\"data row7 col0\" >13,826.0</td>\n",
       "      <td id=\"T_70c0d_row7_col1\" class=\"data row7 col1\" >35,649.7</td>\n",
       "      <td id=\"T_70c0d_row7_col2\" class=\"data row7 col2\" >18,880.5</td>\n",
       "    </tr>\n",
       "    <tr>\n",
       "      <th id=\"T_70c0d_level0_row8\" class=\"row_heading level0 row8\" >Управление персоналом, тренинги</th>\n",
       "      <td id=\"T_70c0d_row8_col0\" class=\"data row8 col0\" >17,607.9</td>\n",
       "      <td id=\"T_70c0d_row8_col1\" class=\"data row8 col1\" >47,184.9</td>\n",
       "      <td id=\"T_70c0d_row8_col2\" class=\"data row8 col2\" >41,016.0</td>\n",
       "    </tr>\n",
       "    <tr>\n",
       "      <th id=\"T_70c0d_level0_row9\" class=\"row_heading level0 row9\" >Рабочий персонал</th>\n",
       "      <td id=\"T_70c0d_row9_col0\" class=\"data row9 col0\" >15,511.5</td>\n",
       "      <td id=\"T_70c0d_row9_col1\" class=\"data row9 col1\" >54,115.0</td>\n",
       "      <td id=\"T_70c0d_row9_col2\" class=\"data row9 col2\" >32,315.9</td>\n",
       "    </tr>\n",
       "    <tr>\n",
       "      <th id=\"T_70c0d_level0_row10\" class=\"row_heading level0 row10\" >Юристы</th>\n",
       "      <td id=\"T_70c0d_row10_col0\" class=\"data row10 col0\" >16,641.2</td>\n",
       "      <td id=\"T_70c0d_row10_col1\" class=\"data row10 col1\" >43,117.4</td>\n",
       "      <td id=\"T_70c0d_row10_col2\" class=\"data row10 col2\" >21,353.4</td>\n",
       "    </tr>\n",
       "    <tr>\n",
       "      <th id=\"T_70c0d_level0_row11\" class=\"row_heading level0 row11\" >Безопасность</th>\n",
       "      <td id=\"T_70c0d_row11_col0\" class=\"data row11 col0\" >13,600.6</td>\n",
       "      <td id=\"T_70c0d_row11_col1\" class=\"data row11 col1\" >44,657.1</td>\n",
       "      <td id=\"T_70c0d_row11_col2\" class=\"data row11 col2\" >22,521.6</td>\n",
       "    </tr>\n",
       "    <tr>\n",
       "      <th id=\"T_70c0d_level0_row12\" class=\"row_heading level0 row12\" >Закупки</th>\n",
       "      <td id=\"T_70c0d_row12_col0\" class=\"data row12 col0\" >15,331.7</td>\n",
       "      <td id=\"T_70c0d_row12_col1\" class=\"data row12 col1\" >44,947.7</td>\n",
       "      <td id=\"T_70c0d_row12_col2\" class=\"data row12 col2\" >20,558.6</td>\n",
       "    </tr>\n",
       "    <tr>\n",
       "      <th id=\"T_70c0d_level0_row13\" class=\"row_heading level0 row13\" >Маркетинг, реклама, PR</th>\n",
       "      <td id=\"T_70c0d_row13_col0\" class=\"data row13 col0\" >14,726.3</td>\n",
       "      <td id=\"T_70c0d_row13_col1\" class=\"data row13 col1\" >37,643.1</td>\n",
       "      <td id=\"T_70c0d_row13_col2\" class=\"data row13 col2\" >18,117.2</td>\n",
       "    </tr>\n",
       "    <tr>\n",
       "      <th id=\"T_70c0d_level0_row14\" class=\"row_heading level0 row14\" >Информационные технологии, интернет, телеком</th>\n",
       "      <td id=\"T_70c0d_row14_col0\" class=\"data row14 col0\" >20,229.5</td>\n",
       "      <td id=\"T_70c0d_row14_col1\" class=\"data row14 col1\" >47,967.4</td>\n",
       "      <td id=\"T_70c0d_row14_col2\" class=\"data row14 col2\" >35,588.8</td>\n",
       "    </tr>\n",
       "    <tr>\n",
       "      <th id=\"T_70c0d_level0_row15\" class=\"row_heading level0 row15\" >Домашний персонал</th>\n",
       "      <td id=\"T_70c0d_row15_col0\" class=\"data row15 col0\" >21,782.0</td>\n",
       "      <td id=\"T_70c0d_row15_col1\" class=\"data row15 col1\" >48,435.5</td>\n",
       "      <td id=\"T_70c0d_row15_col2\" class=\"data row15 col2\" >51,704.3</td>\n",
       "    </tr>\n",
       "    <tr>\n",
       "      <th id=\"T_70c0d_level0_row16\" class=\"row_heading level0 row16\" >Добыча сырья</th>\n",
       "      <td id=\"T_70c0d_row16_col0\" class=\"data row16 col0\" >37,999.8</td>\n",
       "      <td id=\"T_70c0d_row16_col1\" class=\"data row16 col1\" >108,361.3</td>\n",
       "      <td id=\"T_70c0d_row16_col2\" class=\"data row16 col2\" >48,592.4</td>\n",
       "    </tr>\n",
       "    <tr>\n",
       "      <th id=\"T_70c0d_level0_row17\" class=\"row_heading level0 row17\" >Транспорт, логистика</th>\n",
       "      <td id=\"T_70c0d_row17_col0\" class=\"data row17 col0\" >18,006.5</td>\n",
       "      <td id=\"T_70c0d_row17_col1\" class=\"data row17 col1\" >59,054.1</td>\n",
       "      <td id=\"T_70c0d_row17_col2\" class=\"data row17 col2\" >36,613.3</td>\n",
       "    </tr>\n",
       "    <tr>\n",
       "      <th id=\"T_70c0d_level0_row18\" class=\"row_heading level0 row18\" >Искусство, развлечения, масс-медиа</th>\n",
       "      <td id=\"T_70c0d_row18_col0\" class=\"data row18 col0\" >12,037.0</td>\n",
       "      <td id=\"T_70c0d_row18_col1\" class=\"data row18 col1\" >33,691.8</td>\n",
       "      <td id=\"T_70c0d_row18_col2\" class=\"data row18 col2\" >15,032.1</td>\n",
       "    </tr>\n",
       "    <tr>\n",
       "      <th id=\"T_70c0d_level0_row19\" class=\"row_heading level0 row19\" >Инсталляция и сервис</th>\n",
       "      <td id=\"T_70c0d_row19_col0\" class=\"data row19 col0\" >12,521.3</td>\n",
       "      <td id=\"T_70c0d_row19_col1\" class=\"data row19 col1\" >46,731.9</td>\n",
       "      <td id=\"T_70c0d_row19_col2\" class=\"data row19 col2\" >19,548.9</td>\n",
       "    </tr>\n",
       "    <tr>\n",
       "      <th id=\"T_70c0d_level0_row20\" class=\"row_heading level0 row20\" >Банки, инвестиции, лизинг</th>\n",
       "      <td id=\"T_70c0d_row20_col0\" class=\"data row20 col0\" >13,995.3</td>\n",
       "      <td id=\"T_70c0d_row20_col1\" class=\"data row20 col1\" >45,596.8</td>\n",
       "      <td id=\"T_70c0d_row20_col2\" class=\"data row20 col2\" >22,826.8</td>\n",
       "    </tr>\n",
       "    <tr>\n",
       "      <th id=\"T_70c0d_level0_row21\" class=\"row_heading level0 row21\" >Спортивные клубы, фитнес, салоны красоты</th>\n",
       "      <td id=\"T_70c0d_row21_col0\" class=\"data row21 col0\" >14,003.3</td>\n",
       "      <td id=\"T_70c0d_row21_col1\" class=\"data row21 col1\" >34,212.3</td>\n",
       "      <td id=\"T_70c0d_row21_col2\" class=\"data row21 col2\" >17,309.7</td>\n",
       "    </tr>\n",
       "    <tr>\n",
       "      <th id=\"T_70c0d_level0_row22\" class=\"row_heading level0 row22\" >Автомобильный бизнес</th>\n",
       "      <td id=\"T_70c0d_row22_col0\" class=\"data row22 col0\" >17,959.5</td>\n",
       "      <td id=\"T_70c0d_row22_col1\" class=\"data row22 col1\" >56,892.4</td>\n",
       "      <td id=\"T_70c0d_row22_col2\" class=\"data row22 col2\" >29,560.1</td>\n",
       "    </tr>\n",
       "    <tr>\n",
       "      <th id=\"T_70c0d_level0_row23\" class=\"row_heading level0 row23\" >Государственная служба, некоммерческие организации</th>\n",
       "      <td id=\"T_70c0d_row23_col0\" class=\"data row23 col0\" >13,583.8</td>\n",
       "      <td id=\"T_70c0d_row23_col1\" class=\"data row23 col1\" >32,956.3</td>\n",
       "      <td id=\"T_70c0d_row23_col2\" class=\"data row23 col2\" >14,705.7</td>\n",
       "    </tr>\n",
       "    <tr>\n",
       "      <th id=\"T_70c0d_level0_row24\" class=\"row_heading level0 row24\" >Консультирование</th>\n",
       "      <td id=\"T_70c0d_row24_col0\" class=\"data row24 col0\" >17,156.0</td>\n",
       "      <td id=\"T_70c0d_row24_col1\" class=\"data row24 col1\" >46,424.2</td>\n",
       "      <td id=\"T_70c0d_row24_col2\" class=\"data row24 col2\" >38,721.0</td>\n",
       "    </tr>\n",
       "    <tr>\n",
       "      <th id=\"T_70c0d_level0_row25\" class=\"row_heading level0 row25\" >Наука, образование</th>\n",
       "      <td id=\"T_70c0d_row25_col0\" class=\"data row25 col0\" >15,876.7</td>\n",
       "      <td id=\"T_70c0d_row25_col1\" class=\"data row25 col1\" >29,746.6</td>\n",
       "      <td id=\"T_70c0d_row25_col2\" class=\"data row25 col2\" >20,806.1</td>\n",
       "    </tr>\n",
       "    <tr>\n",
       "      <th id=\"T_70c0d_level0_row26\" class=\"row_heading level0 row26\" >Страхование</th>\n",
       "      <td id=\"T_70c0d_row26_col0\" class=\"data row26 col0\" >10,472.2</td>\n",
       "      <td id=\"T_70c0d_row26_col1\" class=\"data row26 col1\" >36,443.0</td>\n",
       "      <td id=\"T_70c0d_row26_col2\" class=\"data row26 col2\" >11,194.9</td>\n",
       "    </tr>\n",
       "    <tr>\n",
       "      <th id=\"T_70c0d_level0_row27\" class=\"row_heading level0 row27\" >Высший менеджмент</th>\n",
       "      <td id=\"T_70c0d_row27_col0\" class=\"data row27 col0\" >45,078.6</td>\n",
       "      <td id=\"T_70c0d_row27_col1\" class=\"data row27 col1\" >104,284.9</td>\n",
       "      <td id=\"T_70c0d_row27_col2\" class=\"data row27 col2\" >90,833.2</td>\n",
       "    </tr>\n",
       "    <tr>\n",
       "      <th id=\"T_70c0d_level0_row28\" class=\"row_heading level0 row28\" >Total</th>\n",
       "      <td id=\"T_70c0d_row28_col0\" class=\"data row28 col0\" >16,731.0</td>\n",
       "      <td id=\"T_70c0d_row28_col1\" class=\"data row28 col1\" >48,093.8</td>\n",
       "      <td id=\"T_70c0d_row28_col2\" class=\"data row28 col2\" >38,159.3</td>\n",
       "    </tr>\n",
       "  </tbody>\n",
       "</table>\n"
      ],
      "text/plain": [
       "<pandas.io.formats.style.Styler at 0x2834db26fa0>"
      ]
     },
     "execution_count": 46,
     "metadata": {},
     "output_type": "execute_result"
    }
   ],
   "source": [
    "regression_report_raw = pd.DataFrame(regression_report)\n",
    "regression_report_raw.columns = ['MAE', 'salary_from_mean', 'salary_from_std']\n",
    "regression_report_raw.index = np.append(salary['true'].unique(), 'Total')\n",
    "regression_report_raw.style.format(formatter='{:,.1f}').background_gradient()"
   ]
  },
  {
   "cell_type": "markdown",
   "metadata": {
    "id": "W3T33ThsyDJS"
   },
   "source": [
    "<a id='lem_desc_emb214_Ridge_Rus'></a>\n",
    "## lem_desc_emb214_Ridge_Rus\n",
    "[к содержанию](#ксодержанию)"
   ]
  },
  {
   "cell_type": "markdown",
   "metadata": {
    "id": "Qan83eP3q3HL"
   },
   "source": [
    "<a id='Моделируемlem_desc_emb214_Ridge_Rus'></a>\n",
    "### Моделируем\n",
    "[к содержанию](#ксодержанию)"
   ]
  },
  {
   "cell_type": "code",
   "execution_count": 3,
   "metadata": {},
   "outputs": [
    {
     "name": "stderr",
     "output_type": "stream",
     "text": [
      "C:\\Users\\Lisa\\MSU_diploma\\src\\models\\utils.py:23: SettingWithCopyWarning: \n",
      "A value is trying to be set on a copy of a slice from a DataFrame\n",
      "\n",
      "See the caveats in the documentation: https://pandas.pydata.org/pandas-docs/stable/user_guide/indexing.html#returning-a-view-versus-a-copy\n",
      "  df['salary_from'][df['salary_currency'] == curr] = df['salary_from'][df['salary_currency'] == curr].apply(lambda x: x*currency[curr])\n"
     ]
    }
   ],
   "source": [
    "df = pd.read_csv('vacancies_lemmatized.csv')\n",
    "df = df[df['country_name'] == 'Россия']\n",
    "utils.salary_process(df)\n",
    "df = df[['lem_raw_desc', 'salary_from', 'prof_area']].dropna()"
   ]
  },
  {
   "cell_type": "code",
   "execution_count": 5,
   "metadata": {},
   "outputs": [],
   "source": [
    "model_url = 'http://vectors.nlpl.eu/repository/20/214.zip'\n",
    "# m = wget.download(model_url)\n",
    "model_file = model_url.split('/')[-1]\n",
    "with zipfile.ZipFile(model_file, 'r') as archive:\n",
    "    model = gensim.models.KeyedVectors.load(\"./214/model.model\")"
   ]
  },
  {
   "cell_type": "code",
   "execution_count": null,
   "metadata": {},
   "outputs": [],
   "source": [
    "tfidf = TfidfVectorizer()\n",
    "tfidf.fit(df['lem_raw_desc'])\n",
    "max_idf = max(tfidf.idf_)\n",
    "word2weight = defaultdict(\n",
    "    lambda: max_idf,\n",
    "    [(w, tfidf.idf_[i]) for w, i in tfidf.vocabulary_.items()])"
   ]
  },
  {
   "cell_type": "code",
   "execution_count": null,
   "metadata": {},
   "outputs": [],
   "source": [
    "w2v = dict(zip(model.index_to_key, model.vectors))\n",
    "data_mean = utils.mean_vectorizer(w2v).fit().transform(df['lem_raw_desc'], word2weight)"
   ]
  },
  {
   "cell_type": "code",
   "execution_count": null,
   "metadata": {
    "id": "k2r7_y7eo8Z_"
   },
   "outputs": [],
   "source": [
    "X_train, X_test, y_train, y_test = train_test_split(data_mean, df['salary_from'], test_size=0.2, random_state=42)"
   ]
  },
  {
   "cell_type": "code",
   "execution_count": null,
   "metadata": {
    "colab": {
     "base_uri": "https://localhost:8080/"
    },
    "id": "X70d6I1uo8aD",
    "outputId": "bafa76f6-e190-412b-9a42-2eaee09100f1"
   },
   "outputs": [],
   "source": [
    "model = Ridge()\n",
    "model.fit(X_train, y_train)"
   ]
  },
  {
   "cell_type": "code",
   "execution_count": null,
   "metadata": {
    "id": "OdsLFFYTo8aE"
   },
   "outputs": [],
   "source": [
    "y_pred = model.predict(X_test)"
   ]
  },
  {
   "cell_type": "code",
   "execution_count": 55,
   "metadata": {
    "colab": {
     "base_uri": "https://localhost:8080/"
    },
    "id": "K3xzvgcbo8aE",
    "outputId": "26628b87-7efd-497e-d4b1-091c038ecffe"
   },
   "outputs": [
    {
     "data": {
      "text/plain": [
       "['../models/lem_desc_emb214_Ridge_Rus/y_pred.pkl']"
      ]
     },
     "execution_count": 55,
     "metadata": {},
     "output_type": "execute_result"
    }
   ],
   "source": [
    "# Сохраняем модель и y_pred\n",
    "joblib.dump(model, '../models/lem_desc_emb214_Ridge_Rus/model.pkl', compress=8)\n",
    "joblib.dump(y_pred, '../models/lem_desc_emb214_Ridge_Rus/y_pred.pkl')"
   ]
  },
  {
   "cell_type": "markdown",
   "metadata": {
    "id": "hbjS_gBqqwdr"
   },
   "source": [
    "<a id='Отчётlem_desc_emb214_Ridge_Rus'></a>\n",
    "### Отчёт\n",
    "[к содержанию](#ксодержанию)"
   ]
  },
  {
   "cell_type": "code",
   "execution_count": 56,
   "metadata": {
    "id": "uUY6pZFpFtyI"
   },
   "outputs": [],
   "source": [
    "regression_report, salary = utils.report_regression(df[['salary_from', 'prof_area']].dropna(), y_test, y_pred, 'prof_area')"
   ]
  },
  {
   "cell_type": "code",
   "execution_count": 57,
   "metadata": {
    "colab": {
     "base_uri": "https://localhost:8080/",
     "height": 958
    },
    "id": "ipY_IpJhEf42",
    "outputId": "9183115a-ffda-4d10-f0ad-9ca6e2619d0f",
    "scrolled": true
   },
   "outputs": [
    {
     "data": {
      "text/html": [
       "<style type=\"text/css\">\n",
       "#T_2f81e_row0_col0 {\n",
       "  background-color: #fcf4fa;\n",
       "  color: #000000;\n",
       "}\n",
       "#T_2f81e_row0_col1 {\n",
       "  background-color: #eee9f3;\n",
       "  color: #000000;\n",
       "}\n",
       "#T_2f81e_row0_col2 {\n",
       "  background-color: #dcdaeb;\n",
       "  color: #000000;\n",
       "}\n",
       "#T_2f81e_row1_col0 {\n",
       "  background-color: #afc1dd;\n",
       "  color: #000000;\n",
       "}\n",
       "#T_2f81e_row1_col1, #T_2f81e_row20_col1, #T_2f81e_row26_col2 {\n",
       "  background-color: #b0c2de;\n",
       "  color: #000000;\n",
       "}\n",
       "#T_2f81e_row1_col2 {\n",
       "  background-color: #045788;\n",
       "  color: #f1f1f1;\n",
       "}\n",
       "#T_2f81e_row2_col0 {\n",
       "  background-color: #cdd0e5;\n",
       "  color: #000000;\n",
       "}\n",
       "#T_2f81e_row2_col1, #T_2f81e_row17_col2 {\n",
       "  background-color: #a7bddb;\n",
       "  color: #000000;\n",
       "}\n",
       "#T_2f81e_row2_col2 {\n",
       "  background-color: #b9c6e0;\n",
       "  color: #000000;\n",
       "}\n",
       "#T_2f81e_row3_col0 {\n",
       "  background-color: #f5eef6;\n",
       "  color: #000000;\n",
       "}\n",
       "#T_2f81e_row3_col1, #T_2f81e_row5_col2 {\n",
       "  background-color: #cccfe5;\n",
       "  color: #000000;\n",
       "}\n",
       "#T_2f81e_row3_col2 {\n",
       "  background-color: #dad9ea;\n",
       "  color: #000000;\n",
       "}\n",
       "#T_2f81e_row4_col0 {\n",
       "  background-color: #bfc9e1;\n",
       "  color: #000000;\n",
       "}\n",
       "#T_2f81e_row4_col1, #T_2f81e_row20_col2, #T_2f81e_row28_col1 {\n",
       "  background-color: #d4d4e8;\n",
       "  color: #000000;\n",
       "}\n",
       "#T_2f81e_row4_col2 {\n",
       "  background-color: #bdc8e1;\n",
       "  color: #000000;\n",
       "}\n",
       "#T_2f81e_row5_col0, #T_2f81e_row6_col2, #T_2f81e_row15_col2, #T_2f81e_row25_col0 {\n",
       "  background-color: #e7e3f0;\n",
       "  color: #000000;\n",
       "}\n",
       "#T_2f81e_row5_col1 {\n",
       "  background-color: #bcc7e1;\n",
       "  color: #000000;\n",
       "}\n",
       "#T_2f81e_row6_col0, #T_2f81e_row16_col0, #T_2f81e_row24_col2 {\n",
       "  background-color: #ece7f2;\n",
       "  color: #000000;\n",
       "}\n",
       "#T_2f81e_row6_col1, #T_2f81e_row16_col2, #T_2f81e_row18_col1 {\n",
       "  background-color: #f2ecf5;\n",
       "  color: #000000;\n",
       "}\n",
       "#T_2f81e_row7_col0 {\n",
       "  background-color: #79abd0;\n",
       "  color: #f1f1f1;\n",
       "}\n",
       "#T_2f81e_row7_col1 {\n",
       "  background-color: #549cc7;\n",
       "  color: #f1f1f1;\n",
       "}\n",
       "#T_2f81e_row7_col2 {\n",
       "  background-color: #8eb3d5;\n",
       "  color: #000000;\n",
       "}\n",
       "#T_2f81e_row8_col0, #T_2f81e_row14_col0 {\n",
       "  background-color: #f4eef6;\n",
       "  color: #000000;\n",
       "}\n",
       "#T_2f81e_row8_col1, #T_2f81e_row16_col1, #T_2f81e_row21_col0, #T_2f81e_row23_col2 {\n",
       "  background-color: #f0eaf4;\n",
       "  color: #000000;\n",
       "}\n",
       "#T_2f81e_row8_col2, #T_2f81e_row28_col0 {\n",
       "  background-color: #e4e1ef;\n",
       "  color: #000000;\n",
       "}\n",
       "#T_2f81e_row9_col0, #T_2f81e_row15_col0, #T_2f81e_row18_col2, #T_2f81e_row25_col1 {\n",
       "  background-color: #fff7fb;\n",
       "  color: #000000;\n",
       "}\n",
       "#T_2f81e_row9_col1 {\n",
       "  background-color: #f7f0f7;\n",
       "  color: #000000;\n",
       "}\n",
       "#T_2f81e_row9_col2, #T_2f81e_row12_col1 {\n",
       "  background-color: #f4edf6;\n",
       "  color: #000000;\n",
       "}\n",
       "#T_2f81e_row10_col0 {\n",
       "  background-color: #eee8f3;\n",
       "  color: #000000;\n",
       "}\n",
       "#T_2f81e_row10_col1 {\n",
       "  background-color: #e0dded;\n",
       "  color: #000000;\n",
       "}\n",
       "#T_2f81e_row10_col2 {\n",
       "  background-color: #d2d3e7;\n",
       "  color: #000000;\n",
       "}\n",
       "#T_2f81e_row11_col0 {\n",
       "  background-color: #034267;\n",
       "  color: #f1f1f1;\n",
       "}\n",
       "#T_2f81e_row11_col1, #T_2f81e_row22_col0, #T_2f81e_row22_col2 {\n",
       "  background-color: #023858;\n",
       "  color: #f1f1f1;\n",
       "}\n",
       "#T_2f81e_row11_col2 {\n",
       "  background-color: #81aed2;\n",
       "  color: #f1f1f1;\n",
       "}\n",
       "#T_2f81e_row12_col0, #T_2f81e_row18_col0 {\n",
       "  background-color: #f3edf5;\n",
       "  color: #000000;\n",
       "}\n",
       "#T_2f81e_row12_col2 {\n",
       "  background-color: #f1ebf4;\n",
       "  color: #000000;\n",
       "}\n",
       "#T_2f81e_row13_col0, #T_2f81e_row21_col1 {\n",
       "  background-color: #f9f2f8;\n",
       "  color: #000000;\n",
       "}\n",
       "#T_2f81e_row13_col1, #T_2f81e_row13_col2, #T_2f81e_row21_col2 {\n",
       "  background-color: #f8f1f8;\n",
       "  color: #000000;\n",
       "}\n",
       "#T_2f81e_row14_col1 {\n",
       "  background-color: #dedcec;\n",
       "  color: #000000;\n",
       "}\n",
       "#T_2f81e_row14_col2 {\n",
       "  background-color: #e8e4f0;\n",
       "  color: #000000;\n",
       "}\n",
       "#T_2f81e_row15_col1 {\n",
       "  background-color: #dbdaeb;\n",
       "  color: #000000;\n",
       "}\n",
       "#T_2f81e_row17_col0 {\n",
       "  background-color: #d1d2e6;\n",
       "  color: #000000;\n",
       "}\n",
       "#T_2f81e_row17_col1 {\n",
       "  background-color: #d7d6e9;\n",
       "  color: #000000;\n",
       "}\n",
       "#T_2f81e_row19_col0 {\n",
       "  background-color: #e5e1ef;\n",
       "  color: #000000;\n",
       "}\n",
       "#T_2f81e_row19_col1 {\n",
       "  background-color: #dddbec;\n",
       "  color: #000000;\n",
       "}\n",
       "#T_2f81e_row19_col2 {\n",
       "  background-color: #ede8f3;\n",
       "  color: #000000;\n",
       "}\n",
       "#T_2f81e_row20_col0 {\n",
       "  background-color: #ced0e6;\n",
       "  color: #000000;\n",
       "}\n",
       "#T_2f81e_row22_col1 {\n",
       "  background-color: #03466e;\n",
       "  color: #f1f1f1;\n",
       "}\n",
       "#T_2f81e_row23_col0 {\n",
       "  background-color: #fbf4f9;\n",
       "  color: #000000;\n",
       "}\n",
       "#T_2f81e_row23_col1 {\n",
       "  background-color: #d8d7e9;\n",
       "  color: #000000;\n",
       "}\n",
       "#T_2f81e_row24_col0 {\n",
       "  background-color: #e0deed;\n",
       "  color: #000000;\n",
       "}\n",
       "#T_2f81e_row24_col1 {\n",
       "  background-color: #e2dfee;\n",
       "  color: #000000;\n",
       "}\n",
       "#T_2f81e_row25_col2 {\n",
       "  background-color: #ede7f2;\n",
       "  color: #000000;\n",
       "}\n",
       "#T_2f81e_row26_col0 {\n",
       "  background-color: #dfddec;\n",
       "  color: #000000;\n",
       "}\n",
       "#T_2f81e_row26_col1 {\n",
       "  background-color: #d9d8ea;\n",
       "  color: #000000;\n",
       "}\n",
       "#T_2f81e_row27_col0 {\n",
       "  background-color: #03476f;\n",
       "  color: #f1f1f1;\n",
       "}\n",
       "#T_2f81e_row27_col1 {\n",
       "  background-color: #d0d1e6;\n",
       "  color: #000000;\n",
       "}\n",
       "#T_2f81e_row27_col2 {\n",
       "  background-color: #589ec8;\n",
       "  color: #f1f1f1;\n",
       "}\n",
       "#T_2f81e_row28_col2 {\n",
       "  background-color: #b3c3de;\n",
       "  color: #000000;\n",
       "}\n",
       "</style>\n",
       "<table id=\"T_2f81e_\">\n",
       "  <thead>\n",
       "    <tr>\n",
       "      <th class=\"blank level0\" >&nbsp;</th>\n",
       "      <th class=\"col_heading level0 col0\" >MAE</th>\n",
       "      <th class=\"col_heading level0 col1\" >salary_from_mean</th>\n",
       "      <th class=\"col_heading level0 col2\" >salary_from_std</th>\n",
       "    </tr>\n",
       "  </thead>\n",
       "  <tbody>\n",
       "    <tr>\n",
       "      <th id=\"T_2f81e_level0_row0\" class=\"row_heading level0 row0\" >Продажи</th>\n",
       "      <td id=\"T_2f81e_row0_col0\" class=\"data row0 col0\" >12,840.1</td>\n",
       "      <td id=\"T_2f81e_row0_col1\" class=\"data row0 col1\" >38,688.7</td>\n",
       "      <td id=\"T_2f81e_row0_col2\" class=\"data row0 col2\" >26,803.7</td>\n",
       "    </tr>\n",
       "    <tr>\n",
       "      <th id=\"T_2f81e_level0_row1\" class=\"row_heading level0 row1\" >Производство, сельское хозяйство</th>\n",
       "      <td id=\"T_2f81e_row1_col0\" class=\"data row1 col0\" >21,032.9</td>\n",
       "      <td id=\"T_2f81e_row1_col1\" class=\"data row1 col1\" >56,875.1</td>\n",
       "      <td id=\"T_2f81e_row1_col2\" class=\"data row1 col2\" >81,732.8</td>\n",
       "    </tr>\n",
       "    <tr>\n",
       "      <th id=\"T_2f81e_level0_row2\" class=\"row_heading level0 row2\" >Транспорт, логистика</th>\n",
       "      <td id=\"T_2f81e_row2_col0\" class=\"data row2 col0\" >18,778.1</td>\n",
       "      <td id=\"T_2f81e_row2_col1\" class=\"data row2 col1\" >59,084.2</td>\n",
       "      <td id=\"T_2f81e_row2_col2\" class=\"data row2 col2\" >36,609.6</td>\n",
       "    </tr>\n",
       "    <tr>\n",
       "      <th id=\"T_2f81e_level0_row3\" class=\"row_heading level0 row3\" >Медицина, фармацевтика</th>\n",
       "      <td id=\"T_2f81e_row3_col0\" class=\"data row3 col0\" >14,013.9</td>\n",
       "      <td id=\"T_2f81e_row3_col1\" class=\"data row3 col1\" >50,545.3</td>\n",
       "      <td id=\"T_2f81e_row3_col2\" class=\"data row3 col2\" >27,492.8</td>\n",
       "    </tr>\n",
       "    <tr>\n",
       "      <th id=\"T_2f81e_level0_row4\" class=\"row_heading level0 row4\" >Информационные технологии, интернет, телеком</th>\n",
       "      <td id=\"T_2f81e_row4_col0\" class=\"data row4 col0\" >19,844.4</td>\n",
       "      <td id=\"T_2f81e_row4_col1\" class=\"data row4 col1\" >47,960.1</td>\n",
       "      <td id=\"T_2f81e_row4_col2\" class=\"data row4 col2\" >35,573.2</td>\n",
       "    </tr>\n",
       "    <tr>\n",
       "      <th id=\"T_2f81e_level0_row5\" class=\"row_heading level0 row5\" >Рабочий персонал</th>\n",
       "      <td id=\"T_2f81e_row5_col0\" class=\"data row5 col0\" >15,926.5</td>\n",
       "      <td id=\"T_2f81e_row5_col1\" class=\"data row5 col1\" >54,111.8</td>\n",
       "      <td id=\"T_2f81e_row5_col2\" class=\"data row5 col2\" >32,314.8</td>\n",
       "    </tr>\n",
       "    <tr>\n",
       "      <th id=\"T_2f81e_level0_row6\" class=\"row_heading level0 row6\" >Начало карьеры, студенты</th>\n",
       "      <td id=\"T_2f81e_row6_col0\" class=\"data row6 col0\" >15,454.1</td>\n",
       "      <td id=\"T_2f81e_row6_col1\" class=\"data row6 col1\" >36,702.1</td>\n",
       "      <td id=\"T_2f81e_row6_col2\" class=\"data row6 col2\" >23,053.2</td>\n",
       "    </tr>\n",
       "    <tr>\n",
       "      <th id=\"T_2f81e_level0_row7\" class=\"row_heading level0 row7\" >Строительство, недвижимость</th>\n",
       "      <td id=\"T_2f81e_row7_col0\" class=\"data row7 col0\" >24,494.7</td>\n",
       "      <td id=\"T_2f81e_row7_col1\" class=\"data row7 col1\" >74,235.5</td>\n",
       "      <td id=\"T_2f81e_row7_col2\" class=\"data row7 col2\" >45,836.4</td>\n",
       "    </tr>\n",
       "    <tr>\n",
       "      <th id=\"T_2f81e_level0_row8\" class=\"row_heading level0 row8\" >Туризм, гостиницы, рестораны</th>\n",
       "      <td id=\"T_2f81e_row8_col0\" class=\"data row8 col0\" >14,136.3</td>\n",
       "      <td id=\"T_2f81e_row8_col1\" class=\"data row8 col1\" >38,022.2</td>\n",
       "      <td id=\"T_2f81e_row8_col2\" class=\"data row8 col2\" >24,052.2</td>\n",
       "    </tr>\n",
       "    <tr>\n",
       "      <th id=\"T_2f81e_level0_row9\" class=\"row_heading level0 row9\" >Спортивные клубы, фитнес, салоны красоты</th>\n",
       "      <td id=\"T_2f81e_row9_col0\" class=\"data row9 col0\" >12,268.1</td>\n",
       "      <td id=\"T_2f81e_row9_col1\" class=\"data row9 col1\" >34,212.3</td>\n",
       "      <td id=\"T_2f81e_row9_col2\" class=\"data row9 col2\" >17,309.7</td>\n",
       "    </tr>\n",
       "    <tr>\n",
       "      <th id=\"T_2f81e_level0_row10\" class=\"row_heading level0 row10\" >Бухгалтерия, управленческий учет, финансы предприятия</th>\n",
       "      <td id=\"T_2f81e_row10_col0\" class=\"data row10 col0\" >15,132.3</td>\n",
       "      <td id=\"T_2f81e_row10_col1\" class=\"data row10 col1\" >43,974.2</td>\n",
       "      <td id=\"T_2f81e_row10_col2\" class=\"data row10 col2\" >30,213.7</td>\n",
       "    </tr>\n",
       "    <tr>\n",
       "      <th id=\"T_2f81e_level0_row11\" class=\"row_heading level0 row11\" >Добыча сырья</th>\n",
       "      <td id=\"T_2f81e_row11_col0\" class=\"data row11 col0\" >36,469.4</td>\n",
       "      <td id=\"T_2f81e_row11_col1\" class=\"data row11 col1\" >108,334.2</td>\n",
       "      <td id=\"T_2f81e_row11_col2\" class=\"data row11 col2\" >48,459.3</td>\n",
       "    </tr>\n",
       "    <tr>\n",
       "      <th id=\"T_2f81e_level0_row12\" class=\"row_heading level0 row12\" >Административный персонал</th>\n",
       "      <td id=\"T_2f81e_row12_col0\" class=\"data row12 col0\" >14,331.8</td>\n",
       "      <td id=\"T_2f81e_row12_col1\" class=\"data row12 col1\" >35,656.6</td>\n",
       "      <td id=\"T_2f81e_row12_col2\" class=\"data row12 col2\" >18,884.6</td>\n",
       "    </tr>\n",
       "    <tr>\n",
       "      <th id=\"T_2f81e_level0_row13\" class=\"row_heading level0 row13\" >Искусство, развлечения, масс-медиа</th>\n",
       "      <td id=\"T_2f81e_row13_col0\" class=\"data row13 col0\" >13,262.0</td>\n",
       "      <td id=\"T_2f81e_row13_col1\" class=\"data row13 col1\" >33,520.3</td>\n",
       "      <td id=\"T_2f81e_row13_col2\" class=\"data row13 col2\" >15,151.2</td>\n",
       "    </tr>\n",
       "    <tr>\n",
       "      <th id=\"T_2f81e_level0_row14\" class=\"row_heading level0 row14\" >Безопасность</th>\n",
       "      <td id=\"T_2f81e_row14_col0\" class=\"data row14 col0\" >14,120.1</td>\n",
       "      <td id=\"T_2f81e_row14_col1\" class=\"data row14 col1\" >44,635.5</td>\n",
       "      <td id=\"T_2f81e_row14_col2\" class=\"data row14 col2\" >22,530.2</td>\n",
       "    </tr>\n",
       "    <tr>\n",
       "      <th id=\"T_2f81e_level0_row15\" class=\"row_heading level0 row15\" >Банки, инвестиции, лизинг</th>\n",
       "      <td id=\"T_2f81e_row15_col0\" class=\"data row15 col0\" >12,289.2</td>\n",
       "      <td id=\"T_2f81e_row15_col1\" class=\"data row15 col1\" >45,596.8</td>\n",
       "      <td id=\"T_2f81e_row15_col2\" class=\"data row15 col2\" >22,826.8</td>\n",
       "    </tr>\n",
       "    <tr>\n",
       "      <th id=\"T_2f81e_level0_row16\" class=\"row_heading level0 row16\" >Маркетинг, реклама, PR</th>\n",
       "      <td id=\"T_2f81e_row16_col0\" class=\"data row16 col0\" >15,485.3</td>\n",
       "      <td id=\"T_2f81e_row16_col1\" class=\"data row16 col1\" >37,627.9</td>\n",
       "      <td id=\"T_2f81e_row16_col2\" class=\"data row16 col2\" >18,119.0</td>\n",
       "    </tr>\n",
       "    <tr>\n",
       "      <th id=\"T_2f81e_level0_row17\" class=\"row_heading level0 row17\" >Управление персоналом, тренинги</th>\n",
       "      <td id=\"T_2f81e_row17_col0\" class=\"data row17 col0\" >18,548.2</td>\n",
       "      <td id=\"T_2f81e_row17_col1\" class=\"data row17 col1\" >47,184.9</td>\n",
       "      <td id=\"T_2f81e_row17_col2\" class=\"data row17 col2\" >41,016.0</td>\n",
       "    </tr>\n",
       "    <tr>\n",
       "      <th id=\"T_2f81e_level0_row18\" class=\"row_heading level0 row18\" >Страхование</th>\n",
       "      <td id=\"T_2f81e_row18_col0\" class=\"data row18 col0\" >14,323.5</td>\n",
       "      <td id=\"T_2f81e_row18_col1\" class=\"data row18 col1\" >36,443.0</td>\n",
       "      <td id=\"T_2f81e_row18_col2\" class=\"data row18 col2\" >11,194.9</td>\n",
       "    </tr>\n",
       "    <tr>\n",
       "      <th id=\"T_2f81e_level0_row19\" class=\"row_heading level0 row19\" >Закупки</th>\n",
       "      <td id=\"T_2f81e_row19_col0\" class=\"data row19 col0\" >16,295.8</td>\n",
       "      <td id=\"T_2f81e_row19_col1\" class=\"data row19 col1\" >44,947.7</td>\n",
       "      <td id=\"T_2f81e_row19_col2\" class=\"data row19 col2\" >20,558.6</td>\n",
       "    </tr>\n",
       "    <tr>\n",
       "      <th id=\"T_2f81e_level0_row20\" class=\"row_heading level0 row20\" >Автомобильный бизнес</th>\n",
       "      <td id=\"T_2f81e_row20_col0\" class=\"data row20 col0\" >18,753.1</td>\n",
       "      <td id=\"T_2f81e_row20_col1\" class=\"data row20 col1\" >56,892.4</td>\n",
       "      <td id=\"T_2f81e_row20_col2\" class=\"data row20 col2\" >29,560.1</td>\n",
       "    </tr>\n",
       "    <tr>\n",
       "      <th id=\"T_2f81e_level0_row21\" class=\"row_heading level0 row21\" >Государственная служба, некоммерческие организации</th>\n",
       "      <td id=\"T_2f81e_row21_col0\" class=\"data row21 col0\" >14,763.2</td>\n",
       "      <td id=\"T_2f81e_row21_col1\" class=\"data row21 col1\" >32,956.3</td>\n",
       "      <td id=\"T_2f81e_row21_col2\" class=\"data row21 col2\" >14,705.7</td>\n",
       "    </tr>\n",
       "    <tr>\n",
       "      <th id=\"T_2f81e_level0_row22\" class=\"row_heading level0 row22\" >Высший менеджмент</th>\n",
       "      <td id=\"T_2f81e_row22_col0\" class=\"data row22 col0\" >37,443.4</td>\n",
       "      <td id=\"T_2f81e_row22_col1\" class=\"data row22 col1\" >104,284.9</td>\n",
       "      <td id=\"T_2f81e_row22_col2\" class=\"data row22 col2\" >90,833.2</td>\n",
       "    </tr>\n",
       "    <tr>\n",
       "      <th id=\"T_2f81e_level0_row23\" class=\"row_heading level0 row23\" >Инсталляция и сервис</th>\n",
       "      <td id=\"T_2f81e_row23_col0\" class=\"data row23 col0\" >12,861.0</td>\n",
       "      <td id=\"T_2f81e_row23_col1\" class=\"data row23 col1\" >46,684.5</td>\n",
       "      <td id=\"T_2f81e_row23_col2\" class=\"data row23 col2\" >19,541.4</td>\n",
       "    </tr>\n",
       "    <tr>\n",
       "      <th id=\"T_2f81e_level0_row24\" class=\"row_heading level0 row24\" >Юристы</th>\n",
       "      <td id=\"T_2f81e_row24_col0\" class=\"data row24 col0\" >16,743.3</td>\n",
       "      <td id=\"T_2f81e_row24_col1\" class=\"data row24 col1\" >43,117.4</td>\n",
       "      <td id=\"T_2f81e_row24_col2\" class=\"data row24 col2\" >21,353.4</td>\n",
       "    </tr>\n",
       "    <tr>\n",
       "      <th id=\"T_2f81e_level0_row25\" class=\"row_heading level0 row25\" >Наука, образование</th>\n",
       "      <td id=\"T_2f81e_row25_col0\" class=\"data row25 col0\" >15,949.4</td>\n",
       "      <td id=\"T_2f81e_row25_col1\" class=\"data row25 col1\" >29,807.5</td>\n",
       "      <td id=\"T_2f81e_row25_col2\" class=\"data row25 col2\" >20,867.0</td>\n",
       "    </tr>\n",
       "    <tr>\n",
       "      <th id=\"T_2f81e_level0_row26\" class=\"row_heading level0 row26\" >Консультирование</th>\n",
       "      <td id=\"T_2f81e_row26_col0\" class=\"data row26 col0\" >16,911.9</td>\n",
       "      <td id=\"T_2f81e_row26_col1\" class=\"data row26 col1\" >46,424.2</td>\n",
       "      <td id=\"T_2f81e_row26_col2\" class=\"data row26 col2\" >38,721.0</td>\n",
       "    </tr>\n",
       "    <tr>\n",
       "      <th id=\"T_2f81e_level0_row27\" class=\"row_heading level0 row27\" >Домашний персонал</th>\n",
       "      <td id=\"T_2f81e_row27_col0\" class=\"data row27 col0\" >36,031.2</td>\n",
       "      <td id=\"T_2f81e_row27_col1\" class=\"data row27 col1\" >49,647.8</td>\n",
       "      <td id=\"T_2f81e_row27_col2\" class=\"data row27 col2\" >55,590.3</td>\n",
       "    </tr>\n",
       "    <tr>\n",
       "      <th id=\"T_2f81e_level0_row28\" class=\"row_heading level0 row28\" >Total</th>\n",
       "      <td id=\"T_2f81e_row28_col0\" class=\"data row28 col0\" >16,344.2</td>\n",
       "      <td id=\"T_2f81e_row28_col1\" class=\"data row28 col1\" >48,100.2</td>\n",
       "      <td id=\"T_2f81e_row28_col2\" class=\"data row28 col2\" >38,181.4</td>\n",
       "    </tr>\n",
       "  </tbody>\n",
       "</table>\n"
      ],
      "text/plain": [
       "<pandas.io.formats.style.Styler at 0x28319d51730>"
      ]
     },
     "execution_count": 57,
     "metadata": {},
     "output_type": "execute_result"
    }
   ],
   "source": [
    "regression_report_raw = pd.DataFrame(regression_report)\n",
    "regression_report_raw.columns = ['MAE', 'salary_from_mean', 'salary_from_std']\n",
    "regression_report_raw.index = np.append(salary['true'].unique(), 'Total')\n",
    "regression_report_raw.style.format(formatter='{:,.1f}').background_gradient()"
   ]
  },
  {
   "cell_type": "markdown",
   "metadata": {
    "id": "W3T33ThsyDJS"
   },
   "source": [
    "<a id='lem_desc_emb187_Ridge_Rus'></a>\n",
    "## lem_desc_emb187_Ridge_Rus\n",
    "[к содержанию](#ксодержанию)"
   ]
  },
  {
   "cell_type": "markdown",
   "metadata": {
    "id": "Qan83eP3q3HL"
   },
   "source": [
    "<a id='Моделируемlem_desc_emb187_Ridge_Rus'></a>\n",
    "### Моделируем\n",
    "[к содержанию](#ксодержанию)"
   ]
  },
  {
   "cell_type": "code",
   "execution_count": 3,
   "metadata": {},
   "outputs": [
    {
     "name": "stderr",
     "output_type": "stream",
     "text": [
      "C:\\Users\\Lisa\\MSU_diploma\\src\\models\\utils.py:23: SettingWithCopyWarning: \n",
      "A value is trying to be set on a copy of a slice from a DataFrame\n",
      "\n",
      "See the caveats in the documentation: https://pandas.pydata.org/pandas-docs/stable/user_guide/indexing.html#returning-a-view-versus-a-copy\n",
      "  df['salary_from'][df['salary_currency'] == curr] = df['salary_from'][df['salary_currency'] == curr].apply(lambda x: x*currency[curr])\n"
     ]
    }
   ],
   "source": [
    "df = pd.read_csv('vacancies_lemmatized.csv')\n",
    "df = df[df['country_name'] == 'Россия']\n",
    "utils.salary_process(df)\n",
    "df = df[['lem_raw_desc', 'salary_from', 'prof_area']].dropna()"
   ]
  },
  {
   "cell_type": "code",
   "execution_count": 4,
   "metadata": {},
   "outputs": [],
   "source": [
    "model_url = 'http://vectors.nlpl.eu/repository/20/187.zip'\n",
    "# m = wget.download(model_url)\n",
    "model_file = model_url.split('/')[-1]\n",
    "with zipfile.ZipFile(model_file, 'r') as archive:\n",
    "    model = gensim.models.KeyedVectors.load(\"./187/model.model\")"
   ]
  },
  {
   "cell_type": "code",
   "execution_count": 5,
   "metadata": {},
   "outputs": [],
   "source": [
    "tfidf = TfidfVectorizer()\n",
    "tfidf.fit(df['lem_raw_desc'])\n",
    "max_idf = max(tfidf.idf_)\n",
    "word2weight = defaultdict(\n",
    "    lambda: max_idf,\n",
    "    [(w, tfidf.idf_[i]) for w, i in tfidf.vocabulary_.items()])"
   ]
  },
  {
   "cell_type": "code",
   "execution_count": 6,
   "metadata": {},
   "outputs": [],
   "source": [
    "w2v = dict(zip(model.index2word, model.vectors))\n",
    "data_mean = utils.mean_vectorizer(w2v).fit().transform(df['lem_raw_desc'], word2weight)"
   ]
  },
  {
   "cell_type": "code",
   "execution_count": 7,
   "metadata": {
    "id": "k2r7_y7eo8Z_"
   },
   "outputs": [],
   "source": [
    "X_train, X_test, y_train, y_test = train_test_split(data_mean, df['salary_from'], test_size=0.2, random_state=42)"
   ]
  },
  {
   "cell_type": "code",
   "execution_count": 8,
   "metadata": {
    "colab": {
     "base_uri": "https://localhost:8080/"
    },
    "id": "X70d6I1uo8aD",
    "outputId": "bafa76f6-e190-412b-9a42-2eaee09100f1"
   },
   "outputs": [
    {
     "data": {
      "text/plain": [
       "Ridge()"
      ]
     },
     "execution_count": 8,
     "metadata": {},
     "output_type": "execute_result"
    }
   ],
   "source": [
    "model = Ridge()\n",
    "model.fit(X_train, y_train)"
   ]
  },
  {
   "cell_type": "code",
   "execution_count": 9,
   "metadata": {
    "id": "OdsLFFYTo8aE"
   },
   "outputs": [],
   "source": [
    "y_pred = model.predict(X_test)"
   ]
  },
  {
   "cell_type": "code",
   "execution_count": 10,
   "metadata": {
    "colab": {
     "base_uri": "https://localhost:8080/"
    },
    "id": "K3xzvgcbo8aE",
    "outputId": "26628b87-7efd-497e-d4b1-091c038ecffe"
   },
   "outputs": [
    {
     "data": {
      "text/plain": [
       "['../models/lem_desc_emb187_Ridge_Rus/y_pred.pkl']"
      ]
     },
     "execution_count": 10,
     "metadata": {},
     "output_type": "execute_result"
    }
   ],
   "source": [
    "# Сохраняем модель и y_pred\n",
    "joblib.dump(model, '../models/lem_desc_emb187_Ridge_Rus/model.pkl', compress=8)\n",
    "joblib.dump(y_pred, '../models/lem_desc_emb187_Ridge_Rus/y_pred.pkl')"
   ]
  },
  {
   "cell_type": "markdown",
   "metadata": {
    "id": "hbjS_gBqqwdr"
   },
   "source": [
    "<a id='Отчётlem_desc_emb187_Ridge_Rus'></a>\n",
    "### Отчёт\n",
    "[к содержанию](#ксодержанию)"
   ]
  },
  {
   "cell_type": "code",
   "execution_count": 11,
   "metadata": {
    "id": "uUY6pZFpFtyI"
   },
   "outputs": [],
   "source": [
    "regression_report, salary = utils.report_regression(df[['salary_from', 'prof_area']].dropna(), y_test, y_pred, 'prof_area')"
   ]
  },
  {
   "cell_type": "code",
   "execution_count": 12,
   "metadata": {
    "colab": {
     "base_uri": "https://localhost:8080/",
     "height": 958
    },
    "id": "ipY_IpJhEf42",
    "outputId": "9183115a-ffda-4d10-f0ad-9ca6e2619d0f",
    "scrolled": true
   },
   "outputs": [
    {
     "data": {
      "text/html": [
       "<style type=\"text/css\">\n",
       "#T_aa866_row0_col0, #T_aa866_row8_col1 {\n",
       "  background-color: #f5eef6;\n",
       "  color: #000000;\n",
       "}\n",
       "#T_aa866_row0_col1, #T_aa866_row12_col2 {\n",
       "  background-color: #f1ebf4;\n",
       "  color: #000000;\n",
       "}\n",
       "#T_aa866_row0_col2 {\n",
       "  background-color: #dcdaeb;\n",
       "  color: #000000;\n",
       "}\n",
       "#T_aa866_row1_col0 {\n",
       "  background-color: #9fbad9;\n",
       "  color: #000000;\n",
       "}\n",
       "#T_aa866_row1_col1 {\n",
       "  background-color: #c0c9e2;\n",
       "  color: #000000;\n",
       "}\n",
       "#T_aa866_row1_col2 {\n",
       "  background-color: #045788;\n",
       "  color: #f1f1f1;\n",
       "}\n",
       "#T_aa866_row2_col0, #T_aa866_row28_col2 {\n",
       "  background-color: #b3c3de;\n",
       "  color: #000000;\n",
       "}\n",
       "#T_aa866_row2_col1 {\n",
       "  background-color: #a9bfdc;\n",
       "  color: #000000;\n",
       "}\n",
       "#T_aa866_row2_col2 {\n",
       "  background-color: #b9c6e0;\n",
       "  color: #000000;\n",
       "}\n",
       "#T_aa866_row3_col0, #T_aa866_row12_col0, #T_aa866_row19_col2 {\n",
       "  background-color: #ede8f3;\n",
       "  color: #000000;\n",
       "}\n",
       "#T_aa866_row3_col1, #T_aa866_row10_col2 {\n",
       "  background-color: #d2d3e7;\n",
       "  color: #000000;\n",
       "}\n",
       "#T_aa866_row3_col2 {\n",
       "  background-color: #dad9ea;\n",
       "  color: #000000;\n",
       "}\n",
       "#T_aa866_row4_col0, #T_aa866_row4_col2 {\n",
       "  background-color: #bdc8e1;\n",
       "  color: #000000;\n",
       "}\n",
       "#T_aa866_row4_col1, #T_aa866_row28_col0, #T_aa866_row28_col1 {\n",
       "  background-color: #d8d7e9;\n",
       "  color: #000000;\n",
       "}\n",
       "#T_aa866_row5_col0, #T_aa866_row19_col1, #T_aa866_row24_col0 {\n",
       "  background-color: #d9d8ea;\n",
       "  color: #000000;\n",
       "}\n",
       "#T_aa866_row5_col1 {\n",
       "  background-color: #c2cbe2;\n",
       "  color: #000000;\n",
       "}\n",
       "#T_aa866_row5_col2 {\n",
       "  background-color: #cccfe5;\n",
       "  color: #000000;\n",
       "}\n",
       "#T_aa866_row6_col0, #T_aa866_row15_col1 {\n",
       "  background-color: #dddbec;\n",
       "  color: #000000;\n",
       "}\n",
       "#T_aa866_row6_col1 {\n",
       "  background-color: #f6eff7;\n",
       "  color: #000000;\n",
       "}\n",
       "#T_aa866_row6_col2, #T_aa866_row15_col2 {\n",
       "  background-color: #e7e3f0;\n",
       "  color: #000000;\n",
       "}\n",
       "#T_aa866_row7_col0 {\n",
       "  background-color: #60a1ca;\n",
       "  color: #f1f1f1;\n",
       "}\n",
       "#T_aa866_row7_col1, #T_aa866_row27_col2 {\n",
       "  background-color: #589ec8;\n",
       "  color: #f1f1f1;\n",
       "}\n",
       "#T_aa866_row7_col2 {\n",
       "  background-color: #8eb3d5;\n",
       "  color: #000000;\n",
       "}\n",
       "#T_aa866_row8_col0, #T_aa866_row8_col2 {\n",
       "  background-color: #e4e1ef;\n",
       "  color: #000000;\n",
       "}\n",
       "#T_aa866_row9_col0, #T_aa866_row9_col2, #T_aa866_row14_col0 {\n",
       "  background-color: #f4edf6;\n",
       "  color: #000000;\n",
       "}\n",
       "#T_aa866_row9_col1 {\n",
       "  background-color: #faf2f8;\n",
       "  color: #000000;\n",
       "}\n",
       "#T_aa866_row10_col0, #T_aa866_row19_col0 {\n",
       "  background-color: #dedcec;\n",
       "  color: #000000;\n",
       "}\n",
       "#T_aa866_row10_col1 {\n",
       "  background-color: #e3e0ee;\n",
       "  color: #000000;\n",
       "}\n",
       "#T_aa866_row11_col0, #T_aa866_row11_col1, #T_aa866_row22_col0, #T_aa866_row22_col2 {\n",
       "  background-color: #023858;\n",
       "  color: #f1f1f1;\n",
       "}\n",
       "#T_aa866_row11_col2 {\n",
       "  background-color: #81aed2;\n",
       "  color: #f1f1f1;\n",
       "}\n",
       "#T_aa866_row12_col1, #T_aa866_row15_col0 {\n",
       "  background-color: #f7f0f7;\n",
       "  color: #000000;\n",
       "}\n",
       "#T_aa866_row13_col0, #T_aa866_row26_col1 {\n",
       "  background-color: #eee8f3;\n",
       "  color: #000000;\n",
       "}\n",
       "#T_aa866_row13_col1 {\n",
       "  background-color: #fef6fb;\n",
       "  color: #000000;\n",
       "}\n",
       "#T_aa866_row13_col2, #T_aa866_row21_col2 {\n",
       "  background-color: #f8f1f8;\n",
       "  color: #000000;\n",
       "}\n",
       "#T_aa866_row14_col1 {\n",
       "  background-color: #dfddec;\n",
       "  color: #000000;\n",
       "}\n",
       "#T_aa866_row14_col2, #T_aa866_row18_col0 {\n",
       "  background-color: #e8e4f0;\n",
       "  color: #000000;\n",
       "}\n",
       "#T_aa866_row16_col0, #T_aa866_row24_col1 {\n",
       "  background-color: #e0dded;\n",
       "  color: #000000;\n",
       "}\n",
       "#T_aa866_row16_col1, #T_aa866_row23_col2 {\n",
       "  background-color: #f0eaf4;\n",
       "  color: #000000;\n",
       "}\n",
       "#T_aa866_row16_col2, #T_aa866_row21_col0 {\n",
       "  background-color: #f2ecf5;\n",
       "  color: #000000;\n",
       "}\n",
       "#T_aa866_row17_col0 {\n",
       "  background-color: #c8cde4;\n",
       "  color: #000000;\n",
       "}\n",
       "#T_aa866_row17_col1 {\n",
       "  background-color: #d7d6e9;\n",
       "  color: #000000;\n",
       "}\n",
       "#T_aa866_row17_col2, #T_aa866_row27_col1 {\n",
       "  background-color: #a7bddb;\n",
       "  color: #000000;\n",
       "}\n",
       "#T_aa866_row18_col1 {\n",
       "  background-color: #f4eef6;\n",
       "  color: #000000;\n",
       "}\n",
       "#T_aa866_row18_col2, #T_aa866_row23_col0, #T_aa866_row25_col1 {\n",
       "  background-color: #fff7fb;\n",
       "  color: #000000;\n",
       "}\n",
       "#T_aa866_row20_col0, #T_aa866_row26_col0 {\n",
       "  background-color: #c6cce3;\n",
       "  color: #000000;\n",
       "}\n",
       "#T_aa866_row20_col1 {\n",
       "  background-color: #afc1dd;\n",
       "  color: #000000;\n",
       "}\n",
       "#T_aa866_row20_col2 {\n",
       "  background-color: #d4d4e8;\n",
       "  color: #000000;\n",
       "}\n",
       "#T_aa866_row21_col1 {\n",
       "  background-color: #fdf5fa;\n",
       "  color: #000000;\n",
       "}\n",
       "#T_aa866_row22_col1 {\n",
       "  background-color: #0f76b3;\n",
       "  color: #f1f1f1;\n",
       "}\n",
       "#T_aa866_row23_col1 {\n",
       "  background-color: #e2dfee;\n",
       "  color: #000000;\n",
       "}\n",
       "#T_aa866_row24_col2 {\n",
       "  background-color: #ece7f2;\n",
       "  color: #000000;\n",
       "}\n",
       "#T_aa866_row25_col0 {\n",
       "  background-color: #cdd0e5;\n",
       "  color: #000000;\n",
       "}\n",
       "#T_aa866_row25_col2 {\n",
       "  background-color: #ede7f2;\n",
       "  color: #000000;\n",
       "}\n",
       "#T_aa866_row26_col2 {\n",
       "  background-color: #b0c2de;\n",
       "  color: #000000;\n",
       "}\n",
       "#T_aa866_row27_col0 {\n",
       "  background-color: #023b5d;\n",
       "  color: #f1f1f1;\n",
       "}\n",
       "</style>\n",
       "<table id=\"T_aa866_\">\n",
       "  <thead>\n",
       "    <tr>\n",
       "      <th class=\"blank level0\" >&nbsp;</th>\n",
       "      <th class=\"col_heading level0 col0\" >MAE</th>\n",
       "      <th class=\"col_heading level0 col1\" >salary_from_mean</th>\n",
       "      <th class=\"col_heading level0 col2\" >salary_from_std</th>\n",
       "    </tr>\n",
       "  </thead>\n",
       "  <tbody>\n",
       "    <tr>\n",
       "      <th id=\"T_aa866_level0_row0\" class=\"row_heading level0 row0\" >Продажи</th>\n",
       "      <td id=\"T_aa866_row0_col0\" class=\"data row0 col0\" >12,941.3</td>\n",
       "      <td id=\"T_aa866_row0_col1\" class=\"data row0 col1\" >39,105.2</td>\n",
       "      <td id=\"T_aa866_row0_col2\" class=\"data row0 col2\" >26,803.7</td>\n",
       "    </tr>\n",
       "    <tr>\n",
       "      <th id=\"T_aa866_level0_row1\" class=\"row_heading level0 row1\" >Производство, сельское хозяйство</th>\n",
       "      <td id=\"T_aa866_row1_col0\" class=\"data row1 col0\" >21,306.7</td>\n",
       "      <td id=\"T_aa866_row1_col1\" class=\"data row1 col1\" >54,537.4</td>\n",
       "      <td id=\"T_aa866_row1_col2\" class=\"data row1 col2\" >81,732.8</td>\n",
       "    </tr>\n",
       "    <tr>\n",
       "      <th id=\"T_aa866_level0_row2\" class=\"row_heading level0 row2\" >Транспорт, логистика</th>\n",
       "      <td id=\"T_aa866_row2_col0\" class=\"data row2 col0\" >19,918.0</td>\n",
       "      <td id=\"T_aa866_row2_col1\" class=\"data row2 col1\" >59,566.2</td>\n",
       "      <td id=\"T_aa866_row2_col2\" class=\"data row2 col2\" >36,609.6</td>\n",
       "    </tr>\n",
       "    <tr>\n",
       "      <th id=\"T_aa866_level0_row3\" class=\"row_heading level0 row3\" >Медицина, фармацевтика</th>\n",
       "      <td id=\"T_aa866_row3_col0\" class=\"data row3 col0\" >14,192.4</td>\n",
       "      <td id=\"T_aa866_row3_col1\" class=\"data row3 col1\" >49,936.5</td>\n",
       "      <td id=\"T_aa866_row3_col2\" class=\"data row3 col2\" >27,492.8</td>\n",
       "    </tr>\n",
       "    <tr>\n",
       "      <th id=\"T_aa866_level0_row4\" class=\"row_heading level0 row4\" >Информационные технологии, интернет, телеком</th>\n",
       "      <td id=\"T_aa866_row4_col0\" class=\"data row4 col0\" >19,052.2</td>\n",
       "      <td id=\"T_aa866_row4_col1\" class=\"data row4 col1\" >48,127.8</td>\n",
       "      <td id=\"T_aa866_row4_col2\" class=\"data row4 col2\" >35,573.2</td>\n",
       "    </tr>\n",
       "    <tr>\n",
       "      <th id=\"T_aa866_level0_row5\" class=\"row_heading level0 row5\" >Рабочий персонал</th>\n",
       "      <td id=\"T_aa866_row5_col0\" class=\"data row5 col0\" >16,663.5</td>\n",
       "      <td id=\"T_aa866_row5_col1\" class=\"data row5 col1\" >53,907.9</td>\n",
       "      <td id=\"T_aa866_row5_col2\" class=\"data row5 col2\" >32,314.8</td>\n",
       "    </tr>\n",
       "    <tr>\n",
       "      <th id=\"T_aa866_level0_row6\" class=\"row_heading level0 row6\" >Начало карьеры, студенты</th>\n",
       "      <td id=\"T_aa866_row6_col0\" class=\"data row6 col0\" >16,188.2</td>\n",
       "      <td id=\"T_aa866_row6_col1\" class=\"data row6 col1\" >36,367.1</td>\n",
       "      <td id=\"T_aa866_row6_col2\" class=\"data row6 col2\" >23,053.2</td>\n",
       "    </tr>\n",
       "    <tr>\n",
       "      <th id=\"T_aa866_level0_row7\" class=\"row_heading level0 row7\" >Строительство, недвижимость</th>\n",
       "      <td id=\"T_aa866_row7_col0\" class=\"data row7 col0\" >25,122.3</td>\n",
       "      <td id=\"T_aa866_row7_col1\" class=\"data row7 col1\" >74,208.0</td>\n",
       "      <td id=\"T_aa866_row7_col2\" class=\"data row7 col2\" >45,836.4</td>\n",
       "    </tr>\n",
       "    <tr>\n",
       "      <th id=\"T_aa866_level0_row8\" class=\"row_heading level0 row8\" >Туризм, гостиницы, рестораны</th>\n",
       "      <td id=\"T_aa866_row8_col0\" class=\"data row8 col0\" >15,322.8</td>\n",
       "      <td id=\"T_aa866_row8_col1\" class=\"data row8 col1\" >37,059.8</td>\n",
       "      <td id=\"T_aa866_row8_col2\" class=\"data row8 col2\" >24,052.2</td>\n",
       "    </tr>\n",
       "    <tr>\n",
       "      <th id=\"T_aa866_level0_row9\" class=\"row_heading level0 row9\" >Спортивные клубы, фитнес, салоны красоты</th>\n",
       "      <td id=\"T_aa866_row9_col0\" class=\"data row9 col0\" >13,151.8</td>\n",
       "      <td id=\"T_aa866_row9_col1\" class=\"data row9 col1\" >34,746.5</td>\n",
       "      <td id=\"T_aa866_row9_col2\" class=\"data row9 col2\" >17,309.7</td>\n",
       "    </tr>\n",
       "    <tr>\n",
       "      <th id=\"T_aa866_level0_row10\" class=\"row_heading level0 row10\" >Бухгалтерия, управленческий учет, финансы предприятия</th>\n",
       "      <td id=\"T_aa866_row10_col0\" class=\"data row10 col0\" >16,020.1</td>\n",
       "      <td id=\"T_aa866_row10_col1\" class=\"data row10 col1\" >44,371.7</td>\n",
       "      <td id=\"T_aa866_row10_col2\" class=\"data row10 col2\" >30,213.7</td>\n",
       "    </tr>\n",
       "    <tr>\n",
       "      <th id=\"T_aa866_level0_row11\" class=\"row_heading level0 row11\" >Добыча сырья</th>\n",
       "      <td id=\"T_aa866_row11_col0\" class=\"data row11 col0\" >36,862.9</td>\n",
       "      <td id=\"T_aa866_row11_col1\" class=\"data row11 col1\" >107,769.2</td>\n",
       "      <td id=\"T_aa866_row11_col2\" class=\"data row11 col2\" >48,459.3</td>\n",
       "    </tr>\n",
       "    <tr>\n",
       "      <th id=\"T_aa866_level0_row12\" class=\"row_heading level0 row12\" >Административный персонал</th>\n",
       "      <td id=\"T_aa866_row12_col0\" class=\"data row12 col0\" >14,260.0</td>\n",
       "      <td id=\"T_aa866_row12_col1\" class=\"data row12 col1\" >35,982.3</td>\n",
       "      <td id=\"T_aa866_row12_col2\" class=\"data row12 col2\" >18,884.6</td>\n",
       "    </tr>\n",
       "    <tr>\n",
       "      <th id=\"T_aa866_level0_row13\" class=\"row_heading level0 row13\" >Искусство, развлечения, масс-медиа</th>\n",
       "      <td id=\"T_aa866_row13_col0\" class=\"data row13 col0\" >14,110.0</td>\n",
       "      <td id=\"T_aa866_row13_col1\" class=\"data row13 col1\" >32,397.0</td>\n",
       "      <td id=\"T_aa866_row13_col2\" class=\"data row13 col2\" >15,151.2</td>\n",
       "    </tr>\n",
       "    <tr>\n",
       "      <th id=\"T_aa866_level0_row14\" class=\"row_heading level0 row14\" >Безопасность</th>\n",
       "      <td id=\"T_aa866_row14_col0\" class=\"data row14 col0\" >13,162.6</td>\n",
       "      <td id=\"T_aa866_row14_col1\" class=\"data row14 col1\" >46,019.2</td>\n",
       "      <td id=\"T_aa866_row14_col2\" class=\"data row14 col2\" >22,530.2</td>\n",
       "    </tr>\n",
       "    <tr>\n",
       "      <th id=\"T_aa866_level0_row15\" class=\"row_heading level0 row15\" >Банки, инвестиции, лизинг</th>\n",
       "      <td id=\"T_aa866_row15_col0\" class=\"data row15 col0\" >12,556.7</td>\n",
       "      <td id=\"T_aa866_row15_col1\" class=\"data row15 col1\" >46,590.5</td>\n",
       "      <td id=\"T_aa866_row15_col2\" class=\"data row15 col2\" >22,826.8</td>\n",
       "    </tr>\n",
       "    <tr>\n",
       "      <th id=\"T_aa866_level0_row16\" class=\"row_heading level0 row16\" >Маркетинг, реклама, PR</th>\n",
       "      <td id=\"T_aa866_row16_col0\" class=\"data row16 col0\" >15,887.1</td>\n",
       "      <td id=\"T_aa866_row16_col1\" class=\"data row16 col1\" >39,533.6</td>\n",
       "      <td id=\"T_aa866_row16_col2\" class=\"data row16 col2\" >18,119.0</td>\n",
       "    </tr>\n",
       "    <tr>\n",
       "      <th id=\"T_aa866_level0_row17\" class=\"row_heading level0 row17\" >Управление персоналом, тренинги</th>\n",
       "      <td id=\"T_aa866_row17_col0\" class=\"data row17 col0\" >18,253.0</td>\n",
       "      <td id=\"T_aa866_row17_col1\" class=\"data row17 col1\" >48,536.5</td>\n",
       "      <td id=\"T_aa866_row17_col2\" class=\"data row17 col2\" >41,016.0</td>\n",
       "    </tr>\n",
       "    <tr>\n",
       "      <th id=\"T_aa866_level0_row18\" class=\"row_heading level0 row18\" >Страхование</th>\n",
       "      <td id=\"T_aa866_row18_col0\" class=\"data row18 col0\" >14,825.9</td>\n",
       "      <td id=\"T_aa866_row18_col1\" class=\"data row18 col1\" >37,237.1</td>\n",
       "      <td id=\"T_aa866_row18_col2\" class=\"data row18 col2\" >11,194.9</td>\n",
       "    </tr>\n",
       "    <tr>\n",
       "      <th id=\"T_aa866_level0_row19\" class=\"row_heading level0 row19\" >Закупки</th>\n",
       "      <td id=\"T_aa866_row19_col0\" class=\"data row19 col0\" >16,034.2</td>\n",
       "      <td id=\"T_aa866_row19_col1\" class=\"data row19 col1\" >47,905.9</td>\n",
       "      <td id=\"T_aa866_row19_col2\" class=\"data row19 col2\" >20,558.6</td>\n",
       "    </tr>\n",
       "    <tr>\n",
       "      <th id=\"T_aa866_level0_row20\" class=\"row_heading level0 row20\" >Автомобильный бизнес</th>\n",
       "      <td id=\"T_aa866_row20_col0\" class=\"data row20 col0\" >18,405.6</td>\n",
       "      <td id=\"T_aa866_row20_col1\" class=\"data row20 col1\" >58,259.0</td>\n",
       "      <td id=\"T_aa866_row20_col2\" class=\"data row20 col2\" >29,560.1</td>\n",
       "    </tr>\n",
       "    <tr>\n",
       "      <th id=\"T_aa866_level0_row21\" class=\"row_heading level0 row21\" >Государственная служба, некоммерческие организации</th>\n",
       "      <td id=\"T_aa866_row21_col0\" class=\"data row21 col0\" >13,483.8</td>\n",
       "      <td id=\"T_aa866_row21_col1\" class=\"data row21 col1\" >33,264.6</td>\n",
       "      <td id=\"T_aa866_row21_col2\" class=\"data row21 col2\" >14,705.7</td>\n",
       "    </tr>\n",
       "    <tr>\n",
       "      <th id=\"T_aa866_level0_row22\" class=\"row_heading level0 row22\" >Высший менеджмент</th>\n",
       "      <td id=\"T_aa866_row22_col0\" class=\"data row22 col0\" >36,906.6</td>\n",
       "      <td id=\"T_aa866_row22_col1\" class=\"data row22 col1\" >86,919.5</td>\n",
       "      <td id=\"T_aa866_row22_col2\" class=\"data row22 col2\" >90,833.2</td>\n",
       "    </tr>\n",
       "    <tr>\n",
       "      <th id=\"T_aa866_level0_row23\" class=\"row_heading level0 row23\" >Инсталляция и сервис</th>\n",
       "      <td id=\"T_aa866_row23_col0\" class=\"data row23 col0\" >11,174.8</td>\n",
       "      <td id=\"T_aa866_row23_col1\" class=\"data row23 col1\" >44,826.9</td>\n",
       "      <td id=\"T_aa866_row23_col2\" class=\"data row23 col2\" >19,541.4</td>\n",
       "    </tr>\n",
       "    <tr>\n",
       "      <th id=\"T_aa866_level0_row24\" class=\"row_heading level0 row24\" >Юристы</th>\n",
       "      <td id=\"T_aa866_row24_col0\" class=\"data row24 col0\" >16,587.3</td>\n",
       "      <td id=\"T_aa866_row24_col1\" class=\"data row24 col1\" >45,521.9</td>\n",
       "      <td id=\"T_aa866_row24_col2\" class=\"data row24 col2\" >21,353.4</td>\n",
       "    </tr>\n",
       "    <tr>\n",
       "      <th id=\"T_aa866_level0_row25\" class=\"row_heading level0 row25\" >Наука, образование</th>\n",
       "      <td id=\"T_aa866_row25_col0\" class=\"data row25 col0\" >17,869.1</td>\n",
       "      <td id=\"T_aa866_row25_col1\" class=\"data row25 col1\" >31,804.7</td>\n",
       "      <td id=\"T_aa866_row25_col2\" class=\"data row25 col2\" >20,867.0</td>\n",
       "    </tr>\n",
       "    <tr>\n",
       "      <th id=\"T_aa866_level0_row26\" class=\"row_heading level0 row26\" >Консультирование</th>\n",
       "      <td id=\"T_aa866_row26_col0\" class=\"data row26 col0\" >18,313.7</td>\n",
       "      <td id=\"T_aa866_row26_col1\" class=\"data row26 col1\" >40,676.2</td>\n",
       "      <td id=\"T_aa866_row26_col2\" class=\"data row26 col2\" >38,721.0</td>\n",
       "    </tr>\n",
       "    <tr>\n",
       "      <th id=\"T_aa866_level0_row27\" class=\"row_heading level0 row27\" >Домашний персонал</th>\n",
       "      <td id=\"T_aa866_row27_col0\" class=\"data row27 col0\" >36,597.7</td>\n",
       "      <td id=\"T_aa866_row27_col1\" class=\"data row27 col1\" >60,167.3</td>\n",
       "      <td id=\"T_aa866_row27_col2\" class=\"data row27 col2\" >55,590.3</td>\n",
       "    </tr>\n",
       "    <tr>\n",
       "      <th id=\"T_aa866_level0_row28\" class=\"row_heading level0 row28\" >Total</th>\n",
       "      <td id=\"T_aa866_row28_col0\" class=\"data row28 col0\" >16,704.0</td>\n",
       "      <td id=\"T_aa866_row28_col1\" class=\"data row28 col1\" >48,148.4</td>\n",
       "      <td id=\"T_aa866_row28_col2\" class=\"data row28 col2\" >38,181.4</td>\n",
       "    </tr>\n",
       "  </tbody>\n",
       "</table>\n"
      ],
      "text/plain": [
       "<pandas.io.formats.style.Styler at 0x1c8b3f626d0>"
      ]
     },
     "execution_count": 12,
     "metadata": {},
     "output_type": "execute_result"
    }
   ],
   "source": [
    "regression_report_raw = pd.DataFrame(regression_report)\n",
    "regression_report_raw.columns = ['MAE', 'salary_from_mean', 'salary_from_std']\n",
    "regression_report_raw.index = np.append(salary['true'].unique(), 'Total')\n",
    "regression_report_raw.style.format(formatter='{:,.1f}').background_gradient()"
   ]
  },
  {
   "cell_type": "markdown",
   "metadata": {
    "id": "B0I1FPhl5U49"
   },
   "source": [
    "<a id='raw_desc_deeppavlov_Ridge'></a>\n",
    "## raw_desc_deeppavlov_Ridge\n",
    "[к содержанию](#ксодержанию)"
   ]
  },
  {
   "cell_type": "markdown",
   "metadata": {
    "id": "SAXTR6ub5Kax"
   },
   "source": [
    "<a id='Моделируемraw_desc_deeppavlov_Ridge'></a>\n",
    "### Моделируем\n",
    "[к содержанию](#ксодержанию)"
   ]
  },
  {
   "cell_type": "code",
   "execution_count": 8,
   "metadata": {
    "colab": {
     "base_uri": "https://localhost:8080/"
    },
    "id": "kVm2Qh305KbO",
    "outputId": "78742b00-b96f-4d2c-f6f3-2323b70cbec2"
   },
   "outputs": [],
   "source": [
    "df = pd.read_csv('vacancies_lemmatized.csv')\n",
    "df = df[df['language'] == 'ru']\n",
    "utils.salary_process(df)"
   ]
  },
  {
   "cell_type": "code",
   "execution_count": null,
   "metadata": {},
   "outputs": [],
   "source": [
    "transformer = SentenceTransformer('DeepPavlov/rubert-base-cased-sentence')\n",
    "X = transformer.encode(df['raw_description'].values)\n",
    "joblib.dump(X, '../models/bert/X_DeepPavlov_rubert-base-cased-sentence.pkl', compress=9)"
   ]
  },
  {
   "cell_type": "code",
   "execution_count": 24,
   "metadata": {},
   "outputs": [],
   "source": [
    "X = joblib.load('../models/bert/X_DeepPavlov_rubert-base-cased-sentence.pkl')"
   ]
  },
  {
   "cell_type": "code",
   "execution_count": 25,
   "metadata": {},
   "outputs": [],
   "source": [
    "X = pd.DataFrame(X)\n",
    "X['salary_from'] = df['salary_from']"
   ]
  },
  {
   "cell_type": "code",
   "execution_count": 28,
   "metadata": {
    "id": "VsKrV2WN5KbP"
   },
   "outputs": [],
   "source": [
    "X = X.dropna()\n",
    "X_train, X_test, y_train, y_test = train_test_split(X.loc[:,:767], X['salary_from'], test_size=0.2, random_state=42)"
   ]
  },
  {
   "cell_type": "code",
   "execution_count": 29,
   "metadata": {
    "colab": {
     "base_uri": "https://localhost:8080/"
    },
    "id": "3O2ashTJ5KbS",
    "outputId": "810f8e52-4516-4722-8492-06f774f2e3b5"
   },
   "outputs": [
    {
     "data": {
      "text/plain": [
       "Ridge()"
      ]
     },
     "execution_count": 29,
     "metadata": {},
     "output_type": "execute_result"
    }
   ],
   "source": [
    "model = Ridge()\n",
    "model.fit(X_train, y_train)"
   ]
  },
  {
   "cell_type": "code",
   "execution_count": 30,
   "metadata": {
    "id": "UgU-OX4J5KbV"
   },
   "outputs": [],
   "source": [
    "y_pred = model.predict(X_test)"
   ]
  },
  {
   "cell_type": "code",
   "execution_count": 31,
   "metadata": {
    "colab": {
     "base_uri": "https://localhost:8080/"
    },
    "id": "dBLU66ka5KbW",
    "outputId": "34164e57-86aa-4304-c206-7068440dcd9f"
   },
   "outputs": [
    {
     "data": {
      "text/plain": [
       "['../models/raw_desc_deeppavlov_Ridge/y_pred.pkl']"
      ]
     },
     "execution_count": 31,
     "metadata": {},
     "output_type": "execute_result"
    }
   ],
   "source": [
    "# Сохраняем модель и y_pred\n",
    "joblib.dump(model, '../models/raw_desc_deeppavlov_Ridge/model.pkl', compress=9)\n",
    "joblib.dump(y_pred, '../models/raw_desc_deeppavlov_Ridge/y_pred.pkl', compress=9)"
   ]
  },
  {
   "cell_type": "markdown",
   "metadata": {
    "id": "_I2ZJuzs5KbW"
   },
   "source": [
    "<a id='Отчётraw_desc_deeppavlov_Ridge'></a>\n",
    "### Отчёт\n",
    "[к содержанию](#ксодержанию)"
   ]
  },
  {
   "cell_type": "code",
   "execution_count": 32,
   "metadata": {
    "id": "sbedRe7q5KbX"
   },
   "outputs": [],
   "source": [
    "regression_report, salary = utils.report_regression(df[['salary_from', 'prof_area']].dropna(), y_test, y_pred, 'prof_area')"
   ]
  },
  {
   "cell_type": "code",
   "execution_count": 33,
   "metadata": {
    "colab": {
     "base_uri": "https://localhost:8080/",
     "height": 958
    },
    "id": "hx42a1_C5KbY",
    "outputId": "a0e336a2-7923-432b-fd02-6671302c207c",
    "scrolled": true
   },
   "outputs": [
    {
     "data": {
      "text/html": [
       "<style type=\"text/css\">\n",
       "#T_c26e0_row0_col0 {\n",
       "  background-color: #eee8f3;\n",
       "  color: #000000;\n",
       "}\n",
       "#T_c26e0_row0_col1 {\n",
       "  background-color: #f4eef6;\n",
       "  color: #000000;\n",
       "}\n",
       "#T_c26e0_row0_col2 {\n",
       "  background-color: #bdc8e1;\n",
       "  color: #000000;\n",
       "}\n",
       "#T_c26e0_row1_col0 {\n",
       "  background-color: #9ab8d8;\n",
       "  color: #000000;\n",
       "}\n",
       "#T_c26e0_row1_col1 {\n",
       "  background-color: #62a2cb;\n",
       "  color: #f1f1f1;\n",
       "}\n",
       "#T_c26e0_row1_col2, #T_c26e0_row16_col0 {\n",
       "  background-color: #ede7f2;\n",
       "  color: #000000;\n",
       "}\n",
       "#T_c26e0_row2_col0, #T_c26e0_row4_col2, #T_c26e0_row10_col2 {\n",
       "  background-color: #f4edf6;\n",
       "  color: #000000;\n",
       "}\n",
       "#T_c26e0_row2_col1, #T_c26e0_row5_col0, #T_c26e0_row28_col0 {\n",
       "  background-color: #e1dfed;\n",
       "  color: #000000;\n",
       "}\n",
       "#T_c26e0_row2_col2, #T_c26e0_row27_col0 {\n",
       "  background-color: #f8f1f8;\n",
       "  color: #000000;\n",
       "}\n",
       "#T_c26e0_row3_col0, #T_c26e0_row23_col0 {\n",
       "  background-color: #eee9f3;\n",
       "  color: #000000;\n",
       "}\n",
       "#T_c26e0_row3_col1, #T_c26e0_row16_col1 {\n",
       "  background-color: #f7f0f7;\n",
       "  color: #000000;\n",
       "}\n",
       "#T_c26e0_row3_col2, #T_c26e0_row5_col2, #T_c26e0_row17_col1 {\n",
       "  background-color: #fbf3f9;\n",
       "  color: #000000;\n",
       "}\n",
       "#T_c26e0_row4_col0 {\n",
       "  background-color: #dad9ea;\n",
       "  color: #000000;\n",
       "}\n",
       "#T_c26e0_row4_col1 {\n",
       "  background-color: #ced0e6;\n",
       "  color: #000000;\n",
       "}\n",
       "#T_c26e0_row5_col1, #T_c26e0_row9_col2, #T_c26e0_row22_col0 {\n",
       "  background-color: #fff7fb;\n",
       "  color: #000000;\n",
       "}\n",
       "#T_c26e0_row6_col0 {\n",
       "  background-color: #d7d6e9;\n",
       "  color: #000000;\n",
       "}\n",
       "#T_c26e0_row6_col1 {\n",
       "  background-color: #b5c4df;\n",
       "  color: #000000;\n",
       "}\n",
       "#T_c26e0_row6_col2 {\n",
       "  background-color: #f1ebf5;\n",
       "  color: #000000;\n",
       "}\n",
       "#T_c26e0_row7_col0, #T_c26e0_row20_col1 {\n",
       "  background-color: #f3edf5;\n",
       "  color: #000000;\n",
       "}\n",
       "#T_c26e0_row7_col1, #T_c26e0_row11_col0, #T_c26e0_row22_col1 {\n",
       "  background-color: #e7e3f0;\n",
       "  color: #000000;\n",
       "}\n",
       "#T_c26e0_row7_col2, #T_c26e0_row8_col2, #T_c26e0_row21_col2 {\n",
       "  background-color: #f6eff7;\n",
       "  color: #000000;\n",
       "}\n",
       "#T_c26e0_row8_col0, #T_c26e0_row24_col2, #T_c26e0_row26_col1 {\n",
       "  background-color: #e8e4f0;\n",
       "  color: #000000;\n",
       "}\n",
       "#T_c26e0_row8_col1 {\n",
       "  background-color: #d3d4e7;\n",
       "  color: #000000;\n",
       "}\n",
       "#T_c26e0_row9_col0, #T_c26e0_row27_col2 {\n",
       "  background-color: #fef6fa;\n",
       "  color: #000000;\n",
       "}\n",
       "#T_c26e0_row9_col1, #T_c26e0_row19_col2 {\n",
       "  background-color: #f0eaf4;\n",
       "  color: #000000;\n",
       "}\n",
       "#T_c26e0_row10_col0 {\n",
       "  background-color: #e5e1ef;\n",
       "  color: #000000;\n",
       "}\n",
       "#T_c26e0_row10_col1 {\n",
       "  background-color: #f1ebf4;\n",
       "  color: #000000;\n",
       "}\n",
       "#T_c26e0_row11_col1, #T_c26e0_row17_col2 {\n",
       "  background-color: #fcf4fa;\n",
       "  color: #000000;\n",
       "}\n",
       "#T_c26e0_row11_col2, #T_c26e0_row20_col2 {\n",
       "  background-color: #fbf4f9;\n",
       "  color: #000000;\n",
       "}\n",
       "#T_c26e0_row12_col0 {\n",
       "  background-color: #c6cce3;\n",
       "  color: #000000;\n",
       "}\n",
       "#T_c26e0_row12_col1 {\n",
       "  background-color: #b8c6e0;\n",
       "  color: #000000;\n",
       "}\n",
       "#T_c26e0_row12_col2, #T_c26e0_row13_col0 {\n",
       "  background-color: #d4d4e8;\n",
       "  color: #000000;\n",
       "}\n",
       "#T_c26e0_row13_col1 {\n",
       "  background-color: #cccfe5;\n",
       "  color: #000000;\n",
       "}\n",
       "#T_c26e0_row13_col2 {\n",
       "  background-color: #ebe6f2;\n",
       "  color: #000000;\n",
       "}\n",
       "#T_c26e0_row14_col0 {\n",
       "  background-color: #f5eef6;\n",
       "  color: #000000;\n",
       "}\n",
       "#T_c26e0_row14_col1, #T_c26e0_row28_col2 {\n",
       "  background-color: #e0deed;\n",
       "  color: #000000;\n",
       "}\n",
       "#T_c26e0_row14_col2, #T_c26e0_row16_col2, #T_c26e0_row23_col2, #T_c26e0_row27_col1 {\n",
       "  background-color: #f9f2f8;\n",
       "  color: #000000;\n",
       "}\n",
       "#T_c26e0_row15_col0, #T_c26e0_row15_col1, #T_c26e0_row15_col2 {\n",
       "  background-color: #023858;\n",
       "  color: #f1f1f1;\n",
       "}\n",
       "#T_c26e0_row17_col0 {\n",
       "  background-color: #efe9f3;\n",
       "  color: #000000;\n",
       "}\n",
       "#T_c26e0_row18_col0 {\n",
       "  background-color: #fdf5fa;\n",
       "  color: #000000;\n",
       "}\n",
       "#T_c26e0_row18_col1, #T_c26e0_row28_col1 {\n",
       "  background-color: #dcdaeb;\n",
       "  color: #000000;\n",
       "}\n",
       "#T_c26e0_row18_col2, #T_c26e0_row22_col2 {\n",
       "  background-color: #faf3f9;\n",
       "  color: #000000;\n",
       "}\n",
       "#T_c26e0_row19_col0 {\n",
       "  background-color: #f5eff6;\n",
       "  color: #000000;\n",
       "}\n",
       "#T_c26e0_row19_col1, #T_c26e0_row21_col0 {\n",
       "  background-color: #e4e1ef;\n",
       "  color: #000000;\n",
       "}\n",
       "#T_c26e0_row20_col0 {\n",
       "  background-color: #f2ecf5;\n",
       "  color: #000000;\n",
       "}\n",
       "#T_c26e0_row21_col1 {\n",
       "  background-color: #c0c9e2;\n",
       "  color: #000000;\n",
       "}\n",
       "#T_c26e0_row23_col1 {\n",
       "  background-color: #e6e2ef;\n",
       "  color: #000000;\n",
       "}\n",
       "#T_c26e0_row24_col0 {\n",
       "  background-color: #1077b4;\n",
       "  color: #f1f1f1;\n",
       "}\n",
       "#T_c26e0_row24_col1 {\n",
       "  background-color: #04629a;\n",
       "  color: #f1f1f1;\n",
       "}\n",
       "#T_c26e0_row25_col0 {\n",
       "  background-color: #dbdaeb;\n",
       "  color: #000000;\n",
       "}\n",
       "#T_c26e0_row25_col1, #T_c26e0_row25_col2 {\n",
       "  background-color: #d8d7e9;\n",
       "  color: #000000;\n",
       "}\n",
       "#T_c26e0_row26_col0 {\n",
       "  background-color: #d9d8ea;\n",
       "  color: #000000;\n",
       "}\n",
       "#T_c26e0_row26_col2 {\n",
       "  background-color: #eae6f1;\n",
       "  color: #000000;\n",
       "}\n",
       "</style>\n",
       "<table id=\"T_c26e0_\">\n",
       "  <thead>\n",
       "    <tr>\n",
       "      <th class=\"blank level0\" >&nbsp;</th>\n",
       "      <th class=\"col_heading level0 col0\" >MAE</th>\n",
       "      <th class=\"col_heading level0 col1\" >salary_from_mean</th>\n",
       "      <th class=\"col_heading level0 col2\" >salary_from_std</th>\n",
       "    </tr>\n",
       "  </thead>\n",
       "  <tbody>\n",
       "    <tr>\n",
       "      <th id=\"T_c26e0_level0_row0\" class=\"row_heading level0 row0\" >Продажи</th>\n",
       "      <td id=\"T_c26e0_row0_col0\" class=\"data row0 col0\" >19,037.3</td>\n",
       "      <td id=\"T_c26e0_row0_col1\" class=\"data row0 col1\" >34,944.9</td>\n",
       "      <td id=\"T_c26e0_row0_col2\" class=\"data row0 col2\" >94,863.2</td>\n",
       "    </tr>\n",
       "    <tr>\n",
       "      <th id=\"T_c26e0_level0_row1\" class=\"row_heading level0 row1\" >Строительство, недвижимость</th>\n",
       "      <td id=\"T_c26e0_row1_col0\" class=\"data row1 col0\" >35,042.7</td>\n",
       "      <td id=\"T_c26e0_row1_col1\" class=\"data row1 col1\" >71,369.2</td>\n",
       "      <td id=\"T_c26e0_row1_col2\" class=\"data row1 col2\" >45,062.1</td>\n",
       "    </tr>\n",
       "    <tr>\n",
       "      <th id=\"T_c26e0_level0_row2\" class=\"row_heading level0 row2\" >Банки, инвестиции, лизинг</th>\n",
       "      <td id=\"T_c26e0_row2_col0\" class=\"data row2 col0\" >16,958.4</td>\n",
       "      <td id=\"T_c26e0_row2_col1\" class=\"data row2 col1\" >42,852.2</td>\n",
       "      <td id=\"T_c26e0_row2_col2\" class=\"data row2 col2\" >23,496.3</td>\n",
       "    </tr>\n",
       "    <tr>\n",
       "      <th id=\"T_c26e0_level0_row3\" class=\"row_heading level0 row3\" >Административный персонал</th>\n",
       "      <td id=\"T_c26e0_row3_col0\" class=\"data row3 col0\" >18,806.9</td>\n",
       "      <td id=\"T_c26e0_row3_col1\" class=\"data row3 col1\" >33,753.9</td>\n",
       "      <td id=\"T_c26e0_row3_col2\" class=\"data row3 col2\" >19,094.3</td>\n",
       "    </tr>\n",
       "    <tr>\n",
       "      <th id=\"T_c26e0_level0_row4\" class=\"row_heading level0 row4\" >Рабочий персонал</th>\n",
       "      <td id=\"T_c26e0_row4_col0\" class=\"data row4 col0\" >24,026.6</td>\n",
       "      <td id=\"T_c26e0_row4_col1\" class=\"data row4 col1\" >49,406.1</td>\n",
       "      <td id=\"T_c26e0_row4_col2\" class=\"data row4 col2\" >31,799.0</td>\n",
       "    </tr>\n",
       "    <tr>\n",
       "      <th id=\"T_c26e0_level0_row5\" class=\"row_heading level0 row5\" >Наука, образование</th>\n",
       "      <td id=\"T_c26e0_row5_col0\" class=\"data row5 col0\" >22,412.6</td>\n",
       "      <td id=\"T_c26e0_row5_col1\" class=\"data row5 col1\" >29,456.3</td>\n",
       "      <td id=\"T_c26e0_row5_col2\" class=\"data row5 col2\" >19,463.1</td>\n",
       "    </tr>\n",
       "    <tr>\n",
       "      <th id=\"T_c26e0_level0_row6\" class=\"row_heading level0 row6\" >Транспорт, логистика</th>\n",
       "      <td id=\"T_c26e0_row6_col0\" class=\"data row6 col0\" >24,963.5</td>\n",
       "      <td id=\"T_c26e0_row6_col1\" class=\"data row6 col1\" >55,000.4</td>\n",
       "      <td id=\"T_c26e0_row6_col2\" class=\"data row6 col2\" >36,173.1</td>\n",
       "    </tr>\n",
       "    <tr>\n",
       "      <th id=\"T_c26e0_level0_row7\" class=\"row_heading level0 row7\" >Бухгалтерия, управленческий учет, финансы предприятия</th>\n",
       "      <td id=\"T_c26e0_row7_col0\" class=\"data row7 col0\" >17,270.8</td>\n",
       "      <td id=\"T_c26e0_row7_col1\" class=\"data row7 col1\" >40,872.9</td>\n",
       "      <td id=\"T_c26e0_row7_col2\" class=\"data row7 col2\" >28,182.5</td>\n",
       "    </tr>\n",
       "    <tr>\n",
       "      <th id=\"T_c26e0_level0_row8\" class=\"row_heading level0 row8\" >Медицина, фармацевтика</th>\n",
       "      <td id=\"T_c26e0_row8_col0\" class=\"data row8 col0\" >20,618.8</td>\n",
       "      <td id=\"T_c26e0_row8_col1\" class=\"data row8 col1\" >47,889.8</td>\n",
       "      <td id=\"T_c26e0_row8_col2\" class=\"data row8 col2\" >27,663.4</td>\n",
       "    </tr>\n",
       "    <tr>\n",
       "      <th id=\"T_c26e0_level0_row9\" class=\"row_heading level0 row9\" >Страхование</th>\n",
       "      <td id=\"T_c26e0_row9_col0\" class=\"data row9 col0\" >13,262.4</td>\n",
       "      <td id=\"T_c26e0_row9_col1\" class=\"data row9 col1\" >37,088.9</td>\n",
       "      <td id=\"T_c26e0_row9_col2\" class=\"data row9 col2\" >11,627.0</td>\n",
       "    </tr>\n",
       "    <tr>\n",
       "      <th id=\"T_c26e0_level0_row10\" class=\"row_heading level0 row10\" >Туризм, гостиницы, рестораны</th>\n",
       "      <td id=\"T_c26e0_row10_col0\" class=\"data row10 col0\" >21,379.1</td>\n",
       "      <td id=\"T_c26e0_row10_col1\" class=\"data row10 col1\" >36,951.6</td>\n",
       "      <td id=\"T_c26e0_row10_col2\" class=\"data row10 col2\" >31,968.7</td>\n",
       "    </tr>\n",
       "    <tr>\n",
       "      <th id=\"T_c26e0_level0_row11\" class=\"row_heading level0 row11\" >Искусство, развлечения, масс-медиа</th>\n",
       "      <td id=\"T_c26e0_row11_col0\" class=\"data row11 col0\" >20,735.4</td>\n",
       "      <td id=\"T_c26e0_row11_col1\" class=\"data row11 col1\" >30,996.2</td>\n",
       "      <td id=\"T_c26e0_row11_col2\" class=\"data row11 col2\" >18,986.9</td>\n",
       "    </tr>\n",
       "    <tr>\n",
       "      <th id=\"T_c26e0_level0_row12\" class=\"row_heading level0 row12\" >Производство, сельское хозяйство</th>\n",
       "      <td id=\"T_c26e0_row12_col0\" class=\"data row12 col0\" >28,126.1</td>\n",
       "      <td id=\"T_c26e0_row12_col1\" class=\"data row12 col1\" >54,525.0</td>\n",
       "      <td id=\"T_c26e0_row12_col2\" class=\"data row12 col2\" >75,003.3</td>\n",
       "    </tr>\n",
       "    <tr>\n",
       "      <th id=\"T_c26e0_level0_row13\" class=\"row_heading level0 row13\" >Информационные технологии, интернет, телеком</th>\n",
       "      <td id=\"T_c26e0_row13_col0\" class=\"data row13 col0\" >25,568.3</td>\n",
       "      <td id=\"T_c26e0_row13_col1\" class=\"data row13 col1\" >50,027.9</td>\n",
       "      <td id=\"T_c26e0_row13_col2\" class=\"data row13 col2\" >47,597.3</td>\n",
       "    </tr>\n",
       "    <tr>\n",
       "      <th id=\"T_c26e0_level0_row14\" class=\"row_heading level0 row14\" >Юристы</th>\n",
       "      <td id=\"T_c26e0_row14_col0\" class=\"data row14 col0\" >16,633.3</td>\n",
       "      <td id=\"T_c26e0_row14_col1\" class=\"data row14 col1\" >43,169.7</td>\n",
       "      <td id=\"T_c26e0_row14_col2\" class=\"data row14 col2\" >22,615.4</td>\n",
       "    </tr>\n",
       "    <tr>\n",
       "      <th id=\"T_c26e0_level0_row15\" class=\"row_heading level0 row15\" >Высший менеджмент</th>\n",
       "      <td id=\"T_c26e0_row15_col0\" class=\"data row15 col0\" >67,643.5</td>\n",
       "      <td id=\"T_c26e0_row15_col1\" class=\"data row15 col1\" >107,225.4</td>\n",
       "      <td id=\"T_c26e0_row15_col2\" class=\"data row15 col2\" >283,305.7</td>\n",
       "    </tr>\n",
       "    <tr>\n",
       "      <th id=\"T_c26e0_level0_row16\" class=\"row_heading level0 row16\" >Начало карьеры, студенты</th>\n",
       "      <td id=\"T_c26e0_row16_col0\" class=\"data row16 col0\" >19,570.2</td>\n",
       "      <td id=\"T_c26e0_row16_col1\" class=\"data row16 col1\" >33,922.3</td>\n",
       "      <td id=\"T_c26e0_row16_col2\" class=\"data row16 col2\" >22,774.3</td>\n",
       "    </tr>\n",
       "    <tr>\n",
       "      <th id=\"T_c26e0_level0_row17\" class=\"row_heading level0 row17\" >Спортивные клубы, фитнес, салоны красоты</th>\n",
       "      <td id=\"T_c26e0_row17_col0\" class=\"data row17 col0\" >18,792.0</td>\n",
       "      <td id=\"T_c26e0_row17_col1\" class=\"data row17 col1\" >31,785.7</td>\n",
       "      <td id=\"T_c26e0_row17_col2\" class=\"data row17 col2\" >17,743.2</td>\n",
       "    </tr>\n",
       "    <tr>\n",
       "      <th id=\"T_c26e0_level0_row18\" class=\"row_heading level0 row18\" >Инсталляция и сервис</th>\n",
       "      <td id=\"T_c26e0_row18_col0\" class=\"data row18 col0\" >13,724.1</td>\n",
       "      <td id=\"T_c26e0_row18_col1\" class=\"data row18 col1\" >44,656.2</td>\n",
       "      <td id=\"T_c26e0_row18_col2\" class=\"data row18 col2\" >21,021.4</td>\n",
       "    </tr>\n",
       "    <tr>\n",
       "      <th id=\"T_c26e0_level0_row19\" class=\"row_heading level0 row19\" >Управление персоналом, тренинги</th>\n",
       "      <td id=\"T_c26e0_row19_col0\" class=\"data row19 col0\" >16,431.6</td>\n",
       "      <td id=\"T_c26e0_row19_col1\" class=\"data row19 col1\" >42,118.3</td>\n",
       "      <td id=\"T_c26e0_row19_col2\" class=\"data row19 col2\" >39,318.6</td>\n",
       "    </tr>\n",
       "    <tr>\n",
       "      <th id=\"T_c26e0_level0_row20\" class=\"row_heading level0 row20\" >Маркетинг, реклама, PR</th>\n",
       "      <td id=\"T_c26e0_row20_col0\" class=\"data row20 col0\" >17,330.1</td>\n",
       "      <td id=\"T_c26e0_row20_col1\" class=\"data row20 col1\" >35,630.1</td>\n",
       "      <td id=\"T_c26e0_row20_col2\" class=\"data row20 col2\" >18,644.8</td>\n",
       "    </tr>\n",
       "    <tr>\n",
       "      <th id=\"T_c26e0_level0_row21\" class=\"row_heading level0 row21\" >Автомобильный бизнес</th>\n",
       "      <td id=\"T_c26e0_row21_col0\" class=\"data row21 col0\" >21,745.1</td>\n",
       "      <td id=\"T_c26e0_row21_col1\" class=\"data row21 col1\" >52,587.3</td>\n",
       "      <td id=\"T_c26e0_row21_col2\" class=\"data row21 col2\" >28,579.9</td>\n",
       "    </tr>\n",
       "    <tr>\n",
       "      <th id=\"T_c26e0_level0_row22\" class=\"row_heading level0 row22\" >Закупки</th>\n",
       "      <td id=\"T_c26e0_row22_col0\" class=\"data row22 col0\" >12,800.6</td>\n",
       "      <td id=\"T_c26e0_row22_col1\" class=\"data row22 col1\" >41,042.1</td>\n",
       "      <td id=\"T_c26e0_row22_col2\" class=\"data row22 col2\" >20,408.6</td>\n",
       "    </tr>\n",
       "    <tr>\n",
       "      <th id=\"T_c26e0_level0_row23\" class=\"row_heading level0 row23\" >Безопасность</th>\n",
       "      <td id=\"T_c26e0_row23_col0\" class=\"data row23 col0\" >18,950.2</td>\n",
       "      <td id=\"T_c26e0_row23_col1\" class=\"data row23 col1\" >41,443.6</td>\n",
       "      <td id=\"T_c26e0_row23_col2\" class=\"data row23 col2\" >22,491.0</td>\n",
       "    </tr>\n",
       "    <tr>\n",
       "      <th id=\"T_c26e0_level0_row24\" class=\"row_heading level0 row24\" >Добыча сырья</th>\n",
       "      <td id=\"T_c26e0_row24_col0\" class=\"data row24 col0\" >52,272.0</td>\n",
       "      <td id=\"T_c26e0_row24_col1\" class=\"data row24 col1\" >93,687.1</td>\n",
       "      <td id=\"T_c26e0_row24_col2\" class=\"data row24 col2\" >50,338.6</td>\n",
       "    </tr>\n",
       "    <tr>\n",
       "      <th id=\"T_c26e0_level0_row25\" class=\"row_heading level0 row25\" >Консультирование</th>\n",
       "      <td id=\"T_c26e0_row25_col0\" class=\"data row25 col0\" >23,733.1</td>\n",
       "      <td id=\"T_c26e0_row25_col1\" class=\"data row25 col1\" >46,307.6</td>\n",
       "      <td id=\"T_c26e0_row25_col2\" class=\"data row25 col2\" >70,964.0</td>\n",
       "    </tr>\n",
       "    <tr>\n",
       "      <th id=\"T_c26e0_level0_row26\" class=\"row_heading level0 row26\" >Домашний персонал</th>\n",
       "      <td id=\"T_c26e0_row26_col0\" class=\"data row26 col0\" >24,470.4</td>\n",
       "      <td id=\"T_c26e0_row26_col1\" class=\"data row26 col1\" >40,405.7</td>\n",
       "      <td id=\"T_c26e0_row26_col2\" class=\"data row26 col2\" >48,651.6</td>\n",
       "    </tr>\n",
       "    <tr>\n",
       "      <th id=\"T_c26e0_level0_row27\" class=\"row_heading level0 row27\" >Государственная служба, некоммерческие организации</th>\n",
       "      <td id=\"T_c26e0_row27_col0\" class=\"data row27 col0\" >15,583.8</td>\n",
       "      <td id=\"T_c26e0_row27_col1\" class=\"data row27 col1\" >32,699.2</td>\n",
       "      <td id=\"T_c26e0_row27_col2\" class=\"data row27 col2\" >14,660.7</td>\n",
       "    </tr>\n",
       "    <tr>\n",
       "      <th id=\"T_c26e0_level0_row28\" class=\"row_heading level0 row28\" >Total</th>\n",
       "      <td id=\"T_c26e0_row28_col0\" class=\"data row28 col0\" >22,366.8</td>\n",
       "      <td id=\"T_c26e0_row28_col1\" class=\"data row28 col1\" >44,764.0</td>\n",
       "      <td id=\"T_c26e0_row28_col2\" class=\"data row28 col2\" >59,725.5</td>\n",
       "    </tr>\n",
       "  </tbody>\n",
       "</table>\n"
      ],
      "text/plain": [
       "<pandas.io.formats.style.Styler at 0x1e9288fd9d0>"
      ]
     },
     "execution_count": 33,
     "metadata": {},
     "output_type": "execute_result"
    }
   ],
   "source": [
    "regression_report = pd.DataFrame(regression_report)\n",
    "regression_report.columns = ['MAE', 'salary_from_mean', 'salary_from_std']\n",
    "regression_report.index = np.append(salary['true'].unique(), 'Total')\n",
    "regression_report.style.format(formatter='{:,.1f}').background_gradient()"
   ]
  },
  {
   "cell_type": "markdown",
   "metadata": {
    "id": "B0I1FPhl5U49"
   },
   "source": [
    "<a id='raw_desc_sberbank-ai_sbert_large_nlu_ru_Ridge'></a>\n",
    "## raw_desc_sberbank-ai_sbert_large_nlu_ru_Ridge\n",
    "[к содержанию](#ксодержанию)"
   ]
  },
  {
   "cell_type": "markdown",
   "metadata": {
    "id": "SAXTR6ub5Kax"
   },
   "source": [
    "<a id='Моделируемraw_desc_sberbank-ai_sbert_large_nlu_ru_Ridge'></a>\n",
    "### Моделируем\n",
    "[к содержанию](#ксодержанию)"
   ]
  },
  {
   "cell_type": "code",
   "execution_count": 8,
   "metadata": {
    "colab": {
     "base_uri": "https://localhost:8080/"
    },
    "id": "kVm2Qh305KbO",
    "outputId": "78742b00-b96f-4d2c-f6f3-2323b70cbec2"
   },
   "outputs": [],
   "source": [
    "df = pd.read_csv('vacancies_lemmatized.csv')\n",
    "df = df[df['language'] == 'ru']\n",
    "utils.salary_process(df)"
   ]
  },
  {
   "cell_type": "code",
   "execution_count": null,
   "metadata": {},
   "outputs": [],
   "source": [
    "X = transformer.encode(df['raw_description'].values)\n",
    "joblib.dump(X, '../models/bert/X_sberbank-ai_sbert_large_nlu_ru.pkl', compress=9)"
   ]
  },
  {
   "cell_type": "code",
   "execution_count": 5,
   "metadata": {},
   "outputs": [],
   "source": [
    "X = joblib.load('../models/bert/X_sberbank-ai_sbert_large_nlu_ru.pkl')"
   ]
  },
  {
   "cell_type": "code",
   "execution_count": 12,
   "metadata": {},
   "outputs": [],
   "source": [
    "X = pd.DataFrame(X)\n",
    "X['salary_from'] = df['salary_from']"
   ]
  },
  {
   "cell_type": "code",
   "execution_count": 19,
   "metadata": {
    "id": "VsKrV2WN5KbP"
   },
   "outputs": [],
   "source": [
    "X = X.dropna()\n",
    "X_train, X_test, y_train, y_test = train_test_split(X.loc[:,:1023], X['salary_from'], test_size=0.2, random_state=42)"
   ]
  },
  {
   "cell_type": "code",
   "execution_count": 20,
   "metadata": {
    "colab": {
     "base_uri": "https://localhost:8080/"
    },
    "id": "3O2ashTJ5KbS",
    "outputId": "810f8e52-4516-4722-8492-06f774f2e3b5"
   },
   "outputs": [
    {
     "data": {
      "text/plain": [
       "Ridge()"
      ]
     },
     "execution_count": 20,
     "metadata": {},
     "output_type": "execute_result"
    }
   ],
   "source": [
    "model = Ridge()\n",
    "model.fit(X_train, y_train)"
   ]
  },
  {
   "cell_type": "code",
   "execution_count": 21,
   "metadata": {
    "id": "UgU-OX4J5KbV"
   },
   "outputs": [],
   "source": [
    "y_pred = model.predict(X_test)"
   ]
  },
  {
   "cell_type": "code",
   "execution_count": 24,
   "metadata": {
    "colab": {
     "base_uri": "https://localhost:8080/"
    },
    "id": "dBLU66ka5KbW",
    "outputId": "34164e57-86aa-4304-c206-7068440dcd9f"
   },
   "outputs": [
    {
     "data": {
      "text/plain": [
       "['../models/lem_desc_resp_con_tfidf_Ridge_10_Rus/y_pred.pkl']"
      ]
     },
     "execution_count": 24,
     "metadata": {},
     "output_type": "execute_result"
    }
   ],
   "source": [
    "# Сохраняем модель и y_pred\n",
    "joblib.dump(model, '../models/raw_desc_deeppavlov_Ridge/model.pkl', compress=9)\n",
    "joblib.dump(y_pred, '../models/raw_desc_deeppavlov_Ridge/y_pred.pkl', compress=9)"
   ]
  },
  {
   "cell_type": "markdown",
   "metadata": {
    "id": "_I2ZJuzs5KbW"
   },
   "source": [
    "<a id='Отчётraw_desc_sberbank-ai_sbert_large_nlu_ru_Ridge'></a>\n",
    "### Отчёт\n",
    "[к содержанию](#ксодержанию)"
   ]
  },
  {
   "cell_type": "code",
   "execution_count": 22,
   "metadata": {
    "id": "sbedRe7q5KbX"
   },
   "outputs": [],
   "source": [
    "regression_report, salary = utils.report_regression(df[['salary_from', 'prof_area']].dropna(), y_test, y_pred, 'prof_area')"
   ]
  },
  {
   "cell_type": "code",
   "execution_count": 23,
   "metadata": {
    "colab": {
     "base_uri": "https://localhost:8080/",
     "height": 958
    },
    "id": "hx42a1_C5KbY",
    "outputId": "a0e336a2-7923-432b-fd02-6671302c207c",
    "scrolled": false
   },
   "outputs": [
    {
     "data": {
      "text/html": [
       "<style type=\"text/css\">\n",
       "#T_adc79_row0_col0, #T_adc79_row1_col2, #T_adc79_row3_col0 {\n",
       "  background-color: #ede7f2;\n",
       "  color: #000000;\n",
       "}\n",
       "#T_adc79_row0_col1 {\n",
       "  background-color: #f4eef6;\n",
       "  color: #000000;\n",
       "}\n",
       "#T_adc79_row0_col2 {\n",
       "  background-color: #bdc8e1;\n",
       "  color: #000000;\n",
       "}\n",
       "#T_adc79_row1_col0 {\n",
       "  background-color: #9ab8d8;\n",
       "  color: #000000;\n",
       "}\n",
       "#T_adc79_row1_col1 {\n",
       "  background-color: #62a2cb;\n",
       "  color: #f1f1f1;\n",
       "}\n",
       "#T_adc79_row2_col0, #T_adc79_row10_col1 {\n",
       "  background-color: #f1ebf4;\n",
       "  color: #000000;\n",
       "}\n",
       "#T_adc79_row2_col1, #T_adc79_row5_col0, #T_adc79_row21_col0 {\n",
       "  background-color: #e1dfed;\n",
       "  color: #000000;\n",
       "}\n",
       "#T_adc79_row2_col2 {\n",
       "  background-color: #f8f1f8;\n",
       "  color: #000000;\n",
       "}\n",
       "#T_adc79_row3_col1, #T_adc79_row16_col1 {\n",
       "  background-color: #f7f0f7;\n",
       "  color: #000000;\n",
       "}\n",
       "#T_adc79_row3_col2, #T_adc79_row5_col2, #T_adc79_row17_col1 {\n",
       "  background-color: #fbf3f9;\n",
       "  color: #000000;\n",
       "}\n",
       "#T_adc79_row4_col0 {\n",
       "  background-color: #d9d8ea;\n",
       "  color: #000000;\n",
       "}\n",
       "#T_adc79_row4_col1, #T_adc79_row13_col0 {\n",
       "  background-color: #ced0e6;\n",
       "  color: #000000;\n",
       "}\n",
       "#T_adc79_row4_col2, #T_adc79_row10_col2 {\n",
       "  background-color: #f4edf6;\n",
       "  color: #000000;\n",
       "}\n",
       "#T_adc79_row5_col1, #T_adc79_row9_col0, #T_adc79_row9_col2 {\n",
       "  background-color: #fff7fb;\n",
       "  color: #000000;\n",
       "}\n",
       "#T_adc79_row6_col0 {\n",
       "  background-color: #d5d5e8;\n",
       "  color: #000000;\n",
       "}\n",
       "#T_adc79_row6_col1 {\n",
       "  background-color: #b5c4df;\n",
       "  color: #000000;\n",
       "}\n",
       "#T_adc79_row6_col2 {\n",
       "  background-color: #f1ebf5;\n",
       "  color: #000000;\n",
       "}\n",
       "#T_adc79_row7_col0, #T_adc79_row14_col0, #T_adc79_row19_col0 {\n",
       "  background-color: #f2ecf5;\n",
       "  color: #000000;\n",
       "}\n",
       "#T_adc79_row7_col1, #T_adc79_row22_col1 {\n",
       "  background-color: #e7e3f0;\n",
       "  color: #000000;\n",
       "}\n",
       "#T_adc79_row7_col2, #T_adc79_row8_col2, #T_adc79_row21_col2 {\n",
       "  background-color: #f6eff7;\n",
       "  color: #000000;\n",
       "}\n",
       "#T_adc79_row8_col0, #T_adc79_row23_col1 {\n",
       "  background-color: #e6e2ef;\n",
       "  color: #000000;\n",
       "}\n",
       "#T_adc79_row8_col1 {\n",
       "  background-color: #d3d4e7;\n",
       "  color: #000000;\n",
       "}\n",
       "#T_adc79_row9_col1, #T_adc79_row19_col2 {\n",
       "  background-color: #f0eaf4;\n",
       "  color: #000000;\n",
       "}\n",
       "#T_adc79_row10_col0, #T_adc79_row19_col1 {\n",
       "  background-color: #e4e1ef;\n",
       "  color: #000000;\n",
       "}\n",
       "#T_adc79_row11_col0 {\n",
       "  background-color: #e5e1ef;\n",
       "  color: #000000;\n",
       "}\n",
       "#T_adc79_row11_col1, #T_adc79_row17_col2 {\n",
       "  background-color: #fcf4fa;\n",
       "  color: #000000;\n",
       "}\n",
       "#T_adc79_row11_col2, #T_adc79_row20_col2 {\n",
       "  background-color: #fbf4f9;\n",
       "  color: #000000;\n",
       "}\n",
       "#T_adc79_row12_col0 {\n",
       "  background-color: #c4cbe3;\n",
       "  color: #000000;\n",
       "}\n",
       "#T_adc79_row12_col1 {\n",
       "  background-color: #b8c6e0;\n",
       "  color: #000000;\n",
       "}\n",
       "#T_adc79_row12_col2 {\n",
       "  background-color: #d4d4e8;\n",
       "  color: #000000;\n",
       "}\n",
       "#T_adc79_row13_col1 {\n",
       "  background-color: #cccfe5;\n",
       "  color: #000000;\n",
       "}\n",
       "#T_adc79_row13_col2 {\n",
       "  background-color: #ebe6f2;\n",
       "  color: #000000;\n",
       "}\n",
       "#T_adc79_row14_col1, #T_adc79_row28_col2 {\n",
       "  background-color: #e0deed;\n",
       "  color: #000000;\n",
       "}\n",
       "#T_adc79_row14_col2, #T_adc79_row16_col2, #T_adc79_row18_col0, #T_adc79_row22_col0, #T_adc79_row23_col2, #T_adc79_row27_col1 {\n",
       "  background-color: #f9f2f8;\n",
       "  color: #000000;\n",
       "}\n",
       "#T_adc79_row15_col0, #T_adc79_row15_col1, #T_adc79_row15_col2 {\n",
       "  background-color: #023858;\n",
       "  color: #f1f1f1;\n",
       "}\n",
       "#T_adc79_row16_col0, #T_adc79_row24_col2, #T_adc79_row26_col1 {\n",
       "  background-color: #e8e4f0;\n",
       "  color: #000000;\n",
       "}\n",
       "#T_adc79_row17_col0, #T_adc79_row23_col0 {\n",
       "  background-color: #ece7f2;\n",
       "  color: #000000;\n",
       "}\n",
       "#T_adc79_row18_col1, #T_adc79_row28_col1 {\n",
       "  background-color: #dcdaeb;\n",
       "  color: #000000;\n",
       "}\n",
       "#T_adc79_row18_col2, #T_adc79_row22_col2 {\n",
       "  background-color: #faf3f9;\n",
       "  color: #000000;\n",
       "}\n",
       "#T_adc79_row20_col0 {\n",
       "  background-color: #eee8f3;\n",
       "  color: #000000;\n",
       "}\n",
       "#T_adc79_row20_col1, #T_adc79_row27_col0 {\n",
       "  background-color: #f3edf5;\n",
       "  color: #000000;\n",
       "}\n",
       "#T_adc79_row21_col1 {\n",
       "  background-color: #c0c9e2;\n",
       "  color: #000000;\n",
       "}\n",
       "#T_adc79_row24_col0 {\n",
       "  background-color: #1077b4;\n",
       "  color: #f1f1f1;\n",
       "}\n",
       "#T_adc79_row24_col1 {\n",
       "  background-color: #04629a;\n",
       "  color: #f1f1f1;\n",
       "}\n",
       "#T_adc79_row25_col0 {\n",
       "  background-color: #d2d3e7;\n",
       "  color: #000000;\n",
       "}\n",
       "#T_adc79_row25_col1, #T_adc79_row25_col2, #T_adc79_row26_col0 {\n",
       "  background-color: #d8d7e9;\n",
       "  color: #000000;\n",
       "}\n",
       "#T_adc79_row26_col2 {\n",
       "  background-color: #eae6f1;\n",
       "  color: #000000;\n",
       "}\n",
       "#T_adc79_row27_col2 {\n",
       "  background-color: #fef6fa;\n",
       "  color: #000000;\n",
       "}\n",
       "#T_adc79_row28_col0 {\n",
       "  background-color: #dfddec;\n",
       "  color: #000000;\n",
       "}\n",
       "</style>\n",
       "<table id=\"T_adc79_\">\n",
       "  <thead>\n",
       "    <tr>\n",
       "      <th class=\"blank level0\" >&nbsp;</th>\n",
       "      <th class=\"col_heading level0 col0\" >MAE</th>\n",
       "      <th class=\"col_heading level0 col1\" >salary_from_mean</th>\n",
       "      <th class=\"col_heading level0 col2\" >salary_from_std</th>\n",
       "    </tr>\n",
       "  </thead>\n",
       "  <tbody>\n",
       "    <tr>\n",
       "      <th id=\"T_adc79_level0_row0\" class=\"row_heading level0 row0\" >Продажи</th>\n",
       "      <td id=\"T_adc79_row0_col0\" class=\"data row0 col0\" >19,363.8</td>\n",
       "      <td id=\"T_adc79_row0_col1\" class=\"data row0 col1\" >34,944.9</td>\n",
       "      <td id=\"T_adc79_row0_col2\" class=\"data row0 col2\" >94,863.2</td>\n",
       "    </tr>\n",
       "    <tr>\n",
       "      <th id=\"T_adc79_level0_row1\" class=\"row_heading level0 row1\" >Строительство, недвижимость</th>\n",
       "      <td id=\"T_adc79_row1_col0\" class=\"data row1 col0\" >35,392.4</td>\n",
       "      <td id=\"T_adc79_row1_col1\" class=\"data row1 col1\" >71,369.2</td>\n",
       "      <td id=\"T_adc79_row1_col2\" class=\"data row1 col2\" >45,062.1</td>\n",
       "    </tr>\n",
       "    <tr>\n",
       "      <th id=\"T_adc79_level0_row2\" class=\"row_heading level0 row2\" >Банки, инвестиции, лизинг</th>\n",
       "      <td id=\"T_adc79_row2_col0\" class=\"data row2 col0\" >17,828.4</td>\n",
       "      <td id=\"T_adc79_row2_col1\" class=\"data row2 col1\" >42,852.2</td>\n",
       "      <td id=\"T_adc79_row2_col2\" class=\"data row2 col2\" >23,496.3</td>\n",
       "    </tr>\n",
       "    <tr>\n",
       "      <th id=\"T_adc79_level0_row3\" class=\"row_heading level0 row3\" >Административный персонал</th>\n",
       "      <td id=\"T_adc79_row3_col0\" class=\"data row3 col0\" >19,300.1</td>\n",
       "      <td id=\"T_adc79_row3_col1\" class=\"data row3 col1\" >33,753.9</td>\n",
       "      <td id=\"T_adc79_row3_col2\" class=\"data row3 col2\" >19,094.3</td>\n",
       "    </tr>\n",
       "    <tr>\n",
       "      <th id=\"T_adc79_level0_row4\" class=\"row_heading level0 row4\" >Рабочий персонал</th>\n",
       "      <td id=\"T_adc79_row4_col0\" class=\"data row4 col0\" >24,352.2</td>\n",
       "      <td id=\"T_adc79_row4_col1\" class=\"data row4 col1\" >49,406.1</td>\n",
       "      <td id=\"T_adc79_row4_col2\" class=\"data row4 col2\" >31,799.0</td>\n",
       "    </tr>\n",
       "    <tr>\n",
       "      <th id=\"T_adc79_level0_row5\" class=\"row_heading level0 row5\" >Наука, образование</th>\n",
       "      <td id=\"T_adc79_row5_col0\" class=\"data row5 col0\" >22,188.6</td>\n",
       "      <td id=\"T_adc79_row5_col1\" class=\"data row5 col1\" >29,456.3</td>\n",
       "      <td id=\"T_adc79_row5_col2\" class=\"data row5 col2\" >19,463.1</td>\n",
       "    </tr>\n",
       "    <tr>\n",
       "      <th id=\"T_adc79_level0_row6\" class=\"row_heading level0 row6\" >Транспорт, логистика</th>\n",
       "      <td id=\"T_adc79_row6_col0\" class=\"data row6 col0\" >25,414.8</td>\n",
       "      <td id=\"T_adc79_row6_col1\" class=\"data row6 col1\" >55,000.4</td>\n",
       "      <td id=\"T_adc79_row6_col2\" class=\"data row6 col2\" >36,173.1</td>\n",
       "    </tr>\n",
       "    <tr>\n",
       "      <th id=\"T_adc79_level0_row7\" class=\"row_heading level0 row7\" >Бухгалтерия, управленческий учет, финансы предприятия</th>\n",
       "      <td id=\"T_adc79_row7_col0\" class=\"data row7 col0\" >17,390.8</td>\n",
       "      <td id=\"T_adc79_row7_col1\" class=\"data row7 col1\" >40,872.9</td>\n",
       "      <td id=\"T_adc79_row7_col2\" class=\"data row7 col2\" >28,182.5</td>\n",
       "    </tr>\n",
       "    <tr>\n",
       "      <th id=\"T_adc79_level0_row8\" class=\"row_heading level0 row8\" >Медицина, фармацевтика</th>\n",
       "      <td id=\"T_adc79_row8_col0\" class=\"data row8 col0\" >21,123.4</td>\n",
       "      <td id=\"T_adc79_row8_col1\" class=\"data row8 col1\" >47,889.8</td>\n",
       "      <td id=\"T_adc79_row8_col2\" class=\"data row8 col2\" >27,663.4</td>\n",
       "    </tr>\n",
       "    <tr>\n",
       "      <th id=\"T_adc79_level0_row9\" class=\"row_heading level0 row9\" >Страхование</th>\n",
       "      <td id=\"T_adc79_row9_col0\" class=\"data row9 col0\" >12,360.2</td>\n",
       "      <td id=\"T_adc79_row9_col1\" class=\"data row9 col1\" >37,088.9</td>\n",
       "      <td id=\"T_adc79_row9_col2\" class=\"data row9 col2\" >11,627.0</td>\n",
       "    </tr>\n",
       "    <tr>\n",
       "      <th id=\"T_adc79_level0_row10\" class=\"row_heading level0 row10\" >Туризм, гостиницы, рестораны</th>\n",
       "      <td id=\"T_adc79_row10_col0\" class=\"data row10 col0\" >21,513.4</td>\n",
       "      <td id=\"T_adc79_row10_col1\" class=\"data row10 col1\" >36,951.6</td>\n",
       "      <td id=\"T_adc79_row10_col2\" class=\"data row10 col2\" >31,968.7</td>\n",
       "    </tr>\n",
       "    <tr>\n",
       "      <th id=\"T_adc79_level0_row11\" class=\"row_heading level0 row11\" >Искусство, развлечения, масс-медиа</th>\n",
       "      <td id=\"T_adc79_row11_col0\" class=\"data row11 col0\" >21,302.9</td>\n",
       "      <td id=\"T_adc79_row11_col1\" class=\"data row11 col1\" >30,996.2</td>\n",
       "      <td id=\"T_adc79_row11_col2\" class=\"data row11 col2\" >18,986.9</td>\n",
       "    </tr>\n",
       "    <tr>\n",
       "      <th id=\"T_adc79_level0_row12\" class=\"row_heading level0 row12\" >Производство, сельское хозяйство</th>\n",
       "      <td id=\"T_adc79_row12_col0\" class=\"data row12 col0\" >28,804.2</td>\n",
       "      <td id=\"T_adc79_row12_col1\" class=\"data row12 col1\" >54,525.0</td>\n",
       "      <td id=\"T_adc79_row12_col2\" class=\"data row12 col2\" >75,003.3</td>\n",
       "    </tr>\n",
       "    <tr>\n",
       "      <th id=\"T_adc79_level0_row13\" class=\"row_heading level0 row13\" >Информационные технологии, интернет, телеком</th>\n",
       "      <td id=\"T_adc79_row13_col0\" class=\"data row13 col0\" >26,978.3</td>\n",
       "      <td id=\"T_adc79_row13_col1\" class=\"data row13 col1\" >50,027.9</td>\n",
       "      <td id=\"T_adc79_row13_col2\" class=\"data row13 col2\" >47,597.3</td>\n",
       "    </tr>\n",
       "    <tr>\n",
       "      <th id=\"T_adc79_level0_row14\" class=\"row_heading level0 row14\" >Юристы</th>\n",
       "      <td id=\"T_adc79_row14_col0\" class=\"data row14 col0\" >17,083.5</td>\n",
       "      <td id=\"T_adc79_row14_col1\" class=\"data row14 col1\" >43,169.7</td>\n",
       "      <td id=\"T_adc79_row14_col2\" class=\"data row14 col2\" >22,615.4</td>\n",
       "    </tr>\n",
       "    <tr>\n",
       "      <th id=\"T_adc79_level0_row15\" class=\"row_heading level0 row15\" >Высший менеджмент</th>\n",
       "      <td id=\"T_adc79_row15_col0\" class=\"data row15 col0\" >69,366.0</td>\n",
       "      <td id=\"T_adc79_row15_col1\" class=\"data row15 col1\" >107,225.4</td>\n",
       "      <td id=\"T_adc79_row15_col2\" class=\"data row15 col2\" >283,305.7</td>\n",
       "    </tr>\n",
       "    <tr>\n",
       "      <th id=\"T_adc79_level0_row16\" class=\"row_heading level0 row16\" >Начало карьеры, студенты</th>\n",
       "      <td id=\"T_adc79_row16_col0\" class=\"data row16 col0\" >20,504.4</td>\n",
       "      <td id=\"T_adc79_row16_col1\" class=\"data row16 col1\" >33,922.3</td>\n",
       "      <td id=\"T_adc79_row16_col2\" class=\"data row16 col2\" >22,774.3</td>\n",
       "    </tr>\n",
       "    <tr>\n",
       "      <th id=\"T_adc79_level0_row17\" class=\"row_heading level0 row17\" >Спортивные клубы, фитнес, салоны красоты</th>\n",
       "      <td id=\"T_adc79_row17_col0\" class=\"data row17 col0\" >19,491.7</td>\n",
       "      <td id=\"T_adc79_row17_col1\" class=\"data row17 col1\" >31,785.7</td>\n",
       "      <td id=\"T_adc79_row17_col2\" class=\"data row17 col2\" >17,743.2</td>\n",
       "    </tr>\n",
       "    <tr>\n",
       "      <th id=\"T_adc79_level0_row18\" class=\"row_heading level0 row18\" >Инсталляция и сервис</th>\n",
       "      <td id=\"T_adc79_row18_col0\" class=\"data row18 col0\" >14,631.0</td>\n",
       "      <td id=\"T_adc79_row18_col1\" class=\"data row18 col1\" >44,656.2</td>\n",
       "      <td id=\"T_adc79_row18_col2\" class=\"data row18 col2\" >21,021.4</td>\n",
       "    </tr>\n",
       "    <tr>\n",
       "      <th id=\"T_adc79_level0_row19\" class=\"row_heading level0 row19\" >Управление персоналом, тренинги</th>\n",
       "      <td id=\"T_adc79_row19_col0\" class=\"data row19 col0\" >17,077.6</td>\n",
       "      <td id=\"T_adc79_row19_col1\" class=\"data row19 col1\" >42,118.3</td>\n",
       "      <td id=\"T_adc79_row19_col2\" class=\"data row19 col2\" >39,318.6</td>\n",
       "    </tr>\n",
       "    <tr>\n",
       "      <th id=\"T_adc79_level0_row20\" class=\"row_heading level0 row20\" >Маркетинг, реклама, PR</th>\n",
       "      <td id=\"T_adc79_row20_col0\" class=\"data row20 col0\" >18,952.9</td>\n",
       "      <td id=\"T_adc79_row20_col1\" class=\"data row20 col1\" >35,630.1</td>\n",
       "      <td id=\"T_adc79_row20_col2\" class=\"data row20 col2\" >18,644.8</td>\n",
       "    </tr>\n",
       "    <tr>\n",
       "      <th id=\"T_adc79_level0_row21\" class=\"row_heading level0 row21\" >Автомобильный бизнес</th>\n",
       "      <td id=\"T_adc79_row21_col0\" class=\"data row21 col0\" >22,194.1</td>\n",
       "      <td id=\"T_adc79_row21_col1\" class=\"data row21 col1\" >52,587.3</td>\n",
       "      <td id=\"T_adc79_row21_col2\" class=\"data row21 col2\" >28,579.9</td>\n",
       "    </tr>\n",
       "    <tr>\n",
       "      <th id=\"T_adc79_level0_row22\" class=\"row_heading level0 row22\" >Закупки</th>\n",
       "      <td id=\"T_adc79_row22_col0\" class=\"data row22 col0\" >14,657.0</td>\n",
       "      <td id=\"T_adc79_row22_col1\" class=\"data row22 col1\" >41,042.1</td>\n",
       "      <td id=\"T_adc79_row22_col2\" class=\"data row22 col2\" >20,408.6</td>\n",
       "    </tr>\n",
       "    <tr>\n",
       "      <th id=\"T_adc79_level0_row23\" class=\"row_heading level0 row23\" >Безопасность</th>\n",
       "      <td id=\"T_adc79_row23_col0\" class=\"data row23 col0\" >19,561.8</td>\n",
       "      <td id=\"T_adc79_row23_col1\" class=\"data row23 col1\" >41,443.6</td>\n",
       "      <td id=\"T_adc79_row23_col2\" class=\"data row23 col2\" >22,491.0</td>\n",
       "    </tr>\n",
       "    <tr>\n",
       "      <th id=\"T_adc79_level0_row24\" class=\"row_heading level0 row24\" >Добыча сырья</th>\n",
       "      <td id=\"T_adc79_row24_col0\" class=\"data row24 col0\" >53,416.8</td>\n",
       "      <td id=\"T_adc79_row24_col1\" class=\"data row24 col1\" >93,687.1</td>\n",
       "      <td id=\"T_adc79_row24_col2\" class=\"data row24 col2\" >50,338.6</td>\n",
       "    </tr>\n",
       "    <tr>\n",
       "      <th id=\"T_adc79_level0_row25\" class=\"row_heading level0 row25\" >Консультирование</th>\n",
       "      <td id=\"T_adc79_row25_col0\" class=\"data row25 col0\" >26,138.1</td>\n",
       "      <td id=\"T_adc79_row25_col1\" class=\"data row25 col1\" >46,307.6</td>\n",
       "      <td id=\"T_adc79_row25_col2\" class=\"data row25 col2\" >70,964.0</td>\n",
       "    </tr>\n",
       "    <tr>\n",
       "      <th id=\"T_adc79_level0_row26\" class=\"row_heading level0 row26\" >Домашний персонал</th>\n",
       "      <td id=\"T_adc79_row26_col0\" class=\"data row26 col0\" >24,800.6</td>\n",
       "      <td id=\"T_adc79_row26_col1\" class=\"data row26 col1\" >40,405.7</td>\n",
       "      <td id=\"T_adc79_row26_col2\" class=\"data row26 col2\" >48,651.6</td>\n",
       "    </tr>\n",
       "    <tr>\n",
       "      <th id=\"T_adc79_level0_row27\" class=\"row_heading level0 row27\" >Государственная служба, некоммерческие организации</th>\n",
       "      <td id=\"T_adc79_row27_col0\" class=\"data row27 col0\" >16,933.8</td>\n",
       "      <td id=\"T_adc79_row27_col1\" class=\"data row27 col1\" >32,699.2</td>\n",
       "      <td id=\"T_adc79_row27_col2\" class=\"data row27 col2\" >14,660.7</td>\n",
       "    </tr>\n",
       "    <tr>\n",
       "      <th id=\"T_adc79_level0_row28\" class=\"row_heading level0 row28\" >Total</th>\n",
       "      <td id=\"T_adc79_row28_col0\" class=\"data row28 col0\" >22,879.6</td>\n",
       "      <td id=\"T_adc79_row28_col1\" class=\"data row28 col1\" >44,764.0</td>\n",
       "      <td id=\"T_adc79_row28_col2\" class=\"data row28 col2\" >59,725.5</td>\n",
       "    </tr>\n",
       "  </tbody>\n",
       "</table>\n"
      ],
      "text/plain": [
       "<pandas.io.formats.style.Styler at 0x1e9351ab2b0>"
      ]
     },
     "execution_count": 23,
     "metadata": {},
     "output_type": "execute_result"
    }
   ],
   "source": [
    "regression_report = pd.DataFrame(regression_report)\n",
    "regression_report.columns = ['MAE', 'salary_from_mean', 'salary_from_std']\n",
    "regression_report.index = np.append(salary['true'].unique(), 'Total')\n",
    "regression_report.style.format(formatter='{:,.1f}').background_gradient()"
   ]
  }
 ],
 "metadata": {
  "colab": {
   "collapsed_sections": [
    "s3btt-ewy5w1",
    "-Rh1a2Lys0xT",
    "Qan83eP3q3HL",
    "hbjS_gBqqwdr",
    "9LnUzgugP2sz",
    "_I2ZJuzs5KbW"
   ],
   "name": "regression_salary_from.ipynb",
   "provenance": []
  },
  "kernelspec": {
   "display_name": "Python 3 (ipykernel)",
   "language": "python",
   "name": "python3"
  },
  "language_info": {
   "codemirror_mode": {
    "name": "ipython",
    "version": 3
   },
   "file_extension": ".py",
   "mimetype": "text/x-python",
   "name": "python",
   "nbconvert_exporter": "python",
   "pygments_lexer": "ipython3",
   "version": "3.9.7"
  }
 },
 "nbformat": 4,
 "nbformat_minor": 1
}
