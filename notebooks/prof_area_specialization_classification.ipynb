{
 "cells": [
  {
   "cell_type": "markdown",
   "metadata": {
    "id": "s3btt-ewy5w1"
   },
   "source": [
    "### Загрузка данных"
   ]
  },
  {
   "cell_type": "code",
   "execution_count": null,
   "metadata": {
    "colab": {
     "base_uri": "https://localhost:8080/",
     "height": 1000
    },
    "collapsed": true,
    "id": "V3VmsScBzPM9",
    "jupyter": {
     "outputs_hidden": true
    },
    "outputId": "e39bb3e7-9336-4f0f-8035-f63a44b2c509"
   },
   "outputs": [
    {
     "name": "stdout",
     "output_type": "stream",
     "text": [
      "Mounted at /content/drive\n",
      "Collecting colabcode\n",
      "  Downloading colabcode-0.3.0-py3-none-any.whl (5.0 kB)\n",
      "Collecting pyngrok>=5.0.0\n",
      "  Downloading pyngrok-5.1.0.tar.gz (745 kB)\n",
      "\u001b[K     |████████████████████████████████| 745 kB 5.1 MB/s \n",
      "\u001b[?25hCollecting nest-asyncio==1.4.3\n",
      "  Downloading nest_asyncio-1.4.3-py3-none-any.whl (5.3 kB)\n",
      "Collecting uvicorn==0.13.1\n",
      "  Downloading uvicorn-0.13.1-py3-none-any.whl (45 kB)\n",
      "\u001b[K     |████████████████████████████████| 45 kB 2.8 MB/s \n",
      "\u001b[?25hCollecting jupyterlab==3.0.7\n",
      "  Downloading jupyterlab-3.0.7-py3-none-any.whl (8.3 MB)\n",
      "\u001b[K     |████████████████████████████████| 8.3 MB 38.6 MB/s \n",
      "\u001b[?25hCollecting tornado>=6.1.0\n",
      "  Downloading tornado-6.1-cp37-cp37m-manylinux2010_x86_64.whl (428 kB)\n",
      "\u001b[K     |████████████████████████████████| 428 kB 33.0 MB/s \n",
      "\u001b[?25hRequirement already satisfied: packaging in /usr/local/lib/python3.7/dist-packages (from jupyterlab==3.0.7->colabcode) (21.3)\n",
      "Collecting jupyter-server~=1.2\n",
      "  Downloading jupyter_server-1.13.0-py3-none-any.whl (396 kB)\n",
      "\u001b[K     |████████████████████████████████| 396 kB 58.6 MB/s \n",
      "\u001b[?25hCollecting jupyterlab-server~=2.0\n",
      "  Downloading jupyterlab_server-2.8.2-py3-none-any.whl (58 kB)\n",
      "\u001b[K     |████████████████████████████████| 58 kB 5.2 MB/s \n",
      "\u001b[?25hCollecting nbclassic~=0.2\n",
      "  Downloading nbclassic-0.3.4-py3-none-any.whl (25 kB)\n",
      "Requirement already satisfied: jinja2>=2.10 in /usr/local/lib/python3.7/dist-packages (from jupyterlab==3.0.7->colabcode) (2.11.3)\n",
      "Requirement already satisfied: jupyter-core in /usr/local/lib/python3.7/dist-packages (from jupyterlab==3.0.7->colabcode) (4.9.1)\n",
      "Requirement already satisfied: ipython in /usr/local/lib/python3.7/dist-packages (from jupyterlab==3.0.7->colabcode) (5.5.0)\n",
      "Requirement already satisfied: click==7.* in /usr/local/lib/python3.7/dist-packages (from uvicorn==0.13.1->colabcode) (7.1.2)\n",
      "Collecting h11>=0.8\n",
      "  Downloading h11-0.12.0-py3-none-any.whl (54 kB)\n",
      "\u001b[K     |████████████████████████████████| 54 kB 2.9 MB/s \n",
      "\u001b[?25hRequirement already satisfied: typing-extensions in /usr/local/lib/python3.7/dist-packages (from uvicorn==0.13.1->colabcode) (3.10.0.2)\n",
      "Requirement already satisfied: MarkupSafe>=0.23 in /usr/local/lib/python3.7/dist-packages (from jinja2>=2.10->jupyterlab==3.0.7->colabcode) (2.0.1)\n",
      "Requirement already satisfied: argon2-cffi in /usr/local/lib/python3.7/dist-packages (from jupyter-server~=1.2->jupyterlab==3.0.7->colabcode) (21.1.0)\n",
      "Requirement already satisfied: ipython-genutils in /usr/local/lib/python3.7/dist-packages (from jupyter-server~=1.2->jupyterlab==3.0.7->colabcode) (0.2.0)\n",
      "Requirement already satisfied: pyzmq>=17 in /usr/local/lib/python3.7/dist-packages (from jupyter-server~=1.2->jupyterlab==3.0.7->colabcode) (22.3.0)\n",
      "Requirement already satisfied: Send2Trash in /usr/local/lib/python3.7/dist-packages (from jupyter-server~=1.2->jupyterlab==3.0.7->colabcode) (1.8.0)\n",
      "Requirement already satisfied: traitlets>=4.2.1 in /usr/local/lib/python3.7/dist-packages (from jupyter-server~=1.2->jupyterlab==3.0.7->colabcode) (5.1.1)\n",
      "Requirement already satisfied: prometheus-client in /usr/local/lib/python3.7/dist-packages (from jupyter-server~=1.2->jupyterlab==3.0.7->colabcode) (0.12.0)\n",
      "Collecting jupyter-client>=6.1.1\n",
      "  Downloading jupyter_client-7.1.0-py3-none-any.whl (129 kB)\n",
      "\u001b[K     |████████████████████████████████| 129 kB 73.4 MB/s \n",
      "\u001b[?25hRequirement already satisfied: nbconvert in /usr/local/lib/python3.7/dist-packages (from jupyter-server~=1.2->jupyterlab==3.0.7->colabcode) (5.6.1)\n",
      "Collecting websocket-client\n",
      "  Downloading websocket_client-1.2.3-py3-none-any.whl (53 kB)\n",
      "\u001b[K     |████████████████████████████████| 53 kB 1.9 MB/s \n",
      "\u001b[?25hCollecting anyio<4,>=3.1.0\n",
      "  Downloading anyio-3.4.0-py3-none-any.whl (78 kB)\n",
      "\u001b[K     |████████████████████████████████| 78 kB 6.6 MB/s \n",
      "\u001b[?25hRequirement already satisfied: terminado>=0.8.3 in /usr/local/lib/python3.7/dist-packages (from jupyter-server~=1.2->jupyterlab==3.0.7->colabcode) (0.12.1)\n",
      "Requirement already satisfied: nbformat in /usr/local/lib/python3.7/dist-packages (from jupyter-server~=1.2->jupyterlab==3.0.7->colabcode) (5.1.3)\n",
      "Requirement already satisfied: idna>=2.8 in /usr/local/lib/python3.7/dist-packages (from anyio<4,>=3.1.0->jupyter-server~=1.2->jupyterlab==3.0.7->colabcode) (2.10)\n",
      "Collecting sniffio>=1.1\n",
      "  Downloading sniffio-1.2.0-py3-none-any.whl (10 kB)\n",
      "Requirement already satisfied: entrypoints in /usr/local/lib/python3.7/dist-packages (from jupyter-client>=6.1.1->jupyter-server~=1.2->jupyterlab==3.0.7->colabcode) (0.3)\n",
      "Requirement already satisfied: python-dateutil>=2.1 in /usr/local/lib/python3.7/dist-packages (from jupyter-client>=6.1.1->jupyter-server~=1.2->jupyterlab==3.0.7->colabcode) (2.8.2)\n",
      "Collecting jupyter-client>=6.1.1\n",
      "  Downloading jupyter_client-7.0.6-py3-none-any.whl (125 kB)\n",
      "\u001b[K     |████████████████████████████████| 125 kB 74.7 MB/s \n",
      "\u001b[?25h  Downloading jupyter_client-7.0.5-py3-none-any.whl (124 kB)\n",
      "\u001b[K     |████████████████████████████████| 124 kB 71.0 MB/s \n",
      "\u001b[?25h  Downloading jupyter_client-7.0.4-py3-none-any.whl (124 kB)\n",
      "\u001b[K     |████████████████████████████████| 124 kB 56.2 MB/s \n",
      "\u001b[?25h  Downloading jupyter_client-7.0.3-py3-none-any.whl (122 kB)\n",
      "\u001b[K     |████████████████████████████████| 122 kB 55.2 MB/s \n",
      "\u001b[?25h  Downloading jupyter_client-7.0.2-py3-none-any.whl (122 kB)\n",
      "\u001b[K     |████████████████████████████████| 122 kB 47.3 MB/s \n",
      "\u001b[?25h  Downloading jupyter_client-7.0.1-py3-none-any.whl (122 kB)\n",
      "\u001b[K     |████████████████████████████████| 122 kB 69.8 MB/s \n",
      "\u001b[?25h  Downloading jupyter_client-7.0.0-py3-none-any.whl (122 kB)\n",
      "\u001b[K     |████████████████████████████████| 122 kB 59.4 MB/s \n",
      "\u001b[?25h  Downloading jupyter_client-6.1.12-py3-none-any.whl (112 kB)\n",
      "\u001b[K     |████████████████████████████████| 112 kB 59.6 MB/s \n",
      "\u001b[?25hCollecting jsonschema>=3.0.1\n",
      "  Downloading jsonschema-4.2.1-py3-none-any.whl (69 kB)\n",
      "\u001b[K     |████████████████████████████████| 69 kB 6.8 MB/s \n",
      "\u001b[?25hRequirement already satisfied: babel in /usr/local/lib/python3.7/dist-packages (from jupyterlab-server~=2.0->jupyterlab==3.0.7->colabcode) (2.9.1)\n",
      "Requirement already satisfied: requests in /usr/local/lib/python3.7/dist-packages (from jupyterlab-server~=2.0->jupyterlab==3.0.7->colabcode) (2.23.0)\n",
      "Collecting json5\n",
      "  Downloading json5-0.9.6-py2.py3-none-any.whl (18 kB)\n",
      "Requirement already satisfied: importlib-metadata in /usr/local/lib/python3.7/dist-packages (from jsonschema>=3.0.1->jupyterlab-server~=2.0->jupyterlab==3.0.7->colabcode) (4.8.2)\n",
      "Requirement already satisfied: attrs>=17.4.0 in /usr/local/lib/python3.7/dist-packages (from jsonschema>=3.0.1->jupyterlab-server~=2.0->jupyterlab==3.0.7->colabcode) (21.2.0)\n",
      "Requirement already satisfied: importlib-resources>=1.4.0 in /usr/local/lib/python3.7/dist-packages (from jsonschema>=3.0.1->jupyterlab-server~=2.0->jupyterlab==3.0.7->colabcode) (5.4.0)\n",
      "Requirement already satisfied: pyrsistent!=0.17.0,!=0.17.1,!=0.17.2,>=0.14.0 in /usr/local/lib/python3.7/dist-packages (from jsonschema>=3.0.1->jupyterlab-server~=2.0->jupyterlab==3.0.7->colabcode) (0.18.0)\n",
      "Requirement already satisfied: zipp>=3.1.0 in /usr/local/lib/python3.7/dist-packages (from importlib-resources>=1.4.0->jsonschema>=3.0.1->jupyterlab-server~=2.0->jupyterlab==3.0.7->colabcode) (3.6.0)\n",
      "Requirement already satisfied: notebook<7 in /usr/local/lib/python3.7/dist-packages (from nbclassic~=0.2->jupyterlab==3.0.7->colabcode) (5.3.1)\n",
      "Requirement already satisfied: ipykernel in /usr/local/lib/python3.7/dist-packages (from notebook<7->nbclassic~=0.2->jupyterlab==3.0.7->colabcode) (4.10.1)\n",
      "Requirement already satisfied: PyYAML in /usr/local/lib/python3.7/dist-packages (from pyngrok>=5.0.0->colabcode) (3.13)\n",
      "Requirement already satisfied: six>=1.5 in /usr/local/lib/python3.7/dist-packages (from python-dateutil>=2.1->jupyter-client>=6.1.1->jupyter-server~=1.2->jupyterlab==3.0.7->colabcode) (1.15.0)\n",
      "Requirement already satisfied: ptyprocess in /usr/local/lib/python3.7/dist-packages (from terminado>=0.8.3->jupyter-server~=1.2->jupyterlab==3.0.7->colabcode) (0.7.0)\n",
      "Requirement already satisfied: cffi>=1.0.0 in /usr/local/lib/python3.7/dist-packages (from argon2-cffi->jupyter-server~=1.2->jupyterlab==3.0.7->colabcode) (1.15.0)\n",
      "Requirement already satisfied: pycparser in /usr/local/lib/python3.7/dist-packages (from cffi>=1.0.0->argon2-cffi->jupyter-server~=1.2->jupyterlab==3.0.7->colabcode) (2.21)\n",
      "Requirement already satisfied: pytz>=2015.7 in /usr/local/lib/python3.7/dist-packages (from babel->jupyterlab-server~=2.0->jupyterlab==3.0.7->colabcode) (2018.9)\n",
      "Requirement already satisfied: setuptools>=18.5 in /usr/local/lib/python3.7/dist-packages (from ipython->jupyterlab==3.0.7->colabcode) (57.4.0)\n",
      "Requirement already satisfied: prompt-toolkit<2.0.0,>=1.0.4 in /usr/local/lib/python3.7/dist-packages (from ipython->jupyterlab==3.0.7->colabcode) (1.0.18)\n",
      "Requirement already satisfied: pickleshare in /usr/local/lib/python3.7/dist-packages (from ipython->jupyterlab==3.0.7->colabcode) (0.7.5)\n",
      "Requirement already satisfied: pygments in /usr/local/lib/python3.7/dist-packages (from ipython->jupyterlab==3.0.7->colabcode) (2.6.1)\n",
      "Requirement already satisfied: decorator in /usr/local/lib/python3.7/dist-packages (from ipython->jupyterlab==3.0.7->colabcode) (4.4.2)\n",
      "Requirement already satisfied: simplegeneric>0.8 in /usr/local/lib/python3.7/dist-packages (from ipython->jupyterlab==3.0.7->colabcode) (0.8.1)\n",
      "Requirement already satisfied: pexpect in /usr/local/lib/python3.7/dist-packages (from ipython->jupyterlab==3.0.7->colabcode) (4.8.0)\n",
      "Requirement already satisfied: wcwidth in /usr/local/lib/python3.7/dist-packages (from prompt-toolkit<2.0.0,>=1.0.4->ipython->jupyterlab==3.0.7->colabcode) (0.2.5)\n",
      "Requirement already satisfied: bleach in /usr/local/lib/python3.7/dist-packages (from nbconvert->jupyter-server~=1.2->jupyterlab==3.0.7->colabcode) (4.1.0)\n",
      "Requirement already satisfied: defusedxml in /usr/local/lib/python3.7/dist-packages (from nbconvert->jupyter-server~=1.2->jupyterlab==3.0.7->colabcode) (0.7.1)\n",
      "Requirement already satisfied: mistune<2,>=0.8.1 in /usr/local/lib/python3.7/dist-packages (from nbconvert->jupyter-server~=1.2->jupyterlab==3.0.7->colabcode) (0.8.4)\n",
      "Requirement already satisfied: testpath in /usr/local/lib/python3.7/dist-packages (from nbconvert->jupyter-server~=1.2->jupyterlab==3.0.7->colabcode) (0.5.0)\n",
      "Requirement already satisfied: pandocfilters>=1.4.1 in /usr/local/lib/python3.7/dist-packages (from nbconvert->jupyter-server~=1.2->jupyterlab==3.0.7->colabcode) (1.5.0)\n",
      "Requirement already satisfied: webencodings in /usr/local/lib/python3.7/dist-packages (from bleach->nbconvert->jupyter-server~=1.2->jupyterlab==3.0.7->colabcode) (0.5.1)\n",
      "Requirement already satisfied: pyparsing!=3.0.5,>=2.0.2 in /usr/local/lib/python3.7/dist-packages (from packaging->jupyterlab==3.0.7->colabcode) (3.0.6)\n",
      "Requirement already satisfied: urllib3!=1.25.0,!=1.25.1,<1.26,>=1.21.1 in /usr/local/lib/python3.7/dist-packages (from requests->jupyterlab-server~=2.0->jupyterlab==3.0.7->colabcode) (1.24.3)\n",
      "Requirement already satisfied: certifi>=2017.4.17 in /usr/local/lib/python3.7/dist-packages (from requests->jupyterlab-server~=2.0->jupyterlab==3.0.7->colabcode) (2021.10.8)\n",
      "Requirement already satisfied: chardet<4,>=3.0.2 in /usr/local/lib/python3.7/dist-packages (from requests->jupyterlab-server~=2.0->jupyterlab==3.0.7->colabcode) (3.0.4)\n",
      "Building wheels for collected packages: pyngrok\n",
      "  Building wheel for pyngrok (setup.py) ... \u001b[?25l\u001b[?25hdone\n",
      "  Created wheel for pyngrok: filename=pyngrok-5.1.0-py3-none-any.whl size=19006 sha256=dd29e7d2ff3e1c38257299534f079465d6846ba0f4276db10fec755f152a7ca3\n",
      "  Stored in directory: /root/.cache/pip/wheels/bf/e6/af/ccf6598ecefecd44104069371795cb9b3afbcd16987f6ccfb3\n",
      "Successfully built pyngrok\n",
      "Installing collected packages: tornado, jsonschema, sniffio, jupyter-client, websocket-client, anyio, jupyter-server, json5, nbclassic, jupyterlab-server, h11, uvicorn, pyngrok, nest-asyncio, jupyterlab, colabcode\n",
      "  Attempting uninstall: tornado\n",
      "    Found existing installation: tornado 5.1.1\n",
      "    Uninstalling tornado-5.1.1:\n",
      "      Successfully uninstalled tornado-5.1.1\n",
      "  Attempting uninstall: jsonschema\n",
      "    Found existing installation: jsonschema 2.6.0\n",
      "    Uninstalling jsonschema-2.6.0:\n",
      "      Successfully uninstalled jsonschema-2.6.0\n",
      "  Attempting uninstall: jupyter-client\n",
      "    Found existing installation: jupyter-client 5.3.5\n",
      "    Uninstalling jupyter-client-5.3.5:\n",
      "      Successfully uninstalled jupyter-client-5.3.5\n",
      "  Attempting uninstall: nest-asyncio\n",
      "    Found existing installation: nest-asyncio 1.5.4\n",
      "    Uninstalling nest-asyncio-1.5.4:\n",
      "      Successfully uninstalled nest-asyncio-1.5.4\n",
      "\u001b[31mERROR: pip's dependency resolver does not currently take into account all the packages that are installed. This behaviour is the source of the following dependency conflicts.\n",
      "google-colab 1.0.0 requires tornado~=5.1.0; python_version >= \"3.0\", but you have tornado 6.1 which is incompatible.\u001b[0m\n",
      "Successfully installed anyio-3.4.0 colabcode-0.3.0 h11-0.12.0 json5-0.9.6 jsonschema-4.2.1 jupyter-client-6.1.12 jupyter-server-1.13.0 jupyterlab-3.0.7 jupyterlab-server-2.8.2 nbclassic-0.3.4 nest-asyncio-1.4.3 pyngrok-5.1.0 sniffio-1.2.0 tornado-6.1 uvicorn-0.13.1 websocket-client-1.2.3\n"
     ]
    },
    {
     "data": {
      "application/vnd.colab-display-data+json": {
       "pip_warning": {
        "packages": [
         "jupyter_client",
         "tornado"
        ]
       }
      }
     },
     "metadata": {},
     "output_type": "display_data"
    },
    {
     "name": "stdout",
     "output_type": "stream",
     "text": [
      "Code Server can be accessed on: NgrokTunnel: \"https://d198-35-190-183-137.ngrok.io\" -> \"http://localhost:12000\"\n",
      "Jupyter lab token: 02a828e0-5806-11ec-896c-0242ac1c0002\n"
     ]
    }
   ],
   "source": [
    "from google.colab import drive\n",
    "drive.mount('/content/drive')\n",
    "!pip install -U colabcode\n",
    "import colabcode\n",
    "colabcode.ColabCode(\n",
    "    port=12000,\n",
    "    authtoken='21eNVw6XbU2fjExgUWxa47wNx8x_6AfyfxMFYUmSWFLxW7b72',\n",
    "    lab=True\n",
    ")"
   ]
  },
  {
   "cell_type": "code",
   "execution_count": 1,
   "metadata": {
    "colab": {
     "base_uri": "https://localhost:8080/"
    },
    "collapsed": true,
    "id": "zdaJ99-MQ-AU",
    "jupyter": {
     "outputs_hidden": true
    },
    "outputId": "ba611ad7-4e72-4a95-e667-64a2eeccb1dc"
   },
   "outputs": [
    {
     "name": "stdout",
     "output_type": "stream",
     "text": [
      "Downloading...\n",
      "From: https://drive.google.com/uc?id=1A-59GMNuJWbrbCc17zvBPkOycSdCBdCA\n",
      "To: /content/vacancies_lemmatized.csv\n",
      "100% 902M/902M [00:05<00:00, 164MB/s]  \n"
     ]
    }
   ],
   "source": [
    "!gdown --id 1A-59GMNuJWbrbCc17zvBPkOycSdCBdCA"
   ]
  },
  {
   "cell_type": "code",
   "execution_count": 21,
   "metadata": {
    "id": "WtpldTEjMOC6"
   },
   "outputs": [],
   "source": [
    "import pandas as pd\n",
    "df = pd.read_csv('vacancies_lemmatized.csv')\n",
    "df = df[df['language'] == 'ru']"
   ]
  },
  {
   "cell_type": "markdown",
   "metadata": {
    "id": "mi0qbeCwXD8p"
   },
   "source": [
    "### Лемматизация"
   ]
  },
  {
   "cell_type": "code",
   "execution_count": null,
   "metadata": {
    "id": "DUUzU5u40-D3"
   },
   "outputs": [],
   "source": [
    "!gdown --id 1YsX2nb2IxiKICa7S1b5LLMNC0puVwwry"
   ]
  },
  {
   "cell_type": "code",
   "execution_count": null,
   "metadata": {
    "id": "DG1i1F2b1Dit"
   },
   "outputs": [],
   "source": [
    "df = pd.read_csv('vacancies_processed.csv')"
   ]
  },
  {
   "cell_type": "code",
   "execution_count": null,
   "metadata": {
    "id": "bB_olMjKaXYs"
   },
   "outputs": [],
   "source": [
    "# !pip install pymorphy2\n",
    "import pymorphy2\n",
    "import re\n",
    "morph = pymorphy2.MorphAnalyzer()\n",
    "def lemmatize(text):\n",
    "  \"\"\"\n",
    "  Создаём метод, который лемматизирует текст.\n",
    "  Аргумент:\n",
    "  text - текст, который нужно лемматизировать\n",
    "  Возвращает:\n",
    "  res - лемматизированный текст\n",
    "  \"\"\"\n",
    "  try:\n",
    "      words = re.split(r'\\W+', text) # разбиваем текст на слова\n",
    "  except:\n",
    "    return text\n",
    "  res = str()\n",
    "  for word in words:\n",
    "      p = morph.parse(word)[0]\n",
    "      res += (p.normal_form) + ' '\n",
    "  return res"
   ]
  },
  {
   "cell_type": "code",
   "execution_count": null,
   "metadata": {
    "id": "Ct0iW-88YP1J"
   },
   "outputs": [],
   "source": [
    "columns_for_lem = ['raw_description', 'description', 'description_responsibilities', 'description_requirements', 'description_conditions']\n",
    "lemmatized_columns = ['lem_raw_desc', 'lem_desc', 'lem_desc_resp', 'lem_desc_req', 'lem_desc_con']\n",
    "for j in range(len(columns_for_lem)):\n",
    "  df[lemmatized_columns[j]] = 0\n",
    "  df[lemmatized_columns[j]][df['language'] == 'ru'] = df[columns_for_lem[j]][df['language'] == 'ru'].apply(lemmatize)"
   ]
  },
  {
   "cell_type": "code",
   "execution_count": null,
   "metadata": {
    "id": "FUhce3XAh20z"
   },
   "outputs": [],
   "source": [
    "df.to_csv('vacancies_lemmatized.csv', index=False)"
   ]
  },
  {
   "cell_type": "markdown",
   "metadata": {
    "id": "9CHg1suEyD6I"
   },
   "source": [
    "### Модели"
   ]
  },
  {
   "cell_type": "code",
   "execution_count": 22,
   "metadata": {
    "id": "OYduKT2hLmW7"
   },
   "outputs": [],
   "source": [
    "# классифицируем prof_area, фичи - tfidf над столбцом lem_raw_desc (max_features=4000)\n",
    "from sklearn.model_selection import train_test_split\n",
    "from sklearn import metrics\n",
    "from sklearn.feature_extraction.text import TfidfVectorizer\n",
    "from sklearn.ensemble import RandomForestClassifier\n",
    "from tabulate import tabulate\n",
    "df = df[['lem_raw_desc', 'specialization', 'specializations_name', 'len_description_responsibilities', 'len_description_requirements', 'len_description_conditions']][df['language'] == 'ru'].dropna()"
   ]
  },
  {
   "cell_type": "code",
   "execution_count": 23,
   "metadata": {
    "id": "HvJgGOAhPgSl"
   },
   "outputs": [],
   "source": [
    "def fill_prof_area(prof_areas, row:  list):\n",
    "  \"\"\"\n",
    "  Создаём метод, который заполняет словарь prof_area сферами и частотой их встречания в вакансиях\n",
    "  Аргумент:\n",
    "  row - строка в датафрейме\n",
    "  \"\"\"\n",
    "  for el in row:\n",
    "    if el in prof_areas:\n",
    "      prof_areas[el] += 1\n",
    "    else:\n",
    "      prof_areas[el] = 1\n",
    "\n",
    "def decrease_specializations(x: str):\n",
    "  \"\"\"\n",
    "  Создаём метод, которые вместо наименее популярных специализаций пишет \"Другое\"\n",
    "  Аргумент:\n",
    "  х - специализация\n",
    "  Возвращает:\n",
    "  х - специализация\n",
    "  \"\"\"\n",
    "  try:\n",
    "    if specializations[x]/len(df) < 0.01:\n",
    "      return 'Другое'\n",
    "    else:\n",
    "      return x\n",
    "  except:\n",
    "    return x\n",
    "\n",
    "specializations = dict()\n",
    "df['specializations_name'].apply(lambda x: fill_prof_area(specializations, eval(x)));"
   ]
  },
  {
   "cell_type": "code",
   "execution_count": 24,
   "metadata": {
    "id": "WE6kghDJTX_l"
   },
   "outputs": [],
   "source": [
    "df['specialization'] = df['specialization'].apply(decrease_specializations)"
   ]
  },
  {
   "cell_type": "code",
   "execution_count": 25,
   "metadata": {
    "id": "Ov4hacSxLqh5"
   },
   "outputs": [],
   "source": [
    "X = df[['lem_raw_desc', 'specialization']].dropna()\n",
    "X_train, X_test, y_train, y_test = train_test_split(X['lem_raw_desc'], X['specialization'], test_size=0.2, random_state=42)"
   ]
  },
  {
   "cell_type": "code",
   "execution_count": 26,
   "metadata": {
    "id": "Cu3cnInyMqxZ"
   },
   "outputs": [],
   "source": [
    "tfidf = TfidfVectorizer(sublinear_tf=True, min_df=5,\n",
    "                        ngram_range=(1, 2), \n",
    "                        stop_words={'russian', 'english'}, max_features=3500)\n",
    "\n",
    "# We transform each complaint into a vector\n",
    "\n",
    "tfidf.fit(X_train)\n",
    "features = tfidf.transform(X_train)"
   ]
  },
  {
   "cell_type": "code",
   "execution_count": 27,
   "metadata": {
    "id": "QOLhlUEwMInF"
   },
   "outputs": [],
   "source": [
    "# Добавляем фичи с длинами массивов\n",
    "feat = ['len_description_responsibilities', 'len_description_requirements', 'len_description_conditions']\n",
    "features = pd.DataFrame(features.toarray())\n",
    "for feature in feat:\n",
    "  features[feat] = df[feat]"
   ]
  },
  {
   "cell_type": "code",
   "execution_count": null,
   "metadata": {
    "id": "7RnYcMUGMtkV"
   },
   "outputs": [],
   "source": [
    "for col in X_train.columns:\n",
    "  if col != 'description':\n",
    "    features = pd.concat([features,\n",
    "                          pd.DataFrame(tfidf.fit_transform(X_train[col].values.astype('U')).toarray())], axis=1)"
   ]
  },
  {
   "cell_type": "code",
   "execution_count": 28,
   "metadata": {
    "id": "Ryr7nTNyMxyH"
   },
   "outputs": [],
   "source": [
    "del X_train"
   ]
  },
  {
   "cell_type": "code",
   "execution_count": null,
   "metadata": {
    "colab": {
     "base_uri": "https://localhost:8080/"
    },
    "id": "I5px_1QzMx08",
    "outputId": "fa95497b-1bf5-473c-d03a-909c3852daf7"
   },
   "outputs": [
    {
     "name": "stderr",
     "output_type": "stream",
     "text": [
      "/usr/local/lib/python3.7/dist-packages/sklearn/utils/validation.py:1679: FutureWarning: Feature names only support names that are all strings. Got feature names with dtypes: ['int', 'str']. An error will be raised in 1.2.\n",
      "  FutureWarning,\n"
     ]
    }
   ],
   "source": [
    "model = RandomForestClassifier()\n",
    "model.fit(features, y_train)"
   ]
  },
  {
   "cell_type": "code",
   "execution_count": null,
   "metadata": {
    "id": "DuXzVpW1Mx9J"
   },
   "outputs": [],
   "source": [
    "del features"
   ]
  },
  {
   "cell_type": "code",
   "execution_count": 11,
   "metadata": {
    "id": "ZGUhq_iJMtVl"
   },
   "outputs": [],
   "source": [
    "features_test = pd.DataFrame(tfidf.transform(X_test.values.astype('U')).toarray())"
   ]
  },
  {
   "cell_type": "code",
   "execution_count": null,
   "metadata": {
    "id": "lrJpAtytMx30"
   },
   "outputs": [],
   "source": [
    "for col in X_test.columns:\n",
    "  if col != 'description':\n",
    "    features_test = pd.concat([features_test,\n",
    "                          pd.DataFrame(tfidf.transform(X_test[col].values.astype('U')).toarray())], axis=1)"
   ]
  },
  {
   "cell_type": "code",
   "execution_count": 12,
   "metadata": {
    "id": "pWG4AJuNMx6k"
   },
   "outputs": [],
   "source": [
    "y_pred = model.predict(features_test)"
   ]
  },
  {
   "cell_type": "code",
   "execution_count": 13,
   "metadata": {
    "colab": {
     "base_uri": "https://localhost:8080/"
    },
    "id": "ssLbi-sghDNl",
    "outputId": "f007af74-a437-44d1-d24e-72ea306c1dea"
   },
   "outputs": [
    {
     "data": {
      "text/plain": [
       "['lem_desc_tfidf_RF_specialization.pkl']"
      ]
     },
     "execution_count": 13,
     "metadata": {},
     "output_type": "execute_result"
    }
   ],
   "source": [
    "# Сохраняем модель\n",
    "import joblib\n",
    "joblib.dump(model, 'lem_desc_tfidf_RF_specialization.pkl', compress=8)"
   ]
  },
  {
   "cell_type": "code",
   "execution_count": 17,
   "metadata": {
    "id": "OJG-FIs-irzl"
   },
   "outputs": [],
   "source": [
    "salary_groupped_prof_area = df[['specialization', 'salary_from']].groupby(['specialization']).mean()\n",
    "salary_pred = salary_groupped_prof_area.loc[y_pred]\n",
    "salary_test = df.loc[y_test.index, 'salary_from']"
   ]
  },
  {
   "cell_type": "code",
   "execution_count": 18,
   "metadata": {
    "id": "FXeUA4nrouSo"
   },
   "outputs": [],
   "source": [
    "from sklearn.metrics import mean_absolute_error, mean_squared_error\n",
    "salary = pd.DataFrame()\n",
    "salary['y_pred'] = y_pred\n",
    "salary['test'] =  list(salary_test)\n",
    "salary['pred'] = list(salary_pred['salary_from'])\n",
    "salary['true_prof_area'] = list(df.loc[y_test.index, 'specialization'])\n",
    "salary = salary.dropna()\n",
    "regression_report = [['specialization', 'MAE']]\n",
    "for area in salary['true_prof_area'].unique():\n",
    "  regression_report.append([area, round(mean_absolute_error(salary['pred'][salary['true_prof_area'] == area], salary['test'][salary['true_prof_area'] == area]), 1)])"
   ]
  },
  {
   "cell_type": "markdown",
   "metadata": {
    "id": "IRo6jGU4yH_s"
   },
   "source": [
    "# raw_desc_tfidf_RF_specialization"
   ]
  },
  {
   "cell_type": "code",
   "execution_count": 21,
   "metadata": {
    "colab": {
     "base_uri": "https://localhost:8080/"
    },
    "id": "SnqDgpYpltd1",
    "outputId": "4073683c-9c47-4102-f18d-7a2c570176dd"
   },
   "outputs": [
    {
     "name": "stderr",
     "output_type": "stream",
     "text": [
      "/usr/local/lib/python3.7/dist-packages/sklearn/metrics/_classification.py:1308: UndefinedMetricWarning: Precision and F-score are ill-defined and being set to 0.0 in labels with no predicted samples. Use `zero_division` parameter to control this behavior.\n",
      "  _warn_prf(average, modifier, msg_start, len(result))\n",
      "/usr/local/lib/python3.7/dist-packages/sklearn/metrics/_classification.py:1308: UndefinedMetricWarning: Precision and F-score are ill-defined and being set to 0.0 in labels with no predicted samples. Use `zero_division` parameter to control this behavior.\n",
      "  _warn_prf(average, modifier, msg_start, len(result))\n"
     ]
    },
    {
     "name": "stdout",
     "output_type": "stream",
     "text": [
      "                                     precision    recall  f1-score   support\n",
      "\n",
      " FMCG, Товары народного потребления       0.83      0.52      0.64       393\n",
      "                      Автоперевозки       0.63      0.54      0.59       563\n",
      "                          Бухгалтер       0.74      0.53      0.61       527\n",
      "                        Ввод данных       0.86      0.24      0.38       172\n",
      "                           Водитель       0.68      0.46      0.55       411\n",
      "                            Грузчик       0.62      0.58      0.60       433\n",
      "                   Делопроизводство       0.88      0.12      0.21       250\n",
      "                        Дистрибуция       0.86      0.35      0.50        51\n",
      "                             Другое       0.59      0.94      0.73      9335\n",
      "                            Инженер       0.96      0.15      0.26       156\n",
      "                 Кассир, Инкассатор       0.78      0.16      0.27        43\n",
      "                          Кладовщик       0.49      0.28      0.36       232\n",
      "  Комплектовщик, Укладчик-упаковщик       0.81      0.27      0.40       126\n",
      "                   Консультирование       1.00      0.10      0.18        10\n",
      "                             Курьер       0.95      0.63      0.76       167\n",
      "                       Лечащий врач       0.97      0.55      0.70       166\n",
      "                          Логистика       0.75      0.05      0.09        63\n",
      "                     Машиностроение       0.85      0.17      0.29       259\n",
      "     Менеджер по работе с клиентами       0.89      0.23      0.36       142\n",
      "      Младший и средний медперсонал       0.86      0.50      0.63       279\n",
      "                          Монтажник       0.74      0.35      0.47        49\n",
      "                           Наладчик       0.67      0.15      0.25        13\n",
      "      Начальный уровень, Мало опыта       0.76      0.31      0.44       655\n",
      "                   Оптовая торговля       0.50      0.08      0.13        52\n",
      "                   Официант, Бармен       0.63      0.43      0.51       243\n",
      "             Первичная документация       1.00      0.17      0.29        18\n",
      "                     Персонал кухни       0.81      0.12      0.21       141\n",
      "             Пищевая промышленность       0.75      0.13      0.22       232\n",
      "                              Повар       0.81      0.64      0.71       371\n",
      "               Привлечение клиентов       0.82      0.69      0.75       301\n",
      "       Программирование, Разработка       0.86      0.34      0.49       244\n",
      "                Продавец в магазине       0.72      0.18      0.28       158\n",
      "       Продажа финансовых продуктов       0.79      0.34      0.47        65\n",
      "                            Продажи       0.85      0.36      0.50       174\n",
      " Продажи по телефону, Телемаркетинг       0.33      0.20      0.25        10\n",
      "                   Продукты питания       0.80      0.27      0.41       143\n",
      "                     Прямые продажи       0.69      0.25      0.37       302\n",
      "Рабочие строительных специальностей       0.53      0.19      0.28        42\n",
      "                     Рабочий склада       0.64      0.38      0.47        24\n",
      "                       Разнорабочий       0.86      0.43      0.57       423\n",
      "                           Ресепшен       0.69      0.06      0.11       148\n",
      "                 Розничная торговля       0.76      0.75      0.76      2198\n",
      "                            Сборщик       0.70      0.16      0.25        45\n",
      "                            Сварщик       0.85      0.61      0.71       103\n",
      "                          Секретарь       0.00      0.00      0.00        30\n",
      "                Складское хозяйство       0.53      0.14      0.22       147\n",
      "                            Слесарь       0.91      0.22      0.35       139\n",
      "              Сотрудник call-центра       0.86      0.32      0.47        37\n",
      "                      Строительство       0.80      0.38      0.52       627\n",
      "            Текстиль, Одежда, Обувь       0.71      0.19      0.30        26\n",
      "                      Торговые сети       0.50      0.33      0.40         9\n",
      "             Торговый представитель       0.62      0.19      0.29        42\n",
      "       Туризм, Гостиницы, Рестораны       1.00      0.09      0.16        35\n",
      "              Управление персоналом       0.73      0.08      0.15       133\n",
      "               Управление продажами       0.82      0.28      0.42        32\n",
      "               Управление проектами       1.00      0.06      0.12        31\n",
      "Управляющий офисом (Оffice manager)       0.69      0.11      0.18       238\n",
      "                         Экспедитор       0.00      0.00      0.00         6\n",
      "                       Эксплуатация       0.94      0.31      0.47       301\n",
      "                           Электрик       1.00      0.06      0.11        53\n",
      "           Электромонтер, Кабельщик       1.00      0.23      0.37        53\n",
      "\n",
      "                           accuracy                           0.65     21871\n",
      "                          macro avg       0.75      0.29      0.39     21871\n",
      "                       weighted avg       0.69      0.65      0.61     21871\n",
      "\n"
     ]
    },
    {
     "name": "stderr",
     "output_type": "stream",
     "text": [
      "/usr/local/lib/python3.7/dist-packages/sklearn/metrics/_classification.py:1308: UndefinedMetricWarning: Precision and F-score are ill-defined and being set to 0.0 in labels with no predicted samples. Use `zero_division` parameter to control this behavior.\n",
      "  _warn_prf(average, modifier, msg_start, len(result))\n"
     ]
    }
   ],
   "source": [
    "print(metrics.classification_report(y_test, y_pred))"
   ]
  },
  {
   "cell_type": "code",
   "execution_count": 20,
   "metadata": {
    "colab": {
     "base_uri": "https://localhost:8080/"
    },
    "id": "n4TUNqLhlZHJ",
    "outputId": "00e59edc-0dd5-41b7-c39e-9a9a6eaf8b72"
   },
   "outputs": [
    {
     "name": "stdout",
     "output_type": "stream",
     "text": [
      "-----------------------------------  --------\n",
      "specialization                       MAE\n",
      "Управление проектами                 56776.8\n",
      "Разнорабочий                         32257.7\n",
      "Другое                               77117.7\n",
      "Розничная торговля                   51057.5\n",
      "Машиностроение                       52070.0\n",
      "Официант, Бармен                     56417.2\n",
      "Бухгалтер                            117541.7\n",
      "Начальный уровень, Мало опыта        49917.9\n",
      "Кладовщик                            34708.6\n",
      "Прямые продажи                       56154.5\n",
      "Водитель                             53737.3\n",
      "Наладчик                             40156.0\n",
      "Сотрудник call-центра                63329.1\n",
      "Грузчик                              36627.7\n",
      "Повар                                43641.2\n",
      "Пищевая промышленность               91121.4\n",
      "Делопроизводство                     43857.7\n",
      "Строительство                        43635.6\n",
      "Управляющий офисом (Оffice manager)  98501.4\n",
      "Привлечение клиентов                 38578.1\n",
      "Секретарь                            57390.8\n",
      "Программирование, Разработка         173954.1\n",
      "FMCG, Товары народного потребления   87628.4\n",
      "Дистрибуция                          107792.9\n",
      "Персонал кухни                       67266.0\n",
      "Продукты питания                     31386.3\n",
      "Сварщик                              29051.4\n",
      "Продавец в магазине                  51132.2\n",
      "Младший и средний медперсонал        59198.8\n",
      "Менеджер по работе с клиентами       198693.3\n",
      "Курьер                               30003.5\n",
      "Автоперевозки                        41874.7\n",
      "Складское хозяйство                  85344.7\n",
      "Управление персоналом                116788.7\n",
      "Комплектовщик, Укладчик-упаковщик    37766.6\n",
      "Ввод данных                          71157.4\n",
      "Инженер                              46688.1\n",
      "Управление продажами                 60373.8\n",
      "Лечащий врач                         18898.4\n",
      "Продажи                              164062.4\n",
      "Ресепшен                             80177.9\n",
      "Эксплуатация                         51421.6\n",
      "Слесарь                              43412.3\n",
      "Электрик                             44442.4\n",
      "Сборщик                              36942.7\n",
      "Кассир, Инкассатор                   105097.2\n",
      "Оптовая торговля                     148830.6\n",
      "Рабочие строительных специальностей  43879.2\n",
      "Электромонтер, Кабельщик             44376.7\n",
      "Рабочий склада                       38505.3\n",
      "Консультирование                     46958.3\n",
      "Первичная документация               42085.8\n",
      "Продажа финансовых продуктов         26454.1\n",
      "Логистика                            44240.1\n",
      "Торговый представитель               35103.0\n",
      "Монтажник                            32300.5\n",
      "Туризм, Гостиницы, Рестораны         37552.1\n",
      "Текстиль, Одежда, Обувь              33161.3\n",
      "Экспедитор                           36790.3\n",
      "Продажи по телефону, Телемаркетинг   255224.5\n",
      "Торговые сети                        318796.2\n",
      "-----------------------------------  --------\n"
     ]
    }
   ],
   "source": [
    "print(tabulate(regression_report))"
   ]
  },
  {
   "cell_type": "markdown",
   "metadata": {
    "id": "W3T33ThsyDJS"
   },
   "source": [
    "# raw_desc_tfidf_RF_prof_area"
   ]
  },
  {
   "cell_type": "code",
   "execution_count": 35,
   "metadata": {
    "colab": {
     "base_uri": "https://localhost:8080/"
    },
    "id": "rVFqfBmeyFZG",
    "outputId": "f8f4d11a-4213-418f-e5cc-bcb27a937b67"
   },
   "outputs": [
    {
     "name": "stdout",
     "output_type": "stream",
     "text": [
      "                                                       precision    recall  f1-score   support\n",
      "\n",
      "                                 Автомобильный бизнес       0.81      0.46      0.58       535\n",
      "                            Административный персонал       0.56      0.54      0.55      1389\n",
      "                            Банки, инвестиции, лизинг       0.89      0.81      0.85       767\n",
      "                                         Безопасность       0.85      0.60      0.70       420\n",
      "Бухгалтерия, управленческий учет, финансы предприятия       0.67      0.75      0.71       798\n",
      "                                    Высший менеджмент       0.79      0.19      0.31       137\n",
      "   Государственная служба, некоммерческие организации       0.86      0.53      0.65       123\n",
      "                                         Добыча сырья       0.88      0.32      0.47       289\n",
      "                                    Домашний персонал       0.79      0.12      0.20        94\n",
      "                                              Закупки       0.86      0.20      0.33       157\n",
      "                                 Инсталляция и сервис       0.91      0.31      0.46        95\n",
      "         Информационные технологии, интернет, телеком       0.74      0.76      0.75       941\n",
      "                   Искусство, развлечения, масс-медиа       0.81      0.16      0.26       216\n",
      "                                     Консультирование       0.86      0.31      0.45       136\n",
      "                               Маркетинг, реклама, PR       0.73      0.35      0.47       491\n",
      "                               Медицина, фармацевтика       0.90      0.80      0.84      1009\n",
      "                                   Наука, образование       0.71      0.62      0.66       301\n",
      "                             Начало карьеры, студенты       0.77      0.24      0.37       558\n",
      "                                              Продажи       0.69      0.90      0.78      4542\n",
      "                     Производство, сельское хозяйство       0.51      0.54      0.53      1441\n",
      "                                     Рабочий персонал       0.52      0.75      0.61      2221\n",
      "             Спортивные клубы, фитнес, салоны красоты       0.71      0.15      0.24       264\n",
      "                                          Страхование       0.86      0.41      0.56        58\n",
      "                          Строительство, недвижимость       0.66      0.60      0.63      1377\n",
      "                                 Транспорт, логистика       0.68      0.70      0.69      1768\n",
      "                         Туризм, гостиницы, рестораны       0.72      0.74      0.73      1122\n",
      "                      Управление персоналом, тренинги       0.81      0.66      0.73       414\n",
      "                                               Юристы       0.80      0.59      0.68       208\n",
      "\n",
      "                                             accuracy                           0.67     21871\n",
      "                                            macro avg       0.76      0.50      0.56     21871\n",
      "                                         weighted avg       0.69      0.67      0.66     21871\n",
      "\n"
     ]
    }
   ],
   "source": [
    "print(metrics.classification_report(y_test, y_pred))"
   ]
  },
  {
   "cell_type": "code",
   "execution_count": 34,
   "metadata": {
    "colab": {
     "base_uri": "https://localhost:8080/"
    },
    "id": "S6KQ057DyFJ-",
    "outputId": "f6e17bc4-b348-4964-ef2c-df0c17958015"
   },
   "outputs": [
    {
     "name": "stdout",
     "output_type": "stream",
     "text": [
      "-----------------------------------------------------  --------\n",
      "prof_area                                              MAE\n",
      "Туризм, гостиницы, рестораны                           87086.5\n",
      "Медицина, фармацевтика                                 36096.9\n",
      "Строительство, недвижимость                            50648.7\n",
      "Транспорт, логистика                                   57190.8\n",
      "Добыча сырья                                           51888.0\n",
      "Продажи                                                79396.6\n",
      "Банки, инвестиции, лизинг                              53130.2\n",
      "Административный персонал                              89302.0\n",
      "Информационные технологии, интернет, телеком           164694.2\n",
      "Маркетинг, реклама, PR                                 151777.6\n",
      "Наука, образование                                     145604.7\n",
      "Рабочий персонал                                       36236.7\n",
      "Бухгалтерия, управленческий учет, финансы предприятия  157228.3\n",
      "Производство, сельское хозяйство                       42516.1\n",
      "Закупки                                                75225.6\n",
      "Начало карьеры, студенты                               40308.2\n",
      "Искусство, развлечения, масс-медиа                     58404.0\n",
      "Автомобильный бизнес                                   51988.9\n",
      "Юристы                                                 73726.9\n",
      "Управление персоналом, тренинги                        139642.6\n",
      "Спортивные клубы, фитнес, салоны красоты               48007.6\n",
      "Безопасность                                           33308.1\n",
      "Высший менеджмент                                      188526.0\n",
      "Инсталляция и сервис                                   36666.4\n",
      "Страхование                                            23899.1\n",
      "Консультирование                                       223420.1\n",
      "Государственная служба, некоммерческие организации     23722.7\n",
      "Домашний персонал                                      45944.8\n",
      "-----------------------------------------------------  --------\n"
     ]
    }
   ],
   "source": [
    "print(tabulate(regression_report))"
   ]
  },
  {
   "cell_type": "markdown",
   "metadata": {
    "id": "284nkrOi2hK6"
   },
   "source": [
    "# lem_desc_tfidf_RF_prof_area"
   ]
  },
  {
   "cell_type": "code",
   "execution_count": 46,
   "metadata": {
    "colab": {
     "base_uri": "https://localhost:8080/"
    },
    "id": "CwUQoHAn2kXq",
    "outputId": "1227ff54-1493-4ebb-d4cb-6dd99e2d1904"
   },
   "outputs": [
    {
     "name": "stdout",
     "output_type": "stream",
     "text": [
      "                                                       precision    recall  f1-score   support\n",
      "\n",
      "                                 Автомобильный бизнес       0.83      0.44      0.57       535\n",
      "                            Административный персонал       0.56      0.53      0.55      1389\n",
      "                            Банки, инвестиции, лизинг       0.89      0.81      0.85       767\n",
      "                                         Безопасность       0.88      0.63      0.74       420\n",
      "Бухгалтерия, управленческий учет, финансы предприятия       0.71      0.78      0.74       798\n",
      "                                    Высший менеджмент       0.79      0.19      0.31       137\n",
      "   Государственная служба, некоммерческие организации       0.90      0.52      0.66       123\n",
      "                                         Добыча сырья       0.84      0.36      0.50       289\n",
      "                                    Домашний персонал       0.80      0.17      0.28        94\n",
      "                                              Закупки       0.85      0.21      0.34       157\n",
      "                                 Инсталляция и сервис       0.90      0.29      0.44        95\n",
      "         Информационные технологии, интернет, телеком       0.72      0.77      0.74       941\n",
      "                   Искусство, развлечения, масс-медиа       0.78      0.17      0.27       216\n",
      "                                     Консультирование       0.89      0.29      0.44       136\n",
      "                               Маркетинг, реклама, PR       0.73      0.36      0.48       491\n",
      "                               Медицина, фармацевтика       0.87      0.83      0.85      1009\n",
      "                                   Наука, образование       0.73      0.62      0.67       301\n",
      "                             Начало карьеры, студенты       0.77      0.23      0.36       558\n",
      "                                              Продажи       0.70      0.90      0.79      4542\n",
      "                     Производство, сельское хозяйство       0.49      0.53      0.51      1441\n",
      "                                     Рабочий персонал       0.53      0.75      0.62      2221\n",
      "             Спортивные клубы, фитнес, салоны красоты       0.78      0.20      0.31       264\n",
      "                                          Страхование       0.89      0.41      0.56        58\n",
      "                          Строительство, недвижимость       0.68      0.62      0.65      1377\n",
      "                                 Транспорт, логистика       0.71      0.71      0.71      1768\n",
      "                         Туризм, гостиницы, рестораны       0.74      0.75      0.74      1122\n",
      "                      Управление персоналом, тренинги       0.80      0.64      0.71       414\n",
      "                                               Юристы       0.85      0.64      0.73       208\n",
      "\n",
      "                                             accuracy                           0.68     21871\n",
      "                                            macro avg       0.77      0.51      0.58     21871\n",
      "                                         weighted avg       0.70      0.68      0.66     21871\n",
      "\n"
     ]
    }
   ],
   "source": [
    "print(metrics.classification_report(y_test, y_pred))"
   ]
  },
  {
   "cell_type": "code",
   "execution_count": 47,
   "metadata": {
    "colab": {
     "base_uri": "https://localhost:8080/"
    },
    "id": "atBXgeXb2kyK",
    "outputId": "558b02e3-45ae-4d03-ecfb-54a12807cb19"
   },
   "outputs": [
    {
     "name": "stdout",
     "output_type": "stream",
     "text": [
      "-----------------------------------------------------  --------\n",
      "prof_area                                              MAE\n",
      "Туризм, гостиницы, рестораны                           87093.5\n",
      "Медицина, фармацевтика                                 35774.5\n",
      "Строительство, недвижимость                            50501.1\n",
      "Транспорт, логистика                                   57046.7\n",
      "Добыча сырья                                           52650.6\n",
      "Продажи                                                79368.1\n",
      "Банки, инвестиции, лизинг                              52999.4\n",
      "Административный персонал                              89104.8\n",
      "Информационные технологии, интернет, телеком           165731.4\n",
      "Маркетинг, реклама, PR                                 152987.3\n",
      "Наука, образование                                     143059.3\n",
      "Рабочий персонал                                       36277.7\n",
      "Бухгалтерия, управленческий учет, финансы предприятия  158540.6\n",
      "Производство, сельское хозяйство                       42276.0\n",
      "Закупки                                                73686.6\n",
      "Начало карьеры, студенты                               41193.7\n",
      "Искусство, развлечения, масс-медиа                     58568.5\n",
      "Автомобильный бизнес                                   52106.3\n",
      "Юристы                                                 74873.6\n",
      "Управление персоналом, тренинги                        138349.5\n",
      "Спортивные клубы, фитнес, салоны красоты               46592.7\n",
      "Безопасность                                           32308.2\n",
      "Высший менеджмент                                      189081.7\n",
      "Инсталляция и сервис                                   37807.8\n",
      "Страхование                                            22810.7\n",
      "Консультирование                                       222038.8\n",
      "Государственная служба, некоммерческие организации     25852.4\n",
      "Домашний персонал                                      41638.4\n",
      "-----------------------------------------------------  --------\n"
     ]
    }
   ],
   "source": [
    "print(tabulate(regression_report))"
   ]
  },
  {
   "cell_type": "markdown",
   "metadata": {},
   "source": [
    "# lem_desc_tfidf_RF_specialization"
   ]
  },
  {
   "cell_type": "code",
   "execution_count": 19,
   "metadata": {},
   "outputs": [
    {
     "name": "stderr",
     "output_type": "stream",
     "text": [
      "/usr/local/lib/python3.7/dist-packages/sklearn/metrics/_classification.py:1308: UndefinedMetricWarning: Precision and F-score are ill-defined and being set to 0.0 in labels with no predicted samples. Use `zero_division` parameter to control this behavior.\n",
      "  _warn_prf(average, modifier, msg_start, len(result))\n"
     ]
    },
    {
     "name": "stdout",
     "output_type": "stream",
     "text": [
      "                                     precision    recall  f1-score   support\n",
      "\n",
      " FMCG, Товары народного потребления       0.82      0.50      0.62       393\n",
      "                      Автоперевозки       0.61      0.53      0.57       563\n",
      "                          Бухгалтер       0.73      0.57      0.64       527\n",
      "                        Ввод данных       0.84      0.25      0.39       172\n",
      "                           Водитель       0.66      0.42      0.52       411\n",
      "                            Грузчик       0.64      0.60      0.62       433\n",
      "                   Делопроизводство       0.90      0.11      0.19       250\n",
      "                        Дистрибуция       0.82      0.35      0.49        51\n",
      "                             Другое       0.60      0.94      0.73      9335\n",
      "                            Инженер       0.92      0.15      0.25       156\n",
      "                 Кассир, Инкассатор       0.80      0.19      0.30        43\n",
      "                          Кладовщик       0.51      0.25      0.33       232\n",
      "  Комплектовщик, Укладчик-упаковщик       0.85      0.27      0.41       126\n",
      "                   Консультирование       1.00      0.10      0.18        10\n",
      "                             Курьер       0.92      0.62      0.74       167\n",
      "                       Лечащий врач       0.96      0.55      0.70       166\n",
      "                          Логистика       0.67      0.06      0.12        63\n",
      "                     Машиностроение       0.86      0.17      0.28       259\n",
      "     Менеджер по работе с клиентами       0.91      0.23      0.36       142\n",
      "      Младший и средний медперсонал       0.85      0.49      0.62       279\n",
      "                          Монтажник       0.82      0.37      0.51        49\n",
      "                           Наладчик       0.67      0.15      0.25        13\n",
      "      Начальный уровень, Мало опыта       0.74      0.31      0.44       655\n",
      "                   Оптовая торговля       0.80      0.08      0.14        52\n",
      "                   Официант, Бармен       0.64      0.35      0.46       243\n",
      "             Первичная документация       1.00      0.17      0.29        18\n",
      "                     Персонал кухни       0.80      0.11      0.20       141\n",
      "             Пищевая промышленность       0.76      0.13      0.23       232\n",
      "                              Повар       0.78      0.73      0.75       371\n",
      "               Привлечение клиентов       0.82      0.66      0.74       301\n",
      "       Программирование, Разработка       0.85      0.33      0.47       244\n",
      "                Продавец в магазине       0.63      0.15      0.24       158\n",
      "       Продажа финансовых продуктов       0.72      0.35      0.47        65\n",
      "                            Продажи       0.88      0.33      0.48       174\n",
      " Продажи по телефону, Телемаркетинг       0.33      0.20      0.25        10\n",
      "                   Продукты питания       0.75      0.27      0.40       143\n",
      "                     Прямые продажи       0.66      0.28      0.40       302\n",
      "Рабочие строительных специальностей       0.59      0.24      0.34        42\n",
      "                     Рабочий склада       0.64      0.38      0.47        24\n",
      "                       Разнорабочий       0.91      0.43      0.58       423\n",
      "                           Ресепшен       0.75      0.06      0.11       148\n",
      "                 Розничная торговля       0.76      0.75      0.75      2198\n",
      "                            Сборщик       0.58      0.16      0.25        45\n",
      "                            Сварщик       0.73      0.64      0.68       103\n",
      "                          Секретарь       0.00      0.00      0.00        30\n",
      "                Складское хозяйство       0.55      0.12      0.20       147\n",
      "                            Слесарь       0.91      0.22      0.35       139\n",
      "              Сотрудник call-центра       0.92      0.32      0.48        37\n",
      "                      Строительство       0.79      0.39      0.52       627\n",
      "            Текстиль, Одежда, Обувь       0.50      0.19      0.28        26\n",
      "                      Торговые сети       0.50      0.33      0.40         9\n",
      "             Торговый представитель       0.62      0.24      0.34        42\n",
      "       Туризм, Гостиницы, Рестораны       1.00      0.09      0.16        35\n",
      "              Управление персоналом       0.80      0.09      0.16       133\n",
      "               Управление продажами       0.89      0.25      0.39        32\n",
      "               Управление проектами       1.00      0.06      0.12        31\n",
      "Управляющий офисом (Оffice manager)       0.67      0.09      0.16       238\n",
      "                         Экспедитор       0.00      0.00      0.00         6\n",
      "                       Эксплуатация       0.88      0.31      0.46       301\n",
      "                           Электрик       1.00      0.06      0.11        53\n",
      "           Электромонтер, Кабельщик       1.00      0.23      0.37        53\n",
      "\n",
      "                           accuracy                           0.65     21871\n",
      "                          macro avg       0.75      0.29      0.38     21871\n",
      "                       weighted avg       0.69      0.65      0.61     21871\n",
      "\n"
     ]
    },
    {
     "name": "stderr",
     "output_type": "stream",
     "text": [
      "/usr/local/lib/python3.7/dist-packages/sklearn/metrics/_classification.py:1308: UndefinedMetricWarning: Precision and F-score are ill-defined and being set to 0.0 in labels with no predicted samples. Use `zero_division` parameter to control this behavior.\n",
      "  _warn_prf(average, modifier, msg_start, len(result))\n",
      "/usr/local/lib/python3.7/dist-packages/sklearn/metrics/_classification.py:1308: UndefinedMetricWarning: Precision and F-score are ill-defined and being set to 0.0 in labels with no predicted samples. Use `zero_division` parameter to control this behavior.\n",
      "  _warn_prf(average, modifier, msg_start, len(result))\n"
     ]
    }
   ],
   "source": [
    "print(metrics.classification_report(y_test, y_pred))"
   ]
  },
  {
   "cell_type": "code",
   "execution_count": 20,
   "metadata": {},
   "outputs": [
    {
     "name": "stdout",
     "output_type": "stream",
     "text": [
      "-----------------------------------  --------\n",
      "specialization                       MAE\n",
      "Управление проектами                 56776.8\n",
      "Разнорабочий                         32198.7\n",
      "Другое                               77140.4\n",
      "Розничная торговля                   50975.8\n",
      "Машиностроение                       51776.3\n",
      "Официант, Бармен                     58093.7\n",
      "Бухгалтер                            118355.2\n",
      "Начальный уровень, Мало опыта        49896.4\n",
      "Кладовщик                            34870.8\n",
      "Прямые продажи                       56929.0\n",
      "Водитель                             53100.8\n",
      "Наладчик                             40156.0\n",
      "Сотрудник call-центра                63329.1\n",
      "Грузчик                              36116.9\n",
      "Повар                                41373.7\n",
      "Пищевая промышленность               89928.5\n",
      "Делопроизводство                     44014.8\n",
      "Строительство                        43357.0\n",
      "Управляющий офисом (Оffice manager)  97930.8\n",
      "Привлечение клиентов                 38570.2\n",
      "Секретарь                            57390.8\n",
      "Программирование, Разработка         169631.8\n",
      "FMCG, Товары народного потребления   87125.7\n",
      "Дистрибуция                          108483.4\n",
      "Персонал кухни                       67632.6\n",
      "Продукты питания                     31477.8\n",
      "Сварщик                              28873.1\n",
      "Продавец в магазине                  50338.9\n",
      "Младший и средний медперсонал        59382.5\n",
      "Менеджер по работе с клиентами       198693.3\n",
      "Курьер                               29972.7\n",
      "Автоперевозки                        42052.0\n",
      "Складское хозяйство                  85090.5\n",
      "Управление персоналом                118719.0\n",
      "Комплектовщик, Укладчик-упаковщик    37532.8\n",
      "Ввод данных                          71927.2\n",
      "Инженер                              46973.0\n",
      "Управление продажами                 58375.5\n",
      "Лечащий врач                         18898.4\n",
      "Продажи                              161372.0\n",
      "Ресепшен                             80587.9\n",
      "Эксплуатация                         51329.3\n",
      "Слесарь                              43080.4\n",
      "Электрик                             44442.4\n",
      "Сборщик                              33932.7\n",
      "Кассир, Инкассатор                   104723.9\n",
      "Оптовая торговля                     148756.3\n",
      "Рабочие строительных специальностей  43416.8\n",
      "Электромонтер, Кабельщик             44376.7\n",
      "Рабочий склада                       36268.4\n",
      "Консультирование                     46958.3\n",
      "Первичная документация               42085.8\n",
      "Продажа финансовых продуктов         27434.7\n",
      "Логистика                            44855.5\n",
      "Торговый представитель               39357.8\n",
      "Монтажник                            32712.9\n",
      "Туризм, Гостиницы, Рестораны         39046.0\n",
      "Текстиль, Одежда, Обувь              31842.6\n",
      "Экспедитор                           36790.3\n",
      "Продажи по телефону, Телемаркетинг   255224.5\n",
      "Торговые сети                        313859.2\n",
      "-----------------------------------  --------\n"
     ]
    }
   ],
   "source": [
    "print(tabulate(regression_report))"
   ]
  }
 ],
 "metadata": {
  "colab": {
   "collapsed_sections": [
    "mi0qbeCwXD8p",
    "IRo6jGU4yH_s"
   ],
   "name": "prof_area_specialization_classification.ipynb",
   "provenance": []
  },
  "kernelspec": {
   "display_name": "Python 3",
   "language": "python",
   "name": "python3"
  },
  "language_info": {
   "codemirror_mode": {
    "name": "ipython",
    "version": 3
   },
   "file_extension": ".py",
   "mimetype": "text/x-python",
   "name": "python",
   "nbconvert_exporter": "python",
   "pygments_lexer": "ipython3",
   "version": "3.7.12"
  }
 },
 "nbformat": 4,
 "nbformat_minor": 4
}
