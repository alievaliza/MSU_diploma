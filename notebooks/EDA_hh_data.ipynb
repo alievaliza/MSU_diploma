{
  "nbformat": 4,
  "nbformat_minor": 0,
  "metadata": {
    "colab": {
      "name": "EDA_hh_data.ipynb",
      "provenance": [],
      "collapsed_sections": []
    },
    "kernelspec": {
      "name": "python3",
      "display_name": "Python 3"
    },
    "language_info": {
      "name": "python"
    },
    "widgets": {
      "application/vnd.jupyter.widget-state+json": {
        "548d8f9aabad4678a687998cfb3ecfd1": {
          "model_module": "@jupyter-widgets/controls",
          "model_name": "HBoxModel",
          "model_module_version": "1.5.0",
          "state": {
            "_view_name": "HBoxView",
            "_dom_classes": [],
            "_model_name": "HBoxModel",
            "_view_module": "@jupyter-widgets/controls",
            "_model_module_version": "1.5.0",
            "_view_count": null,
            "_view_module_version": "1.5.0",
            "box_style": "",
            "layout": "IPY_MODEL_a5d7167e7b9f40fc84b31c628c998dd5",
            "_model_module": "@jupyter-widgets/controls",
            "children": [
              "IPY_MODEL_bb9fc7850a0241b08089ebc9dd743c88",
              "IPY_MODEL_7feed038a27b4e2b8269775a91d666e7",
              "IPY_MODEL_932286235e6d41278807e17990e6c94f"
            ]
          }
        },
        "a5d7167e7b9f40fc84b31c628c998dd5": {
          "model_module": "@jupyter-widgets/base",
          "model_name": "LayoutModel",
          "model_module_version": "1.2.0",
          "state": {
            "_view_name": "LayoutView",
            "grid_template_rows": null,
            "right": null,
            "justify_content": null,
            "_view_module": "@jupyter-widgets/base",
            "overflow": null,
            "_model_module_version": "1.2.0",
            "_view_count": null,
            "flex_flow": "row wrap",
            "width": "100%",
            "min_width": null,
            "border": null,
            "align_items": null,
            "bottom": null,
            "_model_module": "@jupyter-widgets/base",
            "top": null,
            "grid_column": null,
            "overflow_y": null,
            "overflow_x": null,
            "grid_auto_flow": null,
            "grid_area": null,
            "grid_template_columns": null,
            "flex": null,
            "_model_name": "LayoutModel",
            "justify_items": null,
            "grid_row": null,
            "max_height": null,
            "align_content": null,
            "visibility": null,
            "align_self": null,
            "height": null,
            "min_height": null,
            "padding": null,
            "grid_auto_rows": null,
            "grid_gap": null,
            "max_width": null,
            "order": null,
            "_view_module_version": "1.2.0",
            "grid_template_areas": null,
            "object_position": null,
            "object_fit": null,
            "grid_auto_columns": null,
            "margin": null,
            "display": "inline-flex",
            "left": null
          }
        },
        "bb9fc7850a0241b08089ebc9dd743c88": {
          "model_module": "@jupyter-widgets/controls",
          "model_name": "HTMLModel",
          "model_module_version": "1.5.0",
          "state": {
            "_view_name": "HTMLView",
            "style": "IPY_MODEL_440ef2831e314ff7a867db9a71786609",
            "_dom_classes": [],
            "description": "",
            "_model_name": "HTMLModel",
            "placeholder": "​",
            "_view_module": "@jupyter-widgets/controls",
            "_model_module_version": "1.5.0",
            "value": "Done! Use &#x27;show&#x27; commands to display/save.   ",
            "_view_count": null,
            "_view_module_version": "1.5.0",
            "description_tooltip": null,
            "_model_module": "@jupyter-widgets/controls",
            "layout": "IPY_MODEL_2b8b3e1a1d99440a9d3212483caf0a3a"
          }
        },
        "7feed038a27b4e2b8269775a91d666e7": {
          "model_module": "@jupyter-widgets/controls",
          "model_name": "FloatProgressModel",
          "model_module_version": "1.5.0",
          "state": {
            "_view_name": "ProgressView",
            "style": "IPY_MODEL_a83ba82feff54937b6418f9da3308d3e",
            "_dom_classes": [],
            "description": "",
            "_model_name": "FloatProgressModel",
            "bar_style": "success",
            "max": 1,
            "_view_module": "@jupyter-widgets/controls",
            "_model_module_version": "1.5.0",
            "value": 1,
            "_view_count": null,
            "_view_module_version": "1.5.0",
            "orientation": "horizontal",
            "min": 0,
            "description_tooltip": null,
            "_model_module": "@jupyter-widgets/controls",
            "layout": "IPY_MODEL_57376066768e4a818a2a53c9b427c7e1"
          }
        },
        "932286235e6d41278807e17990e6c94f": {
          "model_module": "@jupyter-widgets/controls",
          "model_name": "HTMLModel",
          "model_module_version": "1.5.0",
          "state": {
            "_view_name": "HTMLView",
            "style": "IPY_MODEL_406559667ae24e6386931a34cc899898",
            "_dom_classes": [],
            "description": "",
            "_model_name": "HTMLModel",
            "placeholder": "​",
            "_view_module": "@jupyter-widgets/controls",
            "_model_module_version": "1.5.0",
            "value": " [100%]   00:05 -&gt; (00:00 left)",
            "_view_count": null,
            "_view_module_version": "1.5.0",
            "description_tooltip": null,
            "_model_module": "@jupyter-widgets/controls",
            "layout": "IPY_MODEL_5945075fa9ae4fbaa64fe2e2d29c7604"
          }
        },
        "440ef2831e314ff7a867db9a71786609": {
          "model_module": "@jupyter-widgets/controls",
          "model_name": "DescriptionStyleModel",
          "model_module_version": "1.5.0",
          "state": {
            "_view_name": "StyleView",
            "_model_name": "DescriptionStyleModel",
            "description_width": "",
            "_view_module": "@jupyter-widgets/base",
            "_model_module_version": "1.5.0",
            "_view_count": null,
            "_view_module_version": "1.2.0",
            "_model_module": "@jupyter-widgets/controls"
          }
        },
        "2b8b3e1a1d99440a9d3212483caf0a3a": {
          "model_module": "@jupyter-widgets/base",
          "model_name": "LayoutModel",
          "model_module_version": "1.2.0",
          "state": {
            "_view_name": "LayoutView",
            "grid_template_rows": null,
            "right": null,
            "justify_content": null,
            "_view_module": "@jupyter-widgets/base",
            "overflow": null,
            "_model_module_version": "1.2.0",
            "_view_count": null,
            "flex_flow": null,
            "width": null,
            "min_width": null,
            "border": null,
            "align_items": null,
            "bottom": null,
            "_model_module": "@jupyter-widgets/base",
            "top": null,
            "grid_column": null,
            "overflow_y": null,
            "overflow_x": null,
            "grid_auto_flow": null,
            "grid_area": null,
            "grid_template_columns": null,
            "flex": null,
            "_model_name": "LayoutModel",
            "justify_items": null,
            "grid_row": null,
            "max_height": null,
            "align_content": null,
            "visibility": null,
            "align_self": null,
            "height": null,
            "min_height": null,
            "padding": null,
            "grid_auto_rows": null,
            "grid_gap": null,
            "max_width": null,
            "order": null,
            "_view_module_version": "1.2.0",
            "grid_template_areas": null,
            "object_position": null,
            "object_fit": null,
            "grid_auto_columns": null,
            "margin": null,
            "display": null,
            "left": null
          }
        },
        "a83ba82feff54937b6418f9da3308d3e": {
          "model_module": "@jupyter-widgets/controls",
          "model_name": "ProgressStyleModel",
          "model_module_version": "1.5.0",
          "state": {
            "_view_name": "StyleView",
            "_model_name": "ProgressStyleModel",
            "description_width": "",
            "_view_module": "@jupyter-widgets/base",
            "_model_module_version": "1.5.0",
            "_view_count": null,
            "_view_module_version": "1.2.0",
            "bar_color": null,
            "_model_module": "@jupyter-widgets/controls"
          }
        },
        "57376066768e4a818a2a53c9b427c7e1": {
          "model_module": "@jupyter-widgets/base",
          "model_name": "LayoutModel",
          "model_module_version": "1.2.0",
          "state": {
            "_view_name": "LayoutView",
            "grid_template_rows": null,
            "right": null,
            "justify_content": null,
            "_view_module": "@jupyter-widgets/base",
            "overflow": null,
            "_model_module_version": "1.2.0",
            "_view_count": null,
            "flex_flow": null,
            "width": null,
            "min_width": null,
            "border": null,
            "align_items": null,
            "bottom": null,
            "_model_module": "@jupyter-widgets/base",
            "top": null,
            "grid_column": null,
            "overflow_y": null,
            "overflow_x": null,
            "grid_auto_flow": null,
            "grid_area": null,
            "grid_template_columns": null,
            "flex": "2",
            "_model_name": "LayoutModel",
            "justify_items": null,
            "grid_row": null,
            "max_height": null,
            "align_content": null,
            "visibility": null,
            "align_self": null,
            "height": null,
            "min_height": null,
            "padding": null,
            "grid_auto_rows": null,
            "grid_gap": null,
            "max_width": null,
            "order": null,
            "_view_module_version": "1.2.0",
            "grid_template_areas": null,
            "object_position": null,
            "object_fit": null,
            "grid_auto_columns": null,
            "margin": null,
            "display": null,
            "left": null
          }
        },
        "406559667ae24e6386931a34cc899898": {
          "model_module": "@jupyter-widgets/controls",
          "model_name": "DescriptionStyleModel",
          "model_module_version": "1.5.0",
          "state": {
            "_view_name": "StyleView",
            "_model_name": "DescriptionStyleModel",
            "description_width": "",
            "_view_module": "@jupyter-widgets/base",
            "_model_module_version": "1.5.0",
            "_view_count": null,
            "_view_module_version": "1.2.0",
            "_model_module": "@jupyter-widgets/controls"
          }
        },
        "5945075fa9ae4fbaa64fe2e2d29c7604": {
          "model_module": "@jupyter-widgets/base",
          "model_name": "LayoutModel",
          "model_module_version": "1.2.0",
          "state": {
            "_view_name": "LayoutView",
            "grid_template_rows": null,
            "right": null,
            "justify_content": null,
            "_view_module": "@jupyter-widgets/base",
            "overflow": null,
            "_model_module_version": "1.2.0",
            "_view_count": null,
            "flex_flow": null,
            "width": null,
            "min_width": null,
            "border": null,
            "align_items": null,
            "bottom": null,
            "_model_module": "@jupyter-widgets/base",
            "top": null,
            "grid_column": null,
            "overflow_y": null,
            "overflow_x": null,
            "grid_auto_flow": null,
            "grid_area": null,
            "grid_template_columns": null,
            "flex": null,
            "_model_name": "LayoutModel",
            "justify_items": null,
            "grid_row": null,
            "max_height": null,
            "align_content": null,
            "visibility": null,
            "align_self": null,
            "height": null,
            "min_height": null,
            "padding": null,
            "grid_auto_rows": null,
            "grid_gap": null,
            "max_width": null,
            "order": null,
            "_view_module_version": "1.2.0",
            "grid_template_areas": null,
            "object_position": null,
            "object_fit": null,
            "grid_auto_columns": null,
            "margin": null,
            "display": null,
            "left": null
          }
        }
      }
    }
  },
  "cells": [
    {
      "cell_type": "markdown",
      "metadata": {
        "id": "EZs09zB4XNoP"
      },
      "source": [
        "# Импортируем библиотеки и загружаем данные"
      ]
    },
    {
      "cell_type": "code",
      "metadata": {
        "id": "P5kn3su_G0hC"
      },
      "source": [
        "import pandas as pd\n",
        "import gdown\n",
        "import ast\n",
        "import json\n",
        "import numpy as np\n",
        "import requests\n",
        "from datetime import datetime\n",
        "import nltk\n",
        "nltk.download('punkt')\n",
        "nltk.download('stopwords')\n",
        "from collections import Counter\n",
        "# !pip install pymorphy2\n",
        "import pymorphy2\n",
        "from scipy import stats\n",
        "# !pip install sweetviz\n",
        "import sweetviz as sv\n",
        "# !pip uninstall pandas_profiling\n",
        "import pandas_profiling\n",
        "from matplotlib import pyplot"
      ],
      "execution_count": null,
      "outputs": []
    },
    {
      "cell_type": "code",
      "metadata": {
        "id": "_OJoO2Y_HKz0"
      },
      "source": [
        "# Загружаем таблицу с гугл-диска\n",
        "url = '15_FfenvHFoJVcPu6gGx9osLn71uDJ-Et'\n",
        "output = \"vacancies.csv\"\n",
        "gdown.download('https://drive.google.com/uc?export=download&id=' + url, output, quiet=False)"
      ],
      "execution_count": null,
      "outputs": []
    },
    {
      "cell_type": "code",
      "metadata": {
        "id": "cXSm1_YkHNlz",
        "colab": {
          "base_uri": "https://localhost:8080/"
        },
        "outputId": "75d1e74b-f311-41a5-855f-d272f63881b0"
      },
      "source": [
        "df = pd.read_csv(\"vacancies.csv\")"
      ],
      "execution_count": 78,
      "outputs": [
        {
          "output_type": "stream",
          "name": "stderr",
          "text": [
            "/usr/local/lib/python3.7/dist-packages/IPython/core/interactiveshell.py:2718: DtypeWarning: Columns (18,22) have mixed types.Specify dtype option on import or set low_memory=False.\n",
            "  interactivity=interactivity, compiler=compiler, result=result)\n"
          ]
        }
      ]
    },
    {
      "cell_type": "markdown",
      "metadata": {
        "id": "CPxhs41EirzQ"
      },
      "source": [
        "# Исследуем переменные\n",
        "\n"
      ]
    },
    {
      "cell_type": "code",
      "metadata": {
        "id": "Dd-BCRUgn7f2"
      },
      "source": [
        "# Удаляем идентичные столбцы\n",
        "cols = ['billing_type_id', 'experience_id', 'employment_id', 'alternate_url', 'schedule_id', 'area_url', 'working_time_modes_id', 'type_id']\n",
        "for col in cols:\n",
        "  del df[col]"
      ],
      "execution_count": 79,
      "outputs": []
    },
    {
      "cell_type": "code",
      "metadata": {
        "id": "ChGYrFHlbaWe"
      },
      "source": [
        "# Получаем все города и их parent_id\n",
        "req = requests.get('https://api.hh.ru/areas')  # Посылаем запрос к API\n",
        "data = req.content.decode()  # Декодируем его ответ, чтобы Кириллица отображалась корректно\n",
        "req.close()\n",
        "jsonObj = json.loads(data)\n",
        "cities, countries_name, areas_name = [], [], []\n",
        "for i in range(len(jsonObj)):\n",
        "    for area in jsonObj[i]['areas']:\n",
        "      if area['areas'] == []:\n",
        "        cities.append(area)\n",
        "        countries_name.append(jsonObj[i]['name'])\n",
        "        areas_name.append(area['name'])\n",
        "      else:\n",
        "        for city in area['areas']:\n",
        "          cities.append(city)\n",
        "          countries_name.append(jsonObj[i]['name'])\n",
        "          areas_name.append(area['name'])\n",
        "df_cities = pd.DataFrame(cities)\n",
        "df_cities['country_name'] = countries_name\n",
        "df_cities['areas_name'] = areas_name"
      ],
      "execution_count": 80,
      "outputs": []
    },
    {
      "cell_type": "code",
      "metadata": {
        "id": "RjojwF4XAM1Y"
      },
      "source": [
        "# Переименовываем столбец\n",
        "df_cities['area_id'] = df_cities['id']\n",
        "df_cities = df_cities.drop('id', 1)"
      ],
      "execution_count": 83,
      "outputs": []
    },
    {
      "cell_type": "code",
      "metadata": {
        "id": "auVqIyb9Ajbo"
      },
      "source": [
        "# Конвертируем в формат int, чтобы сопоставить\n",
        "df_cities['area_id'] = df_cities['area_id'].astype(str).astype(int)"
      ],
      "execution_count": 84,
      "outputs": []
    },
    {
      "cell_type": "code",
      "metadata": {
        "id": "VM2Bt7zO6Sqz"
      },
      "source": [
        "# Присваиваем каждой строке имя региона и страны\n",
        "df['areas_name'] = df['area_id'].map(df_cities.set_index('area_id')['areas_name'])\n",
        "df['country_name'] = df['area_id'].map(df_cities.set_index('area_id')['country_name'])"
      ],
      "execution_count": 85,
      "outputs": []
    },
    {
      "cell_type": "code",
      "metadata": {
        "id": "f8OE25XnkXDv"
      },
      "source": [
        "# Считаем среднюю з/п\n",
        "df['salary_avg'] = (df['salary_from'] + df['salary_to'])/2"
      ],
      "execution_count": 86,
      "outputs": []
    },
    {
      "cell_type": "code",
      "metadata": {
        "id": "ZsqGrY_jNN-0"
      },
      "source": [
        "# Вместо списка делаем множество (т.к. значения в списке повторяются)\n",
        "cols = ['specializations_profarea_name', 'specializations_name']\n",
        "for col in cols:\n",
        "  df[col] = df[col].apply(lambda x: set(eval(x))).astype(str)"
      ],
      "execution_count": 87,
      "outputs": []
    },
    {
      "cell_type": "code",
      "metadata": {
        "colab": {
          "base_uri": "https://localhost:8080/",
          "height": 49,
          "referenced_widgets": [
            "548d8f9aabad4678a687998cfb3ecfd1",
            "a5d7167e7b9f40fc84b31c628c998dd5",
            "bb9fc7850a0241b08089ebc9dd743c88",
            "7feed038a27b4e2b8269775a91d666e7",
            "932286235e6d41278807e17990e6c94f",
            "440ef2831e314ff7a867db9a71786609",
            "2b8b3e1a1d99440a9d3212483caf0a3a",
            "a83ba82feff54937b6418f9da3308d3e",
            "57376066768e4a818a2a53c9b427c7e1",
            "406559667ae24e6386931a34cc899898",
            "5945075fa9ae4fbaa64fe2e2d29c7604"
          ]
        },
        "id": "iD_J4BI8j6Pl",
        "outputId": "964370b5-8ce9-4e84-d3aa-1d828db8a03c"
      },
      "source": [
        "report = sv.analyze(df)"
      ],
      "execution_count": null,
      "outputs": [
        {
          "output_type": "display_data",
          "data": {
            "application/vnd.jupyter.widget-view+json": {
              "model_id": "548d8f9aabad4678a687998cfb3ecfd1",
              "version_minor": 0,
              "version_major": 2
            },
            "text/plain": [
              "                                             |          | [  0%]   00:00 -> (? left)"
            ]
          },
          "metadata": {}
        }
      ]
    },
    {
      "cell_type": "code",
      "metadata": {
        "colab": {
          "base_uri": "https://localhost:8080/"
        },
        "id": "UKbemwJSkh04",
        "outputId": "2a44e7a5-6a27-497e-a2bb-dd0d1aba1d75"
      },
      "source": [
        "report.show_html('common analysis.html')"
      ],
      "execution_count": null,
      "outputs": [
        {
          "output_type": "stream",
          "name": "stdout",
          "text": [
            "Report common analysis.html was generated! NOTEBOOK/COLAB USERS: the web browser MAY not pop up, regardless, the report IS saved in your notebook/colab files.\n"
          ]
        }
      ]
    },
    {
      "cell_type": "code",
      "metadata": {
        "id": "HMualayviq33"
      },
      "source": [
        "profile = pandas_profiling.ProfileReport(df)"
      ],
      "execution_count": null,
      "outputs": []
    },
    {
      "cell_type": "code",
      "metadata": {
        "id": "NmJLBwyA4Cr8",
        "colab": {
          "base_uri": "https://localhost:8080/"
        },
        "outputId": "cd171885-28ab-4b97-a3e6-622af172166f"
      },
      "source": [
        "profile"
      ],
      "execution_count": null,
      "outputs": [
        {
          "output_type": "stream",
          "name": "stdout",
          "text": [
            "default\n"
          ]
        },
        {
          "output_type": "stream",
          "name": "stderr",
          "text": [
            "/usr/local/lib/python3.7/dist-packages/IPython/core/magics/basic.py:300: UserWarning: %profile is now deprecated. Please use get_ipython().profile instead.\n",
            "  warn(\"%profile is now deprecated. Please use get_ipython().profile instead.\")\n"
          ]
        }
      ]
    },
    {
      "cell_type": "markdown",
      "metadata": {
        "id": "CIGhujzG2jid"
      },
      "source": [
        "# Зарплата"
      ]
    },
    {
      "cell_type": "code",
      "metadata": {
        "id": "ntsHSqAju3YT"
      },
      "source": [
        "# Для тех вакансий, у которых з/п указана после вычета налогов делаем ее до вычетов\n",
        "df['salary_avg'][(df['salary_gross'] == False) & ((df['country_name'] == 'Россия') | (df['country_name'] == 'Беларусь'))] = df['salary_avg']/0.87\n",
        "df['salary_avg'][(df['salary_gross'] == False) & ((df['country_name'] == 'Казахстан') | (df['country_name'] == 'Кыргызстан'))] = df['salary_avg']/0.9\n",
        "df['salary_avg'][(df['salary_gross'] == False) & (df['country_name'] == 'Украина')] = df['salary_avg']/0.82\n",
        "df['salary_avg'][(df['salary_gross'] == False) & (df['country_name'] == 'Грузия')] = df['salary_avg']/0.8"
      ],
      "execution_count": null,
      "outputs": []
    },
    {
      "cell_type": "code",
      "metadata": {
        "id": "Uq6dgHplWrp6"
      },
      "source": [
        "%matplotlib inline"
      ],
      "execution_count": 92,
      "outputs": []
    },
    {
      "cell_type": "code",
      "metadata": {
        "colab": {
          "base_uri": "https://localhost:8080/",
          "height": 1000
        },
        "id": "nCiTbrwOw83k",
        "outputId": "094e9365-f2a7-457d-a58c-99f20a5bd91e"
      },
      "source": [
        "# Рисуем гистограммы распределения з/п для каждой валюты\n",
        "for currency in df['salary_currency'].dropna().unique():\n",
        "  Q99_from = np.nanpercentile(df['salary_from'][df['salary_currency'] == currency], 99)\n",
        "  Q99_to = np.nanpercentile(df['salary_to'][df['salary_currency'] == currency], 99)\n",
        "  Q99_avg = np.nanpercentile(df['salary_avg'][df['salary_currency'] == currency], 99)\n",
        "  pyplot.hist(df['salary_avg'][df['salary_avg'] < Q99_avg][df['salary_currency'] == currency], bins = 15, alpha=0.5, label='avg')\n",
        "  pyplot.hist(df['salary_from'][df['salary_from'] < Q99_from][df['salary_currency'] == currency], bins = 15, alpha=0.5, label='from')\n",
        "  pyplot.hist(df['salary_to'][df['salary_to'] < Q99_to][df['salary_currency'] == currency],bins = 15, alpha=0.5, label='to')\n",
        "  pyplot.legend(loc='upper right')\n",
        "  pyplot.title(currency)\n",
        "  pyplot.show()"
      ],
      "execution_count": 93,
      "outputs": [
        {
          "output_type": "display_data",
          "data": {
            "image/png": "[encoded data removed]",
            "text/plain": [
              "<Figure size 432x288 with 1 Axes>"
            ]
          },
          "metadata": {
            "needs_background": "light"
          }
        },
        {
          "output_type": "display_data",
          "data": {
            "image/png": "[encoded data removed]",
            "text/plain": [
              "<Figure size 432x288 with 1 Axes>"
            ]
          },
          "metadata": {
            "needs_background": "light"
          }
        },
        {
          "output_type": "display_data",
          "data": {
            "image/png": "[encoded data removed]",
            "text/plain": [
              "<Figure size 432x288 with 1 Axes>"
            ]
          },
          "metadata": {
            "needs_background": "light"
          }
        },
        {
          "output_type": "display_data",
          "data": {
            "image/png": "[encoded data removed]",
            "text/plain": [
              "<Figure size 432x288 with 1 Axes>"
            ]
          },
          "metadata": {
            "needs_background": "light"
          }
        },
        {
          "output_type": "display_data",
          "data": {
            "image/png": "[encoded data removed]",
            "text/plain": [
              "<Figure size 432x288 with 1 Axes>"
            ]
          },
          "metadata": {
            "needs_background": "light"
          }
        },
        {
          "output_type": "display_data",
          "data": {
            "image/png": "[encoded data removed]",
            "text/plain": [
              "<Figure size 432x288 with 1 Axes>"
            ]
          },
          "metadata": {
            "needs_background": "light"
          }
        },
        {
          "output_type": "display_data",
          "data": {
            "image/png": "[encoded data removed]",
            "text/plain": [
              "<Figure size 432x288 with 1 Axes>"
            ]
          },
          "metadata": {
            "needs_background": "light"
          }
        },
        {
          "output_type": "display_data",
          "data": {
            "image/png": "[encoded data removed]",
            "text/plain": [
              "<Figure size 432x288 with 1 Axes>"
            ]
          },
          "metadata": {
            "needs_background": "light"
          }
        },
        {
          "output_type": "display_data",
          "data": {
            "image/png": "[encoded data removed]",
            "text/plain": [
              "<Figure size 432x288 with 1 Axes>"
            ]
          },
          "metadata": {
            "needs_background": "light"
          }
        },
        {
          "output_type": "display_data",
          "data": {
            "image/png": "[encoded data removed]",
            "text/plain": [
              "<Figure size 432x288 with 1 Axes>"
            ]
          },
          "metadata": {
            "needs_background": "light"
          }
        }
      ]
    },
    {
      "cell_type": "code",
      "metadata": {
        "id": "nHO2CFPIlnbn"
      },
      "source": [
        "# Подгружаем данные росстата по з/п с гугл-диска\n",
        "url = '1mfzAkO00BX506VF-_yk_05r5iO72j6Y3'\n",
        "output = \"salary_gks.xlsx\"\n",
        "gdown.download('https://drive.google.com/uc?export=download&id=' + url, output, quiet=False)\n",
        "df_gks = pd.read_excel(output)"
      ],
      "execution_count": null,
      "outputs": []
    },
    {
      "cell_type": "code",
      "metadata": {
        "id": "nMD7wQknxfp7"
      },
      "source": [
        "# Считаем средние з/п по всем регионам\n",
        "x = pd.DataFrame(df[df['country_name'] == 'Россия']['salary_avg'].groupby(df['areas_name']).mean())\n",
        "x['areas_name'] = x.index"
      ],
      "execution_count": 95,
      "outputs": []
    },
    {
      "cell_type": "code",
      "metadata": {
        "id": "j5jgPMC4DOKt"
      },
      "source": [
        "x['salary_gks'] = x['areas_name'].map(df_gks.set_index('areas_name')['salary_avg'])"
      ],
      "execution_count": 96,
      "outputs": []
    },
    {
      "cell_type": "code",
      "metadata": {
        "colab": {
          "base_uri": "https://localhost:8080/"
        },
        "id": "o1Ys4RnwmaA9",
        "outputId": "1d3e2004-7b43-492a-95da-d85af85b9115"
      },
      "source": [
        "# Считаем, насколько посчитанная средняя зарплата отличается от данных с росстата за июнь в рублях\n",
        "(abs(x['salary_gks'] - x['salary_avg'])).mean()"
      ],
      "execution_count": 97,
      "outputs": [
        {
          "output_type": "execute_result",
          "data": {
            "text/plain": [
              "9889.62837069714"
            ]
          },
          "metadata": {},
          "execution_count": 97
        }
      ]
    },
    {
      "cell_type": "code",
      "metadata": {
        "colab": {
          "base_uri": "https://localhost:8080/"
        },
        "id": "kEk0vLPcrsBp",
        "outputId": "c16f3379-1911-453b-b7c3-07ffdd0600bb"
      },
      "source": [
        "# Корреляция\n",
        "x['salary_gks'].corr(x['salary_avg'])"
      ],
      "execution_count": 98,
      "outputs": [
        {
          "output_type": "execute_result",
          "data": {
            "text/plain": [
              "0.8181684244787355"
            ]
          },
          "metadata": {},
          "execution_count": 98
        }
      ]
    },
    {
      "cell_type": "code",
      "metadata": {
        "colab": {
          "base_uri": "https://localhost:8080/"
        },
        "id": "H-LZytC-32Kf",
        "outputId": "4c0e039f-d548-42da-d879-48bf65bdcdb7"
      },
      "source": [
        "x = x.dropna()\n",
        "stats.ttest_ind(x['salary_avg'],x['salary_gks']) # p-value > 0.05, значит принимаем нулевую гипотезу, 2 independent samples have identical average (expected) values"
      ],
      "execution_count": 99,
      "outputs": [
        {
          "output_type": "execute_result",
          "data": {
            "text/plain": [
              "Ttest_indResult(statistic=-0.7503911509817973, pvalue=0.4540943932967555)"
            ]
          },
          "metadata": {},
          "execution_count": 99
        }
      ]
    },
    {
      "cell_type": "code",
      "metadata": {
        "colab": {
          "base_uri": "https://localhost:8080/",
          "height": 1000
        },
        "id": "66GpKmXyu_ld",
        "outputId": "50417b0e-173e-43a2-bfd9-fcd7cad76e93"
      },
      "source": [
        "# Описательная статистика для з/п\n",
        "for curr in df['salary_currency'].dropna().unique():\n",
        "  print(f'\\n\\t\\t{curr}\\n')\n",
        "  x = df[(df['salary_currency'] == curr)].describe()[['salary_from', 'salary_to', 'salary_avg']]\n",
        "  s = x.style.format(formatter = '{:,.0f}')\n",
        "  display(s)"
      ],
      "execution_count": 100,
      "outputs": [
        {
          "output_type": "stream",
          "name": "stdout",
          "text": [
            "\n",
            "\t\tRUR\n",
            "\n"
          ]
        },
        {
          "output_type": "display_data",
          "data": {
            "text/html": [
              "<style  type=\"text/css\" >\n",
              "</style><table id=\"T_3688e6f0_2623_11ec_8abc_0242ac1c0002\" ><thead>    <tr>        <th class=\"blank level0\" ></th>        <th class=\"col_heading level0 col0\" >salary_from</th>        <th class=\"col_heading level0 col1\" >salary_to</th>        <th class=\"col_heading level0 col2\" >salary_avg</th>    </tr></thead><tbody>\n",
              "                <tr>\n",
              "                        <th id=\"T_3688e6f0_2623_11ec_8abc_0242ac1c0002level0_row0\" class=\"row_heading level0 row0\" >count</th>\n",
              "                        <td id=\"T_3688e6f0_2623_11ec_8abc_0242ac1c0002row0_col0\" class=\"data row0 col0\" >101,182</td>\n",
              "                        <td id=\"T_3688e6f0_2623_11ec_8abc_0242ac1c0002row0_col1\" class=\"data row0 col1\" >57,546</td>\n",
              "                        <td id=\"T_3688e6f0_2623_11ec_8abc_0242ac1c0002row0_col2\" class=\"data row0 col2\" >50,956</td>\n",
              "            </tr>\n",
              "            <tr>\n",
              "                        <th id=\"T_3688e6f0_2623_11ec_8abc_0242ac1c0002level0_row1\" class=\"row_heading level0 row1\" >mean</th>\n",
              "                        <td id=\"T_3688e6f0_2623_11ec_8abc_0242ac1c0002row1_col0\" class=\"data row1 col0\" >44,008</td>\n",
              "                        <td id=\"T_3688e6f0_2623_11ec_8abc_0242ac1c0002row1_col1\" class=\"data row1 col1\" >59,099</td>\n",
              "                        <td id=\"T_3688e6f0_2623_11ec_8abc_0242ac1c0002row1_col2\" class=\"data row1 col2\" >50,413</td>\n",
              "            </tr>\n",
              "            <tr>\n",
              "                        <th id=\"T_3688e6f0_2623_11ec_8abc_0242ac1c0002level0_row2\" class=\"row_heading level0 row2\" >std</th>\n",
              "                        <td id=\"T_3688e6f0_2623_11ec_8abc_0242ac1c0002row2_col0\" class=\"data row2 col0\" >31,296</td>\n",
              "                        <td id=\"T_3688e6f0_2623_11ec_8abc_0242ac1c0002row2_col1\" class=\"data row2 col1\" >45,509</td>\n",
              "                        <td id=\"T_3688e6f0_2623_11ec_8abc_0242ac1c0002row2_col2\" class=\"data row2 col2\" >34,587</td>\n",
              "            </tr>\n",
              "            <tr>\n",
              "                        <th id=\"T_3688e6f0_2623_11ec_8abc_0242ac1c0002level0_row3\" class=\"row_heading level0 row3\" >min</th>\n",
              "                        <td id=\"T_3688e6f0_2623_11ec_8abc_0242ac1c0002row3_col0\" class=\"data row3 col0\" >1</td>\n",
              "                        <td id=\"T_3688e6f0_2623_11ec_8abc_0242ac1c0002row3_col1\" class=\"data row3 col1\" >1</td>\n",
              "                        <td id=\"T_3688e6f0_2623_11ec_8abc_0242ac1c0002row3_col2\" class=\"data row3 col2\" >1</td>\n",
              "            </tr>\n",
              "            <tr>\n",
              "                        <th id=\"T_3688e6f0_2623_11ec_8abc_0242ac1c0002level0_row4\" class=\"row_heading level0 row4\" >25%</th>\n",
              "                        <td id=\"T_3688e6f0_2623_11ec_8abc_0242ac1c0002row4_col0\" class=\"data row4 col0\" >25,342</td>\n",
              "                        <td id=\"T_3688e6f0_2623_11ec_8abc_0242ac1c0002row4_col1\" class=\"data row4 col1\" >32,000</td>\n",
              "                        <td id=\"T_3688e6f0_2623_11ec_8abc_0242ac1c0002row4_col2\" class=\"data row4 col2\" >30,000</td>\n",
              "            </tr>\n",
              "            <tr>\n",
              "                        <th id=\"T_3688e6f0_2623_11ec_8abc_0242ac1c0002level0_row5\" class=\"row_heading level0 row5\" >50%</th>\n",
              "                        <td id=\"T_3688e6f0_2623_11ec_8abc_0242ac1c0002row5_col0\" class=\"data row5 col0\" >35,000</td>\n",
              "                        <td id=\"T_3688e6f0_2623_11ec_8abc_0242ac1c0002row5_col1\" class=\"data row5 col1\" >46,000</td>\n",
              "                        <td id=\"T_3688e6f0_2623_11ec_8abc_0242ac1c0002row5_col2\" class=\"data row5 col2\" >40,000</td>\n",
              "            </tr>\n",
              "            <tr>\n",
              "                        <th id=\"T_3688e6f0_2623_11ec_8abc_0242ac1c0002level0_row6\" class=\"row_heading level0 row6\" >75%</th>\n",
              "                        <td id=\"T_3688e6f0_2623_11ec_8abc_0242ac1c0002row6_col0\" class=\"data row6 col0\" >50,000</td>\n",
              "                        <td id=\"T_3688e6f0_2623_11ec_8abc_0242ac1c0002row6_col1\" class=\"data row6 col1\" >70,000</td>\n",
              "                        <td id=\"T_3688e6f0_2623_11ec_8abc_0242ac1c0002row6_col2\" class=\"data row6 col2\" >60,000</td>\n",
              "            </tr>\n",
              "            <tr>\n",
              "                        <th id=\"T_3688e6f0_2623_11ec_8abc_0242ac1c0002level0_row7\" class=\"row_heading level0 row7\" >max</th>\n",
              "                        <td id=\"T_3688e6f0_2623_11ec_8abc_0242ac1c0002row7_col0\" class=\"data row7 col0\" >1,000,000</td>\n",
              "                        <td id=\"T_3688e6f0_2623_11ec_8abc_0242ac1c0002row7_col1\" class=\"data row7 col1\" >1,700,000</td>\n",
              "                        <td id=\"T_3688e6f0_2623_11ec_8abc_0242ac1c0002row7_col2\" class=\"data row7 col2\" >1,100,000</td>\n",
              "            </tr>\n",
              "    </tbody></table>"
            ],
            "text/plain": [
              "<pandas.io.formats.style.Styler at 0x7f90589154d0>"
            ]
          },
          "metadata": {}
        },
        {
          "output_type": "stream",
          "name": "stdout",
          "text": [
            "\n",
            "\t\tKZT\n",
            "\n"
          ]
        },
        {
          "output_type": "display_data",
          "data": {
            "text/html": [
              "<style  type=\"text/css\" >\n",
              "</style><table id=\"T_36973778_2623_11ec_8abc_0242ac1c0002\" ><thead>    <tr>        <th class=\"blank level0\" ></th>        <th class=\"col_heading level0 col0\" >salary_from</th>        <th class=\"col_heading level0 col1\" >salary_to</th>        <th class=\"col_heading level0 col2\" >salary_avg</th>    </tr></thead><tbody>\n",
              "                <tr>\n",
              "                        <th id=\"T_36973778_2623_11ec_8abc_0242ac1c0002level0_row0\" class=\"row_heading level0 row0\" >count</th>\n",
              "                        <td id=\"T_36973778_2623_11ec_8abc_0242ac1c0002row0_col0\" class=\"data row0 col0\" >7,817</td>\n",
              "                        <td id=\"T_36973778_2623_11ec_8abc_0242ac1c0002row0_col1\" class=\"data row0 col1\" >5,695</td>\n",
              "                        <td id=\"T_36973778_2623_11ec_8abc_0242ac1c0002row0_col2\" class=\"data row0 col2\" >5,064</td>\n",
              "            </tr>\n",
              "            <tr>\n",
              "                        <th id=\"T_36973778_2623_11ec_8abc_0242ac1c0002level0_row1\" class=\"row_heading level0 row1\" >mean</th>\n",
              "                        <td id=\"T_36973778_2623_11ec_8abc_0242ac1c0002row1_col0\" class=\"data row1 col0\" >157,133</td>\n",
              "                        <td id=\"T_36973778_2623_11ec_8abc_0242ac1c0002row1_col1\" class=\"data row1 col1\" >239,985</td>\n",
              "                        <td id=\"T_36973778_2623_11ec_8abc_0242ac1c0002row1_col2\" class=\"data row1 col2\" >196,510</td>\n",
              "            </tr>\n",
              "            <tr>\n",
              "                        <th id=\"T_36973778_2623_11ec_8abc_0242ac1c0002level0_row2\" class=\"row_heading level0 row2\" >std</th>\n",
              "                        <td id=\"T_36973778_2623_11ec_8abc_0242ac1c0002row2_col0\" class=\"data row2 col0\" >91,546</td>\n",
              "                        <td id=\"T_36973778_2623_11ec_8abc_0242ac1c0002row2_col1\" class=\"data row2 col1\" >195,494</td>\n",
              "                        <td id=\"T_36973778_2623_11ec_8abc_0242ac1c0002row2_col2\" class=\"data row2 col2\" >131,213</td>\n",
              "            </tr>\n",
              "            <tr>\n",
              "                        <th id=\"T_36973778_2623_11ec_8abc_0242ac1c0002level0_row3\" class=\"row_heading level0 row3\" >min</th>\n",
              "                        <td id=\"T_36973778_2623_11ec_8abc_0242ac1c0002row3_col0\" class=\"data row3 col0\" >70</td>\n",
              "                        <td id=\"T_36973778_2623_11ec_8abc_0242ac1c0002row3_col1\" class=\"data row3 col1\" >650</td>\n",
              "                        <td id=\"T_36973778_2623_11ec_8abc_0242ac1c0002row3_col2\" class=\"data row3 col2\" >600</td>\n",
              "            </tr>\n",
              "            <tr>\n",
              "                        <th id=\"T_36973778_2623_11ec_8abc_0242ac1c0002level0_row4\" class=\"row_heading level0 row4\" >25%</th>\n",
              "                        <td id=\"T_36973778_2623_11ec_8abc_0242ac1c0002row4_col0\" class=\"data row4 col0\" >100,000</td>\n",
              "                        <td id=\"T_36973778_2623_11ec_8abc_0242ac1c0002row4_col1\" class=\"data row4 col1\" >150,000</td>\n",
              "                        <td id=\"T_36973778_2623_11ec_8abc_0242ac1c0002row4_col2\" class=\"data row4 col2\" >125,000</td>\n",
              "            </tr>\n",
              "            <tr>\n",
              "                        <th id=\"T_36973778_2623_11ec_8abc_0242ac1c0002level0_row5\" class=\"row_heading level0 row5\" >50%</th>\n",
              "                        <td id=\"T_36973778_2623_11ec_8abc_0242ac1c0002row5_col0\" class=\"data row5 col0\" >140,000</td>\n",
              "                        <td id=\"T_36973778_2623_11ec_8abc_0242ac1c0002row5_col1\" class=\"data row5 col1\" >200,000</td>\n",
              "                        <td id=\"T_36973778_2623_11ec_8abc_0242ac1c0002row5_col2\" class=\"data row5 col2\" >165,000</td>\n",
              "            </tr>\n",
              "            <tr>\n",
              "                        <th id=\"T_36973778_2623_11ec_8abc_0242ac1c0002level0_row6\" class=\"row_heading level0 row6\" >75%</th>\n",
              "                        <td id=\"T_36973778_2623_11ec_8abc_0242ac1c0002row6_col0\" class=\"data row6 col0\" >185,000</td>\n",
              "                        <td id=\"T_36973778_2623_11ec_8abc_0242ac1c0002row6_col1\" class=\"data row6 col1\" >300,000</td>\n",
              "                        <td id=\"T_36973778_2623_11ec_8abc_0242ac1c0002row6_col2\" class=\"data row6 col2\" >225,000</td>\n",
              "            </tr>\n",
              "            <tr>\n",
              "                        <th id=\"T_36973778_2623_11ec_8abc_0242ac1c0002level0_row7\" class=\"row_heading level0 row7\" >max</th>\n",
              "                        <td id=\"T_36973778_2623_11ec_8abc_0242ac1c0002row7_col0\" class=\"data row7 col0\" >1,500,000</td>\n",
              "                        <td id=\"T_36973778_2623_11ec_8abc_0242ac1c0002row7_col1\" class=\"data row7 col1\" >5,000,000</td>\n",
              "                        <td id=\"T_36973778_2623_11ec_8abc_0242ac1c0002row7_col2\" class=\"data row7 col2\" >2,600,000</td>\n",
              "            </tr>\n",
              "    </tbody></table>"
            ],
            "text/plain": [
              "<pandas.io.formats.style.Styler at 0x7f905b62b750>"
            ]
          },
          "metadata": {}
        },
        {
          "output_type": "stream",
          "name": "stdout",
          "text": [
            "\n",
            "\t\tBYR\n",
            "\n"
          ]
        },
        {
          "output_type": "display_data",
          "data": {
            "text/html": [
              "<style  type=\"text/css\" >\n",
              "</style><table id=\"T_36a44062_2623_11ec_8abc_0242ac1c0002\" ><thead>    <tr>        <th class=\"blank level0\" ></th>        <th class=\"col_heading level0 col0\" >salary_from</th>        <th class=\"col_heading level0 col1\" >salary_to</th>        <th class=\"col_heading level0 col2\" >salary_avg</th>    </tr></thead><tbody>\n",
              "                <tr>\n",
              "                        <th id=\"T_36a44062_2623_11ec_8abc_0242ac1c0002level0_row0\" class=\"row_heading level0 row0\" >count</th>\n",
              "                        <td id=\"T_36a44062_2623_11ec_8abc_0242ac1c0002row0_col0\" class=\"data row0 col0\" >8,732</td>\n",
              "                        <td id=\"T_36a44062_2623_11ec_8abc_0242ac1c0002row0_col1\" class=\"data row0 col1\" >4,389</td>\n",
              "                        <td id=\"T_36a44062_2623_11ec_8abc_0242ac1c0002row0_col2\" class=\"data row0 col2\" >4,021</td>\n",
              "            </tr>\n",
              "            <tr>\n",
              "                        <th id=\"T_36a44062_2623_11ec_8abc_0242ac1c0002level0_row1\" class=\"row_heading level0 row1\" >mean</th>\n",
              "                        <td id=\"T_36a44062_2623_11ec_8abc_0242ac1c0002row1_col0\" class=\"data row1 col0\" >927</td>\n",
              "                        <td id=\"T_36a44062_2623_11ec_8abc_0242ac1c0002row1_col1\" class=\"data row1 col1\" >1,323</td>\n",
              "                        <td id=\"T_36a44062_2623_11ec_8abc_0242ac1c0002row1_col2\" class=\"data row1 col2\" >1,106</td>\n",
              "            </tr>\n",
              "            <tr>\n",
              "                        <th id=\"T_36a44062_2623_11ec_8abc_0242ac1c0002level0_row2\" class=\"row_heading level0 row2\" >std</th>\n",
              "                        <td id=\"T_36a44062_2623_11ec_8abc_0242ac1c0002row2_col0\" class=\"data row2 col0\" >642</td>\n",
              "                        <td id=\"T_36a44062_2623_11ec_8abc_0242ac1c0002row2_col1\" class=\"data row2 col1\" >1,233</td>\n",
              "                        <td id=\"T_36a44062_2623_11ec_8abc_0242ac1c0002row2_col2\" class=\"data row2 col2\" >968</td>\n",
              "            </tr>\n",
              "            <tr>\n",
              "                        <th id=\"T_36a44062_2623_11ec_8abc_0242ac1c0002level0_row3\" class=\"row_heading level0 row3\" >min</th>\n",
              "                        <td id=\"T_36a44062_2623_11ec_8abc_0242ac1c0002row3_col0\" class=\"data row3 col0\" >1</td>\n",
              "                        <td id=\"T_36a44062_2623_11ec_8abc_0242ac1c0002row3_col1\" class=\"data row3 col1\" >15</td>\n",
              "                        <td id=\"T_36a44062_2623_11ec_8abc_0242ac1c0002row3_col2\" class=\"data row3 col2\" >15</td>\n",
              "            </tr>\n",
              "            <tr>\n",
              "                        <th id=\"T_36a44062_2623_11ec_8abc_0242ac1c0002level0_row4\" class=\"row_heading level0 row4\" >25%</th>\n",
              "                        <td id=\"T_36a44062_2623_11ec_8abc_0242ac1c0002row4_col0\" class=\"data row4 col0\" >650</td>\n",
              "                        <td id=\"T_36a44062_2623_11ec_8abc_0242ac1c0002row4_col1\" class=\"data row4 col1\" >800</td>\n",
              "                        <td id=\"T_36a44062_2623_11ec_8abc_0242ac1c0002row4_col2\" class=\"data row4 col2\" >750</td>\n",
              "            </tr>\n",
              "            <tr>\n",
              "                        <th id=\"T_36a44062_2623_11ec_8abc_0242ac1c0002level0_row5\" class=\"row_heading level0 row5\" >50%</th>\n",
              "                        <td id=\"T_36a44062_2623_11ec_8abc_0242ac1c0002row5_col0\" class=\"data row5 col0\" >800</td>\n",
              "                        <td id=\"T_36a44062_2623_11ec_8abc_0242ac1c0002row5_col1\" class=\"data row5 col1\" >1,000</td>\n",
              "                        <td id=\"T_36a44062_2623_11ec_8abc_0242ac1c0002row5_col2\" class=\"data row5 col2\" >900</td>\n",
              "            </tr>\n",
              "            <tr>\n",
              "                        <th id=\"T_36a44062_2623_11ec_8abc_0242ac1c0002level0_row6\" class=\"row_heading level0 row6\" >75%</th>\n",
              "                        <td id=\"T_36a44062_2623_11ec_8abc_0242ac1c0002row6_col0\" class=\"data row6 col0\" >1,000</td>\n",
              "                        <td id=\"T_36a44062_2623_11ec_8abc_0242ac1c0002row6_col1\" class=\"data row6 col1\" >1,500</td>\n",
              "                        <td id=\"T_36a44062_2623_11ec_8abc_0242ac1c0002row6_col2\" class=\"data row6 col2\" >1,250</td>\n",
              "            </tr>\n",
              "            <tr>\n",
              "                        <th id=\"T_36a44062_2623_11ec_8abc_0242ac1c0002level0_row7\" class=\"row_heading level0 row7\" >max</th>\n",
              "                        <td id=\"T_36a44062_2623_11ec_8abc_0242ac1c0002row7_col0\" class=\"data row7 col0\" >40,000</td>\n",
              "                        <td id=\"T_36a44062_2623_11ec_8abc_0242ac1c0002row7_col1\" class=\"data row7 col1\" >50,000</td>\n",
              "                        <td id=\"T_36a44062_2623_11ec_8abc_0242ac1c0002row7_col2\" class=\"data row7 col2\" >45,000</td>\n",
              "            </tr>\n",
              "    </tbody></table>"
            ],
            "text/plain": [
              "<pandas.io.formats.style.Styler at 0x7f9059ff9bd0>"
            ]
          },
          "metadata": {}
        },
        {
          "output_type": "stream",
          "name": "stdout",
          "text": [
            "\n",
            "\t\tUZS\n",
            "\n"
          ]
        },
        {
          "output_type": "display_data",
          "data": {
            "text/html": [
              "<style  type=\"text/css\" >\n",
              "</style><table id=\"T_36af7702_2623_11ec_8abc_0242ac1c0002\" ><thead>    <tr>        <th class=\"blank level0\" ></th>        <th class=\"col_heading level0 col0\" >salary_from</th>        <th class=\"col_heading level0 col1\" >salary_to</th>        <th class=\"col_heading level0 col2\" >salary_avg</th>    </tr></thead><tbody>\n",
              "                <tr>\n",
              "                        <th id=\"T_36af7702_2623_11ec_8abc_0242ac1c0002level0_row0\" class=\"row_heading level0 row0\" >count</th>\n",
              "                        <td id=\"T_36af7702_2623_11ec_8abc_0242ac1c0002row0_col0\" class=\"data row0 col0\" >1,123</td>\n",
              "                        <td id=\"T_36af7702_2623_11ec_8abc_0242ac1c0002row0_col1\" class=\"data row0 col1\" >826</td>\n",
              "                        <td id=\"T_36af7702_2623_11ec_8abc_0242ac1c0002row0_col2\" class=\"data row0 col2\" >773</td>\n",
              "            </tr>\n",
              "            <tr>\n",
              "                        <th id=\"T_36af7702_2623_11ec_8abc_0242ac1c0002level0_row1\" class=\"row_heading level0 row1\" >mean</th>\n",
              "                        <td id=\"T_36af7702_2623_11ec_8abc_0242ac1c0002row1_col0\" class=\"data row1 col0\" >3,403,726</td>\n",
              "                        <td id=\"T_36af7702_2623_11ec_8abc_0242ac1c0002row1_col1\" class=\"data row1 col1\" >5,924,555</td>\n",
              "                        <td id=\"T_36af7702_2623_11ec_8abc_0242ac1c0002row1_col2\" class=\"data row1 col2\" >4,520,952</td>\n",
              "            </tr>\n",
              "            <tr>\n",
              "                        <th id=\"T_36af7702_2623_11ec_8abc_0242ac1c0002level0_row2\" class=\"row_heading level0 row2\" >std</th>\n",
              "                        <td id=\"T_36af7702_2623_11ec_8abc_0242ac1c0002row2_col0\" class=\"data row2 col0\" >2,538,675</td>\n",
              "                        <td id=\"T_36af7702_2623_11ec_8abc_0242ac1c0002row2_col1\" class=\"data row2 col1\" >4,570,344</td>\n",
              "                        <td id=\"T_36af7702_2623_11ec_8abc_0242ac1c0002row2_col2\" class=\"data row2 col2\" >3,227,409</td>\n",
              "            </tr>\n",
              "            <tr>\n",
              "                        <th id=\"T_36af7702_2623_11ec_8abc_0242ac1c0002level0_row3\" class=\"row_heading level0 row3\" >min</th>\n",
              "                        <td id=\"T_36af7702_2623_11ec_8abc_0242ac1c0002row3_col0\" class=\"data row3 col0\" >1</td>\n",
              "                        <td id=\"T_36af7702_2623_11ec_8abc_0242ac1c0002row3_col1\" class=\"data row3 col1\" >1</td>\n",
              "                        <td id=\"T_36af7702_2623_11ec_8abc_0242ac1c0002row3_col2\" class=\"data row3 col2\" >1</td>\n",
              "            </tr>\n",
              "            <tr>\n",
              "                        <th id=\"T_36af7702_2623_11ec_8abc_0242ac1c0002level0_row4\" class=\"row_heading level0 row4\" >25%</th>\n",
              "                        <td id=\"T_36af7702_2623_11ec_8abc_0242ac1c0002row4_col0\" class=\"data row4 col0\" >2,000,000</td>\n",
              "                        <td id=\"T_36af7702_2623_11ec_8abc_0242ac1c0002row4_col1\" class=\"data row4 col1\" >3,000,000</td>\n",
              "                        <td id=\"T_36af7702_2623_11ec_8abc_0242ac1c0002row4_col2\" class=\"data row4 col2\" >2,500,000</td>\n",
              "            </tr>\n",
              "            <tr>\n",
              "                        <th id=\"T_36af7702_2623_11ec_8abc_0242ac1c0002level0_row5\" class=\"row_heading level0 row5\" >50%</th>\n",
              "                        <td id=\"T_36af7702_2623_11ec_8abc_0242ac1c0002row5_col0\" class=\"data row5 col0\" >3,000,000</td>\n",
              "                        <td id=\"T_36af7702_2623_11ec_8abc_0242ac1c0002row5_col1\" class=\"data row5 col1\" >5,000,000</td>\n",
              "                        <td id=\"T_36af7702_2623_11ec_8abc_0242ac1c0002row5_col2\" class=\"data row5 col2\" >3,750,000</td>\n",
              "            </tr>\n",
              "            <tr>\n",
              "                        <th id=\"T_36af7702_2623_11ec_8abc_0242ac1c0002level0_row6\" class=\"row_heading level0 row6\" >75%</th>\n",
              "                        <td id=\"T_36af7702_2623_11ec_8abc_0242ac1c0002row6_col0\" class=\"data row6 col0\" >4,000,000</td>\n",
              "                        <td id=\"T_36af7702_2623_11ec_8abc_0242ac1c0002row6_col1\" class=\"data row6 col1\" >8,000,000</td>\n",
              "                        <td id=\"T_36af7702_2623_11ec_8abc_0242ac1c0002row6_col2\" class=\"data row6 col2\" >5,500,000</td>\n",
              "            </tr>\n",
              "            <tr>\n",
              "                        <th id=\"T_36af7702_2623_11ec_8abc_0242ac1c0002level0_row7\" class=\"row_heading level0 row7\" >max</th>\n",
              "                        <td id=\"T_36af7702_2623_11ec_8abc_0242ac1c0002row7_col0\" class=\"data row7 col0\" >25,000,000</td>\n",
              "                        <td id=\"T_36af7702_2623_11ec_8abc_0242ac1c0002row7_col1\" class=\"data row7 col1\" >30,000,000</td>\n",
              "                        <td id=\"T_36af7702_2623_11ec_8abc_0242ac1c0002row7_col2\" class=\"data row7 col2\" >25,000,000</td>\n",
              "            </tr>\n",
              "    </tbody></table>"
            ],
            "text/plain": [
              "<pandas.io.formats.style.Styler at 0x7f9058159bd0>"
            ]
          },
          "metadata": {}
        },
        {
          "output_type": "stream",
          "name": "stdout",
          "text": [
            "\n",
            "\t\tAZN\n",
            "\n"
          ]
        },
        {
          "output_type": "display_data",
          "data": {
            "text/html": [
              "<style  type=\"text/css\" >\n",
              "</style><table id=\"T_36b84fee_2623_11ec_8abc_0242ac1c0002\" ><thead>    <tr>        <th class=\"blank level0\" ></th>        <th class=\"col_heading level0 col0\" >salary_from</th>        <th class=\"col_heading level0 col1\" >salary_to</th>        <th class=\"col_heading level0 col2\" >salary_avg</th>    </tr></thead><tbody>\n",
              "                <tr>\n",
              "                        <th id=\"T_36b84fee_2623_11ec_8abc_0242ac1c0002level0_row0\" class=\"row_heading level0 row0\" >count</th>\n",
              "                        <td id=\"T_36b84fee_2623_11ec_8abc_0242ac1c0002row0_col0\" class=\"data row0 col0\" >295</td>\n",
              "                        <td id=\"T_36b84fee_2623_11ec_8abc_0242ac1c0002row0_col1\" class=\"data row0 col1\" >227</td>\n",
              "                        <td id=\"T_36b84fee_2623_11ec_8abc_0242ac1c0002row0_col2\" class=\"data row0 col2\" >227</td>\n",
              "            </tr>\n",
              "            <tr>\n",
              "                        <th id=\"T_36b84fee_2623_11ec_8abc_0242ac1c0002level0_row1\" class=\"row_heading level0 row1\" >mean</th>\n",
              "                        <td id=\"T_36b84fee_2623_11ec_8abc_0242ac1c0002row1_col0\" class=\"data row1 col0\" >544</td>\n",
              "                        <td id=\"T_36b84fee_2623_11ec_8abc_0242ac1c0002row1_col1\" class=\"data row1 col1\" >802</td>\n",
              "                        <td id=\"T_36b84fee_2623_11ec_8abc_0242ac1c0002row1_col2\" class=\"data row1 col2\" >682</td>\n",
              "            </tr>\n",
              "            <tr>\n",
              "                        <th id=\"T_36b84fee_2623_11ec_8abc_0242ac1c0002level0_row2\" class=\"row_heading level0 row2\" >std</th>\n",
              "                        <td id=\"T_36b84fee_2623_11ec_8abc_0242ac1c0002row2_col0\" class=\"data row2 col0\" >313</td>\n",
              "                        <td id=\"T_36b84fee_2623_11ec_8abc_0242ac1c0002row2_col1\" class=\"data row2 col1\" >454</td>\n",
              "                        <td id=\"T_36b84fee_2623_11ec_8abc_0242ac1c0002row2_col2\" class=\"data row2 col2\" >390</td>\n",
              "            </tr>\n",
              "            <tr>\n",
              "                        <th id=\"T_36b84fee_2623_11ec_8abc_0242ac1c0002level0_row3\" class=\"row_heading level0 row3\" >min</th>\n",
              "                        <td id=\"T_36b84fee_2623_11ec_8abc_0242ac1c0002row3_col0\" class=\"data row3 col0\" >100</td>\n",
              "                        <td id=\"T_36b84fee_2623_11ec_8abc_0242ac1c0002row3_col1\" class=\"data row3 col1\" >200</td>\n",
              "                        <td id=\"T_36b84fee_2623_11ec_8abc_0242ac1c0002row3_col2\" class=\"data row3 col2\" >150</td>\n",
              "            </tr>\n",
              "            <tr>\n",
              "                        <th id=\"T_36b84fee_2623_11ec_8abc_0242ac1c0002level0_row4\" class=\"row_heading level0 row4\" >25%</th>\n",
              "                        <td id=\"T_36b84fee_2623_11ec_8abc_0242ac1c0002row4_col0\" class=\"data row4 col0\" >400</td>\n",
              "                        <td id=\"T_36b84fee_2623_11ec_8abc_0242ac1c0002row4_col1\" class=\"data row4 col1\" >500</td>\n",
              "                        <td id=\"T_36b84fee_2623_11ec_8abc_0242ac1c0002row4_col2\" class=\"data row4 col2\" >450</td>\n",
              "            </tr>\n",
              "            <tr>\n",
              "                        <th id=\"T_36b84fee_2623_11ec_8abc_0242ac1c0002level0_row5\" class=\"row_heading level0 row5\" >50%</th>\n",
              "                        <td id=\"T_36b84fee_2623_11ec_8abc_0242ac1c0002row5_col0\" class=\"data row5 col0\" >500</td>\n",
              "                        <td id=\"T_36b84fee_2623_11ec_8abc_0242ac1c0002row5_col1\" class=\"data row5 col1\" >700</td>\n",
              "                        <td id=\"T_36b84fee_2623_11ec_8abc_0242ac1c0002row5_col2\" class=\"data row5 col2\" >550</td>\n",
              "            </tr>\n",
              "            <tr>\n",
              "                        <th id=\"T_36b84fee_2623_11ec_8abc_0242ac1c0002level0_row6\" class=\"row_heading level0 row6\" >75%</th>\n",
              "                        <td id=\"T_36b84fee_2623_11ec_8abc_0242ac1c0002row6_col0\" class=\"data row6 col0\" >600</td>\n",
              "                        <td id=\"T_36b84fee_2623_11ec_8abc_0242ac1c0002row6_col1\" class=\"data row6 col1\" >1,000</td>\n",
              "                        <td id=\"T_36b84fee_2623_11ec_8abc_0242ac1c0002row6_col2\" class=\"data row6 col2\" >800</td>\n",
              "            </tr>\n",
              "            <tr>\n",
              "                        <th id=\"T_36b84fee_2623_11ec_8abc_0242ac1c0002level0_row7\" class=\"row_heading level0 row7\" >max</th>\n",
              "                        <td id=\"T_36b84fee_2623_11ec_8abc_0242ac1c0002row7_col0\" class=\"data row7 col0\" >2,500</td>\n",
              "                        <td id=\"T_36b84fee_2623_11ec_8abc_0242ac1c0002row7_col1\" class=\"data row7 col1\" >3,500</td>\n",
              "                        <td id=\"T_36b84fee_2623_11ec_8abc_0242ac1c0002row7_col2\" class=\"data row7 col2\" >3,000</td>\n",
              "            </tr>\n",
              "    </tbody></table>"
            ],
            "text/plain": [
              "<pandas.io.formats.style.Styler at 0x7f905803aad0>"
            ]
          },
          "metadata": {}
        },
        {
          "output_type": "stream",
          "name": "stdout",
          "text": [
            "\n",
            "\t\tUAH\n",
            "\n"
          ]
        },
        {
          "output_type": "display_data",
          "data": {
            "text/html": [
              "<style  type=\"text/css\" >\n",
              "</style><table id=\"T_36c39638_2623_11ec_8abc_0242ac1c0002\" ><thead>    <tr>        <th class=\"blank level0\" ></th>        <th class=\"col_heading level0 col0\" >salary_from</th>        <th class=\"col_heading level0 col1\" >salary_to</th>        <th class=\"col_heading level0 col2\" >salary_avg</th>    </tr></thead><tbody>\n",
              "                <tr>\n",
              "                        <th id=\"T_36c39638_2623_11ec_8abc_0242ac1c0002level0_row0\" class=\"row_heading level0 row0\" >count</th>\n",
              "                        <td id=\"T_36c39638_2623_11ec_8abc_0242ac1c0002row0_col0\" class=\"data row0 col0\" >2,075</td>\n",
              "                        <td id=\"T_36c39638_2623_11ec_8abc_0242ac1c0002row0_col1\" class=\"data row0 col1\" >1,545</td>\n",
              "                        <td id=\"T_36c39638_2623_11ec_8abc_0242ac1c0002row0_col2\" class=\"data row0 col2\" >1,321</td>\n",
              "            </tr>\n",
              "            <tr>\n",
              "                        <th id=\"T_36c39638_2623_11ec_8abc_0242ac1c0002level0_row1\" class=\"row_heading level0 row1\" >mean</th>\n",
              "                        <td id=\"T_36c39638_2623_11ec_8abc_0242ac1c0002row1_col0\" class=\"data row1 col0\" >14,522</td>\n",
              "                        <td id=\"T_36c39638_2623_11ec_8abc_0242ac1c0002row1_col1\" class=\"data row1 col1\" >19,232</td>\n",
              "                        <td id=\"T_36c39638_2623_11ec_8abc_0242ac1c0002row1_col2\" class=\"data row1 col2\" >17,382</td>\n",
              "            </tr>\n",
              "            <tr>\n",
              "                        <th id=\"T_36c39638_2623_11ec_8abc_0242ac1c0002level0_row2\" class=\"row_heading level0 row2\" >std</th>\n",
              "                        <td id=\"T_36c39638_2623_11ec_8abc_0242ac1c0002row2_col0\" class=\"data row2 col0\" >12,044</td>\n",
              "                        <td id=\"T_36c39638_2623_11ec_8abc_0242ac1c0002row2_col1\" class=\"data row2 col1\" >16,792</td>\n",
              "                        <td id=\"T_36c39638_2623_11ec_8abc_0242ac1c0002row2_col2\" class=\"data row2 col2\" >13,614</td>\n",
              "            </tr>\n",
              "            <tr>\n",
              "                        <th id=\"T_36c39638_2623_11ec_8abc_0242ac1c0002level0_row3\" class=\"row_heading level0 row3\" >min</th>\n",
              "                        <td id=\"T_36c39638_2623_11ec_8abc_0242ac1c0002row3_col0\" class=\"data row3 col0\" >25</td>\n",
              "                        <td id=\"T_36c39638_2623_11ec_8abc_0242ac1c0002row3_col1\" class=\"data row3 col1\" >12</td>\n",
              "                        <td id=\"T_36c39638_2623_11ec_8abc_0242ac1c0002row3_col2\" class=\"data row3 col2\" >700</td>\n",
              "            </tr>\n",
              "            <tr>\n",
              "                        <th id=\"T_36c39638_2623_11ec_8abc_0242ac1c0002level0_row4\" class=\"row_heading level0 row4\" >25%</th>\n",
              "                        <td id=\"T_36c39638_2623_11ec_8abc_0242ac1c0002row4_col0\" class=\"data row4 col0\" >8,300</td>\n",
              "                        <td id=\"T_36c39638_2623_11ec_8abc_0242ac1c0002row4_col1\" class=\"data row4 col1\" >9,400</td>\n",
              "                        <td id=\"T_36c39638_2623_11ec_8abc_0242ac1c0002row4_col2\" class=\"data row4 col2\" >9,500</td>\n",
              "            </tr>\n",
              "            <tr>\n",
              "                        <th id=\"T_36c39638_2623_11ec_8abc_0242ac1c0002level0_row5\" class=\"row_heading level0 row5\" >50%</th>\n",
              "                        <td id=\"T_36c39638_2623_11ec_8abc_0242ac1c0002row5_col0\" class=\"data row5 col0\" >12,000</td>\n",
              "                        <td id=\"T_36c39638_2623_11ec_8abc_0242ac1c0002row5_col1\" class=\"data row5 col1\" >14,000</td>\n",
              "                        <td id=\"T_36c39638_2623_11ec_8abc_0242ac1c0002row5_col2\" class=\"data row5 col2\" >13,000</td>\n",
              "            </tr>\n",
              "            <tr>\n",
              "                        <th id=\"T_36c39638_2623_11ec_8abc_0242ac1c0002level0_row6\" class=\"row_heading level0 row6\" >75%</th>\n",
              "                        <td id=\"T_36c39638_2623_11ec_8abc_0242ac1c0002row6_col0\" class=\"data row6 col0\" >15,300</td>\n",
              "                        <td id=\"T_36c39638_2623_11ec_8abc_0242ac1c0002row6_col1\" class=\"data row6 col1\" >24,000</td>\n",
              "                        <td id=\"T_36c39638_2623_11ec_8abc_0242ac1c0002row6_col2\" class=\"data row6 col2\" >21,000</td>\n",
              "            </tr>\n",
              "            <tr>\n",
              "                        <th id=\"T_36c39638_2623_11ec_8abc_0242ac1c0002level0_row7\" class=\"row_heading level0 row7\" >max</th>\n",
              "                        <td id=\"T_36c39638_2623_11ec_8abc_0242ac1c0002row7_col0\" class=\"data row7 col0\" >150,000</td>\n",
              "                        <td id=\"T_36c39638_2623_11ec_8abc_0242ac1c0002row7_col1\" class=\"data row7 col1\" >150,000</td>\n",
              "                        <td id=\"T_36c39638_2623_11ec_8abc_0242ac1c0002row7_col2\" class=\"data row7 col2\" >130,000</td>\n",
              "            </tr>\n",
              "    </tbody></table>"
            ],
            "text/plain": [
              "<pandas.io.formats.style.Styler at 0x7f905b293e10>"
            ]
          },
          "metadata": {}
        },
        {
          "output_type": "stream",
          "name": "stdout",
          "text": [
            "\n",
            "\t\tKGS\n",
            "\n"
          ]
        },
        {
          "output_type": "display_data",
          "data": {
            "text/html": [
              "<style  type=\"text/css\" >\n",
              "</style><table id=\"T_36cd9084_2623_11ec_8abc_0242ac1c0002\" ><thead>    <tr>        <th class=\"blank level0\" ></th>        <th class=\"col_heading level0 col0\" >salary_from</th>        <th class=\"col_heading level0 col1\" >salary_to</th>        <th class=\"col_heading level0 col2\" >salary_avg</th>    </tr></thead><tbody>\n",
              "                <tr>\n",
              "                        <th id=\"T_36cd9084_2623_11ec_8abc_0242ac1c0002level0_row0\" class=\"row_heading level0 row0\" >count</th>\n",
              "                        <td id=\"T_36cd9084_2623_11ec_8abc_0242ac1c0002row0_col0\" class=\"data row0 col0\" >244</td>\n",
              "                        <td id=\"T_36cd9084_2623_11ec_8abc_0242ac1c0002row0_col1\" class=\"data row0 col1\" >184</td>\n",
              "                        <td id=\"T_36cd9084_2623_11ec_8abc_0242ac1c0002row0_col2\" class=\"data row0 col2\" >172</td>\n",
              "            </tr>\n",
              "            <tr>\n",
              "                        <th id=\"T_36cd9084_2623_11ec_8abc_0242ac1c0002level0_row1\" class=\"row_heading level0 row1\" >mean</th>\n",
              "                        <td id=\"T_36cd9084_2623_11ec_8abc_0242ac1c0002row1_col0\" class=\"data row1 col0\" >21,993</td>\n",
              "                        <td id=\"T_36cd9084_2623_11ec_8abc_0242ac1c0002row1_col1\" class=\"data row1 col1\" >39,762</td>\n",
              "                        <td id=\"T_36cd9084_2623_11ec_8abc_0242ac1c0002row1_col2\" class=\"data row1 col2\" >30,339</td>\n",
              "            </tr>\n",
              "            <tr>\n",
              "                        <th id=\"T_36cd9084_2623_11ec_8abc_0242ac1c0002level0_row2\" class=\"row_heading level0 row2\" >std</th>\n",
              "                        <td id=\"T_36cd9084_2623_11ec_8abc_0242ac1c0002row2_col0\" class=\"data row2 col0\" >11,184</td>\n",
              "                        <td id=\"T_36cd9084_2623_11ec_8abc_0242ac1c0002row2_col1\" class=\"data row2 col1\" >26,594</td>\n",
              "                        <td id=\"T_36cd9084_2623_11ec_8abc_0242ac1c0002row2_col2\" class=\"data row2 col2\" >17,239</td>\n",
              "            </tr>\n",
              "            <tr>\n",
              "                        <th id=\"T_36cd9084_2623_11ec_8abc_0242ac1c0002level0_row3\" class=\"row_heading level0 row3\" >min</th>\n",
              "                        <td id=\"T_36cd9084_2623_11ec_8abc_0242ac1c0002row3_col0\" class=\"data row3 col0\" >2,000</td>\n",
              "                        <td id=\"T_36cd9084_2623_11ec_8abc_0242ac1c0002row3_col1\" class=\"data row3 col1\" >10,000</td>\n",
              "                        <td id=\"T_36cd9084_2623_11ec_8abc_0242ac1c0002row3_col2\" class=\"data row3 col2\" >8,500</td>\n",
              "            </tr>\n",
              "            <tr>\n",
              "                        <th id=\"T_36cd9084_2623_11ec_8abc_0242ac1c0002level0_row4\" class=\"row_heading level0 row4\" >25%</th>\n",
              "                        <td id=\"T_36cd9084_2623_11ec_8abc_0242ac1c0002row4_col0\" class=\"data row4 col0\" >15,000</td>\n",
              "                        <td id=\"T_36cd9084_2623_11ec_8abc_0242ac1c0002row4_col1\" class=\"data row4 col1\" >25,000</td>\n",
              "                        <td id=\"T_36cd9084_2623_11ec_8abc_0242ac1c0002row4_col2\" class=\"data row4 col2\" >20,875</td>\n",
              "            </tr>\n",
              "            <tr>\n",
              "                        <th id=\"T_36cd9084_2623_11ec_8abc_0242ac1c0002level0_row5\" class=\"row_heading level0 row5\" >50%</th>\n",
              "                        <td id=\"T_36cd9084_2623_11ec_8abc_0242ac1c0002row5_col0\" class=\"data row5 col0\" >20,000</td>\n",
              "                        <td id=\"T_36cd9084_2623_11ec_8abc_0242ac1c0002row5_col1\" class=\"data row5 col1\" >31,000</td>\n",
              "                        <td id=\"T_36cd9084_2623_11ec_8abc_0242ac1c0002row5_col2\" class=\"data row5 col2\" >27,000</td>\n",
              "            </tr>\n",
              "            <tr>\n",
              "                        <th id=\"T_36cd9084_2623_11ec_8abc_0242ac1c0002level0_row6\" class=\"row_heading level0 row6\" >75%</th>\n",
              "                        <td id=\"T_36cd9084_2623_11ec_8abc_0242ac1c0002row6_col0\" class=\"data row6 col0\" >25,000</td>\n",
              "                        <td id=\"T_36cd9084_2623_11ec_8abc_0242ac1c0002row6_col1\" class=\"data row6 col1\" >47,000</td>\n",
              "                        <td id=\"T_36cd9084_2623_11ec_8abc_0242ac1c0002row6_col2\" class=\"data row6 col2\" >35,000</td>\n",
              "            </tr>\n",
              "            <tr>\n",
              "                        <th id=\"T_36cd9084_2623_11ec_8abc_0242ac1c0002level0_row7\" class=\"row_heading level0 row7\" >max</th>\n",
              "                        <td id=\"T_36cd9084_2623_11ec_8abc_0242ac1c0002row7_col0\" class=\"data row7 col0\" >100,000</td>\n",
              "                        <td id=\"T_36cd9084_2623_11ec_8abc_0242ac1c0002row7_col1\" class=\"data row7 col1\" >200,000</td>\n",
              "                        <td id=\"T_36cd9084_2623_11ec_8abc_0242ac1c0002row7_col2\" class=\"data row7 col2\" >135,000</td>\n",
              "            </tr>\n",
              "    </tbody></table>"
            ],
            "text/plain": [
              "<pandas.io.formats.style.Styler at 0x7f9050e04f50>"
            ]
          },
          "metadata": {}
        },
        {
          "output_type": "stream",
          "name": "stdout",
          "text": [
            "\n",
            "\t\tUSD\n",
            "\n"
          ]
        },
        {
          "output_type": "display_data",
          "data": {
            "text/html": [
              "<style  type=\"text/css\" >\n",
              "</style><table id=\"T_36d7cf40_2623_11ec_8abc_0242ac1c0002\" ><thead>    <tr>        <th class=\"blank level0\" ></th>        <th class=\"col_heading level0 col0\" >salary_from</th>        <th class=\"col_heading level0 col1\" >salary_to</th>        <th class=\"col_heading level0 col2\" >salary_avg</th>    </tr></thead><tbody>\n",
              "                <tr>\n",
              "                        <th id=\"T_36d7cf40_2623_11ec_8abc_0242ac1c0002level0_row0\" class=\"row_heading level0 row0\" >count</th>\n",
              "                        <td id=\"T_36d7cf40_2623_11ec_8abc_0242ac1c0002row0_col0\" class=\"data row0 col0\" >869</td>\n",
              "                        <td id=\"T_36d7cf40_2623_11ec_8abc_0242ac1c0002row0_col1\" class=\"data row0 col1\" >787</td>\n",
              "                        <td id=\"T_36d7cf40_2623_11ec_8abc_0242ac1c0002row0_col2\" class=\"data row0 col2\" >622</td>\n",
              "            </tr>\n",
              "            <tr>\n",
              "                        <th id=\"T_36d7cf40_2623_11ec_8abc_0242ac1c0002level0_row1\" class=\"row_heading level0 row1\" >mean</th>\n",
              "                        <td id=\"T_36d7cf40_2623_11ec_8abc_0242ac1c0002row1_col0\" class=\"data row1 col0\" >1,101</td>\n",
              "                        <td id=\"T_36d7cf40_2623_11ec_8abc_0242ac1c0002row1_col1\" class=\"data row1 col1\" >1,824</td>\n",
              "                        <td id=\"T_36d7cf40_2623_11ec_8abc_0242ac1c0002row1_col2\" class=\"data row1 col2\" >1,488</td>\n",
              "            </tr>\n",
              "            <tr>\n",
              "                        <th id=\"T_36d7cf40_2623_11ec_8abc_0242ac1c0002level0_row2\" class=\"row_heading level0 row2\" >std</th>\n",
              "                        <td id=\"T_36d7cf40_2623_11ec_8abc_0242ac1c0002row2_col0\" class=\"data row2 col0\" >2,928</td>\n",
              "                        <td id=\"T_36d7cf40_2623_11ec_8abc_0242ac1c0002row2_col1\" class=\"data row2 col1\" >4,599</td>\n",
              "                        <td id=\"T_36d7cf40_2623_11ec_8abc_0242ac1c0002row2_col2\" class=\"data row2 col2\" >4,015</td>\n",
              "            </tr>\n",
              "            <tr>\n",
              "                        <th id=\"T_36d7cf40_2623_11ec_8abc_0242ac1c0002level0_row3\" class=\"row_heading level0 row3\" >min</th>\n",
              "                        <td id=\"T_36d7cf40_2623_11ec_8abc_0242ac1c0002row3_col0\" class=\"data row3 col0\" >1</td>\n",
              "                        <td id=\"T_36d7cf40_2623_11ec_8abc_0242ac1c0002row3_col1\" class=\"data row3 col1\" >15</td>\n",
              "                        <td id=\"T_36d7cf40_2623_11ec_8abc_0242ac1c0002row3_col2\" class=\"data row3 col2\" >14</td>\n",
              "            </tr>\n",
              "            <tr>\n",
              "                        <th id=\"T_36d7cf40_2623_11ec_8abc_0242ac1c0002level0_row4\" class=\"row_heading level0 row4\" >25%</th>\n",
              "                        <td id=\"T_36d7cf40_2623_11ec_8abc_0242ac1c0002row4_col0\" class=\"data row4 col0\" >400</td>\n",
              "                        <td id=\"T_36d7cf40_2623_11ec_8abc_0242ac1c0002row4_col1\" class=\"data row4 col1\" >600</td>\n",
              "                        <td id=\"T_36d7cf40_2623_11ec_8abc_0242ac1c0002row4_col2\" class=\"data row4 col2\" >550</td>\n",
              "            </tr>\n",
              "            <tr>\n",
              "                        <th id=\"T_36d7cf40_2623_11ec_8abc_0242ac1c0002level0_row5\" class=\"row_heading level0 row5\" >50%</th>\n",
              "                        <td id=\"T_36d7cf40_2623_11ec_8abc_0242ac1c0002row5_col0\" class=\"data row5 col0\" >600</td>\n",
              "                        <td id=\"T_36d7cf40_2623_11ec_8abc_0242ac1c0002row5_col1\" class=\"data row5 col1\" >1,000</td>\n",
              "                        <td id=\"T_36d7cf40_2623_11ec_8abc_0242ac1c0002row5_col2\" class=\"data row5 col2\" >850</td>\n",
              "            </tr>\n",
              "            <tr>\n",
              "                        <th id=\"T_36d7cf40_2623_11ec_8abc_0242ac1c0002level0_row6\" class=\"row_heading level0 row6\" >75%</th>\n",
              "                        <td id=\"T_36d7cf40_2623_11ec_8abc_0242ac1c0002row6_col0\" class=\"data row6 col0\" >1,200</td>\n",
              "                        <td id=\"T_36d7cf40_2623_11ec_8abc_0242ac1c0002row6_col1\" class=\"data row6 col1\" >2,000</td>\n",
              "                        <td id=\"T_36d7cf40_2623_11ec_8abc_0242ac1c0002row6_col2\" class=\"data row6 col2\" >1,750</td>\n",
              "            </tr>\n",
              "            <tr>\n",
              "                        <th id=\"T_36d7cf40_2623_11ec_8abc_0242ac1c0002level0_row7\" class=\"row_heading level0 row7\" >max</th>\n",
              "                        <td id=\"T_36d7cf40_2623_11ec_8abc_0242ac1c0002row7_col0\" class=\"data row7 col0\" >70,000</td>\n",
              "                        <td id=\"T_36d7cf40_2623_11ec_8abc_0242ac1c0002row7_col1\" class=\"data row7 col1\" >90,000</td>\n",
              "                        <td id=\"T_36d7cf40_2623_11ec_8abc_0242ac1c0002row7_col2\" class=\"data row7 col2\" >80,000</td>\n",
              "            </tr>\n",
              "    </tbody></table>"
            ],
            "text/plain": [
              "<pandas.io.formats.style.Styler at 0x7f905b6a50d0>"
            ]
          },
          "metadata": {}
        },
        {
          "output_type": "stream",
          "name": "stdout",
          "text": [
            "\n",
            "\t\tEUR\n",
            "\n"
          ]
        },
        {
          "output_type": "display_data",
          "data": {
            "text/html": [
              "<style  type=\"text/css\" >\n",
              "</style><table id=\"T_36e191ec_2623_11ec_8abc_0242ac1c0002\" ><thead>    <tr>        <th class=\"blank level0\" ></th>        <th class=\"col_heading level0 col0\" >salary_from</th>        <th class=\"col_heading level0 col1\" >salary_to</th>        <th class=\"col_heading level0 col2\" >salary_avg</th>    </tr></thead><tbody>\n",
              "                <tr>\n",
              "                        <th id=\"T_36e191ec_2623_11ec_8abc_0242ac1c0002level0_row0\" class=\"row_heading level0 row0\" >count</th>\n",
              "                        <td id=\"T_36e191ec_2623_11ec_8abc_0242ac1c0002row0_col0\" class=\"data row0 col0\" >228</td>\n",
              "                        <td id=\"T_36e191ec_2623_11ec_8abc_0242ac1c0002row0_col1\" class=\"data row0 col1\" >171</td>\n",
              "                        <td id=\"T_36e191ec_2623_11ec_8abc_0242ac1c0002row0_col2\" class=\"data row0 col2\" >162</td>\n",
              "            </tr>\n",
              "            <tr>\n",
              "                        <th id=\"T_36e191ec_2623_11ec_8abc_0242ac1c0002level0_row1\" class=\"row_heading level0 row1\" >mean</th>\n",
              "                        <td id=\"T_36e191ec_2623_11ec_8abc_0242ac1c0002row1_col0\" class=\"data row1 col0\" >2,655</td>\n",
              "                        <td id=\"T_36e191ec_2623_11ec_8abc_0242ac1c0002row1_col1\" class=\"data row1 col1\" >2,551</td>\n",
              "                        <td id=\"T_36e191ec_2623_11ec_8abc_0242ac1c0002row1_col2\" class=\"data row1 col2\" >2,019</td>\n",
              "            </tr>\n",
              "            <tr>\n",
              "                        <th id=\"T_36e191ec_2623_11ec_8abc_0242ac1c0002level0_row2\" class=\"row_heading level0 row2\" >std</th>\n",
              "                        <td id=\"T_36e191ec_2623_11ec_8abc_0242ac1c0002row2_col0\" class=\"data row2 col0\" >10,689</td>\n",
              "                        <td id=\"T_36e191ec_2623_11ec_8abc_0242ac1c0002row2_col1\" class=\"data row2 col1\" >1,876</td>\n",
              "                        <td id=\"T_36e191ec_2623_11ec_8abc_0242ac1c0002row2_col2\" class=\"data row2 col2\" >1,449</td>\n",
              "            </tr>\n",
              "            <tr>\n",
              "                        <th id=\"T_36e191ec_2623_11ec_8abc_0242ac1c0002level0_row3\" class=\"row_heading level0 row3\" >min</th>\n",
              "                        <td id=\"T_36e191ec_2623_11ec_8abc_0242ac1c0002row3_col0\" class=\"data row3 col0\" >8</td>\n",
              "                        <td id=\"T_36e191ec_2623_11ec_8abc_0242ac1c0002row3_col1\" class=\"data row3 col1\" >60</td>\n",
              "                        <td id=\"T_36e191ec_2623_11ec_8abc_0242ac1c0002row3_col2\" class=\"data row3 col2\" >35</td>\n",
              "            </tr>\n",
              "            <tr>\n",
              "                        <th id=\"T_36e191ec_2623_11ec_8abc_0242ac1c0002level0_row4\" class=\"row_heading level0 row4\" >25%</th>\n",
              "                        <td id=\"T_36e191ec_2623_11ec_8abc_0242ac1c0002row4_col0\" class=\"data row4 col0\" >615</td>\n",
              "                        <td id=\"T_36e191ec_2623_11ec_8abc_0242ac1c0002row4_col1\" class=\"data row4 col1\" >1,375</td>\n",
              "                        <td id=\"T_36e191ec_2623_11ec_8abc_0242ac1c0002row4_col2\" class=\"data row4 col2\" >1,081</td>\n",
              "            </tr>\n",
              "            <tr>\n",
              "                        <th id=\"T_36e191ec_2623_11ec_8abc_0242ac1c0002level0_row5\" class=\"row_heading level0 row5\" >50%</th>\n",
              "                        <td id=\"T_36e191ec_2623_11ec_8abc_0242ac1c0002row5_col0\" class=\"data row5 col0\" >1,380</td>\n",
              "                        <td id=\"T_36e191ec_2623_11ec_8abc_0242ac1c0002row5_col1\" class=\"data row5 col1\" >2,000</td>\n",
              "                        <td id=\"T_36e191ec_2623_11ec_8abc_0242ac1c0002row5_col2\" class=\"data row5 col2\" >1,700</td>\n",
              "            </tr>\n",
              "            <tr>\n",
              "                        <th id=\"T_36e191ec_2623_11ec_8abc_0242ac1c0002level0_row6\" class=\"row_heading level0 row6\" >75%</th>\n",
              "                        <td id=\"T_36e191ec_2623_11ec_8abc_0242ac1c0002row6_col0\" class=\"data row6 col0\" >2,000</td>\n",
              "                        <td id=\"T_36e191ec_2623_11ec_8abc_0242ac1c0002row6_col1\" class=\"data row6 col1\" >3,311</td>\n",
              "                        <td id=\"T_36e191ec_2623_11ec_8abc_0242ac1c0002row6_col2\" class=\"data row6 col2\" >2,560</td>\n",
              "            </tr>\n",
              "            <tr>\n",
              "                        <th id=\"T_36e191ec_2623_11ec_8abc_0242ac1c0002level0_row7\" class=\"row_heading level0 row7\" >max</th>\n",
              "                        <td id=\"T_36e191ec_2623_11ec_8abc_0242ac1c0002row7_col0\" class=\"data row7 col0\" >150,000</td>\n",
              "                        <td id=\"T_36e191ec_2623_11ec_8abc_0242ac1c0002row7_col1\" class=\"data row7 col1\" >10,000</td>\n",
              "                        <td id=\"T_36e191ec_2623_11ec_8abc_0242ac1c0002row7_col2\" class=\"data row7 col2\" >8,125</td>\n",
              "            </tr>\n",
              "    </tbody></table>"
            ],
            "text/plain": [
              "<pandas.io.formats.style.Styler at 0x7f9059d7f950>"
            ]
          },
          "metadata": {}
        },
        {
          "output_type": "stream",
          "name": "stdout",
          "text": [
            "\n",
            "\t\tGEL\n",
            "\n"
          ]
        },
        {
          "output_type": "display_data",
          "data": {
            "text/html": [
              "<style  type=\"text/css\" >\n",
              "</style><table id=\"T_36ea0b92_2623_11ec_8abc_0242ac1c0002\" ><thead>    <tr>        <th class=\"blank level0\" ></th>        <th class=\"col_heading level0 col0\" >salary_from</th>        <th class=\"col_heading level0 col1\" >salary_to</th>        <th class=\"col_heading level0 col2\" >salary_avg</th>    </tr></thead><tbody>\n",
              "                <tr>\n",
              "                        <th id=\"T_36ea0b92_2623_11ec_8abc_0242ac1c0002level0_row0\" class=\"row_heading level0 row0\" >count</th>\n",
              "                        <td id=\"T_36ea0b92_2623_11ec_8abc_0242ac1c0002row0_col0\" class=\"data row0 col0\" >8</td>\n",
              "                        <td id=\"T_36ea0b92_2623_11ec_8abc_0242ac1c0002row0_col1\" class=\"data row0 col1\" >8</td>\n",
              "                        <td id=\"T_36ea0b92_2623_11ec_8abc_0242ac1c0002row0_col2\" class=\"data row0 col2\" >8</td>\n",
              "            </tr>\n",
              "            <tr>\n",
              "                        <th id=\"T_36ea0b92_2623_11ec_8abc_0242ac1c0002level0_row1\" class=\"row_heading level0 row1\" >mean</th>\n",
              "                        <td id=\"T_36ea0b92_2623_11ec_8abc_0242ac1c0002row1_col0\" class=\"data row1 col0\" >988</td>\n",
              "                        <td id=\"T_36ea0b92_2623_11ec_8abc_0242ac1c0002row1_col1\" class=\"data row1 col1\" >2,175</td>\n",
              "                        <td id=\"T_36ea0b92_2623_11ec_8abc_0242ac1c0002row1_col2\" class=\"data row1 col2\" >1,581</td>\n",
              "            </tr>\n",
              "            <tr>\n",
              "                        <th id=\"T_36ea0b92_2623_11ec_8abc_0242ac1c0002level0_row2\" class=\"row_heading level0 row2\" >std</th>\n",
              "                        <td id=\"T_36ea0b92_2623_11ec_8abc_0242ac1c0002row2_col0\" class=\"data row2 col0\" >497</td>\n",
              "                        <td id=\"T_36ea0b92_2623_11ec_8abc_0242ac1c0002row2_col1\" class=\"data row2 col1\" >437</td>\n",
              "                        <td id=\"T_36ea0b92_2623_11ec_8abc_0242ac1c0002row2_col2\" class=\"data row2 col2\" >378</td>\n",
              "            </tr>\n",
              "            <tr>\n",
              "                        <th id=\"T_36ea0b92_2623_11ec_8abc_0242ac1c0002level0_row3\" class=\"row_heading level0 row3\" >min</th>\n",
              "                        <td id=\"T_36ea0b92_2623_11ec_8abc_0242ac1c0002row3_col0\" class=\"data row3 col0\" >300</td>\n",
              "                        <td id=\"T_36ea0b92_2623_11ec_8abc_0242ac1c0002row3_col1\" class=\"data row3 col1\" >1,500</td>\n",
              "                        <td id=\"T_36ea0b92_2623_11ec_8abc_0242ac1c0002row3_col2\" class=\"data row3 col2\" >1,050</td>\n",
              "            </tr>\n",
              "            <tr>\n",
              "                        <th id=\"T_36ea0b92_2623_11ec_8abc_0242ac1c0002level0_row4\" class=\"row_heading level0 row4\" >25%</th>\n",
              "                        <td id=\"T_36ea0b92_2623_11ec_8abc_0242ac1c0002row4_col0\" class=\"data row4 col0\" >575</td>\n",
              "                        <td id=\"T_36ea0b92_2623_11ec_8abc_0242ac1c0002row4_col1\" class=\"data row4 col1\" >2,000</td>\n",
              "                        <td id=\"T_36ea0b92_2623_11ec_8abc_0242ac1c0002row4_col2\" class=\"data row4 col2\" >1,412</td>\n",
              "            </tr>\n",
              "            <tr>\n",
              "                        <th id=\"T_36ea0b92_2623_11ec_8abc_0242ac1c0002level0_row5\" class=\"row_heading level0 row5\" >50%</th>\n",
              "                        <td id=\"T_36ea0b92_2623_11ec_8abc_0242ac1c0002row5_col0\" class=\"data row5 col0\" >1,000</td>\n",
              "                        <td id=\"T_36ea0b92_2623_11ec_8abc_0242ac1c0002row5_col1\" class=\"data row5 col1\" >2,100</td>\n",
              "                        <td id=\"T_36ea0b92_2623_11ec_8abc_0242ac1c0002row5_col2\" class=\"data row5 col2\" >1,600</td>\n",
              "            </tr>\n",
              "            <tr>\n",
              "                        <th id=\"T_36ea0b92_2623_11ec_8abc_0242ac1c0002level0_row6\" class=\"row_heading level0 row6\" >75%</th>\n",
              "                        <td id=\"T_36ea0b92_2623_11ec_8abc_0242ac1c0002row6_col0\" class=\"data row6 col0\" >1,500</td>\n",
              "                        <td id=\"T_36ea0b92_2623_11ec_8abc_0242ac1c0002row6_col1\" class=\"data row6 col1\" >2,275</td>\n",
              "                        <td id=\"T_36ea0b92_2623_11ec_8abc_0242ac1c0002row6_col2\" class=\"data row6 col2\" >1,750</td>\n",
              "            </tr>\n",
              "            <tr>\n",
              "                        <th id=\"T_36ea0b92_2623_11ec_8abc_0242ac1c0002level0_row7\" class=\"row_heading level0 row7\" >max</th>\n",
              "                        <td id=\"T_36ea0b92_2623_11ec_8abc_0242ac1c0002row7_col0\" class=\"data row7 col0\" >1,500</td>\n",
              "                        <td id=\"T_36ea0b92_2623_11ec_8abc_0242ac1c0002row7_col1\" class=\"data row7 col1\" >3,000</td>\n",
              "                        <td id=\"T_36ea0b92_2623_11ec_8abc_0242ac1c0002row7_col2\" class=\"data row7 col2\" >2,250</td>\n",
              "            </tr>\n",
              "    </tbody></table>"
            ],
            "text/plain": [
              "<pandas.io.formats.style.Styler at 0x7f905830cdd0>"
            ]
          },
          "metadata": {}
        }
      ]
    },
    {
      "cell_type": "markdown",
      "metadata": {
        "id": "UG0noaQE44I1"
      },
      "source": [
        "# Анализируем описание вакансий"
      ]
    },
    {
      "cell_type": "code",
      "metadata": {
        "id": "E2eM521m6HUg"
      },
      "source": [
        "# Избавляемся от html-кода в столбце 'description'\n",
        "code = ['<li>', '</li>', '<strong>', '</strong>','<p>', '</p>','<ul>', '</ul>','&quot', '<em>', '<br />']\n",
        "for word in code:\n",
        "  df['description'] = df['description'].str.replace(word, '')"
      ],
      "execution_count": 109,
      "outputs": []
    },
    {
      "cell_type": "code",
      "metadata": {
        "id": "RWO7HbV9ov5_"
      },
      "source": [
        "# Считаем наиболее часто встречающиеся слова в описании вакансий, за исключением stopwords и небуквенных символов\n",
        "s = df['description'].to_string()"
      ],
      "execution_count": 110,
      "outputs": []
    },
    {
      "cell_type": "code",
      "metadata": {
        "id": "SB8rqm7noDwA"
      },
      "source": [
        "allWords = nltk.tokenize.word_tokenize(s)\n",
        "stopwords = nltk.corpus.stopwords.words('russian')"
      ],
      "execution_count": 111,
      "outputs": []
    },
    {
      "cell_type": "code",
      "metadata": {
        "id": "v8vhDuaf1yyr"
      },
      "source": [
        "symbols = ['<', '>', '...', ',', '-', '.', ';', ':', '«', '»', '!', '(', ')', '/', '–', '—', '&']"
      ],
      "execution_count": 112,
      "outputs": []
    },
    {
      "cell_type": "code",
      "metadata": {
        "id": "U5CFcT5m78Qn"
      },
      "source": [
        "morph = pymorphy2.MorphAnalyzer()"
      ],
      "execution_count": 113,
      "outputs": []
    },
    {
      "cell_type": "code",
      "metadata": {
        "id": "5FW1zQYYyvXK"
      },
      "source": [
        "allWordExceptStopDist = nltk.FreqDist(morph.parse(w.lower())[0].normal_form for w in allWords if w.lower() not in symbols and w.lower() not in stopwords)   "
      ],
      "execution_count": 114,
      "outputs": []
    },
    {
      "cell_type": "code",
      "metadata": {
        "id": "kAwbTwPzoNb2"
      },
      "source": [
        "mostCommon = Counter(allWordExceptStopDist).most_common(15)"
      ],
      "execution_count": 115,
      "outputs": []
    },
    {
      "cell_type": "code",
      "metadata": {
        "colab": {
          "base_uri": "https://localhost:8080/"
        },
        "id": "6U4tyXldq6Nh",
        "outputId": "d65d8a83-76b1-45f2-ac2d-7cb9dd597dc6"
      },
      "source": [
        "mostCommon"
      ],
      "execution_count": 116,
      "outputs": [
        {
          "output_type": "execute_result",
          "data": {
            "text/plain": [
              "[('обязанность', 73627),\n",
              " ('работа', 21256),\n",
              " ('компания', 17398),\n",
              " ('требоваться', 7782),\n",
              " ('крупный', 7105),\n",
              " ('сеть', 6736),\n",
              " ('приглашать', 5743),\n",
              " ('магазин', 4566),\n",
              " ('работать', 4112),\n",
              " ('приём', 4081),\n",
              " ('команда', 4010),\n",
              " ('хотеть', 3895),\n",
              " ('организация', 3785),\n",
              " ('ооо', 3719),\n",
              " ('клиент', 3718)]"
            ]
          },
          "metadata": {},
          "execution_count": 116
        }
      ]
    }
  ]
}