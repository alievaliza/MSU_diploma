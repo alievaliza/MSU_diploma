{
  "nbformat": 4,
  "nbformat_minor": 0,
  "metadata": {
    "colab": {
      "name": "lemmatization.ipynb",
      "provenance": [],
      "collapsed_sections": []
    },
    "kernelspec": {
      "name": "python3",
      "display_name": "Python 3"
    },
    "language_info": {
      "name": "python"
    }
  },
  "cells": [
    {
      "cell_type": "code",
      "execution_count": null,
      "metadata": {
        "id": "koXDwnMHdHu4"
      },
      "outputs": [],
      "source": [
        "!gdown --id 1YsX2nb2IxiKICa7S1b5LLMNC0puVwwry"
      ]
    },
    {
      "cell_type": "code",
      "source": [
        "df = pd.read_csv('vacancies_processed.csv')"
      ],
      "metadata": {
        "id": "tlEVcbCrdQLF"
      },
      "execution_count": null,
      "outputs": []
    },
    {
      "cell_type": "code",
      "source": [
        "# !pip install pymorphy2\n",
        "import pymorphy2\n",
        "import re\n",
        "morph = pymorphy2.MorphAnalyzer()\n",
        "def lemmatize(text):\n",
        "  \"\"\"\n",
        "  Создаём метод, который лемматизирует текст.\n",
        "  Аргумент:\n",
        "  text - текст, который нужно лемматизировать\n",
        "  Возвращает:\n",
        "  res - лемматизированный текст\n",
        "  \"\"\"\n",
        "  try:\n",
        "      words = re.split(r'\\W+', text) # разбиваем текст на слова\n",
        "  except:\n",
        "    return text\n",
        "  res = str()\n",
        "  for word in words:\n",
        "      p = morph.parse(word)[0]\n",
        "      res += (p.normal_form) + ' '\n",
        "  return res"
      ],
      "metadata": {
        "id": "QyY9-pyudRqS"
      },
      "execution_count": null,
      "outputs": []
    },
    {
      "cell_type": "code",
      "source": [
        "columns_for_lem = ['raw_description', 'description', 'description_responsibilities', 'description_requirements', 'description_conditions']\n",
        "lemmatized_columns = ['lem_raw_desc', 'lem_desc', 'lem_desc_resp', 'lem_desc_req', 'lem_desc_con']\n",
        "for j in range(len(columns_for_lem)):\n",
        "  df[lemmatized_columns[j]] = 0\n",
        "  df[lemmatized_columns[j]][df['language'] == 'ru'] = df[columns_for_lem[j]][df['language'] == 'ru'].apply(lemmatize)"
      ],
      "metadata": {
        "id": "YXZu7omLdUS3"
      },
      "execution_count": null,
      "outputs": []
    },
    {
      "cell_type": "code",
      "source": [
        "df.to_csv('vacancies_lemmatized.csv', index=False)"
      ],
      "metadata": {
        "id": "I-YlgZTXdWO5"
      },
      "execution_count": null,
      "outputs": []
    }
  ]
}